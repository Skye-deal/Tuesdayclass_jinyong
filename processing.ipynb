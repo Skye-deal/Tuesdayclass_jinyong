{
 "cells": [
  {
   "cell_type": "markdown",
   "id": "93c2aa4a",
   "metadata": {},
   "source": [
    "# 以金庸小说为数据集的Word2Vec\n",
    "数据集在dataset中，停用词也一并上传"
   ]
  },
  {
   "cell_type": "markdown",
   "id": "2c1234ec",
   "metadata": {},
   "source": [
    "**1.数据集处理**\n",
    "首先读取数据集"
   ]
  },
  {
   "cell_type": "code",
   "execution_count": 46,
   "id": "df624e1b",
   "metadata": {},
   "outputs": [
    {
     "name": "stdout",
     "output_type": "stream",
     "text": [
      "数据集读取完成\n",
      "“金庸作品集”新序\n",
      "　　小说是写给人看的。小说的内容是人。\n",
      "　　小说写一个人、几个人、一群人、或成千成万人的性格和感情。他们的性格和感情从横面的环境中反映出来，从纵面的遭遇中反映出来，从人与人之间的交往与关系中反映出来。长篇小说中似乎只有《鲁滨逊飘流记》，才只写一个人，写他与自然之间的关系，但写到后来，终于也出现了一个仆人“星期五”。只写一个人的短篇小说多些，尤其是近代与现代的新小说，写一个人在与环境的接触中表现他外在的世界、内心的世界，尤其是内心世界。有些小说写动物、神仙、鬼怪、妖魔，但也把他们当作人来写。\n",
      "　　西洋传统的小说理论分别从环境、人物、情节三个方面去分析一篇作品。由于小说作者不同的个性与才能，往往有不同的偏重。\n",
      "　　基本上，武侠小说与别的小说一样，也是写人，只不过环境是古代的，主要人物是有武功的，情节偏重于激烈的斗争。任何小说都有它所特别侧重的一面。爱情小说写男女之间与性有关的感情，写实小说描绘一个特定时代的环境与人物，《三国演义》与《水浒》一类小说叙述大群人物的斗争经历，现代小说的重点往往放在人物的心理过程上。\n",
      "　　小说是艺术的一种，艺术的基本内容是人的感情和生命，主要形式是美，广义的、美学上的美。在小说，那是语言文笔之美、安排结构之美。关键在于怎样将人物的内心世界通过某种形式表现出来。什么形式都可以，或者是作者主观的剖析，或者是客观的叙述故事，从人物的行动和言语中客观的表达。\n",
      "　　读者阅读一部小说，是将小说的内容与自己的心理状态结合起来。同样一部小说，有的人感到强烈的震动，有的人却觉得无聊厌倦。读者的个性与感情，与小说中所表现的个性与感情相接触，产生了“化学反应”。\n",
      "　　武侠小说只是表现人情的一种特定形式。作曲家或演奏家要表现一种情绪，用钢琴、小提琴、交响乐、或歌唱的形式都可以，画家可以选择油画、水彩、水墨、或版画的形式。问题不在采取甚麼形式，而是表现的手法好不好，能不能和读者、听者、观赏者的心灵相沟通，能不能使他的心产生共鸣。小说是艺术形式之一，有好的艺术，也有不好的艺术。\n",
      "　　好或者不好，在艺术上是属于美的范畴，不属于真或善的范畴。判断美的标准是美，是感情，不是科学上的真或不真（武功在生理上或科学上是否可能），道德上的善或不善，也不是经济上的值钱不值钱，政治上对统治者的有利或有害。当然，任何艺术作品都会发生社会影响，自也可以用社会影响的价值去估\n"
     ]
    }
   ],
   "source": [
    "import os \n",
    "\n",
    "# 读取数据集\n",
    "data_dir = \".\\\\dataset\\\\jinyong\"\n",
    "text = \"\"\n",
    "for filename in os.listdir(data_dir):\n",
    "    if filename.endswith(\".txt\"):  \n",
    "        with open(os.path.join(data_dir, filename), \"r\", encoding=\"utf-8\") as f:\n",
    "            text += f.read() # 读取所有文本文件内容，整合到同一个text变量中，方便训练\n",
    "\n",
    "print(\"数据集读取完成\")\n",
    "# 展示数据集的前1000个字符\n",
    "print(text[:1000])"
   ]
  },
  {
   "cell_type": "markdown",
   "id": "742626a3",
   "metadata": {},
   "source": [
    "然后进行分词"
   ]
  },
  {
   "cell_type": "code",
   "execution_count": 47,
   "id": "e0bf8c68",
   "metadata": {},
   "outputs": [
    {
     "name": "stdout",
     "output_type": "stream",
     "text": [
      "总词数：1097833\n",
      "前100个词：['金庸', '作品集', '新序', '小说', '写给', '小说', '内容', '小说', '写', '几个', '一群', '成千成万', '性格', '感情', '性格', '感情', '横面', '环境', '中', '纵面', '遭遇', '中', '之间', '交往', '关系', '中', '长篇小说', '中', '鲁滨逊', '飘流', '记', '写', '写', '自然', '之间', '关系', '写', '终于', '仆人', '星期五', '写', '短篇小说', '多些', '近代', '新', '小说', '写', '环境', '接触', '中', '表现', '他外', '世界', '内心', '世界', '内心世界', '小说', '写', '动物', '神仙', '鬼怪', '妖魔', '当作', '人来', '写', '西洋', '传统', '小说', '理论', '环境', '人物', '情节', '三个', '分析', '一篇', '作品', '小说', '作者', '个性', '偏重', '武侠小说', '小说', '写', '只不过', '环境', '古代', '人物', '武功', '情节', '偏重于', '激烈', '斗争', '小说', '特别', '侧重', '爱情小说', '写', '男女之间', '与性', '感情']\n"
     ]
    }
   ],
   "source": [
    "import jieba  # 中文分词库\n",
    "import string # 用于处理字符串\n",
    "import re # 正则表达式库\n",
    "\n",
    "# 添加自定义词典，提升分词准确性\n",
    "jieba.load_userdict(\"金庸小说全人物.txt\")\n",
    "words = jieba.lcut(text)  # 精确模式分词\n",
    "\n",
    "# 去除标点和数字\n",
    "words = [word for word in words if re.match(r\"[\\u4e00-\\u9fa5]+$\", word)]\n",
    "\n",
    "# 去除停用词（可自定义停用词表）\n",
    "stopwords = set()\n",
    "with open(\"stopwords.txt\", \"r\", encoding=\"utf-8\") as f: \n",
    "    stopwords.update([line.strip() for line in f])\n",
    "words = [word for word in words if word not in stopwords]\n",
    "\n",
    "# 最终得到的词列表\n",
    "print(f\"总词数：{len(words)}\")\n",
    "print(f\"前100个词：{words[:100]}\")"
   ]
  },
  {
   "cell_type": "code",
   "execution_count": 48,
   "id": "2a8b0750",
   "metadata": {},
   "outputs": [
    {
     "name": "stdout",
     "output_type": "stream",
     "text": [
      "词汇表和索引映射已保存\n"
     ]
    }
   ],
   "source": [
    "from collections import Counter\n",
    "\n",
    "# 统计词频并生成词汇表\n",
    "word_counts = Counter(words)\n",
    "sorted_vocab = sorted(word_counts.items(), key=lambda x: -x[1])  # 按词频降序排序\n",
    "vocab = [word for word, _ in sorted_vocab]  # 词汇表（按词频排序）\n",
    "\n",
    "# 生成词到索引的映射\n",
    "word2idx = {word: idx for idx, word in enumerate(vocab)}\n",
    "idx2word = {idx: word for idx, word in enumerate(vocab)}\n",
    "\n",
    "# 将分词后的words转换为索引序列\n",
    "indexed_words = [word2idx[word] for word in words]\n",
    "\n",
    "# 保存词汇表和索引映射\n",
    "with open(\"vocab.txt\", \"w\", encoding=\"utf-8\") as f:\n",
    "    for word in vocab:\n",
    "        f.write(word + \"\\n\")\n",
    "with open(\"word2idx.txt\", \"w\", encoding=\"utf-8\") as f:\n",
    "    for word, idx in word2idx.items():\n",
    "        f.write(f\"{word}\\t{idx}\\n\")\n",
    "with open(\"idx2word.txt\", \"w\", encoding=\"utf-8\") as f:\n",
    "    for idx, word in idx2word.items():\n",
    "        f.write(f\"{idx}\\t{word}\\n\")\n",
    "print(\"词汇表和索引映射已保存\")"
   ]
  },
  {
   "cell_type": "markdown",
   "id": "a334c670",
   "metadata": {},
   "source": [
    "生成词对"
   ]
  },
  {
   "cell_type": "code",
   "execution_count": 49,
   "id": "d7a9eb37",
   "metadata": {},
   "outputs": [],
   "source": [
    "import random\n",
    "\n",
    "window_size = 2  # 窗口半径（如窗口大小为5，则window_size=2）\n",
    "data = []\n",
    "for i, center_word in enumerate(indexed_words):\n",
    "    # 左侧上下文（i - window_size 到 i - 1）\n",
    "    for j in range(max(0, i - window_size), i):\n",
    "        context_word = indexed_words[j]\n",
    "        data.append((center_word, context_word))\n",
    "    # 右侧上下文（i + 1 到 i + window_size）\n",
    "    for j in range(i + 1, min(i + window_size + 1, len(indexed_words))):\n",
    "        context_word = indexed_words[j]\n",
    "        data.append((center_word, context_word))\n",
    "\n",
    "# 打乱数据\n",
    "random.shuffle(data)"
   ]
  },
  {
   "cell_type": "markdown",
   "id": "83f80a62",
   "metadata": {},
   "source": [
    "**2. Word2Vec**\n",
    "这里使用Skip-gram的方法实现"
   ]
  },
  {
   "cell_type": "code",
   "execution_count": 50,
   "id": "08b43c96",
   "metadata": {},
   "outputs": [],
   "source": [
    "import torch\n",
    "import torch.nn as nn\n",
    "\n",
    "class Word2Vec(nn.Module):\n",
    "    def __init__(self, vocab_size, embedding_dim=100):\n",
    "        super().__init__()\n",
    "        self.embeddings = nn.Embedding(vocab_size, embedding_dim)  # 词向量层\n",
    "        self.linear = nn.Linear(embedding_dim, vocab_size)         # 输出层\n",
    "\n",
    "    def forward(self, inputs):\n",
    "        embed = self.embeddings(inputs)  # 输入是中心词的索引\n",
    "        out = self.linear(embed)         # 输出是所有词的概率分布（预测上下文词）\n",
    "        return out"
   ]
  },
  {
   "cell_type": "markdown",
   "id": "f67fb363",
   "metadata": {},
   "source": [
    "设置损失函数与优化器"
   ]
  },
  {
   "cell_type": "code",
   "execution_count": 51,
   "id": "7727edeb",
   "metadata": {},
   "outputs": [],
   "source": [
    "model = Word2Vec(vocab_size=len(vocab), embedding_dim=5)  # 创建Word2Vec模型\n",
    "device = torch.device(\"cuda\" if torch.cuda.is_available() else \"cpu\")\n",
    "model.to(device) # 将模型移动到GPU\n",
    "criterion = nn.CrossEntropyLoss()  # 计算预测与真实上下文词的交叉熵损失\n",
    "optimizer = torch.optim.SGD(model.parameters(), lr=0.01)  # 随机梯度下降"
   ]
  },
  {
   "cell_type": "markdown",
   "id": "e0bfa770",
   "metadata": {},
   "source": [
    "循环训练"
   ]
  },
  {
   "cell_type": "code",
   "execution_count": 52,
   "id": "a1233158",
   "metadata": {},
   "outputs": [
    {
     "name": "stderr",
     "output_type": "stream",
     "text": [
      "Epoch 1: 4391360it [01:34, 46412.17it/s]                             \n"
     ]
    },
    {
     "name": "stdout",
     "output_type": "stream",
     "text": [
      "Epoch 1/10, Loss: 0.1768\n"
     ]
    },
    {
     "name": "stderr",
     "output_type": "stream",
     "text": [
      "Epoch 2: 4391360it [01:31, 48045.13it/s]                             \n"
     ]
    },
    {
     "name": "stdout",
     "output_type": "stream",
     "text": [
      "Epoch 2/10, Loss: 0.1717\n"
     ]
    },
    {
     "name": "stderr",
     "output_type": "stream",
     "text": [
      "Epoch 3: 4391360it [01:44, 42100.34it/s]                             \n"
     ]
    },
    {
     "name": "stdout",
     "output_type": "stream",
     "text": [
      "Epoch 3/10, Loss: 0.1686\n"
     ]
    },
    {
     "name": "stderr",
     "output_type": "stream",
     "text": [
      "Epoch 4: 4391360it [01:32, 47280.61it/s]                             \n"
     ]
    },
    {
     "name": "stdout",
     "output_type": "stream",
     "text": [
      "Epoch 4/10, Loss: 0.1662\n"
     ]
    },
    {
     "name": "stderr",
     "output_type": "stream",
     "text": [
      "Epoch 5: 4391360it [01:31, 48084.82it/s]                             \n"
     ]
    },
    {
     "name": "stdout",
     "output_type": "stream",
     "text": [
      "Epoch 5/10, Loss: 0.1642\n"
     ]
    },
    {
     "name": "stderr",
     "output_type": "stream",
     "text": [
      "Epoch 6: 4391360it [01:35, 45854.75it/s]                             \n"
     ]
    },
    {
     "name": "stdout",
     "output_type": "stream",
     "text": [
      "Epoch 6/10, Loss: 0.1626\n"
     ]
    },
    {
     "name": "stderr",
     "output_type": "stream",
     "text": [
      "Epoch 7: 4391360it [01:42, 42878.75it/s]                             \n"
     ]
    },
    {
     "name": "stdout",
     "output_type": "stream",
     "text": [
      "Epoch 7/10, Loss: 0.1612\n"
     ]
    },
    {
     "name": "stderr",
     "output_type": "stream",
     "text": [
      "Epoch 8: 4391360it [01:39, 44105.75it/s]                             \n"
     ]
    },
    {
     "name": "stdout",
     "output_type": "stream",
     "text": [
      "Epoch 8/10, Loss: 0.1600\n"
     ]
    },
    {
     "name": "stderr",
     "output_type": "stream",
     "text": [
      "Epoch 9: 4391360it [01:44, 42019.00it/s]                             \n"
     ]
    },
    {
     "name": "stdout",
     "output_type": "stream",
     "text": [
      "Epoch 9/10, Loss: 0.1590\n"
     ]
    },
    {
     "name": "stderr",
     "output_type": "stream",
     "text": [
      "Epoch 10: 4391360it [01:44, 42106.39it/s]                             "
     ]
    },
    {
     "name": "stdout",
     "output_type": "stream",
     "text": [
      "Epoch 10/10, Loss: 0.1582\n"
     ]
    },
    {
     "name": "stderr",
     "output_type": "stream",
     "text": [
      "\n"
     ]
    }
   ],
   "source": [
    "from tqdm import tqdm # 进度条库\n",
    "\n",
    "batch_size = 64 # 批量大小\n",
    "epochs = 10  # 训练轮数\n",
    "# 训练模型\n",
    "for epoch in range(epochs):\n",
    "    with tqdm(total=len(data), desc=f\"Epoch {epoch+1}\") as pbar:\n",
    "        total_loss = 0\n",
    "        for i in range(0, len(data), batch_size):\n",
    "            # 取出一批数据\n",
    "            batch = data[i:i+batch_size]\n",
    "            inputs = torch.tensor([pair[0] for pair in batch], dtype=torch.long).to(device)\n",
    "            targets = torch.tensor([pair[1] for pair in batch], dtype=torch.long).to(device)\n",
    "\n",
    "            # 前向传播\n",
    "            optimizer.zero_grad()\n",
    "            outputs = model(inputs)\n",
    "            loss = criterion(outputs, targets)\n",
    "\n",
    "            # 反向传播与优化\n",
    "            loss.backward()\n",
    "            optimizer.step()\n",
    "\n",
    "            total_loss += loss.item()\n",
    "            pbar.update(batch_size)\n",
    "        \n",
    "        print(f\"Epoch {epoch+1}/{epochs}, Loss: {total_loss/len(data):.4f}\")"
   ]
  },
  {
   "cell_type": "markdown",
   "id": "cc69bffe",
   "metadata": {},
   "source": [
    "保存训练好的词向量"
   ]
  },
  {
   "cell_type": "code",
   "execution_count": 40,
   "id": "765b8523",
   "metadata": {},
   "outputs": [],
   "source": [
    "import numpy as np\n",
    "# 保存整个模型\n",
    "torch.save(model.state_dict(), \"word2vec_model.pth\")\n",
    "\n",
    "# 保存词向量（嵌入层权重）\n",
    "embeddings = model.embeddings.weight.data.cpu().numpy()  # 添加 .cpu()\n",
    "np.save(\"word_embeddings.npy\", embeddings)\n",
    "\n",
    "# 保存词汇表映射（word2idx和idx2word）\n",
    "import json\n",
    "with open(\"vocab.json\", \"w\", encoding=\"utf-8\") as f:\n",
    "    json.dump(word2idx, f)"
   ]
  },
  {
   "cell_type": "markdown",
   "id": "3fe231d8",
   "metadata": {},
   "source": [
    "评估模型质量"
   ]
  },
  {
   "cell_type": "code",
   "execution_count": 53,
   "id": "14caf4f7",
   "metadata": {},
   "outputs": [
    {
     "name": "stdout",
     "output_type": "stream",
     "text": [
      "与'独孤九剑'最相似的词： [('竟弯住', 0.9972469), ('子救', 0.9942784), ('青海', 0.99287254), ('这层', 0.99182796), ('哭过', 0.9918051)]\n"
     ]
    }
   ],
   "source": [
    "def most_similar(word, top_k=5):\n",
    "    # 获取目标词的向量\n",
    "    idx = word2idx[word]\n",
    "    target_vec = embeddings[idx]\n",
    "    \n",
    "    # 计算余弦相似度\n",
    "    similarities = np.dot(embeddings, target_vec) / (\n",
    "        np.linalg.norm(embeddings, axis=1) * np.linalg.norm(target_vec)\n",
    "    )\n",
    "    \n",
    "    # 排序并返回最相似的词\n",
    "    top_indices = similarities.argsort()[-top_k-1:-1][::-1]\n",
    "    return [(idx2word[i], similarities[i]) for i in top_indices]\n",
    "\n",
    "# 测试示例\n",
    "similar_words = most_similar(\"独孤九剑\")\n",
    "print(\"与'独孤九剑'最相似的词：\", similar_words)"
   ]
  },
  {
   "cell_type": "markdown",
   "id": "5b153028",
   "metadata": {},
   "source": [
    "# 3. 可视化\n"
   ]
  },
  {
   "cell_type": "code",
   "execution_count": 65,
   "id": "4df48f96",
   "metadata": {},
   "outputs": [],
   "source": [
    "from sklearn.preprocessing import StandardScaler\n",
    "from sklearn.decomposition import PCA\n",
    "\n",
    "# 读取人名文件（每行一个名字）\n",
    "with open(\"金庸小说全人物.txt\", \"r\", encoding=\"utf-8\") as f:\n",
    "    names = [line.strip() for line in f if line.strip()]\n",
    "\n",
    "# 加载词向量（已保存为 word_embeddings.npy）\n",
    "embeddings = np.load(\"word_embeddings.npy\")\n",
    "\n",
    "# 加载词汇表映射（已保存为 vocab.json）\n",
    "with open(\"vocab.json\", \"r\", encoding=\"utf-8\") as f:\n",
    "    word2idx = json.load(f)\n",
    "\n",
    "# 创建人名到索引的映射\n",
    "name_indices = [word2idx.get(name, -1) for name in names]\n",
    "# 过滤未出现在词汇表中的人名\n",
    "valid_names = []\n",
    "valid_embeddings = []\n",
    "for idx, name in enumerate(names):\n",
    "    if name_indices[idx] != -1:\n",
    "        valid_names.append(name)\n",
    "        valid_embeddings.append(embeddings[name_indices[idx]])\n",
    "\n",
    "\n",
    "# 将有效的人名嵌入转换为NumPy数组\n",
    "X = np.array(valid_embeddings) # 转换为NumPy数组\n",
    "X_scaled = StandardScaler().fit_transform(X)  # 标准化处理\n",
    "\n",
    "# 二维降维\n",
    "pca_2d = PCA(n_components=2)\n",
    "principal_components_2d = pca_2d.fit_transform(X_scaled)\n",
    "\n",
    "# 三维降维\n",
    "pca_3d = PCA(n_components=3)\n",
    "principal_components_3d = pca_3d.fit_transform(X_scaled)"
   ]
  },
  {
   "cell_type": "markdown",
   "id": "0e596fd1",
   "metadata": {},
   "source": [
    "开始画图"
   ]
  },
  {
   "cell_type": "code",
   "execution_count": 66,
   "id": "7933bb62",
   "metadata": {},
   "outputs": [
    {
     "data": {
      "image/png": "[encoded data removed]",
      "text/plain": [
       "<Figure size 1000x800 with 1 Axes>"
      ]
     },
     "metadata": {},
     "output_type": "display_data"
    }
   ],
   "source": [
    "import matplotlib.pyplot as plt\n",
    "plt.rcParams['font.sans-serif'] = ['SimHei']  # 指定默认字体\n",
    "plt.rcParams['axes.unicode_minus'] = False    # 解决负号显示为方块的问题[[5]][[7]]\n",
    "# 绘制二维图\n",
    "plt.figure(figsize=(10, 8))\n",
    "for i, (name, coords) in enumerate(zip(valid_names, principal_components_2d)):\n",
    "    plt.scatter(coords[0], coords[1])\n",
    "    plt.annotate(name, coords, fontsize=8)  # 添加标签\n",
    "\n",
    "plt.title(\"2D PCA of Character Embeddings\")\n",
    "plt.xlabel(\"Principal Component 1\")\n",
    "plt.ylabel(\"Principal Component 2\")\n",
    "plt.show()"
   ]
  },
  {
   "cell_type": "code",
   "execution_count": 67,
   "id": "9d89f334",
   "metadata": {},
   "outputs": [
    {
     "data": {
      "application/vnd.plotly.v1+json": {
       "config": {
        "plotlyServerURL": "https://plot.ly"
       },
       "data": [
        {
         "hovertemplate": "<b>%{hovertext}</b><br><br>Name=%{text}<br>PC1=%{x}<br>PC2=%{y}<br>PC3=%{z}<extra></extra>",
         "hovertext": [
          "韦小宝"
         ],
         "legendgroup": "韦小宝",
         "marker": {
          "color": "#636efa",
          "symbol": "circle"
         },
         "mode": "markers+text",
         "name": "韦小宝",
         "scene": "scene",
         "showlegend": true,
         "text": [
          "韦小宝"
         ],
         "textfont": {
          "size": 8
         },
         "textposition": "top center",
         "type": "scatter3d",
         "x": [
          1.164387583732605
         ],
         "y": [
          1.3618555068969727
         ],
         "z": [
          0.40009254217147827
         ]
        },
        {
         "hovertemplate": "<b>%{hovertext}</b><br><br>Name=%{text}<br>PC1=%{x}<br>PC2=%{y}<br>PC3=%{z}<extra></extra>",
         "hovertext": [
          "明珠"
         ],
         "legendgroup": "明珠",
         "marker": {
          "color": "#EF553B",
          "symbol": "circle"
         },
         "mode": "markers+text",
         "name": "明珠",
         "scene": "scene",
         "showlegend": true,
         "text": [
          "明珠"
         ],
         "textfont": {
          "size": 8
         },
         "textposition": "top center",
         "type": "scatter3d",
         "x": [
          0.99973464012146
         ],
         "y": [
          0.9345816373825073
         ],
         "z": [
          -0.9631967544555664
         ]
        },
        {
         "hovertemplate": "<b>%{hovertext}</b><br><br>Name=%{text}<br>PC1=%{x}<br>PC2=%{y}<br>PC3=%{z}<extra></extra>",
         "hovertext": [
          "令狐冲"
         ],
         "legendgroup": "令狐冲",
         "marker": {
          "color": "#00cc96",
          "symbol": "circle"
         },
         "mode": "markers+text",
         "name": "令狐冲",
         "scene": "scene",
         "showlegend": true,
         "text": [
          "令狐冲"
         ],
         "textfont": {
          "size": 8
         },
         "textposition": "top center",
         "type": "scatter3d",
         "x": [
          0.5165174603462219
         ],
         "y": [
          -0.6390733122825623
         ],
         "z": [
          -0.09704621881246567
         ]
        },
        {
         "hovertemplate": "<b>%{hovertext}</b><br><br>Name=%{text}<br>PC1=%{x}<br>PC2=%{y}<br>PC3=%{z}<extra></extra>",
         "hovertext": [
          "岳不群"
         ],
         "legendgroup": "岳不群",
         "marker": {
          "color": "#ab63fa",
          "symbol": "circle"
         },
         "mode": "markers+text",
         "name": "岳不群",
         "scene": "scene",
         "showlegend": true,
         "text": [
          "岳不群"
         ],
         "textfont": {
          "size": 8
         },
         "textposition": "top center",
         "type": "scatter3d",
         "x": [
          0.23018519580364227
         ],
         "y": [
          -1.3421467542648315
         ],
         "z": [
          1.0341613292694092
         ]
        },
        {
         "hovertemplate": "<b>%{hovertext}</b><br><br>Name=%{text}<br>PC1=%{x}<br>PC2=%{y}<br>PC3=%{z}<extra></extra>",
         "hovertext": [
          "林平之"
         ],
         "legendgroup": "林平之",
         "marker": {
          "color": "#FFA15A",
          "symbol": "circle"
         },
         "mode": "markers+text",
         "name": "林平之",
         "scene": "scene",
         "showlegend": true,
         "text": [
          "林平之"
         ],
         "textfont": {
          "size": 8
         },
         "textposition": "top center",
         "type": "scatter3d",
         "x": [
          -0.3899703323841095
         ],
         "y": [
          0.9107869863510132
         ],
         "z": [
          0.0863555297255516
         ]
        },
        {
         "hovertemplate": "<b>%{hovertext}</b><br><br>Name=%{text}<br>PC1=%{x}<br>PC2=%{y}<br>PC3=%{z}<extra></extra>",
         "hovertext": [
          "岳灵珊"
         ],
         "legendgroup": "岳灵珊",
         "marker": {
          "color": "#19d3f3",
          "symbol": "circle"
         },
         "mode": "markers+text",
         "name": "岳灵珊",
         "scene": "scene",
         "showlegend": true,
         "text": [
          "岳灵珊"
         ],
         "textfont": {
          "size": 8
         },
         "textposition": "top center",
         "type": "scatter3d",
         "x": [
          1.2112019062042236
         ],
         "y": [
          0.11559494584798813
         ],
         "z": [
          -0.9074476957321167
         ]
        },
        {
         "hovertemplate": "<b>%{hovertext}</b><br><br>Name=%{text}<br>PC1=%{x}<br>PC2=%{y}<br>PC3=%{z}<extra></extra>",
         "hovertext": [
          "仪琳"
         ],
         "legendgroup": "仪琳",
         "marker": {
          "color": "#FF6692",
          "symbol": "circle"
         },
         "mode": "markers+text",
         "name": "仪琳",
         "scene": "scene",
         "showlegend": true,
         "text": [
          "仪琳"
         ],
         "textfont": {
          "size": 8
         },
         "textposition": "top center",
         "type": "scatter3d",
         "x": [
          0.359371155500412
         ],
         "y": [
          -0.07468746602535248
         ],
         "z": [
          0.28170353174209595
         ]
        },
        {
         "hovertemplate": "<b>%{hovertext}</b><br><br>Name=%{text}<br>PC1=%{x}<br>PC2=%{y}<br>PC3=%{z}<extra></extra>",
         "hovertext": [
          "田伯光"
         ],
         "legendgroup": "田伯光",
         "marker": {
          "color": "#B6E880",
          "symbol": "circle"
         },
         "mode": "markers+text",
         "name": "田伯光",
         "scene": "scene",
         "showlegend": true,
         "text": [
          "田伯光"
         ],
         "textfont": {
          "size": 8
         },
         "textposition": "top center",
         "type": "scatter3d",
         "x": [
          0.8968526721000671
         ],
         "y": [
          -0.2768537402153015
         ],
         "z": [
          0.43534523248672485
         ]
        },
        {
         "hovertemplate": "<b>%{hovertext}</b><br><br>Name=%{text}<br>PC1=%{x}<br>PC2=%{y}<br>PC3=%{z}<extra></extra>",
         "hovertext": [
          "任我行"
         ],
         "legendgroup": "任我行",
         "marker": {
          "color": "#FF97FF",
          "symbol": "circle"
         },
         "mode": "markers+text",
         "name": "任我行",
         "scene": "scene",
         "showlegend": true,
         "text": [
          "任我行"
         ],
         "textfont": {
          "size": 8
         },
         "textposition": "top center",
         "type": "scatter3d",
         "x": [
          1.1619657278060913
         ],
         "y": [
          -1.4855581521987915
         ],
         "z": [
          0.7674045562744141
         ]
        },
        {
         "hovertemplate": "<b>%{hovertext}</b><br><br>Name=%{text}<br>PC1=%{x}<br>PC2=%{y}<br>PC3=%{z}<extra></extra>",
         "hovertext": [
          "向问天"
         ],
         "legendgroup": "向问天",
         "marker": {
          "color": "#FECB52",
          "symbol": "circle"
         },
         "mode": "markers+text",
         "name": "向问天",
         "scene": "scene",
         "showlegend": true,
         "text": [
          "向问天"
         ],
         "textfont": {
          "size": 8
         },
         "textposition": "top center",
         "type": "scatter3d",
         "x": [
          0.036784932017326355
         ],
         "y": [
          -1.1392215490341187
         ],
         "z": [
          0.34714460372924805
         ]
        },
        {
         "hovertemplate": "<b>%{hovertext}</b><br><br>Name=%{text}<br>PC1=%{x}<br>PC2=%{y}<br>PC3=%{z}<extra></extra>",
         "hovertext": [
          "左冷禅"
         ],
         "legendgroup": "左冷禅",
         "marker": {
          "color": "#636efa",
          "symbol": "circle"
         },
         "mode": "markers+text",
         "name": "左冷禅",
         "scene": "scene",
         "showlegend": true,
         "text": [
          "左冷禅"
         ],
         "textfont": {
          "size": 8
         },
         "textposition": "top center",
         "type": "scatter3d",
         "x": [
          -0.6386542320251465
         ],
         "y": [
          -0.2189117968082428
         ],
         "z": [
          0.3628811240196228
         ]
        },
        {
         "hovertemplate": "<b>%{hovertext}</b><br><br>Name=%{text}<br>PC1=%{x}<br>PC2=%{y}<br>PC3=%{z}<extra></extra>",
         "hovertext": [
          "余沧海"
         ],
         "legendgroup": "余沧海",
         "marker": {
          "color": "#EF553B",
          "symbol": "circle"
         },
         "mode": "markers+text",
         "name": "余沧海",
         "scene": "scene",
         "showlegend": true,
         "text": [
          "余沧海"
         ],
         "textfont": {
          "size": 8
         },
         "textposition": "top center",
         "type": "scatter3d",
         "x": [
          0.5197896361351013
         ],
         "y": [
          0.9032221436500549
         ],
         "z": [
          -0.44600456953048706
         ]
        },
        {
         "hovertemplate": "<b>%{hovertext}</b><br><br>Name=%{text}<br>PC1=%{x}<br>PC2=%{y}<br>PC3=%{z}<extra></extra>",
         "hovertext": [
          "刘正风"
         ],
         "legendgroup": "刘正风",
         "marker": {
          "color": "#00cc96",
          "symbol": "circle"
         },
         "mode": "markers+text",
         "name": "刘正风",
         "scene": "scene",
         "showlegend": true,
         "text": [
          "刘正风"
         ],
         "textfont": {
          "size": 8
         },
         "textposition": "top center",
         "type": "scatter3d",
         "x": [
          -1.5727102756500244
         ],
         "y": [
          0.6758037209510803
         ],
         "z": [
          0.8303254246711731
         ]
        },
        {
         "hovertemplate": "<b>%{hovertext}</b><br><br>Name=%{text}<br>PC1=%{x}<br>PC2=%{y}<br>PC3=%{z}<extra></extra>",
         "hovertext": [
          "劳德诺"
         ],
         "legendgroup": "劳德诺",
         "marker": {
          "color": "#ab63fa",
          "symbol": "circle"
         },
         "mode": "markers+text",
         "name": "劳德诺",
         "scene": "scene",
         "showlegend": true,
         "text": [
          "劳德诺"
         ],
         "textfont": {
          "size": 8
         },
         "textposition": "top center",
         "type": "scatter3d",
         "x": [
          1.515084981918335
         ],
         "y": [
          -0.23976516723632812
         ],
         "z": [
          -0.7337726354598999
         ]
        },
        {
         "hovertemplate": "<b>%{hovertext}</b><br><br>Name=%{text}<br>PC1=%{x}<br>PC2=%{y}<br>PC3=%{z}<extra></extra>",
         "hovertext": [
          "林震南"
         ],
         "legendgroup": "林震南",
         "marker": {
          "color": "#FFA15A",
          "symbol": "circle"
         },
         "mode": "markers+text",
         "name": "林震南",
         "scene": "scene",
         "showlegend": true,
         "text": [
          "林震南"
         ],
         "textfont": {
          "size": 8
         },
         "textposition": "top center",
         "type": "scatter3d",
         "x": [
          -0.7987154722213745
         ],
         "y": [
          -0.5559436678886414
         ],
         "z": [
          -0.9284078478813171
         ]
        },
        {
         "hovertemplate": "<b>%{hovertext}</b><br><br>Name=%{text}<br>PC1=%{x}<br>PC2=%{y}<br>PC3=%{z}<extra></extra>",
         "hovertext": [
          "祖千秋"
         ],
         "legendgroup": "祖千秋",
         "marker": {
          "color": "#19d3f3",
          "symbol": "circle"
         },
         "mode": "markers+text",
         "name": "祖千秋",
         "scene": "scene",
         "showlegend": true,
         "text": [
          "祖千秋"
         ],
         "textfont": {
          "size": 8
         },
         "textposition": "top center",
         "type": "scatter3d",
         "x": [
          -0.3737466633319855
         ],
         "y": [
          0.08655349910259247
         ],
         "z": [
          1.201979398727417
         ]
        },
        {
         "hovertemplate": "<b>%{hovertext}</b><br><br>Name=%{text}<br>PC1=%{x}<br>PC2=%{y}<br>PC3=%{z}<extra></extra>",
         "hovertext": [
          "陆大有"
         ],
         "legendgroup": "陆大有",
         "marker": {
          "color": "#FF6692",
          "symbol": "circle"
         },
         "mode": "markers+text",
         "name": "陆大有",
         "scene": "scene",
         "showlegend": true,
         "text": [
          "陆大有"
         ],
         "textfont": {
          "size": 8
         },
         "textposition": "top center",
         "type": "scatter3d",
         "x": [
          -1.2069882154464722
         ],
         "y": [
          0.18168644607067108
         ],
         "z": [
          -2.146984100341797
         ]
        },
        {
         "hovertemplate": "<b>%{hovertext}</b><br><br>Name=%{text}<br>PC1=%{x}<br>PC2=%{y}<br>PC3=%{z}<extra></extra>",
         "hovertext": [
          "桃根仙"
         ],
         "legendgroup": "桃根仙",
         "marker": {
          "color": "#B6E880",
          "symbol": "circle"
         },
         "mode": "markers+text",
         "name": "桃根仙",
         "scene": "scene",
         "showlegend": true,
         "text": [
          "桃根仙"
         ],
         "textfont": {
          "size": 8
         },
         "textposition": "top center",
         "type": "scatter3d",
         "x": [
          0.9937170743942261
         ],
         "y": [
          -0.5367023348808289
         ],
         "z": [
          0.23164643347263336
         ]
        },
        {
         "hovertemplate": "<b>%{hovertext}</b><br><br>Name=%{text}<br>PC1=%{x}<br>PC2=%{y}<br>PC3=%{z}<extra></extra>",
         "hovertext": [
          "木高峰"
         ],
         "legendgroup": "木高峰",
         "marker": {
          "color": "#FF97FF",
          "symbol": "circle"
         },
         "mode": "markers+text",
         "name": "木高峰",
         "scene": "scene",
         "showlegend": true,
         "text": [
          "木高峰"
         ],
         "textfont": {
          "size": 8
         },
         "textposition": "top center",
         "type": "scatter3d",
         "x": [
          0.46696731448173523
         ],
         "y": [
          -0.266485333442688
         ],
         "z": [
          0.4831264913082123
         ]
        },
        {
         "hovertemplate": "<b>%{hovertext}</b><br><br>Name=%{text}<br>PC1=%{x}<br>PC2=%{y}<br>PC3=%{z}<extra></extra>",
         "hovertext": [
          "莫大"
         ],
         "legendgroup": "莫大",
         "marker": {
          "color": "#FECB52",
          "symbol": "circle"
         },
         "mode": "markers+text",
         "name": "莫大",
         "scene": "scene",
         "showlegend": true,
         "text": [
          "莫大"
         ],
         "textfont": {
          "size": 8
         },
         "textposition": "top center",
         "type": "scatter3d",
         "x": [
          -1.0280561447143555
         ],
         "y": [
          2.3086328506469727
         ],
         "z": [
          0.5204030275344849
         ]
        },
        {
         "hovertemplate": "<b>%{hovertext}</b><br><br>Name=%{text}<br>PC1=%{x}<br>PC2=%{y}<br>PC3=%{z}<extra></extra>",
         "hovertext": [
          "桃枝仙"
         ],
         "legendgroup": "桃枝仙",
         "marker": {
          "color": "#636efa",
          "symbol": "circle"
         },
         "mode": "markers+text",
         "name": "桃枝仙",
         "scene": "scene",
         "showlegend": true,
         "text": [
          "桃枝仙"
         ],
         "textfont": {
          "size": 8
         },
         "textposition": "top center",
         "type": "scatter3d",
         "x": [
          -0.12679624557495117
         ],
         "y": [
          -1.5035463571548462
         ],
         "z": [
          0.7259467840194702
         ]
        },
        {
         "hovertemplate": "<b>%{hovertext}</b><br><br>Name=%{text}<br>PC1=%{x}<br>PC2=%{y}<br>PC3=%{z}<extra></extra>",
         "hovertext": [
          "桃花仙"
         ],
         "legendgroup": "桃花仙",
         "marker": {
          "color": "#EF553B",
          "symbol": "circle"
         },
         "mode": "markers+text",
         "name": "桃花仙",
         "scene": "scene",
         "showlegend": true,
         "text": [
          "桃花仙"
         ],
         "textfont": {
          "size": 8
         },
         "textposition": "top center",
         "type": "scatter3d",
         "x": [
          -0.1335783749818802
         ],
         "y": [
          0.7297123670578003
         ],
         "z": [
          -1.5903562307357788
         ]
        },
        {
         "hovertemplate": "<b>%{hovertext}</b><br><br>Name=%{text}<br>PC1=%{x}<br>PC2=%{y}<br>PC3=%{z}<extra></extra>",
         "hovertext": [
          "桃实仙"
         ],
         "legendgroup": "桃实仙",
         "marker": {
          "color": "#00cc96",
          "symbol": "circle"
         },
         "mode": "markers+text",
         "name": "桃实仙",
         "scene": "scene",
         "showlegend": true,
         "text": [
          "桃实仙"
         ],
         "textfont": {
          "size": 8
         },
         "textposition": "top center",
         "type": "scatter3d",
         "x": [
          0.11938430368900299
         ],
         "y": [
          0.4849892556667328
         ],
         "z": [
          -1.511825680732727
         ]
        },
        {
         "hovertemplate": "<b>%{hovertext}</b><br><br>Name=%{text}<br>PC1=%{x}<br>PC2=%{y}<br>PC3=%{z}<extra></extra>",
         "hovertext": [
          "桃干仙"
         ],
         "legendgroup": "桃干仙",
         "marker": {
          "color": "#ab63fa",
          "symbol": "circle"
         },
         "mode": "markers+text",
         "name": "桃干仙",
         "scene": "scene",
         "showlegend": true,
         "text": [
          "桃干仙"
         ],
         "textfont": {
          "size": 8
         },
         "textposition": "top center",
         "type": "scatter3d",
         "x": [
          0.8798597455024719
         ],
         "y": [
          0.19009576737880707
         ],
         "z": [
          -0.6051029562950134
         ]
        },
        {
         "hovertemplate": "<b>%{hovertext}</b><br><br>Name=%{text}<br>PC1=%{x}<br>PC2=%{y}<br>PC3=%{z}<extra></extra>",
         "hovertext": [
          "仪清"
         ],
         "legendgroup": "仪清",
         "marker": {
          "color": "#FFA15A",
          "symbol": "circle"
         },
         "mode": "markers+text",
         "name": "仪清",
         "scene": "scene",
         "showlegend": true,
         "text": [
          "仪清"
         ],
         "textfont": {
          "size": 8
         },
         "textposition": "top center",
         "type": "scatter3d",
         "x": [
          0.11327838152647018
         ],
         "y": [
          1.3340888023376465
         ],
         "z": [
          -2.1450042724609375
         ]
        },
        {
         "hovertemplate": "<b>%{hovertext}</b><br><br>Name=%{text}<br>PC1=%{x}<br>PC2=%{y}<br>PC3=%{z}<extra></extra>",
         "hovertext": [
          "上官云"
         ],
         "legendgroup": "上官云",
         "marker": {
          "color": "#19d3f3",
          "symbol": "circle"
         },
         "mode": "markers+text",
         "name": "上官云",
         "scene": "scene",
         "showlegend": true,
         "text": [
          "上官云"
         ],
         "textfont": {
          "size": 8
         },
         "textposition": "top center",
         "type": "scatter3d",
         "x": [
          0.7593494057655334
         ],
         "y": [
          -0.5021832585334778
         ],
         "z": [
          -0.4150561988353729
         ]
        },
        {
         "hovertemplate": "<b>%{hovertext}</b><br><br>Name=%{text}<br>PC1=%{x}<br>PC2=%{y}<br>PC3=%{z}<extra></extra>",
         "hovertext": [
          "杨莲亭"
         ],
         "legendgroup": "杨莲亭",
         "marker": {
          "color": "#FF6692",
          "symbol": "circle"
         },
         "mode": "markers+text",
         "name": "杨莲亭",
         "scene": "scene",
         "showlegend": true,
         "text": [
          "杨莲亭"
         ],
         "textfont": {
          "size": 8
         },
         "textposition": "top center",
         "type": "scatter3d",
         "x": [
          -0.46089479327201843
         ],
         "y": [
          0.7542145848274231
         ],
         "z": [
          0.09348271787166595
         ]
        },
        {
         "hovertemplate": "<b>%{hovertext}</b><br><br>Name=%{text}<br>PC1=%{x}<br>PC2=%{y}<br>PC3=%{z}<extra></extra>",
         "hovertext": [
          "曲非烟"
         ],
         "legendgroup": "曲非烟",
         "marker": {
          "color": "#B6E880",
          "symbol": "circle"
         },
         "mode": "markers+text",
         "name": "曲非烟",
         "scene": "scene",
         "showlegend": true,
         "text": [
          "曲非烟"
         ],
         "textfont": {
          "size": 8
         },
         "textposition": "top center",
         "type": "scatter3d",
         "x": [
          0.28266671299934387
         ],
         "y": [
          -0.2839803695678711
         ],
         "z": [
          -0.0903318002820015
         ]
        },
        {
         "hovertemplate": "<b>%{hovertext}</b><br><br>Name=%{text}<br>PC1=%{x}<br>PC2=%{y}<br>PC3=%{z}<extra></extra>",
         "hovertext": [
          "平一指"
         ],
         "legendgroup": "平一指",
         "marker": {
          "color": "#FF97FF",
          "symbol": "circle"
         },
         "mode": "markers+text",
         "name": "平一指",
         "scene": "scene",
         "showlegend": true,
         "text": [
          "平一指"
         ],
         "textfont": {
          "size": 8
         },
         "textposition": "top center",
         "type": "scatter3d",
         "x": [
          -0.689967930316925
         ],
         "y": [
          -0.952296793460846
         ],
         "z": [
          0.6861364841461182
         ]
        },
        {
         "hovertemplate": "<b>%{hovertext}</b><br><br>Name=%{text}<br>PC1=%{x}<br>PC2=%{y}<br>PC3=%{z}<extra></extra>",
         "hovertext": [
          "秃笔翁"
         ],
         "legendgroup": "秃笔翁",
         "marker": {
          "color": "#FECB52",
          "symbol": "circle"
         },
         "mode": "markers+text",
         "name": "秃笔翁",
         "scene": "scene",
         "showlegend": true,
         "text": [
          "秃笔翁"
         ],
         "textfont": {
          "size": 8
         },
         "textposition": "top center",
         "type": "scatter3d",
         "x": [
          -0.39975234866142273
         ],
         "y": [
          -0.6539480090141296
         ],
         "z": [
          3.0692853927612305
         ]
        },
        {
         "hovertemplate": "<b>%{hovertext}</b><br><br>Name=%{text}<br>PC1=%{x}<br>PC2=%{y}<br>PC3=%{z}<extra></extra>",
         "hovertext": [
          "蓝凤凰"
         ],
         "legendgroup": "蓝凤凰",
         "marker": {
          "color": "#636efa",
          "symbol": "circle"
         },
         "mode": "markers+text",
         "name": "蓝凤凰",
         "scene": "scene",
         "showlegend": true,
         "text": [
          "蓝凤凰"
         ],
         "textfont": {
          "size": 8
         },
         "textposition": "top center",
         "type": "scatter3d",
         "x": [
          -1.2322627305984497
         ],
         "y": [
          -0.7474290728569031
         ],
         "z": [
          1.518024206161499
         ]
        },
        {
         "hovertemplate": "<b>%{hovertext}</b><br><br>Name=%{text}<br>PC1=%{x}<br>PC2=%{y}<br>PC3=%{z}<extra></extra>",
         "hovertext": [
          "桃叶仙"
         ],
         "legendgroup": "桃叶仙",
         "marker": {
          "color": "#EF553B",
          "symbol": "circle"
         },
         "mode": "markers+text",
         "name": "桃叶仙",
         "scene": "scene",
         "showlegend": true,
         "text": [
          "桃叶仙"
         ],
         "textfont": {
          "size": 8
         },
         "textposition": "top center",
         "type": "scatter3d",
         "x": [
          -2.8240795135498047
         ],
         "y": [
          -1.1012629270553589
         ],
         "z": [
          1.158229947090149
         ]
        },
        {
         "hovertemplate": "<b>%{hovertext}</b><br><br>Name=%{text}<br>PC1=%{x}<br>PC2=%{y}<br>PC3=%{z}<extra></extra>",
         "hovertext": [
          "天门道人"
         ],
         "legendgroup": "天门道人",
         "marker": {
          "color": "#00cc96",
          "symbol": "circle"
         },
         "mode": "markers+text",
         "name": "天门道人",
         "scene": "scene",
         "showlegend": true,
         "text": [
          "天门道人"
         ],
         "textfont": {
          "size": 8
         },
         "textposition": "top center",
         "type": "scatter3d",
         "x": [
          2.4102323055267334
         ],
         "y": [
          -0.5733542442321777
         ],
         "z": [
          -0.08087076246738434
         ]
        },
        {
         "hovertemplate": "<b>%{hovertext}</b><br><br>Name=%{text}<br>PC1=%{x}<br>PC2=%{y}<br>PC3=%{z}<extra></extra>",
         "hovertext": [
          "不戒和尚"
         ],
         "legendgroup": "不戒和尚",
         "marker": {
          "color": "#ab63fa",
          "symbol": "circle"
         },
         "mode": "markers+text",
         "name": "不戒和尚",
         "scene": "scene",
         "showlegend": true,
         "text": [
          "不戒和尚"
         ],
         "textfont": {
          "size": 8
         },
         "textposition": "top center",
         "type": "scatter3d",
         "x": [
          -0.2805410623550415
         ],
         "y": [
          0.2618465721607208
         ],
         "z": [
          0.2654847204685211
         ]
        },
        {
         "hovertemplate": "<b>%{hovertext}</b><br><br>Name=%{text}<br>PC1=%{x}<br>PC2=%{y}<br>PC3=%{z}<extra></extra>",
         "hovertext": [
          "郑萼"
         ],
         "legendgroup": "郑萼",
         "marker": {
          "color": "#FFA15A",
          "symbol": "circle"
         },
         "mode": "markers+text",
         "name": "郑萼",
         "scene": "scene",
         "showlegend": true,
         "text": [
          "郑萼"
         ],
         "textfont": {
          "size": 8
         },
         "textposition": "top center",
         "type": "scatter3d",
         "x": [
          -0.6251024007797241
         ],
         "y": [
          -0.5181342959403992
         ],
         "z": [
          0.0879896804690361
         ]
        },
        {
         "hovertemplate": "<b>%{hovertext}</b><br><br>Name=%{text}<br>PC1=%{x}<br>PC2=%{y}<br>PC3=%{z}<extra></extra>",
         "hovertext": [
          "绿竹翁"
         ],
         "legendgroup": "绿竹翁",
         "marker": {
          "color": "#19d3f3",
          "symbol": "circle"
         },
         "mode": "markers+text",
         "name": "绿竹翁",
         "scene": "scene",
         "showlegend": true,
         "text": [
          "绿竹翁"
         ],
         "textfont": {
          "size": 8
         },
         "textposition": "top center",
         "type": "scatter3d",
         "x": [
          -0.7080714702606201
         ],
         "y": [
          0.14606770873069763
         ],
         "z": [
          0.4071364998817444
         ]
        },
        {
         "hovertemplate": "<b>%{hovertext}</b><br><br>Name=%{text}<br>PC1=%{x}<br>PC2=%{y}<br>PC3=%{z}<extra></extra>",
         "hovertext": [
          "钟镇"
         ],
         "legendgroup": "钟镇",
         "marker": {
          "color": "#FF6692",
          "symbol": "circle"
         },
         "mode": "markers+text",
         "name": "钟镇",
         "scene": "scene",
         "showlegend": true,
         "text": [
          "钟镇"
         ],
         "textfont": {
          "size": 8
         },
         "textposition": "top center",
         "type": "scatter3d",
         "x": [
          -0.06243446096777916
         ],
         "y": [
          -0.03886406123638153
         ],
         "z": [
          -0.8888394832611084
         ]
        },
        {
         "hovertemplate": "<b>%{hovertext}</b><br><br>Name=%{text}<br>PC1=%{x}<br>PC2=%{y}<br>PC3=%{z}<extra></extra>",
         "hovertext": [
          "游迅"
         ],
         "legendgroup": "游迅",
         "marker": {
          "color": "#B6E880",
          "symbol": "circle"
         },
         "mode": "markers+text",
         "name": "游迅",
         "scene": "scene",
         "showlegend": true,
         "text": [
          "游迅"
         ],
         "textfont": {
          "size": 8
         },
         "textposition": "top center",
         "type": "scatter3d",
         "x": [
          -1.1219611167907715
         ],
         "y": [
          -0.016580116003751755
         ],
         "z": [
          1.2235342264175415
         ]
        },
        {
         "hovertemplate": "<b>%{hovertext}</b><br><br>Name=%{text}<br>PC1=%{x}<br>PC2=%{y}<br>PC3=%{z}<extra></extra>",
         "hovertext": [
          "王元霸"
         ],
         "legendgroup": "王元霸",
         "marker": {
          "color": "#FF97FF",
          "symbol": "circle"
         },
         "mode": "markers+text",
         "name": "王元霸",
         "scene": "scene",
         "showlegend": true,
         "text": [
          "王元霸"
         ],
         "textfont": {
          "size": 8
         },
         "textposition": "top center",
         "type": "scatter3d",
         "x": [
          -0.32995736598968506
         ],
         "y": [
          0.8181111812591553
         ],
         "z": [
          -0.668972373008728
         ]
        },
        {
         "hovertemplate": "<b>%{hovertext}</b><br><br>Name=%{text}<br>PC1=%{x}<br>PC2=%{y}<br>PC3=%{z}<extra></extra>",
         "hovertext": [
          "风清扬"
         ],
         "legendgroup": "风清扬",
         "marker": {
          "color": "#FECB52",
          "symbol": "circle"
         },
         "mode": "markers+text",
         "name": "风清扬",
         "scene": "scene",
         "showlegend": true,
         "text": [
          "风清扬"
         ],
         "textfont": {
          "size": 8
         },
         "textposition": "top center",
         "type": "scatter3d",
         "x": [
          -2.446263074874878
         ],
         "y": [
          -0.04954016953706741
         ],
         "z": [
          0.1973259449005127
         ]
        },
        {
         "hovertemplate": "<b>%{hovertext}</b><br><br>Name=%{text}<br>PC1=%{x}<br>PC2=%{y}<br>PC3=%{z}<extra></extra>",
         "hovertext": [
          "曲洋"
         ],
         "legendgroup": "曲洋",
         "marker": {
          "color": "#636efa",
          "symbol": "circle"
         },
         "mode": "markers+text",
         "name": "曲洋",
         "scene": "scene",
         "showlegend": true,
         "text": [
          "曲洋"
         ],
         "textfont": {
          "size": 8
         },
         "textposition": "top center",
         "type": "scatter3d",
         "x": [
          -1.3601795434951782
         ],
         "y": [
          -0.3751072585582733
         ],
         "z": [
          -1.237820029258728
         ]
        },
        {
         "hovertemplate": "<b>%{hovertext}</b><br><br>Name=%{text}<br>PC1=%{x}<br>PC2=%{y}<br>PC3=%{z}<extra></extra>",
         "hovertext": [
          "鲍大楚"
         ],
         "legendgroup": "鲍大楚",
         "marker": {
          "color": "#EF553B",
          "symbol": "circle"
         },
         "mode": "markers+text",
         "name": "鲍大楚",
         "scene": "scene",
         "showlegend": true,
         "text": [
          "鲍大楚"
         ],
         "textfont": {
          "size": 8
         },
         "textposition": "top center",
         "type": "scatter3d",
         "x": [
          -0.7145256996154785
         ],
         "y": [
          0.4720698893070221
         ],
         "z": [
          0.9915527105331421
         ]
        },
        {
         "hovertemplate": "<b>%{hovertext}</b><br><br>Name=%{text}<br>PC1=%{x}<br>PC2=%{y}<br>PC3=%{z}<extra></extra>",
         "hovertext": [
          "童百熊"
         ],
         "legendgroup": "童百熊",
         "marker": {
          "color": "#00cc96",
          "symbol": "circle"
         },
         "mode": "markers+text",
         "name": "童百熊",
         "scene": "scene",
         "showlegend": true,
         "text": [
          "童百熊"
         ],
         "textfont": {
          "size": 8
         },
         "textposition": "top center",
         "type": "scatter3d",
         "x": [
          -1.1090941429138184
         ],
         "y": [
          -0.31260618567466736
         ],
         "z": [
          0.30486947298049927
         ]
        },
        {
         "hovertemplate": "<b>%{hovertext}</b><br><br>Name=%{text}<br>PC1=%{x}<br>PC2=%{y}<br>PC3=%{z}<extra></extra>",
         "hovertext": [
          "玉玑子"
         ],
         "legendgroup": "玉玑子",
         "marker": {
          "color": "#ab63fa",
          "symbol": "circle"
         },
         "mode": "markers+text",
         "name": "玉玑子",
         "scene": "scene",
         "showlegend": true,
         "text": [
          "玉玑子"
         ],
         "textfont": {
          "size": 8
         },
         "textposition": "top center",
         "type": "scatter3d",
         "x": [
          -0.05389425531029701
         ],
         "y": [
          -1.1481839418411255
         ],
         "z": [
          0.48202696442604065
         ]
        },
        {
         "hovertemplate": "<b>%{hovertext}</b><br><br>Name=%{text}<br>PC1=%{x}<br>PC2=%{y}<br>PC3=%{z}<extra></extra>",
         "hovertext": [
          "罗人杰"
         ],
         "legendgroup": "罗人杰",
         "marker": {
          "color": "#FFA15A",
          "symbol": "circle"
         },
         "mode": "markers+text",
         "name": "罗人杰",
         "scene": "scene",
         "showlegend": true,
         "text": [
          "罗人杰"
         ],
         "textfont": {
          "size": 8
         },
         "textposition": "top center",
         "type": "scatter3d",
         "x": [
          -0.2909661531448364
         ],
         "y": [
          0.7104038596153259
         ],
         "z": [
          -0.22840486466884613
         ]
        },
        {
         "hovertemplate": "<b>%{hovertext}</b><br><br>Name=%{text}<br>PC1=%{x}<br>PC2=%{y}<br>PC3=%{z}<extra></extra>",
         "hovertext": [
          "玉音子"
         ],
         "legendgroup": "玉音子",
         "marker": {
          "color": "#19d3f3",
          "symbol": "circle"
         },
         "mode": "markers+text",
         "name": "玉音子",
         "scene": "scene",
         "showlegend": true,
         "text": [
          "玉音子"
         ],
         "textfont": {
          "size": 8
         },
         "textposition": "top center",
         "type": "scatter3d",
         "x": [
          0.8824337124824524
         ],
         "y": [
          -0.24391081929206848
         ],
         "z": [
          0.8928822875022888
         ]
        },
        {
         "hovertemplate": "<b>%{hovertext}</b><br><br>Name=%{text}<br>PC1=%{x}<br>PC2=%{y}<br>PC3=%{z}<extra></extra>",
         "hovertext": [
          "于嫂"
         ],
         "legendgroup": "于嫂",
         "marker": {
          "color": "#FF6692",
          "symbol": "circle"
         },
         "mode": "markers+text",
         "name": "于嫂",
         "scene": "scene",
         "showlegend": true,
         "text": [
          "于嫂"
         ],
         "textfont": {
          "size": 8
         },
         "textposition": "top center",
         "type": "scatter3d",
         "x": [
          0.4024680554866791
         ],
         "y": [
          1.013413906097412
         ],
         "z": [
          1.0965017080307007
         ]
        },
        {
         "hovertemplate": "<b>%{hovertext}</b><br><br>Name=%{text}<br>PC1=%{x}<br>PC2=%{y}<br>PC3=%{z}<extra></extra>",
         "hovertext": [
          "乐厚"
         ],
         "legendgroup": "乐厚",
         "marker": {
          "color": "#B6E880",
          "symbol": "circle"
         },
         "mode": "markers+text",
         "name": "乐厚",
         "scene": "scene",
         "showlegend": true,
         "text": [
          "乐厚"
         ],
         "textfont": {
          "size": 8
         },
         "textposition": "top center",
         "type": "scatter3d",
         "x": [
          0.7263475656509399
         ],
         "y": [
          0.6993927359580994
         ],
         "z": [
          -2.081777334213257
         ]
        },
        {
         "hovertemplate": "<b>%{hovertext}</b><br><br>Name=%{text}<br>PC1=%{x}<br>PC2=%{y}<br>PC3=%{z}<extra></extra>",
         "hovertext": [
          "于人豪"
         ],
         "legendgroup": "于人豪",
         "marker": {
          "color": "#FF97FF",
          "symbol": "circle"
         },
         "mode": "markers+text",
         "name": "于人豪",
         "scene": "scene",
         "showlegend": true,
         "text": [
          "于人豪"
         ],
         "textfont": {
          "size": 8
         },
         "textposition": "top center",
         "type": "scatter3d",
         "x": [
          0.05120958760380745
         ],
         "y": [
          0.2097960263490677
         ],
         "z": [
          -0.6574362516403198
         ]
        },
        {
         "hovertemplate": "<b>%{hovertext}</b><br><br>Name=%{text}<br>PC1=%{x}<br>PC2=%{y}<br>PC3=%{z}<extra></extra>",
         "hovertext": [
          "玉灵道人"
         ],
         "legendgroup": "玉灵道人",
         "marker": {
          "color": "#FECB52",
          "symbol": "circle"
         },
         "mode": "markers+text",
         "name": "玉灵道人",
         "scene": "scene",
         "showlegend": true,
         "text": [
          "玉灵道人"
         ],
         "textfont": {
          "size": 8
         },
         "textposition": "top center",
         "type": "scatter3d",
         "x": [
          0.7813253402709961
         ],
         "y": [
          0.7717780470848083
         ],
         "z": [
          -0.331331342458725
         ]
        },
        {
         "hovertemplate": "<b>%{hovertext}</b><br><br>Name=%{text}<br>PC1=%{x}<br>PC2=%{y}<br>PC3=%{z}<extra></extra>",
         "hovertext": [
          "施戴子"
         ],
         "legendgroup": "施戴子",
         "marker": {
          "color": "#636efa",
          "symbol": "circle"
         },
         "mode": "markers+text",
         "name": "施戴子",
         "scene": "scene",
         "showlegend": true,
         "text": [
          "施戴子"
         ],
         "textfont": {
          "size": 8
         },
         "textposition": "top center",
         "type": "scatter3d",
         "x": [
          -1.3637773990631104
         ],
         "y": [
          0.7263256907463074
         ],
         "z": [
          0.11971098184585571
         ]
        },
        {
         "hovertemplate": "<b>%{hovertext}</b><br><br>Name=%{text}<br>PC1=%{x}<br>PC2=%{y}<br>PC3=%{z}<extra></extra>",
         "hovertext": [
          "史镖头"
         ],
         "legendgroup": "史镖头",
         "marker": {
          "color": "#EF553B",
          "symbol": "circle"
         },
         "mode": "markers+text",
         "name": "史镖头",
         "scene": "scene",
         "showlegend": true,
         "text": [
          "史镖头"
         ],
         "textfont": {
          "size": 8
         },
         "textposition": "top center",
         "type": "scatter3d",
         "x": [
          0.6723616719245911
         ],
         "y": [
          -0.21785584092140198
         ],
         "z": [
          0.25920772552490234
         ]
        },
        {
         "hovertemplate": "<b>%{hovertext}</b><br><br>Name=%{text}<br>PC1=%{x}<br>PC2=%{y}<br>PC3=%{z}<extra></extra>",
         "hovertext": [
          "哑婆婆"
         ],
         "legendgroup": "哑婆婆",
         "marker": {
          "color": "#00cc96",
          "symbol": "circle"
         },
         "mode": "markers+text",
         "name": "哑婆婆",
         "scene": "scene",
         "showlegend": true,
         "text": [
          "哑婆婆"
         ],
         "textfont": {
          "size": 8
         },
         "textposition": "top center",
         "type": "scatter3d",
         "x": [
          -0.45248979330062866
         ],
         "y": [
          -0.9252966642379761
         ],
         "z": [
          -0.14592747390270233
         ]
        },
        {
         "hovertemplate": "<b>%{hovertext}</b><br><br>Name=%{text}<br>PC1=%{x}<br>PC2=%{y}<br>PC3=%{z}<extra></extra>",
         "hovertext": [
          "易师爷"
         ],
         "legendgroup": "易师爷",
         "marker": {
          "color": "#ab63fa",
          "symbol": "circle"
         },
         "mode": "markers+text",
         "name": "易师爷",
         "scene": "scene",
         "showlegend": true,
         "text": [
          "易师爷"
         ],
         "textfont": {
          "size": 8
         },
         "textposition": "top center",
         "type": "scatter3d",
         "x": [
          -0.8348264098167419
         ],
         "y": [
          0.022688083350658417
         ],
         "z": [
          -0.24146783351898193
         ]
        },
        {
         "hovertemplate": "<b>%{hovertext}</b><br><br>Name=%{text}<br>PC1=%{x}<br>PC2=%{y}<br>PC3=%{z}<extra></extra>",
         "hovertext": [
          "郑镖头"
         ],
         "legendgroup": "郑镖头",
         "marker": {
          "color": "#FFA15A",
          "symbol": "circle"
         },
         "mode": "markers+text",
         "name": "郑镖头",
         "scene": "scene",
         "showlegend": true,
         "text": [
          "郑镖头"
         ],
         "textfont": {
          "size": 8
         },
         "textposition": "top center",
         "type": "scatter3d",
         "x": [
          -0.23986347019672394
         ],
         "y": [
          0.09750090539455414
         ],
         "z": [
          0.20610420405864716
         ]
        },
        {
         "hovertemplate": "<b>%{hovertext}</b><br><br>Name=%{text}<br>PC1=%{x}<br>PC2=%{y}<br>PC3=%{z}<extra></extra>",
         "hovertext": [
          "梁发"
         ],
         "legendgroup": "梁发",
         "marker": {
          "color": "#19d3f3",
          "symbol": "circle"
         },
         "mode": "markers+text",
         "name": "梁发",
         "scene": "scene",
         "showlegend": true,
         "text": [
          "梁发"
         ],
         "textfont": {
          "size": 8
         },
         "textposition": "top center",
         "type": "scatter3d",
         "x": [
          0.6504393219947815
         ],
         "y": [
          -0.6447328925132751
         ],
         "z": [
          3.0615742206573486
         ]
        },
        {
         "hovertemplate": "<b>%{hovertext}</b><br><br>Name=%{text}<br>PC1=%{x}<br>PC2=%{y}<br>PC3=%{z}<extra></extra>",
         "hovertext": [
          "王家骏"
         ],
         "legendgroup": "王家骏",
         "marker": {
          "color": "#FF6692",
          "symbol": "circle"
         },
         "mode": "markers+text",
         "name": "王家骏",
         "scene": "scene",
         "showlegend": true,
         "text": [
          "王家骏"
         ],
         "textfont": {
          "size": 8
         },
         "textposition": "top center",
         "type": "scatter3d",
         "x": [
          0.7203176021575928
         ],
         "y": [
          0.08646531403064728
         ],
         "z": [
          -0.09337250888347626
         ]
        },
        {
         "hovertemplate": "<b>%{hovertext}</b><br><br>Name=%{text}<br>PC1=%{x}<br>PC2=%{y}<br>PC3=%{z}<extra></extra>",
         "hovertext": [
          "严三星"
         ],
         "legendgroup": "严三星",
         "marker": {
          "color": "#B6E880",
          "symbol": "circle"
         },
         "mode": "markers+text",
         "name": "严三星",
         "scene": "scene",
         "showlegend": true,
         "text": [
          "严三星"
         ],
         "textfont": {
          "size": 8
         },
         "textposition": "top center",
         "type": "scatter3d",
         "x": [
          -1.8487730026245117
         ],
         "y": [
          0.8620306849479675
         ],
         "z": [
          0.010277348570525646
         ]
        },
        {
         "hovertemplate": "<b>%{hovertext}</b><br><br>Name=%{text}<br>PC1=%{x}<br>PC2=%{y}<br>PC3=%{z}<extra></extra>",
         "hovertext": [
          "陈七"
         ],
         "legendgroup": "陈七",
         "marker": {
          "color": "#FF97FF",
          "symbol": "circle"
         },
         "mode": "markers+text",
         "name": "陈七",
         "scene": "scene",
         "showlegend": true,
         "text": [
          "陈七"
         ],
         "textfont": {
          "size": 8
         },
         "textposition": "top center",
         "type": "scatter3d",
         "x": [
          -0.1030689999461174
         ],
         "y": [
          -1.4564672708511353
         ],
         "z": [
          -0.09595073759555817
         ]
        },
        {
         "hovertemplate": "<b>%{hovertext}</b><br><br>Name=%{text}<br>PC1=%{x}<br>PC2=%{y}<br>PC3=%{z}<extra></extra>",
         "hovertext": [
          "王家驹"
         ],
         "legendgroup": "王家驹",
         "marker": {
          "color": "#FECB52",
          "symbol": "circle"
         },
         "mode": "markers+text",
         "name": "王家驹",
         "scene": "scene",
         "showlegend": true,
         "text": [
          "王家驹"
         ],
         "textfont": {
          "size": 8
         },
         "textposition": "top center",
         "type": "scatter3d",
         "x": [
          -1.4550904035568237
         ],
         "y": [
          1.2407041788101196
         ],
         "z": [
          -1.438653588294983
         ]
        },
        {
         "hovertemplate": "<b>%{hovertext}</b><br><br>Name=%{text}<br>PC1=%{x}<br>PC2=%{y}<br>PC3=%{z}<extra></extra>",
         "hovertext": [
          "辛国梁"
         ],
         "legendgroup": "辛国梁",
         "marker": {
          "color": "#636efa",
          "symbol": "circle"
         },
         "mode": "markers+text",
         "name": "辛国梁",
         "scene": "scene",
         "showlegend": true,
         "text": [
          "辛国梁"
         ],
         "textfont": {
          "size": 8
         },
         "textposition": "top center",
         "type": "scatter3d",
         "x": [
          0.8251376152038574
         ],
         "y": [
          0.9128859043121338
         ],
         "z": [
          -1.4917958974838257
         ]
        },
        {
         "hovertemplate": "<b>%{hovertext}</b><br><br>Name=%{text}<br>PC1=%{x}<br>PC2=%{y}<br>PC3=%{z}<extra></extra>",
         "hovertext": [
          "玉磬子"
         ],
         "legendgroup": "玉磬子",
         "marker": {
          "color": "#EF553B",
          "symbol": "circle"
         },
         "mode": "markers+text",
         "name": "玉磬子",
         "scene": "scene",
         "showlegend": true,
         "text": [
          "玉磬子"
         ],
         "textfont": {
          "size": 8
         },
         "textposition": "top center",
         "type": "scatter3d",
         "x": [
          0.7019183039665222
         ],
         "y": [
          0.22602427005767822
         ],
         "z": [
          0.1014687567949295
         ]
        },
        {
         "hovertemplate": "<b>%{hovertext}</b><br><br>Name=%{text}<br>PC1=%{x}<br>PC2=%{y}<br>PC3=%{z}<extra></extra>",
         "hovertext": [
          "林远图"
         ],
         "legendgroup": "林远图",
         "marker": {
          "color": "#00cc96",
          "symbol": "circle"
         },
         "mode": "markers+text",
         "name": "林远图",
         "scene": "scene",
         "showlegend": true,
         "text": [
          "林远图"
         ],
         "textfont": {
          "size": 8
         },
         "textposition": "top center",
         "type": "scatter3d",
         "x": [
          -0.4034484922885895
         ],
         "y": [
          -0.9580489993095398
         ],
         "z": [
          0.6505147218704224
         ]
        },
        {
         "hovertemplate": "<b>%{hovertext}</b><br><br>Name=%{text}<br>PC1=%{x}<br>PC2=%{y}<br>PC3=%{z}<extra></extra>",
         "hovertext": [
          "白二"
         ],
         "legendgroup": "白二",
         "marker": {
          "color": "#ab63fa",
          "symbol": "circle"
         },
         "mode": "markers+text",
         "name": "白二",
         "scene": "scene",
         "showlegend": true,
         "text": [
          "白二"
         ],
         "textfont": {
          "size": 8
         },
         "textposition": "top center",
         "type": "scatter3d",
         "x": [
          -1.4098265171051025
         ],
         "y": [
          -1.1236934661865234
         ],
         "z": [
          0.08796726912260056
         ]
        },
        {
         "hovertemplate": "<b>%{hovertext}</b><br><br>Name=%{text}<br>PC1=%{x}<br>PC2=%{y}<br>PC3=%{z}<extra></extra>",
         "hovertext": [
          "史登达"
         ],
         "legendgroup": "史登达",
         "marker": {
          "color": "#FFA15A",
          "symbol": "circle"
         },
         "mode": "markers+text",
         "name": "史登达",
         "scene": "scene",
         "showlegend": true,
         "text": [
          "史登达"
         ],
         "textfont": {
          "size": 8
         },
         "textposition": "top center",
         "type": "scatter3d",
         "x": [
          1.1219584941864014
         ],
         "y": [
          -1.0419715642929077
         ],
         "z": [
          -1.3307808637619019
         ]
        },
        {
         "hovertemplate": "<b>%{hovertext}</b><br><br>Name=%{text}<br>PC1=%{x}<br>PC2=%{y}<br>PC3=%{z}<extra></extra>",
         "hovertext": [
          "王仲强"
         ],
         "legendgroup": "王仲强",
         "marker": {
          "color": "#19d3f3",
          "symbol": "circle"
         },
         "mode": "markers+text",
         "name": "王仲强",
         "scene": "scene",
         "showlegend": true,
         "text": [
          "王仲强"
         ],
         "textfont": {
          "size": 8
         },
         "textposition": "top center",
         "type": "scatter3d",
         "x": [
          0.4250692129135132
         ],
         "y": [
          -1.829710602760315
         ],
         "z": [
          0.8558087348937988
         ]
        },
        {
         "hovertemplate": "<b>%{hovertext}</b><br><br>Name=%{text}<br>PC1=%{x}<br>PC2=%{y}<br>PC3=%{z}<extra></extra>",
         "hovertext": [
          "向大年"
         ],
         "legendgroup": "向大年",
         "marker": {
          "color": "#FF6692",
          "symbol": "circle"
         },
         "mode": "markers+text",
         "name": "向大年",
         "scene": "scene",
         "showlegend": true,
         "text": [
          "向大年"
         ],
         "textfont": {
          "size": 8
         },
         "textposition": "top center",
         "type": "scatter3d",
         "x": [
          0.5457535982131958
         ],
         "y": [
          -1.2162977457046509
         ],
         "z": [
          -0.1192750558257103
         ]
        },
        {
         "hovertemplate": "<b>%{hovertext}</b><br><br>Name=%{text}<br>PC1=%{x}<br>PC2=%{y}<br>PC3=%{z}<extra></extra>",
         "hovertext": [
          "施令威"
         ],
         "legendgroup": "施令威",
         "marker": {
          "color": "#B6E880",
          "symbol": "circle"
         },
         "mode": "markers+text",
         "name": "施令威",
         "scene": "scene",
         "showlegend": true,
         "text": [
          "施令威"
         ],
         "textfont": {
          "size": 8
         },
         "textposition": "top center",
         "type": "scatter3d",
         "x": [
          1.1008380651474
         ],
         "y": [
          3.5190463066101074
         ],
         "z": [
          0.11342503130435944
         ]
        },
        {
         "hovertemplate": "<b>%{hovertext}</b><br><br>Name=%{text}<br>PC1=%{x}<br>PC2=%{y}<br>PC3=%{z}<extra></extra>",
         "hovertext": [
          "王伯奋"
         ],
         "legendgroup": "王伯奋",
         "marker": {
          "color": "#FF97FF",
          "symbol": "circle"
         },
         "mode": "markers+text",
         "name": "王伯奋",
         "scene": "scene",
         "showlegend": true,
         "text": [
          "王伯奋"
         ],
         "textfont": {
          "size": 8
         },
         "textposition": "top center",
         "type": "scatter3d",
         "x": [
          -1.3442609310150146
         ],
         "y": [
          -0.014564908109605312
         ],
         "z": [
          0.6231992840766907
         ]
        },
        {
         "hovertemplate": "<b>%{hovertext}</b><br><br>Name=%{text}<br>PC1=%{x}<br>PC2=%{y}<br>PC3=%{z}<extra></extra>",
         "hovertext": [
          "桑三娘"
         ],
         "legendgroup": "桑三娘",
         "marker": {
          "color": "#FECB52",
          "symbol": "circle"
         },
         "mode": "markers+text",
         "name": "桑三娘",
         "scene": "scene",
         "showlegend": true,
         "text": [
          "桑三娘"
         ],
         "textfont": {
          "size": 8
         },
         "textposition": "top center",
         "type": "scatter3d",
         "x": [
          -0.32716241478919983
         ],
         "y": [
          -1.1981801986694336
         ],
         "z": [
          0.06982877105474472
         ]
        },
        {
         "hovertemplate": "<b>%{hovertext}</b><br><br>Name=%{text}<br>PC1=%{x}<br>PC2=%{y}<br>PC3=%{z}<extra></extra>",
         "hovertext": [
          "司马大"
         ],
         "legendgroup": "司马大",
         "marker": {
          "color": "#636efa",
          "symbol": "circle"
         },
         "mode": "markers+text",
         "name": "司马大",
         "scene": "scene",
         "showlegend": true,
         "text": [
          "司马大"
         ],
         "textfont": {
          "size": 8
         },
         "textposition": "top center",
         "type": "scatter3d",
         "x": [
          -0.09208981692790985
         ],
         "y": [
          1.081971526145935
         ],
         "z": [
          -0.8163561820983887
         ]
        },
        {
         "hovertemplate": "<b>%{hovertext}</b><br><br>Name=%{text}<br>PC1=%{x}<br>PC2=%{y}<br>PC3=%{z}<extra></extra>",
         "hovertext": [
          "易国梓"
         ],
         "legendgroup": "易国梓",
         "marker": {
          "color": "#EF553B",
          "symbol": "circle"
         },
         "mode": "markers+text",
         "name": "易国梓",
         "scene": "scene",
         "showlegend": true,
         "text": [
          "易国梓"
         ],
         "textfont": {
          "size": 8
         },
         "textposition": "top center",
         "type": "scatter3d",
         "x": [
          1.7820998430252075
         ],
         "y": [
          -1.9851295948028564
         ],
         "z": [
          -0.6843191981315613
         ]
        },
        {
         "hovertemplate": "<b>%{hovertext}</b><br><br>Name=%{text}<br>PC1=%{x}<br>PC2=%{y}<br>PC3=%{z}<extra></extra>",
         "hovertext": [
          "西宝"
         ],
         "legendgroup": "西宝",
         "marker": {
          "color": "#00cc96",
          "symbol": "circle"
         },
         "mode": "markers+text",
         "name": "西宝",
         "scene": "scene",
         "showlegend": true,
         "text": [
          "西宝"
         ],
         "textfont": {
          "size": 8
         },
         "textposition": "top center",
         "type": "scatter3d",
         "x": [
          -0.8140608668327332
         ],
         "y": [
          -1.1632405519485474
         ],
         "z": [
          -0.22122234106063843
         ]
        },
        {
         "hovertemplate": "<b>%{hovertext}</b><br><br>Name=%{text}<br>PC1=%{x}<br>PC2=%{y}<br>PC3=%{z}<extra></extra>",
         "hovertext": [
          "白熊"
         ],
         "legendgroup": "白熊",
         "marker": {
          "color": "#ab63fa",
          "symbol": "circle"
         },
         "mode": "markers+text",
         "name": "白熊",
         "scene": "scene",
         "showlegend": true,
         "text": [
          "白熊"
         ],
         "textfont": {
          "size": 8
         },
         "textposition": "top center",
         "type": "scatter3d",
         "x": [
          -0.664331316947937
         ],
         "y": [
          1.2589935064315796
         ],
         "z": [
          -0.1601044088602066
         ]
        },
        {
         "hovertemplate": "<b>%{hovertext}</b><br><br>Name=%{text}<br>PC1=%{x}<br>PC2=%{y}<br>PC3=%{z}<extra></extra>",
         "hovertext": [
          "长青子"
         ],
         "legendgroup": "长青子",
         "marker": {
          "color": "#FFA15A",
          "symbol": "circle"
         },
         "mode": "markers+text",
         "name": "长青子",
         "scene": "scene",
         "showlegend": true,
         "text": [
          "长青子"
         ],
         "textfont": {
          "size": 8
         },
         "textposition": "top center",
         "type": "scatter3d",
         "x": [
          -0.3302697539329529
         ],
         "y": [
          0.22753170132637024
         ],
         "z": [
          -0.5874220132827759
         ]
        },
        {
         "hovertemplate": "<b>%{hovertext}</b><br><br>Name=%{text}<br>PC1=%{x}<br>PC2=%{y}<br>PC3=%{z}<extra></extra>",
         "hovertext": [
          "米为义"
         ],
         "legendgroup": "米为义",
         "marker": {
          "color": "#19d3f3",
          "symbol": "circle"
         },
         "mode": "markers+text",
         "name": "米为义",
         "scene": "scene",
         "showlegend": true,
         "text": [
          "米为义"
         ],
         "textfont": {
          "size": 8
         },
         "textposition": "top center",
         "type": "scatter3d",
         "x": [
          1.6379019021987915
         ],
         "y": [
          1.2096699476242065
         ],
         "z": [
          1.5744365453720093
         ]
        },
        {
         "hovertemplate": "<b>%{hovertext}</b><br><br>Name=%{text}<br>PC1=%{x}<br>PC2=%{y}<br>PC3=%{z}<extra></extra>",
         "hovertext": [
          "闻先生"
         ],
         "legendgroup": "闻先生",
         "marker": {
          "color": "#FF6692",
          "symbol": "circle"
         },
         "mode": "markers+text",
         "name": "闻先生",
         "scene": "scene",
         "showlegend": true,
         "text": [
          "闻先生"
         ],
         "textfont": {
          "size": 8
         },
         "textposition": "top center",
         "type": "scatter3d",
         "x": [
          0.46789470314979553
         ],
         "y": [
          0.29620879888534546
         ],
         "z": [
          -1.212162971496582
         ]
        },
        {
         "hovertemplate": "<b>%{hovertext}</b><br><br>Name=%{text}<br>PC1=%{x}<br>PC2=%{y}<br>PC3=%{z}<extra></extra>",
         "hovertext": [
          "农妇"
         ],
         "legendgroup": "农妇",
         "marker": {
          "color": "#B6E880",
          "symbol": "circle"
         },
         "mode": "markers+text",
         "name": "农妇",
         "scene": "scene",
         "showlegend": true,
         "text": [
          "农妇"
         ],
         "textfont": {
          "size": 8
         },
         "textposition": "top center",
         "type": "scatter3d",
         "x": [
          1.6511327028274536
         ],
         "y": [
          -0.8933702707290649
         ],
         "z": [
          0.38609182834625244
         ]
        },
        {
         "hovertemplate": "<b>%{hovertext}</b><br><br>Name=%{text}<br>PC1=%{x}<br>PC2=%{y}<br>PC3=%{z}<extra></extra>",
         "hovertext": [
          "天松道人"
         ],
         "legendgroup": "天松道人",
         "marker": {
          "color": "#FF97FF",
          "symbol": "circle"
         },
         "mode": "markers+text",
         "name": "天松道人",
         "scene": "scene",
         "showlegend": true,
         "text": [
          "天松道人"
         ],
         "textfont": {
          "size": 8
         },
         "textposition": "top center",
         "type": "scatter3d",
         "x": [
          0.0733892098069191
         ],
         "y": [
          1.1117234230041504
         ],
         "z": [
          -0.48314255475997925
         ]
        },
        {
         "hovertemplate": "<b>%{hovertext}</b><br><br>Name=%{text}<br>PC1=%{x}<br>PC2=%{y}<br>PC3=%{z}<extra></extra>",
         "hovertext": [
          "天乙道人"
         ],
         "legendgroup": "天乙道人",
         "marker": {
          "color": "#FECB52",
          "symbol": "circle"
         },
         "mode": "markers+text",
         "name": "天乙道人",
         "scene": "scene",
         "showlegend": true,
         "text": [
          "天乙道人"
         ],
         "textfont": {
          "size": 8
         },
         "textposition": "top center",
         "type": "scatter3d",
         "x": [
          0.23307542502880096
         ],
         "y": [
          -0.26053133606910706
         ],
         "z": [
          1.5285395383834839
         ]
        },
        {
         "hovertemplate": "<b>%{hovertext}</b><br><br>Name=%{text}<br>PC1=%{x}<br>PC2=%{y}<br>PC3=%{z}<extra></extra>",
         "hovertext": [
          "吴天德"
         ],
         "legendgroup": "吴天德",
         "marker": {
          "color": "#636efa",
          "symbol": "circle"
         },
         "mode": "markers+text",
         "name": "吴天德",
         "scene": "scene",
         "showlegend": true,
         "text": [
          "吴天德"
         ],
         "textfont": {
          "size": 8
         },
         "textposition": "top center",
         "type": "scatter3d",
         "x": [
          1.8668832778930664
         ],
         "y": [
          -0.16048584878444672
         ],
         "z": [
          1.847306251525879
         ]
        },
        {
         "hovertemplate": "<b>%{hovertext}</b><br><br>Name=%{text}<br>PC1=%{x}<br>PC2=%{y}<br>PC3=%{z}<extra></extra>",
         "hovertext": [
          "刘芹"
         ],
         "legendgroup": "刘芹",
         "marker": {
          "color": "#EF553B",
          "symbol": "circle"
         },
         "mode": "markers+text",
         "name": "刘芹",
         "scene": "scene",
         "showlegend": true,
         "text": [
          "刘芹"
         ],
         "textfont": {
          "size": 8
         },
         "textposition": "top center",
         "type": "scatter3d",
         "x": [
          -1.2233234643936157
         ],
         "y": [
          -0.1976853311061859
         ],
         "z": [
          0.557083010673523
         ]
        },
        {
         "hovertemplate": "<b>%{hovertext}</b><br><br>Name=%{text}<br>PC1=%{x}<br>PC2=%{y}<br>PC3=%{z}<extra></extra>",
         "hovertext": [
          "老不死"
         ],
         "legendgroup": "老不死",
         "marker": {
          "color": "#00cc96",
          "symbol": "circle"
         },
         "mode": "markers+text",
         "name": "老不死",
         "scene": "scene",
         "showlegend": true,
         "text": [
          "老不死"
         ],
         "textfont": {
          "size": 8
         },
         "textposition": "top center",
         "type": "scatter3d",
         "x": [
          1.5997041463851929
         ],
         "y": [
          0.12235146760940552
         ],
         "z": [
          0.5626808404922485
         ]
        },
        {
         "hovertemplate": "<b>%{hovertext}</b><br><br>Name=%{text}<br>PC1=%{x}<br>PC2=%{y}<br>PC3=%{z}<extra></extra>",
         "hovertext": [
          "申人俊"
         ],
         "legendgroup": "申人俊",
         "marker": {
          "color": "#ab63fa",
          "symbol": "circle"
         },
         "mode": "markers+text",
         "name": "申人俊",
         "scene": "scene",
         "showlegend": true,
         "text": [
          "申人俊"
         ],
         "textfont": {
          "size": 8
         },
         "textposition": "top center",
         "type": "scatter3d",
         "x": [
          1.0433725118637085
         ],
         "y": [
          1.9527926445007324
         ],
         "z": [
          0.1298486888408661
         ]
        },
        {
         "hovertemplate": "<b>%{hovertext}</b><br><br>Name=%{text}<br>PC1=%{x}<br>PC2=%{y}<br>PC3=%{z}<extra></extra>",
         "hovertext": [
          "谭迪人"
         ],
         "legendgroup": "谭迪人",
         "marker": {
          "color": "#FFA15A",
          "symbol": "circle"
         },
         "mode": "markers+text",
         "name": "谭迪人",
         "scene": "scene",
         "showlegend": true,
         "text": [
          "谭迪人"
         ],
         "textfont": {
          "size": 8
         },
         "textposition": "top center",
         "type": "scatter3d",
         "x": [
          -0.5737106800079346
         ],
         "y": [
          -0.5675565600395203
         ],
         "z": [
          0.17119601368904114
         ]
        },
        {
         "hovertemplate": "<b>%{hovertext}</b><br><br>Name=%{text}<br>PC1=%{x}<br>PC2=%{y}<br>PC3=%{z}<extra></extra>",
         "hovertext": [
          "麻衣汉子"
         ],
         "legendgroup": "麻衣汉子",
         "marker": {
          "color": "#19d3f3",
          "symbol": "circle"
         },
         "mode": "markers+text",
         "name": "麻衣汉子",
         "scene": "scene",
         "showlegend": true,
         "text": [
          "麻衣汉子"
         ],
         "textfont": {
          "size": 8
         },
         "textposition": "top center",
         "type": "scatter3d",
         "x": [
          -0.23764356970787048
         ],
         "y": [
          0.07542689144611359
         ],
         "z": [
          1.7052019834518433
         ]
        },
        {
         "hovertemplate": "<b>%{hovertext}</b><br><br>Name=%{text}<br>PC1=%{x}<br>PC2=%{y}<br>PC3=%{z}<extra></extra>",
         "hovertext": [
          "卜沉"
         ],
         "legendgroup": "卜沉",
         "marker": {
          "color": "#FF6692",
          "symbol": "circle"
         },
         "mode": "markers+text",
         "name": "卜沉",
         "scene": "scene",
         "showlegend": true,
         "text": [
          "卜沉"
         ],
         "textfont": {
          "size": 8
         },
         "textposition": "top center",
         "type": "scatter3d",
         "x": [
          -0.13697803020477295
         ],
         "y": [
          -0.3013732433319092
         ],
         "z": [
          0.5296428799629211
         ]
        },
        {
         "hovertemplate": "<b>%{hovertext}</b><br><br>Name=%{text}<br>PC1=%{x}<br>PC2=%{y}<br>PC3=%{z}<extra></extra>",
         "hovertext": [
          "余人彦"
         ],
         "legendgroup": "余人彦",
         "marker": {
          "color": "#B6E880",
          "symbol": "circle"
         },
         "mode": "markers+text",
         "name": "余人彦",
         "scene": "scene",
         "showlegend": true,
         "text": [
          "余人彦"
         ],
         "textfont": {
          "size": 8
         },
         "textposition": "top center",
         "type": "scatter3d",
         "x": [
          2.25468373298645
         ],
         "y": [
          -0.6994112730026245
         ],
         "z": [
          -0.5859841704368591
         ]
        },
        {
         "hovertemplate": "<b>%{hovertext}</b><br><br>Name=%{text}<br>PC1=%{x}<br>PC2=%{y}<br>PC3=%{z}<extra></extra>",
         "hovertext": [
          "平夫人"
         ],
         "legendgroup": "平夫人",
         "marker": {
          "color": "#FF97FF",
          "symbol": "circle"
         },
         "mode": "markers+text",
         "name": "平夫人",
         "scene": "scene",
         "showlegend": true,
         "text": [
          "平夫人"
         ],
         "textfont": {
          "size": 8
         },
         "textposition": "top center",
         "type": "scatter3d",
         "x": [
          0.9032483100891113
         ],
         "y": [
          -0.012195983901619911
         ],
         "z": [
          -1.4218114614486694
         ]
        },
        {
         "hovertemplate": "<b>%{hovertext}</b><br><br>Name=%{text}<br>PC1=%{x}<br>PC2=%{y}<br>PC3=%{z}<extra></extra>",
         "hovertext": [
          "沙天江"
         ],
         "legendgroup": "沙天江",
         "marker": {
          "color": "#FECB52",
          "symbol": "circle"
         },
         "mode": "markers+text",
         "name": "沙天江",
         "scene": "scene",
         "showlegend": true,
         "text": [
          "沙天江"
         ],
         "textfont": {
          "size": 8
         },
         "textposition": "top center",
         "type": "scatter3d",
         "x": [
          -1.6412196159362793
         ],
         "y": [
          0.1201082244515419
         ],
         "z": [
          -2.4297425746917725
         ]
        },
        {
         "hovertemplate": "<b>%{hovertext}</b><br><br>Name=%{text}<br>PC1=%{x}<br>PC2=%{y}<br>PC3=%{z}<extra></extra>",
         "hovertext": [
          "舒奇"
         ],
         "legendgroup": "舒奇",
         "marker": {
          "color": "#636efa",
          "symbol": "circle"
         },
         "mode": "markers+text",
         "name": "舒奇",
         "scene": "scene",
         "showlegend": true,
         "text": [
          "舒奇"
         ],
         "textfont": {
          "size": 8
         },
         "textposition": "top center",
         "type": "scatter3d",
         "x": [
          -1.4875144958496094
         ],
         "y": [
          0.00032356553128920496
         ],
         "z": [
          1.0965150594711304
         ]
        },
        {
         "hovertemplate": "<b>%{hovertext}</b><br><br>Name=%{text}<br>PC1=%{x}<br>PC2=%{y}<br>PC3=%{z}<extra></extra>",
         "hovertext": [
          "王诚"
         ],
         "legendgroup": "王诚",
         "marker": {
          "color": "#EF553B",
          "symbol": "circle"
         },
         "mode": "markers+text",
         "name": "王诚",
         "scene": "scene",
         "showlegend": true,
         "text": [
          "王诚"
         ],
         "textfont": {
          "size": 8
         },
         "textposition": "top center",
         "type": "scatter3d",
         "x": [
          0.333411306142807
         ],
         "y": [
          -1.2271901369094849
         ],
         "z": [
          -0.9264527559280396
         ]
        },
        {
         "hovertemplate": "<b>%{hovertext}</b><br><br>Name=%{text}<br>PC1=%{x}<br>PC2=%{y}<br>PC3=%{z}<extra></extra>",
         "hovertext": [
          "王二叔"
         ],
         "legendgroup": "王二叔",
         "marker": {
          "color": "#00cc96",
          "symbol": "circle"
         },
         "mode": "markers+text",
         "name": "王二叔",
         "scene": "scene",
         "showlegend": true,
         "text": [
          "王二叔"
         ],
         "textfont": {
          "size": 8
         },
         "textposition": "top center",
         "type": "scatter3d",
         "x": [
          -0.7955381274223328
         ],
         "y": [
          2.5118420124053955
         ],
         "z": [
          0.07564642280340195
         ]
        },
        {
         "hovertemplate": "<b>%{hovertext}</b><br><br>Name=%{text}<br>PC1=%{x}<br>PC2=%{y}<br>PC3=%{z}<extra></extra>",
         "hovertext": [
          "英白罗"
         ],
         "legendgroup": "英白罗",
         "marker": {
          "color": "#ab63fa",
          "symbol": "circle"
         },
         "mode": "markers+text",
         "name": "英白罗",
         "scene": "scene",
         "showlegend": true,
         "text": [
          "英白罗"
         ],
         "textfont": {
          "size": 8
         },
         "textposition": "top center",
         "type": "scatter3d",
         "x": [
          -0.2000504434108734
         ],
         "y": [
          1.9119058847427368
         ],
         "z": [
          1.2823525667190552
         ]
        },
        {
         "hovertemplate": "<b>%{hovertext}</b><br><br>Name=%{text}<br>PC1=%{x}<br>PC2=%{y}<br>PC3=%{z}<extra></extra>",
         "hovertext": [
          "玉钟子"
         ],
         "legendgroup": "玉钟子",
         "marker": {
          "color": "#FFA15A",
          "symbol": "circle"
         },
         "mode": "markers+text",
         "name": "玉钟子",
         "scene": "scene",
         "showlegend": true,
         "text": [
          "玉钟子"
         ],
         "textfont": {
          "size": 8
         },
         "textposition": "top center",
         "type": "scatter3d",
         "x": [
          1.9109982252120972
         ],
         "y": [
          0.09268765151500702
         ],
         "z": [
          0.6133069396018982
         ]
        },
        {
         "hovertemplate": "<b>%{hovertext}</b><br><br>Name=%{text}<br>PC1=%{x}<br>PC2=%{y}<br>PC3=%{z}<extra></extra>",
         "hovertext": [
          "宁中则"
         ],
         "legendgroup": "宁中则",
         "marker": {
          "color": "#19d3f3",
          "symbol": "circle"
         },
         "mode": "markers+text",
         "name": "宁中则",
         "scene": "scene",
         "showlegend": true,
         "text": [
          "宁中则"
         ],
         "textfont": {
          "size": 8
         },
         "textposition": "top center",
         "type": "scatter3d",
         "x": [
          -0.24964037537574768
         ],
         "y": [
          0.08152682334184647
         ],
         "z": [
          0.6076778769493103
         ]
        },
        {
         "hovertemplate": "<b>%{hovertext}</b><br><br>Name=%{text}<br>PC1=%{x}<br>PC2=%{y}<br>PC3=%{z}<extra></extra>",
         "hovertext": [
          "任盈盈"
         ],
         "legendgroup": "任盈盈",
         "marker": {
          "color": "#FF6692",
          "symbol": "circle"
         },
         "mode": "markers+text",
         "name": "任盈盈",
         "scene": "scene",
         "showlegend": true,
         "text": [
          "任盈盈"
         ],
         "textfont": {
          "size": 8
         },
         "textposition": "top center",
         "type": "scatter3d",
         "x": [
          0.05237535387277603
         ],
         "y": [
          -0.2580266296863556
         ],
         "z": [
          -0.9813060164451599
         ]
        },
        {
         "hovertemplate": "<b>%{hovertext}</b><br><br>Name=%{text}<br>PC1=%{x}<br>PC2=%{y}<br>PC3=%{z}<extra></extra>",
         "hovertext": [
          "吴柏英"
         ],
         "legendgroup": "吴柏英",
         "marker": {
          "color": "#B6E880",
          "symbol": "circle"
         },
         "mode": "markers+text",
         "name": "吴柏英",
         "scene": "scene",
         "showlegend": true,
         "text": [
          "吴柏英"
         ],
         "textfont": {
          "size": 8
         },
         "textposition": "top center",
         "type": "scatter3d",
         "x": [
          0.7692078351974487
         ],
         "y": [
          0.1928219497203827
         ],
         "z": [
          -2.024949312210083
         ]
        },
        {
         "hovertemplate": "<b>%{hovertext}</b><br><br>Name=%{text}<br>PC1=%{x}<br>PC2=%{y}<br>PC3=%{z}<extra></extra>",
         "hovertext": [
          "震山子"
         ],
         "legendgroup": "震山子",
         "marker": {
          "color": "#FF97FF",
          "symbol": "circle"
         },
         "mode": "markers+text",
         "name": "震山子",
         "scene": "scene",
         "showlegend": true,
         "text": [
          "震山子"
         ],
         "textfont": {
          "size": 8
         },
         "textposition": "top center",
         "type": "scatter3d",
         "x": [
          -0.23099969327449799
         ],
         "y": [
          1.0415551662445068
         ],
         "z": [
          -0.32402005791664124
         ]
        },
        {
         "hovertemplate": "<b>%{hovertext}</b><br><br>Name=%{text}<br>PC1=%{x}<br>PC2=%{y}<br>PC3=%{z}<extra></extra>",
         "hovertext": [
          "陶钧"
         ],
         "legendgroup": "陶钧",
         "marker": {
          "color": "#FECB52",
          "symbol": "circle"
         },
         "mode": "markers+text",
         "name": "陶钧",
         "scene": "scene",
         "showlegend": true,
         "text": [
          "陶钧"
         ],
         "textfont": {
          "size": 8
         },
         "textposition": "top center",
         "type": "scatter3d",
         "x": [
          1.8009817600250244
         ],
         "y": [
          0.9378017783164978
         ],
         "z": [
          0.48965322971343994
         ]
        },
        {
         "hovertemplate": "<b>%{hovertext}</b><br><br>Name=%{text}<br>PC1=%{x}<br>PC2=%{y}<br>PC3=%{z}<extra></extra>",
         "hovertext": [
          "万大平"
         ],
         "legendgroup": "万大平",
         "marker": {
          "color": "#636efa",
          "symbol": "circle"
         },
         "mode": "markers+text",
         "name": "万大平",
         "scene": "scene",
         "showlegend": true,
         "text": [
          "万大平"
         ],
         "textfont": {
          "size": 8
         },
         "textposition": "top center",
         "type": "scatter3d",
         "x": [
          0.5479951500892639
         ],
         "y": [
          0.12452152371406555
         ],
         "z": [
          -1.4432651996612549
         ]
        },
        {
         "hovertemplate": "<b>%{hovertext}</b><br><br>Name=%{text}<br>PC1=%{x}<br>PC2=%{y}<br>PC3=%{z}<extra></extra>",
         "hovertext": [
          "夏老拳师"
         ],
         "legendgroup": "夏老拳师",
         "marker": {
          "color": "#EF553B",
          "symbol": "circle"
         },
         "mode": "markers+text",
         "name": "夏老拳师",
         "scene": "scene",
         "showlegend": true,
         "text": [
          "夏老拳师"
         ],
         "textfont": {
          "size": 8
         },
         "textposition": "top center",
         "type": "scatter3d",
         "x": [
          -0.12801635265350342
         ],
         "y": [
          -1.2288331985473633
         ],
         "z": [
          -1.4058958292007446
         ]
        },
        {
         "hovertemplate": "<b>%{hovertext}</b><br><br>Name=%{text}<br>PC1=%{x}<br>PC2=%{y}<br>PC3=%{z}<extra></extra>",
         "hovertext": [
          "周孤桐"
         ],
         "legendgroup": "周孤桐",
         "marker": {
          "color": "#00cc96",
          "symbol": "circle"
         },
         "mode": "markers+text",
         "name": "周孤桐",
         "scene": "scene",
         "showlegend": true,
         "text": [
          "周孤桐"
         ],
         "textfont": {
          "size": 8
         },
         "textposition": "top center",
         "type": "scatter3d",
         "x": [
          -0.686269223690033
         ],
         "y": [
          -0.8917244076728821
         ],
         "z": [
          0.22576044499874115
         ]
        },
        {
         "hovertemplate": "<b>%{hovertext}</b><br><br>Name=%{text}<br>PC1=%{x}<br>PC2=%{y}<br>PC3=%{z}<extra></extra>",
         "hovertext": [
          "齐堂主"
         ],
         "legendgroup": "齐堂主",
         "marker": {
          "color": "#ab63fa",
          "symbol": "circle"
         },
         "mode": "markers+text",
         "name": "齐堂主",
         "scene": "scene",
         "showlegend": true,
         "text": [
          "齐堂主"
         ],
         "textfont": {
          "size": 8
         },
         "textposition": "top center",
         "type": "scatter3d",
         "x": [
          2.1684553623199463
         ],
         "y": [
          0.020725389942526817
         ],
         "z": [
          0.5404999852180481
         ]
        },
        {
         "hovertemplate": "<b>%{hovertext}</b><br><br>Name=%{text}<br>PC1=%{x}<br>PC2=%{y}<br>PC3=%{z}<extra></extra>",
         "hovertext": [
          "刘菁"
         ],
         "legendgroup": "刘菁",
         "marker": {
          "color": "#FFA15A",
          "symbol": "circle"
         },
         "mode": "markers+text",
         "name": "刘菁",
         "scene": "scene",
         "showlegend": true,
         "text": [
          "刘菁"
         ],
         "textfont": {
          "size": 8
         },
         "textposition": "top center",
         "type": "scatter3d",
         "x": [
          -0.9001584649085999
         ],
         "y": [
          1.1202573776245117
         ],
         "z": [
          0.06093425303697586
         ]
        },
        {
         "hovertemplate": "<b>%{hovertext}</b><br><br>Name=%{text}<br>PC1=%{x}<br>PC2=%{y}<br>PC3=%{z}<extra></extra>",
         "hovertext": [
          "易堂主"
         ],
         "legendgroup": "易堂主",
         "marker": {
          "color": "#19d3f3",
          "symbol": "circle"
         },
         "mode": "markers+text",
         "name": "易堂主",
         "scene": "scene",
         "showlegend": true,
         "text": [
          "易堂主"
         ],
         "textfont": {
          "size": 8
         },
         "textposition": "top center",
         "type": "scatter3d",
         "x": [
          0.8247817754745483
         ],
         "y": [
          0.2351573258638382
         ],
         "z": [
          -1.381797194480896
         ]
        },
        {
         "hovertemplate": "<b>%{hovertext}</b><br><br>Name=%{text}<br>PC1=%{x}<br>PC2=%{y}<br>PC3=%{z}<extra></extra>",
         "hovertext": [
          "祝镖头"
         ],
         "legendgroup": "祝镖头",
         "marker": {
          "color": "#FF6692",
          "symbol": "circle"
         },
         "mode": "markers+text",
         "name": "祝镖头",
         "scene": "scene",
         "showlegend": true,
         "text": [
          "祝镖头"
         ],
         "textfont": {
          "size": 8
         },
         "textposition": "top center",
         "type": "scatter3d",
         "x": [
          1.7811825275421143
         ],
         "y": [
          -2.5030646324157715
         ],
         "z": [
          2.1428472995758057
         ]
        },
        {
         "hovertemplate": "<b>%{hovertext}</b><br><br>Name=%{text}<br>PC1=%{x}<br>PC2=%{y}<br>PC3=%{z}<extra></extra>",
         "hovertext": [
          "杨过"
         ],
         "legendgroup": "杨过",
         "marker": {
          "color": "#B6E880",
          "symbol": "circle"
         },
         "mode": "markers+text",
         "name": "杨过",
         "scene": "scene",
         "showlegend": true,
         "text": [
          "杨过"
         ],
         "textfont": {
          "size": 8
         },
         "textposition": "top center",
         "type": "scatter3d",
         "x": [
          -1.0744980573654175
         ],
         "y": [
          1.529597282409668
         ],
         "z": [
          0.3959658145904541
         ]
        },
        {
         "hovertemplate": "<b>%{hovertext}</b><br><br>Name=%{text}<br>PC1=%{x}<br>PC2=%{y}<br>PC3=%{z}<extra></extra>",
         "hovertext": [
          "小龙女"
         ],
         "legendgroup": "小龙女",
         "marker": {
          "color": "#FF97FF",
          "symbol": "circle"
         },
         "mode": "markers+text",
         "name": "小龙女",
         "scene": "scene",
         "showlegend": true,
         "text": [
          "小龙女"
         ],
         "textfont": {
          "size": 8
         },
         "textposition": "top center",
         "type": "scatter3d",
         "x": [
          0.669121503829956
         ],
         "y": [
          -0.3511909246444702
         ],
         "z": [
          0.5764660835266113
         ]
        },
        {
         "hovertemplate": "<b>%{hovertext}</b><br><br>Name=%{text}<br>PC1=%{x}<br>PC2=%{y}<br>PC3=%{z}<extra></extra>",
         "hovertext": [
          "郭襄"
         ],
         "legendgroup": "郭襄",
         "marker": {
          "color": "#FECB52",
          "symbol": "circle"
         },
         "mode": "markers+text",
         "name": "郭襄",
         "scene": "scene",
         "showlegend": true,
         "text": [
          "郭襄"
         ],
         "textfont": {
          "size": 8
         },
         "textposition": "top center",
         "type": "scatter3d",
         "x": [
          0.05366525053977966
         ],
         "y": [
          -0.9607413411140442
         ],
         "z": [
          0.06768030673265457
         ]
        },
        {
         "hovertemplate": "<b>%{hovertext}</b><br><br>Name=%{text}<br>PC1=%{x}<br>PC2=%{y}<br>PC3=%{z}<extra></extra>",
         "hovertext": [
          "耶律齐"
         ],
         "legendgroup": "耶律齐",
         "marker": {
          "color": "#636efa",
          "symbol": "circle"
         },
         "mode": "markers+text",
         "name": "耶律齐",
         "scene": "scene",
         "showlegend": true,
         "text": [
          "耶律齐"
         ],
         "textfont": {
          "size": 8
         },
         "textposition": "top center",
         "type": "scatter3d",
         "x": [
          -1.304970145225525
         ],
         "y": [
          0.6204413771629333
         ],
         "z": [
          -0.741232693195343
         ]
        },
        {
         "hovertemplate": "<b>%{hovertext}</b><br><br>Name=%{text}<br>PC1=%{x}<br>PC2=%{y}<br>PC3=%{z}<extra></extra>",
         "hovertext": [
          "潇湘子"
         ],
         "legendgroup": "潇湘子",
         "marker": {
          "color": "#EF553B",
          "symbol": "circle"
         },
         "mode": "markers+text",
         "name": "潇湘子",
         "scene": "scene",
         "showlegend": true,
         "text": [
          "潇湘子"
         ],
         "textfont": {
          "size": 8
         },
         "textposition": "top center",
         "type": "scatter3d",
         "x": [
          0.4856255352497101
         ],
         "y": [
          -0.43310317397117615
         ],
         "z": [
          0.730451762676239
         ]
        },
        {
         "hovertemplate": "<b>%{hovertext}</b><br><br>Name=%{text}<br>PC1=%{x}<br>PC2=%{y}<br>PC3=%{z}<extra></extra>",
         "hovertext": [
          "武三通"
         ],
         "legendgroup": "武三通",
         "marker": {
          "color": "#00cc96",
          "symbol": "circle"
         },
         "mode": "markers+text",
         "name": "武三通",
         "scene": "scene",
         "showlegend": true,
         "text": [
          "武三通"
         ],
         "textfont": {
          "size": 8
         },
         "textposition": "top center",
         "type": "scatter3d",
         "x": [
          -1.0380744934082031
         ],
         "y": [
          -1.324171543121338
         ],
         "z": [
          1.143107533454895
         ]
        },
        {
         "hovertemplate": "<b>%{hovertext}</b><br><br>Name=%{text}<br>PC1=%{x}<br>PC2=%{y}<br>PC3=%{z}<extra></extra>",
         "hovertext": [
          "武修文"
         ],
         "legendgroup": "武修文",
         "marker": {
          "color": "#ab63fa",
          "symbol": "circle"
         },
         "mode": "markers+text",
         "name": "武修文",
         "scene": "scene",
         "showlegend": true,
         "text": [
          "武修文"
         ],
         "textfont": {
          "size": 8
         },
         "textposition": "top center",
         "type": "scatter3d",
         "x": [
          -0.8884340524673462
         ],
         "y": [
          -1.840349793434143
         ],
         "z": [
          1.1114331483840942
         ]
        },
        {
         "hovertemplate": "<b>%{hovertext}</b><br><br>Name=%{text}<br>PC1=%{x}<br>PC2=%{y}<br>PC3=%{z}<extra></extra>",
         "hovertext": [
          "尹克西"
         ],
         "legendgroup": "尹克西",
         "marker": {
          "color": "#FFA15A",
          "symbol": "circle"
         },
         "mode": "markers+text",
         "name": "尹克西",
         "scene": "scene",
         "showlegend": true,
         "text": [
          "尹克西"
         ],
         "textfont": {
          "size": 8
         },
         "textposition": "top center",
         "type": "scatter3d",
         "x": [
          1.8032113313674927
         ],
         "y": [
          1.3892289400100708
         ],
         "z": [
          -0.6698693037033081
         ]
        },
        {
         "hovertemplate": "<b>%{hovertext}</b><br><br>Name=%{text}<br>PC1=%{x}<br>PC2=%{y}<br>PC3=%{z}<extra></extra>",
         "hovertext": [
          "朱子柳"
         ],
         "legendgroup": "朱子柳",
         "marker": {
          "color": "#19d3f3",
          "symbol": "circle"
         },
         "mode": "markers+text",
         "name": "朱子柳",
         "scene": "scene",
         "showlegend": true,
         "text": [
          "朱子柳"
         ],
         "textfont": {
          "size": 8
         },
         "textposition": "top center",
         "type": "scatter3d",
         "x": [
          -1.018310308456421
         ],
         "y": [
          0.340940922498703
         ],
         "z": [
          -0.9844382405281067
         ]
        },
        {
         "hovertemplate": "<b>%{hovertext}</b><br><br>Name=%{text}<br>PC1=%{x}<br>PC2=%{y}<br>PC3=%{z}<extra></extra>",
         "hovertext": [
          "忽必烈"
         ],
         "legendgroup": "忽必烈",
         "marker": {
          "color": "#FF6692",
          "symbol": "circle"
         },
         "mode": "markers+text",
         "name": "忽必烈",
         "scene": "scene",
         "showlegend": true,
         "text": [
          "忽必烈"
         ],
         "textfont": {
          "size": 8
         },
         "textposition": "top center",
         "type": "scatter3d",
         "x": [
          2.75567364692688
         ],
         "y": [
          0.6533302664756775
         ],
         "z": [
          0.8035416007041931
         ]
        },
        {
         "hovertemplate": "<b>%{hovertext}</b><br><br>Name=%{text}<br>PC1=%{x}<br>PC2=%{y}<br>PC3=%{z}<extra></extra>",
         "hovertext": [
          "完颜萍"
         ],
         "legendgroup": "完颜萍",
         "marker": {
          "color": "#B6E880",
          "symbol": "circle"
         },
         "mode": "markers+text",
         "name": "完颜萍",
         "scene": "scene",
         "showlegend": true,
         "text": [
          "完颜萍"
         ],
         "textfont": {
          "size": 8
         },
         "textposition": "top center",
         "type": "scatter3d",
         "x": [
          -0.38901060819625854
         ],
         "y": [
          -2.2560555934906006
         ],
         "z": [
          -0.7922359108924866
         ]
        },
        {
         "hovertemplate": "<b>%{hovertext}</b><br><br>Name=%{text}<br>PC1=%{x}<br>PC2=%{y}<br>PC3=%{z}<extra></extra>",
         "hovertext": [
          "武敦儒"
         ],
         "legendgroup": "武敦儒",
         "marker": {
          "color": "#FF97FF",
          "symbol": "circle"
         },
         "mode": "markers+text",
         "name": "武敦儒",
         "scene": "scene",
         "showlegend": true,
         "text": [
          "武敦儒"
         ],
         "textfont": {
          "size": 8
         },
         "textposition": "top center",
         "type": "scatter3d",
         "x": [
          0.28084826469421387
         ],
         "y": [
          -0.7159773111343384
         ],
         "z": [
          -0.4482019245624542
         ]
        },
        {
         "hovertemplate": "<b>%{hovertext}</b><br><br>Name=%{text}<br>PC1=%{x}<br>PC2=%{y}<br>PC3=%{z}<extra></extra>",
         "hovertext": [
          "张君宝"
         ],
         "legendgroup": "张君宝",
         "marker": {
          "color": "#FECB52",
          "symbol": "circle"
         },
         "mode": "markers+text",
         "name": "张君宝",
         "scene": "scene",
         "showlegend": true,
         "text": [
          "张君宝"
         ],
         "textfont": {
          "size": 8
         },
         "textposition": "top center",
         "type": "scatter3d",
         "x": [
          1.4492230415344238
         ],
         "y": [
          0.13005390763282776
         ],
         "z": [
          -1.1334792375564575
         ]
        },
        {
         "hovertemplate": "<b>%{hovertext}</b><br><br>Name=%{text}<br>PC1=%{x}<br>PC2=%{y}<br>PC3=%{z}<extra></extra>",
         "hovertext": [
          "林朝英"
         ],
         "legendgroup": "林朝英",
         "marker": {
          "color": "#636efa",
          "symbol": "circle"
         },
         "mode": "markers+text",
         "name": "林朝英",
         "scene": "scene",
         "showlegend": true,
         "text": [
          "林朝英"
         ],
         "textfont": {
          "size": 8
         },
         "textposition": "top center",
         "type": "scatter3d",
         "x": [
          0.7423675060272217
         ],
         "y": [
          -2.5181055068969727
         ],
         "z": [
          -0.3749043643474579
         ]
        },
        {
         "hovertemplate": "<b>%{hovertext}</b><br><br>Name=%{text}<br>PC1=%{x}<br>PC2=%{y}<br>PC3=%{z}<extra></extra>",
         "hovertext": [
          "蒙哥"
         ],
         "legendgroup": "蒙哥",
         "marker": {
          "color": "#EF553B",
          "symbol": "circle"
         },
         "mode": "markers+text",
         "name": "蒙哥",
         "scene": "scene",
         "showlegend": true,
         "text": [
          "蒙哥"
         ],
         "textfont": {
          "size": 8
         },
         "textposition": "top center",
         "type": "scatter3d",
         "x": [
          -1.1983516216278076
         ],
         "y": [
          -0.3107834458351135
         ],
         "z": [
          -1.4948819875717163
         ]
        },
        {
         "hovertemplate": "<b>%{hovertext}</b><br><br>Name=%{text}<br>PC1=%{x}<br>PC2=%{y}<br>PC3=%{z}<extra></extra>",
         "hovertext": [
          "吊死鬼"
         ],
         "legendgroup": "吊死鬼",
         "marker": {
          "color": "#00cc96",
          "symbol": "circle"
         },
         "mode": "markers+text",
         "name": "吊死鬼",
         "scene": "scene",
         "showlegend": true,
         "text": [
          "吊死鬼"
         ],
         "textfont": {
          "size": 8
         },
         "textposition": "top center",
         "type": "scatter3d",
         "x": [
          1.4858825206756592
         ],
         "y": [
          0.5879915356636047
         ],
         "z": [
          0.43123945593833923
         ]
        },
        {
         "hovertemplate": "<b>%{hovertext}</b><br><br>Name=%{text}<br>PC1=%{x}<br>PC2=%{y}<br>PC3=%{z}<extra></extra>",
         "hovertext": [
          "觉远大师"
         ],
         "legendgroup": "觉远大师",
         "marker": {
          "color": "#ab63fa",
          "symbol": "circle"
         },
         "mode": "markers+text",
         "name": "觉远大师",
         "scene": "scene",
         "showlegend": true,
         "text": [
          "觉远大师"
         ],
         "textfont": {
          "size": 8
         },
         "textposition": "top center",
         "type": "scatter3d",
         "x": [
          -0.29319506883621216
         ],
         "y": [
          1.2236671447753906
         ],
         "z": [
          1.8801466226577759
         ]
        },
        {
         "hovertemplate": "<b>%{hovertext}</b><br><br>Name=%{text}<br>PC1=%{x}<br>PC2=%{y}<br>PC3=%{z}<extra></extra>",
         "hovertext": [
          "阿根"
         ],
         "legendgroup": "阿根",
         "marker": {
          "color": "#FFA15A",
          "symbol": "circle"
         },
         "mode": "markers+text",
         "name": "阿根",
         "scene": "scene",
         "showlegend": true,
         "text": [
          "阿根"
         ],
         "textfont": {
          "size": 8
         },
         "textposition": "top center",
         "type": "scatter3d",
         "x": [
          -1.577453851699829
         ],
         "y": [
          0.6579312086105347
         ],
         "z": [
          0.6914460062980652
         ]
        },
        {
         "hovertemplate": "<b>%{hovertext}</b><br><br>Name=%{text}<br>PC1=%{x}<br>PC2=%{y}<br>PC3=%{z}<extra></extra>",
         "hovertext": [
          "张无忌"
         ],
         "legendgroup": "张无忌",
         "marker": {
          "color": "#19d3f3",
          "symbol": "circle"
         },
         "mode": "markers+text",
         "name": "张无忌",
         "scene": "scene",
         "showlegend": true,
         "text": [
          "张无忌"
         ],
         "textfont": {
          "size": 8
         },
         "textposition": "top center",
         "type": "scatter3d",
         "x": [
          0.6587285399436951
         ],
         "y": [
          -0.6622598171234131
         ],
         "z": [
          0.11367384344339371
         ]
        },
        {
         "hovertemplate": "<b>%{hovertext}</b><br><br>Name=%{text}<br>PC1=%{x}<br>PC2=%{y}<br>PC3=%{z}<extra></extra>",
         "hovertext": [
          "赵敏"
         ],
         "legendgroup": "赵敏",
         "marker": {
          "color": "#FF6692",
          "symbol": "circle"
         },
         "mode": "markers+text",
         "name": "赵敏",
         "scene": "scene",
         "showlegend": true,
         "text": [
          "赵敏"
         ],
         "textfont": {
          "size": 8
         },
         "textposition": "top center",
         "type": "scatter3d",
         "x": [
          0.322024941444397
         ],
         "y": [
          -1.047442078590393
         ],
         "z": [
          0.6855366826057434
         ]
        },
        {
         "hovertemplate": "<b>%{hovertext}</b><br><br>Name=%{text}<br>PC1=%{x}<br>PC2=%{y}<br>PC3=%{z}<extra></extra>",
         "hovertext": [
          "谢逊"
         ],
         "legendgroup": "谢逊",
         "marker": {
          "color": "#B6E880",
          "symbol": "circle"
         },
         "mode": "markers+text",
         "name": "谢逊",
         "scene": "scene",
         "showlegend": true,
         "text": [
          "谢逊"
         ],
         "textfont": {
          "size": 8
         },
         "textposition": "top center",
         "type": "scatter3d",
         "x": [
          0.46312886476516724
         ],
         "y": [
          1.074491262435913
         ],
         "z": [
          0.31084907054901123
         ]
        },
        {
         "hovertemplate": "<b>%{hovertext}</b><br><br>Name=%{text}<br>PC1=%{x}<br>PC2=%{y}<br>PC3=%{z}<extra></extra>",
         "hovertext": [
          "张翠山"
         ],
         "legendgroup": "张翠山",
         "marker": {
          "color": "#FF97FF",
          "symbol": "circle"
         },
         "mode": "markers+text",
         "name": "张翠山",
         "scene": "scene",
         "showlegend": true,
         "text": [
          "张翠山"
         ],
         "textfont": {
          "size": 8
         },
         "textposition": "top center",
         "type": "scatter3d",
         "x": [
          0.48219916224479675
         ],
         "y": [
          -0.5125482678413391
         ],
         "z": [
          -0.19048720598220825
         ]
        },
        {
         "hovertemplate": "<b>%{hovertext}</b><br><br>Name=%{text}<br>PC1=%{x}<br>PC2=%{y}<br>PC3=%{z}<extra></extra>",
         "hovertext": [
          "周芷若"
         ],
         "legendgroup": "周芷若",
         "marker": {
          "color": "#FECB52",
          "symbol": "circle"
         },
         "mode": "markers+text",
         "name": "周芷若",
         "scene": "scene",
         "showlegend": true,
         "text": [
          "周芷若"
         ],
         "textfont": {
          "size": 8
         },
         "textposition": "top center",
         "type": "scatter3d",
         "x": [
          0.5564190745353699
         ],
         "y": [
          -1.353103756904602
         ],
         "z": [
          0.7069536447525024
         ]
        },
        {
         "hovertemplate": "<b>%{hovertext}</b><br><br>Name=%{text}<br>PC1=%{x}<br>PC2=%{y}<br>PC3=%{z}<extra></extra>",
         "hovertext": [
          "殷素素"
         ],
         "legendgroup": "殷素素",
         "marker": {
          "color": "#636efa",
          "symbol": "circle"
         },
         "mode": "markers+text",
         "name": "殷素素",
         "scene": "scene",
         "showlegend": true,
         "text": [
          "殷素素"
         ],
         "textfont": {
          "size": 8
         },
         "textposition": "top center",
         "type": "scatter3d",
         "x": [
          3.1274051666259766
         ],
         "y": [
          0.4397980272769928
         ],
         "z": [
          0.11340893805027008
         ]
        },
        {
         "hovertemplate": "<b>%{hovertext}</b><br><br>Name=%{text}<br>PC1=%{x}<br>PC2=%{y}<br>PC3=%{z}<extra></extra>",
         "hovertext": [
          "张三丰"
         ],
         "legendgroup": "张三丰",
         "marker": {
          "color": "#EF553B",
          "symbol": "circle"
         },
         "mode": "markers+text",
         "name": "张三丰",
         "scene": "scene",
         "showlegend": true,
         "text": [
          "张三丰"
         ],
         "textfont": {
          "size": 8
         },
         "textposition": "top center",
         "type": "scatter3d",
         "x": [
          -0.5380237102508545
         ],
         "y": [
          -0.20340889692306519
         ],
         "z": [
          0.7354485988616943
         ]
        },
        {
         "hovertemplate": "<b>%{hovertext}</b><br><br>Name=%{text}<br>PC1=%{x}<br>PC2=%{y}<br>PC3=%{z}<extra></extra>",
         "hovertext": [
          "灭绝师太"
         ],
         "legendgroup": "灭绝师太",
         "marker": {
          "color": "#00cc96",
          "symbol": "circle"
         },
         "mode": "markers+text",
         "name": "灭绝师太",
         "scene": "scene",
         "showlegend": true,
         "text": [
          "灭绝师太"
         ],
         "textfont": {
          "size": 8
         },
         "textposition": "top center",
         "type": "scatter3d",
         "x": [
          1.1104726791381836
         ],
         "y": [
          -0.0388985350728035
         ],
         "z": [
          -1.447078824043274
         ]
        },
        {
         "hovertemplate": "<b>%{hovertext}</b><br><br>Name=%{text}<br>PC1=%{x}<br>PC2=%{y}<br>PC3=%{z}<extra></extra>",
         "hovertext": [
          "殷梨亭"
         ],
         "legendgroup": "殷梨亭",
         "marker": {
          "color": "#ab63fa",
          "symbol": "circle"
         },
         "mode": "markers+text",
         "name": "殷梨亭",
         "scene": "scene",
         "showlegend": true,
         "text": [
          "殷梨亭"
         ],
         "textfont": {
          "size": 8
         },
         "textposition": "top center",
         "type": "scatter3d",
         "x": [
          -0.02702089212834835
         ],
         "y": [
          -1.1969958543777466
         ],
         "z": [
          0.07692042738199234
         ]
        },
        {
         "hovertemplate": "<b>%{hovertext}</b><br><br>Name=%{text}<br>PC1=%{x}<br>PC2=%{y}<br>PC3=%{z}<extra></extra>",
         "hovertext": [
          "金花婆婆"
         ],
         "legendgroup": "金花婆婆",
         "marker": {
          "color": "#FFA15A",
          "symbol": "circle"
         },
         "mode": "markers+text",
         "name": "金花婆婆",
         "scene": "scene",
         "showlegend": true,
         "text": [
          "金花婆婆"
         ],
         "textfont": {
          "size": 8
         },
         "textposition": "top center",
         "type": "scatter3d",
         "x": [
          -0.3078647255897522
         ],
         "y": [
          -0.4727647304534912
         ],
         "z": [
          -1.1808160543441772
         ]
        },
        {
         "hovertemplate": "<b>%{hovertext}</b><br><br>Name=%{text}<br>PC1=%{x}<br>PC2=%{y}<br>PC3=%{z}<extra></extra>",
         "hovertext": [
          "小昭"
         ],
         "legendgroup": "小昭",
         "marker": {
          "color": "#19d3f3",
          "symbol": "circle"
         },
         "mode": "markers+text",
         "name": "小昭",
         "scene": "scene",
         "showlegend": true,
         "text": [
          "小昭"
         ],
         "textfont": {
          "size": 8
         },
         "textposition": "top center",
         "type": "scatter3d",
         "x": [
          -0.6226475834846497
         ],
         "y": [
          -0.8975369334220886
         ],
         "z": [
          0.4154708683490753
         ]
        },
        {
         "hovertemplate": "<b>%{hovertext}</b><br><br>Name=%{text}<br>PC1=%{x}<br>PC2=%{y}<br>PC3=%{z}<extra></extra>",
         "hovertext": [
          "俞岱岩"
         ],
         "legendgroup": "俞岱岩",
         "marker": {
          "color": "#FF6692",
          "symbol": "circle"
         },
         "mode": "markers+text",
         "name": "俞岱岩",
         "scene": "scene",
         "showlegend": true,
         "text": [
          "俞岱岩"
         ],
         "textfont": {
          "size": 8
         },
         "textposition": "top center",
         "type": "scatter3d",
         "x": [
          0.7212883830070496
         ],
         "y": [
          -0.6421787738800049
         ],
         "z": [
          1.0166378021240234
         ]
        },
        {
         "hovertemplate": "<b>%{hovertext}</b><br><br>Name=%{text}<br>PC1=%{x}<br>PC2=%{y}<br>PC3=%{z}<extra></extra>",
         "hovertext": [
          "胡青牛"
         ],
         "legendgroup": "胡青牛",
         "marker": {
          "color": "#B6E880",
          "symbol": "circle"
         },
         "mode": "markers+text",
         "name": "胡青牛",
         "scene": "scene",
         "showlegend": true,
         "text": [
          "胡青牛"
         ],
         "textfont": {
          "size": 8
         },
         "textposition": "top center",
         "type": "scatter3d",
         "x": [
          -0.6764543056488037
         ],
         "y": [
          -0.4437054991722107
         ],
         "z": [
          -0.3187030851840973
         ]
        },
        {
         "hovertemplate": "<b>%{hovertext}</b><br><br>Name=%{text}<br>PC1=%{x}<br>PC2=%{y}<br>PC3=%{z}<extra></extra>",
         "hovertext": [
          "宋远桥"
         ],
         "legendgroup": "宋远桥",
         "marker": {
          "color": "#FF97FF",
          "symbol": "circle"
         },
         "mode": "markers+text",
         "name": "宋远桥",
         "scene": "scene",
         "showlegend": true,
         "text": [
          "宋远桥"
         ],
         "textfont": {
          "size": 8
         },
         "textposition": "top center",
         "type": "scatter3d",
         "x": [
          1.2709424495697021
         ],
         "y": [
          1.4683899879455566
         ],
         "z": [
          -1.1961698532104492
         ]
        },
        {
         "hovertemplate": "<b>%{hovertext}</b><br><br>Name=%{text}<br>PC1=%{x}<br>PC2=%{y}<br>PC3=%{z}<extra></extra>",
         "hovertext": [
          "韦一笑"
         ],
         "legendgroup": "韦一笑",
         "marker": {
          "color": "#FECB52",
          "symbol": "circle"
         },
         "mode": "markers+text",
         "name": "韦一笑",
         "scene": "scene",
         "showlegend": true,
         "text": [
          "韦一笑"
         ],
         "textfont": {
          "size": 8
         },
         "textposition": "top center",
         "type": "scatter3d",
         "x": [
          1.440212368965149
         ],
         "y": [
          -0.928987443447113
         ],
         "z": [
          0.1474023014307022
         ]
        },
        {
         "hovertemplate": "<b>%{hovertext}</b><br><br>Name=%{text}<br>PC1=%{x}<br>PC2=%{y}<br>PC3=%{z}<extra></extra>",
         "hovertext": [
          "范遥"
         ],
         "legendgroup": "范遥",
         "marker": {
          "color": "#636efa",
          "symbol": "circle"
         },
         "mode": "markers+text",
         "name": "范遥",
         "scene": "scene",
         "showlegend": true,
         "text": [
          "范遥"
         ],
         "textfont": {
          "size": 8
         },
         "textposition": "top center",
         "type": "scatter3d",
         "x": [
          0.59738689661026
         ],
         "y": [
          0.7022939324378967
         ],
         "z": [
          -1.9986577033996582
         ]
        },
        {
         "hovertemplate": "<b>%{hovertext}</b><br><br>Name=%{text}<br>PC1=%{x}<br>PC2=%{y}<br>PC3=%{z}<extra></extra>",
         "hovertext": [
          "宋青书"
         ],
         "legendgroup": "宋青书",
         "marker": {
          "color": "#EF553B",
          "symbol": "circle"
         },
         "mode": "markers+text",
         "name": "宋青书",
         "scene": "scene",
         "showlegend": true,
         "text": [
          "宋青书"
         ],
         "textfont": {
          "size": 8
         },
         "textposition": "top center",
         "type": "scatter3d",
         "x": [
          0.23670226335525513
         ],
         "y": [
          -0.9615688920021057
         ],
         "z": [
          0.9370129108428955
         ]
        },
        {
         "hovertemplate": "<b>%{hovertext}</b><br><br>Name=%{text}<br>PC1=%{x}<br>PC2=%{y}<br>PC3=%{z}<extra></extra>",
         "hovertext": [
          "何太冲"
         ],
         "legendgroup": "何太冲",
         "marker": {
          "color": "#00cc96",
          "symbol": "circle"
         },
         "mode": "markers+text",
         "name": "何太冲",
         "scene": "scene",
         "showlegend": true,
         "text": [
          "何太冲"
         ],
         "textfont": {
          "size": 8
         },
         "textposition": "top center",
         "type": "scatter3d",
         "x": [
          -1.1174063682556152
         ],
         "y": [
          0.44219306111335754
         ],
         "z": [
          -0.1885986328125
         ]
        },
        {
         "hovertemplate": "<b>%{hovertext}</b><br><br>Name=%{text}<br>PC1=%{x}<br>PC2=%{y}<br>PC3=%{z}<extra></extra>",
         "hovertext": [
          "纪晓芙"
         ],
         "legendgroup": "纪晓芙",
         "marker": {
          "color": "#ab63fa",
          "symbol": "circle"
         },
         "mode": "markers+text",
         "name": "纪晓芙",
         "scene": "scene",
         "showlegend": true,
         "text": [
          "纪晓芙"
         ],
         "textfont": {
          "size": 8
         },
         "textposition": "top center",
         "type": "scatter3d",
         "x": [
          0.3091936707496643
         ],
         "y": [
          -0.20421035587787628
         ],
         "z": [
          0.33486467599868774
         ]
        },
        {
         "hovertemplate": "<b>%{hovertext}</b><br><br>Name=%{text}<br>PC1=%{x}<br>PC2=%{y}<br>PC3=%{z}<extra></extra>",
         "hovertext": [
          "周颠"
         ],
         "legendgroup": "周颠",
         "marker": {
          "color": "#FFA15A",
          "symbol": "circle"
         },
         "mode": "markers+text",
         "name": "周颠",
         "scene": "scene",
         "showlegend": true,
         "text": [
          "周颠"
         ],
         "textfont": {
          "size": 8
         },
         "textposition": "top center",
         "type": "scatter3d",
         "x": [
          0.11473147571086884
         ],
         "y": [
          0.007174577098339796
         ],
         "z": [
          -0.8821274042129517
         ]
        },
        {
         "hovertemplate": "<b>%{hovertext}</b><br><br>Name=%{text}<br>PC1=%{x}<br>PC2=%{y}<br>PC3=%{z}<extra></extra>",
         "hovertext": [
          "空智"
         ],
         "legendgroup": "空智",
         "marker": {
          "color": "#19d3f3",
          "symbol": "circle"
         },
         "mode": "markers+text",
         "name": "空智",
         "scene": "scene",
         "showlegend": true,
         "text": [
          "空智"
         ],
         "textfont": {
          "size": 8
         },
         "textposition": "top center",
         "type": "scatter3d",
         "x": [
          -1.2315595149993896
         ],
         "y": [
          1.7009788751602173
         ],
         "z": [
          0.9616524577140808
         ]
        },
        {
         "hovertemplate": "<b>%{hovertext}</b><br><br>Name=%{text}<br>PC1=%{x}<br>PC2=%{y}<br>PC3=%{z}<extra></extra>",
         "hovertext": [
          "殷天正"
         ],
         "legendgroup": "殷天正",
         "marker": {
          "color": "#FF6692",
          "symbol": "circle"
         },
         "mode": "markers+text",
         "name": "殷天正",
         "scene": "scene",
         "showlegend": true,
         "text": [
          "殷天正"
         ],
         "textfont": {
          "size": 8
         },
         "textposition": "top center",
         "type": "scatter3d",
         "x": [
          -0.7052145004272461
         ],
         "y": [
          0.5303981900215149
         ],
         "z": [
          0.9871918559074402
         ]
        },
        {
         "hovertemplate": "<b>%{hovertext}</b><br><br>Name=%{text}<br>PC1=%{x}<br>PC2=%{y}<br>PC3=%{z}<extra></extra>",
         "hovertext": [
          "陈友谅"
         ],
         "legendgroup": "陈友谅",
         "marker": {
          "color": "#B6E880",
          "symbol": "circle"
         },
         "mode": "markers+text",
         "name": "陈友谅",
         "scene": "scene",
         "showlegend": true,
         "text": [
          "陈友谅"
         ],
         "textfont": {
          "size": 8
         },
         "textposition": "top center",
         "type": "scatter3d",
         "x": [
          0.7228426933288574
         ],
         "y": [
          0.85770183801651
         ],
         "z": [
          0.6594007611274719
         ]
        },
        {
         "hovertemplate": "<b>%{hovertext}</b><br><br>Name=%{text}<br>PC1=%{x}<br>PC2=%{y}<br>PC3=%{z}<extra></extra>",
         "hovertext": [
          "鹿杖客"
         ],
         "legendgroup": "鹿杖客",
         "marker": {
          "color": "#FF97FF",
          "symbol": "circle"
         },
         "mode": "markers+text",
         "name": "鹿杖客",
         "scene": "scene",
         "showlegend": true,
         "text": [
          "鹿杖客"
         ],
         "textfont": {
          "size": 8
         },
         "textposition": "top center",
         "type": "scatter3d",
         "x": [
          -1.43494713306427
         ],
         "y": [
          -0.43640822172164917
         ],
         "z": [
          -0.07919970154762268
         ]
        },
        {
         "hovertemplate": "<b>%{hovertext}</b><br><br>Name=%{text}<br>PC1=%{x}<br>PC2=%{y}<br>PC3=%{z}<extra></extra>",
         "hovertext": [
          "杨不悔"
         ],
         "legendgroup": "杨不悔",
         "marker": {
          "color": "#FECB52",
          "symbol": "circle"
         },
         "mode": "markers+text",
         "name": "杨不悔",
         "scene": "scene",
         "showlegend": true,
         "text": [
          "杨不悔"
         ],
         "textfont": {
          "size": 8
         },
         "textposition": "top center",
         "type": "scatter3d",
         "x": [
          -0.8616520762443542
         ],
         "y": [
          0.7781491875648499
         ],
         "z": [
          0.9484128355979919
         ]
        },
        {
         "hovertemplate": "<b>%{hovertext}</b><br><br>Name=%{text}<br>PC1=%{x}<br>PC2=%{y}<br>PC3=%{z}<extra></extra>",
         "hovertext": [
          "张松溪"
         ],
         "legendgroup": "张松溪",
         "marker": {
          "color": "#636efa",
          "symbol": "circle"
         },
         "mode": "markers+text",
         "name": "张松溪",
         "scene": "scene",
         "showlegend": true,
         "text": [
          "张松溪"
         ],
         "textfont": {
          "size": 8
         },
         "textposition": "top center",
         "type": "scatter3d",
         "x": [
          2.2934608459472656
         ],
         "y": [
          -3.018646478652954
         ],
         "z": [
          1.5631295442581177
         ]
        },
        {
         "hovertemplate": "<b>%{hovertext}</b><br><br>Name=%{text}<br>PC1=%{x}<br>PC2=%{y}<br>PC3=%{z}<extra></extra>",
         "hovertext": [
          "朱长龄"
         ],
         "legendgroup": "朱长龄",
         "marker": {
          "color": "#EF553B",
          "symbol": "circle"
         },
         "mode": "markers+text",
         "name": "朱长龄",
         "scene": "scene",
         "showlegend": true,
         "text": [
          "朱长龄"
         ],
         "textfont": {
          "size": 8
         },
         "textposition": "top center",
         "type": "scatter3d",
         "x": [
          0.6782870888710022
         ],
         "y": [
          -0.1783372014760971
         ],
         "z": [
          -1.0368621349334717
         ]
        },
        {
         "hovertemplate": "<b>%{hovertext}</b><br><br>Name=%{text}<br>PC1=%{x}<br>PC2=%{y}<br>PC3=%{z}<extra></extra>",
         "hovertext": [
          "空闻"
         ],
         "legendgroup": "空闻",
         "marker": {
          "color": "#00cc96",
          "symbol": "circle"
         },
         "mode": "markers+text",
         "name": "空闻",
         "scene": "scene",
         "showlegend": true,
         "text": [
          "空闻"
         ],
         "textfont": {
          "size": 8
         },
         "textposition": "top center",
         "type": "scatter3d",
         "x": [
          -0.518017590045929
         ],
         "y": [
          -2.4091601371765137
         ],
         "z": [
          0.23487257957458496
         ]
        },
        {
         "hovertemplate": "<b>%{hovertext}</b><br><br>Name=%{text}<br>PC1=%{x}<br>PC2=%{y}<br>PC3=%{z}<extra></extra>",
         "hovertext": [
          "成昆"
         ],
         "legendgroup": "成昆",
         "marker": {
          "color": "#ab63fa",
          "symbol": "circle"
         },
         "mode": "markers+text",
         "name": "成昆",
         "scene": "scene",
         "showlegend": true,
         "text": [
          "成昆"
         ],
         "textfont": {
          "size": 8
         },
         "textposition": "top center",
         "type": "scatter3d",
         "x": [
          -0.5876914858818054
         ],
         "y": [
          0.5563998222351074
         ],
         "z": [
          0.35945993661880493
         ]
        },
        {
         "hovertemplate": "<b>%{hovertext}</b><br><br>Name=%{text}<br>PC1=%{x}<br>PC2=%{y}<br>PC3=%{z}<extra></extra>",
         "hovertext": [
          "常遇春"
         ],
         "legendgroup": "常遇春",
         "marker": {
          "color": "#FFA15A",
          "symbol": "circle"
         },
         "mode": "markers+text",
         "name": "常遇春",
         "scene": "scene",
         "showlegend": true,
         "text": [
          "常遇春"
         ],
         "textfont": {
          "size": 8
         },
         "textposition": "top center",
         "type": "scatter3d",
         "x": [
          -1.9920965433120728
         ],
         "y": [
          -2.5931708812713623
         ],
         "z": [
          1.3009977340698242
         ]
        },
        {
         "hovertemplate": "<b>%{hovertext}</b><br><br>Name=%{text}<br>PC1=%{x}<br>PC2=%{y}<br>PC3=%{z}<extra></extra>",
         "hovertext": [
          "丁敏君"
         ],
         "legendgroup": "丁敏君",
         "marker": {
          "color": "#19d3f3",
          "symbol": "circle"
         },
         "mode": "markers+text",
         "name": "丁敏君",
         "scene": "scene",
         "showlegend": true,
         "text": [
          "丁敏君"
         ],
         "textfont": {
          "size": 8
         },
         "textposition": "top center",
         "type": "scatter3d",
         "x": [
          0.1635642796754837
         ],
         "y": [
          0.5543792247772217
         ],
         "z": [
          0.21404558420181274
         ]
        },
        {
         "hovertemplate": "<b>%{hovertext}</b><br><br>Name=%{text}<br>PC1=%{x}<br>PC2=%{y}<br>PC3=%{z}<extra></extra>",
         "hovertext": [
          "殷离"
         ],
         "legendgroup": "殷离",
         "marker": {
          "color": "#FF6692",
          "symbol": "circle"
         },
         "mode": "markers+text",
         "name": "殷离",
         "scene": "scene",
         "showlegend": true,
         "text": [
          "殷离"
         ],
         "textfont": {
          "size": 8
         },
         "textposition": "top center",
         "type": "scatter3d",
         "x": [
          0.08138468116521835
         ],
         "y": [
          0.20219086110591888
         ],
         "z": [
          -0.7412969470024109
         ]
        },
        {
         "hovertemplate": "<b>%{hovertext}</b><br><br>Name=%{text}<br>PC1=%{x}<br>PC2=%{y}<br>PC3=%{z}<extra></extra>",
         "hovertext": [
          "说不得"
         ],
         "legendgroup": "说不得",
         "marker": {
          "color": "#B6E880",
          "symbol": "circle"
         },
         "mode": "markers+text",
         "name": "说不得",
         "scene": "scene",
         "showlegend": true,
         "text": [
          "说不得"
         ],
         "textfont": {
          "size": 8
         },
         "textposition": "top center",
         "type": "scatter3d",
         "x": [
          -0.8667320609092712
         ],
         "y": [
          -0.45460957288742065
         ],
         "z": [
          -0.9390068054199219
         ]
        },
        {
         "hovertemplate": "<b>%{hovertext}</b><br><br>Name=%{text}<br>PC1=%{x}<br>PC2=%{y}<br>PC3=%{z}<extra></extra>",
         "hovertext": [
          "朱九真"
         ],
         "legendgroup": "朱九真",
         "marker": {
          "color": "#FF97FF",
          "symbol": "circle"
         },
         "mode": "markers+text",
         "name": "朱九真",
         "scene": "scene",
         "showlegend": true,
         "text": [
          "朱九真"
         ],
         "textfont": {
          "size": 8
         },
         "textposition": "top center",
         "type": "scatter3d",
         "x": [
          0.14206859469413757
         ],
         "y": [
          -0.8643727898597717
         ],
         "z": [
          -1.9104443788528442
         ]
        },
        {
         "hovertemplate": "<b>%{hovertext}</b><br><br>Name=%{text}<br>PC1=%{x}<br>PC2=%{y}<br>PC3=%{z}<extra></extra>",
         "hovertext": [
          "鹤笔翁"
         ],
         "legendgroup": "鹤笔翁",
         "marker": {
          "color": "#FECB52",
          "symbol": "circle"
         },
         "mode": "markers+text",
         "name": "鹤笔翁",
         "scene": "scene",
         "showlegend": true,
         "text": [
          "鹤笔翁"
         ],
         "textfont": {
          "size": 8
         },
         "textposition": "top center",
         "type": "scatter3d",
         "x": [
          -0.2415393888950348
         ],
         "y": [
          -0.5630146861076355
         ],
         "z": [
          0.4058174192905426
         ]
        },
        {
         "hovertemplate": "<b>%{hovertext}</b><br><br>Name=%{text}<br>PC1=%{x}<br>PC2=%{y}<br>PC3=%{z}<extra></extra>",
         "hovertext": [
          "都大锦"
         ],
         "legendgroup": "都大锦",
         "marker": {
          "color": "#636efa",
          "symbol": "circle"
         },
         "mode": "markers+text",
         "name": "都大锦",
         "scene": "scene",
         "showlegend": true,
         "text": [
          "都大锦"
         ],
         "textfont": {
          "size": 8
         },
         "textposition": "top center",
         "type": "scatter3d",
         "x": [
          -0.3528826832771301
         ],
         "y": [
          -0.9283226728439331
         ],
         "z": [
          -0.5719257593154907
         ]
        },
        {
         "hovertemplate": "<b>%{hovertext}</b><br><br>Name=%{text}<br>PC1=%{x}<br>PC2=%{y}<br>PC3=%{z}<extra></extra>",
         "hovertext": [
          "莫声谷"
         ],
         "legendgroup": "莫声谷",
         "marker": {
          "color": "#EF553B",
          "symbol": "circle"
         },
         "mode": "markers+text",
         "name": "莫声谷",
         "scene": "scene",
         "showlegend": true,
         "text": [
          "莫声谷"
         ],
         "textfont": {
          "size": 8
         },
         "textposition": "top center",
         "type": "scatter3d",
         "x": [
          0.3384282886981964
         ],
         "y": [
          -0.6964357495307922
         ],
         "z": [
          0.6255807280540466
         ]
        },
        {
         "hovertemplate": "<b>%{hovertext}</b><br><br>Name=%{text}<br>PC1=%{x}<br>PC2=%{y}<br>PC3=%{z}<extra></extra>",
         "hovertext": [
          "何足道"
         ],
         "legendgroup": "何足道",
         "marker": {
          "color": "#00cc96",
          "symbol": "circle"
         },
         "mode": "markers+text",
         "name": "何足道",
         "scene": "scene",
         "showlegend": true,
         "text": [
          "何足道"
         ],
         "textfont": {
          "size": 8
         },
         "textposition": "top center",
         "type": "scatter3d",
         "x": [
          2.225651264190674
         ],
         "y": [
          -1.0681650638580322
         ],
         "z": [
          -0.8557367920875549
         ]
        },
        {
         "hovertemplate": "<b>%{hovertext}</b><br><br>Name=%{text}<br>PC1=%{x}<br>PC2=%{y}<br>PC3=%{z}<extra></extra>",
         "hovertext": [
          "彭莹玉"
         ],
         "legendgroup": "彭莹玉",
         "marker": {
          "color": "#ab63fa",
          "symbol": "circle"
         },
         "mode": "markers+text",
         "name": "彭莹玉",
         "scene": "scene",
         "showlegend": true,
         "text": [
          "彭莹玉"
         ],
         "textfont": {
          "size": 8
         },
         "textposition": "top center",
         "type": "scatter3d",
         "x": [
          -1.2605631351470947
         ],
         "y": [
          -0.12888003885746002
         ],
         "z": [
          0.7575821876525879
         ]
        },
        {
         "hovertemplate": "<b>%{hovertext}</b><br><br>Name=%{text}<br>PC1=%{x}<br>PC2=%{y}<br>PC3=%{z}<extra></extra>",
         "hovertext": [
          "无色"
         ],
         "legendgroup": "无色",
         "marker": {
          "color": "#FFA15A",
          "symbol": "circle"
         },
         "mode": "markers+text",
         "name": "无色",
         "scene": "scene",
         "showlegend": true,
         "text": [
          "无色"
         ],
         "textfont": {
          "size": 8
         },
         "textposition": "top center",
         "type": "scatter3d",
         "x": [
          -2.085158586502075
         ],
         "y": [
          -0.06917181611061096
         ],
         "z": [
          1.0064163208007812
         ]
        },
        {
         "hovertemplate": "<b>%{hovertext}</b><br><br>Name=%{text}<br>PC1=%{x}<br>PC2=%{y}<br>PC3=%{z}<extra></extra>",
         "hovertext": [
          "空见"
         ],
         "legendgroup": "空见",
         "marker": {
          "color": "#19d3f3",
          "symbol": "circle"
         },
         "mode": "markers+text",
         "name": "空见",
         "scene": "scene",
         "showlegend": true,
         "text": [
          "空见"
         ],
         "textfont": {
          "size": 8
         },
         "textposition": "top center",
         "type": "scatter3d",
         "x": [
          0.020363828167319298
         ],
         "y": [
          0.7906643152236938
         ],
         "z": [
          -1.298543930053711
         ]
        },
        {
         "hovertemplate": "<b>%{hovertext}</b><br><br>Name=%{text}<br>PC1=%{x}<br>PC2=%{y}<br>PC3=%{z}<extra></extra>",
         "hovertext": [
          "觉远"
         ],
         "legendgroup": "觉远",
         "marker": {
          "color": "#FF6692",
          "symbol": "circle"
         },
         "mode": "markers+text",
         "name": "觉远",
         "scene": "scene",
         "showlegend": true,
         "text": [
          "觉远"
         ],
         "textfont": {
          "size": 8
         },
         "textposition": "top center",
         "type": "scatter3d",
         "x": [
          -0.9926015734672546
         ],
         "y": [
          -1.346256971359253
         ],
         "z": [
          -0.12612062692642212
         ]
        },
        {
         "hovertemplate": "<b>%{hovertext}</b><br><br>Name=%{text}<br>PC1=%{x}<br>PC2=%{y}<br>PC3=%{z}<extra></extra>",
         "hovertext": [
          "空性"
         ],
         "legendgroup": "空性",
         "marker": {
          "color": "#B6E880",
          "symbol": "circle"
         },
         "mode": "markers+text",
         "name": "空性",
         "scene": "scene",
         "showlegend": true,
         "text": [
          "空性"
         ],
         "textfont": {
          "size": 8
         },
         "textposition": "top center",
         "type": "scatter3d",
         "x": [
          -0.518634021282196
         ],
         "y": [
          -0.626741349697113
         ],
         "z": [
          -0.6264641880989075
         ]
        },
        {
         "hovertemplate": "<b>%{hovertext}</b><br><br>Name=%{text}<br>PC1=%{x}<br>PC2=%{y}<br>PC3=%{z}<extra></extra>",
         "hovertext": [
          "班淑娴"
         ],
         "legendgroup": "班淑娴",
         "marker": {
          "color": "#FF97FF",
          "symbol": "circle"
         },
         "mode": "markers+text",
         "name": "班淑娴",
         "scene": "scene",
         "showlegend": true,
         "text": [
          "班淑娴"
         ],
         "textfont": {
          "size": 8
         },
         "textposition": "top center",
         "type": "scatter3d",
         "x": [
          -1.6097835302352905
         ],
         "y": [
          1.0897380113601685
         ],
         "z": [
          0.6820110082626343
         ]
        },
        {
         "hovertemplate": "<b>%{hovertext}</b><br><br>Name=%{text}<br>PC1=%{x}<br>PC2=%{y}<br>PC3=%{z}<extra></extra>",
         "hovertext": [
          "西华子"
         ],
         "legendgroup": "西华子",
         "marker": {
          "color": "#FECB52",
          "symbol": "circle"
         },
         "mode": "markers+text",
         "name": "西华子",
         "scene": "scene",
         "showlegend": true,
         "text": [
          "西华子"
         ],
         "textfont": {
          "size": 8
         },
         "textposition": "top center",
         "type": "scatter3d",
         "x": [
          2.210657835006714
         ],
         "y": [
          0.9697799682617188
         ],
         "z": [
          -0.3675750195980072
         ]
        },
        {
         "hovertemplate": "<b>%{hovertext}</b><br><br>Name=%{text}<br>PC1=%{x}<br>PC2=%{y}<br>PC3=%{z}<extra></extra>",
         "hovertext": [
          "史火龙"
         ],
         "legendgroup": "史火龙",
         "marker": {
          "color": "#636efa",
          "symbol": "circle"
         },
         "mode": "markers+text",
         "name": "史火龙",
         "scene": "scene",
         "showlegend": true,
         "text": [
          "史火龙"
         ],
         "textfont": {
          "size": 8
         },
         "textposition": "top center",
         "type": "scatter3d",
         "x": [
          0.19063672423362732
         ],
         "y": [
          1.9173712730407715
         ],
         "z": [
          -0.4906921684741974
         ]
        },
        {
         "hovertemplate": "<b>%{hovertext}</b><br><br>Name=%{text}<br>PC1=%{x}<br>PC2=%{y}<br>PC3=%{z}<extra></extra>",
         "hovertext": [
          "韩林儿"
         ],
         "legendgroup": "韩林儿",
         "marker": {
          "color": "#EF553B",
          "symbol": "circle"
         },
         "mode": "markers+text",
         "name": "韩林儿",
         "scene": "scene",
         "showlegend": true,
         "text": [
          "韩林儿"
         ],
         "textfont": {
          "size": 8
         },
         "textposition": "top center",
         "type": "scatter3d",
         "x": [
          -2.219568967819214
         ],
         "y": [
          -1.6917266845703125
         ],
         "z": [
          -0.1773122102022171
         ]
        },
        {
         "hovertemplate": "<b>%{hovertext}</b><br><br>Name=%{text}<br>PC1=%{x}<br>PC2=%{y}<br>PC3=%{z}<extra></extra>",
         "hovertext": [
          "殷野王"
         ],
         "legendgroup": "殷野王",
         "marker": {
          "color": "#00cc96",
          "symbol": "circle"
         },
         "mode": "markers+text",
         "name": "殷野王",
         "scene": "scene",
         "showlegend": true,
         "text": [
          "殷野王"
         ],
         "textfont": {
          "size": 8
         },
         "textposition": "top center",
         "type": "scatter3d",
         "x": [
          0.9951475262641907
         ],
         "y": [
          -0.35311591625213623
         ],
         "z": [
          -0.8334346413612366
         ]
        },
        {
         "hovertemplate": "<b>%{hovertext}</b><br><br>Name=%{text}<br>PC1=%{x}<br>PC2=%{y}<br>PC3=%{z}<extra></extra>",
         "hovertext": [
          "卫璧"
         ],
         "legendgroup": "卫璧",
         "marker": {
          "color": "#ab63fa",
          "symbol": "circle"
         },
         "mode": "markers+text",
         "name": "卫璧",
         "scene": "scene",
         "showlegend": true,
         "text": [
          "卫璧"
         ],
         "textfont": {
          "size": 8
         },
         "textposition": "top center",
         "type": "scatter3d",
         "x": [
          -1.5703186988830566
         ],
         "y": [
          0.04331953451037407
         ],
         "z": [
          0.04808671772480011
         ]
        },
        {
         "hovertemplate": "<b>%{hovertext}</b><br><br>Name=%{text}<br>PC1=%{x}<br>PC2=%{y}<br>PC3=%{z}<extra></extra>",
         "hovertext": [
          "渡厄"
         ],
         "legendgroup": "渡厄",
         "marker": {
          "color": "#FFA15A",
          "symbol": "circle"
         },
         "mode": "markers+text",
         "name": "渡厄",
         "scene": "scene",
         "showlegend": true,
         "text": [
          "渡厄"
         ],
         "textfont": {
          "size": 8
         },
         "textposition": "top center",
         "type": "scatter3d",
         "x": [
          -1.495346188545227
         ],
         "y": [
          -0.7452369928359985
         ],
         "z": [
          -0.8930954337120056
         ]
        },
        {
         "hovertemplate": "<b>%{hovertext}</b><br><br>Name=%{text}<br>PC1=%{x}<br>PC2=%{y}<br>PC3=%{z}<extra></extra>",
         "hovertext": [
          "白龟寿"
         ],
         "legendgroup": "白龟寿",
         "marker": {
          "color": "#19d3f3",
          "symbol": "circle"
         },
         "mode": "markers+text",
         "name": "白龟寿",
         "scene": "scene",
         "showlegend": true,
         "text": [
          "白龟寿"
         ],
         "textfont": {
          "size": 8
         },
         "textposition": "top center",
         "type": "scatter3d",
         "x": [
          -0.6734018921852112
         ],
         "y": [
          -0.014810645952820778
         ],
         "z": [
          0.23521482944488525
         ]
        },
        {
         "hovertemplate": "<b>%{hovertext}</b><br><br>Name=%{text}<br>PC1=%{x}<br>PC2=%{y}<br>PC3=%{z}<extra></extra>",
         "hovertext": [
          "朱元璋"
         ],
         "legendgroup": "朱元璋",
         "marker": {
          "color": "#FF6692",
          "symbol": "circle"
         },
         "mode": "markers+text",
         "name": "朱元璋",
         "scene": "scene",
         "showlegend": true,
         "text": [
          "朱元璋"
         ],
         "textfont": {
          "size": 8
         },
         "textposition": "top center",
         "type": "scatter3d",
         "x": [
          0.6186224818229675
         ],
         "y": [
          0.6084307432174683
         ],
         "z": [
          -0.20656278729438782
         ]
        },
        {
         "hovertemplate": "<b>%{hovertext}</b><br><br>Name=%{text}<br>PC1=%{x}<br>PC2=%{y}<br>PC3=%{z}<extra></extra>",
         "hovertext": [
          "简捷"
         ],
         "legendgroup": "简捷",
         "marker": {
          "color": "#B6E880",
          "symbol": "circle"
         },
         "mode": "markers+text",
         "name": "简捷",
         "scene": "scene",
         "showlegend": true,
         "text": [
          "简捷"
         ],
         "textfont": {
          "size": 8
         },
         "textposition": "top center",
         "type": "scatter3d",
         "x": [
          0.41747692227363586
         ],
         "y": [
          -1.3711473941802979
         ],
         "z": [
          -1.225252389907837
         ]
        },
        {
         "hovertemplate": "<b>%{hovertext}</b><br><br>Name=%{text}<br>PC1=%{x}<br>PC2=%{y}<br>PC3=%{z}<extra></extra>",
         "hovertext": [
          "掌棒龙头"
         ],
         "legendgroup": "掌棒龙头",
         "marker": {
          "color": "#FF97FF",
          "symbol": "circle"
         },
         "mode": "markers+text",
         "name": "掌棒龙头",
         "scene": "scene",
         "showlegend": true,
         "text": [
          "掌棒龙头"
         ],
         "textfont": {
          "size": 8
         },
         "textposition": "top center",
         "type": "scatter3d",
         "x": [
          0.2674728035926819
         ],
         "y": [
          -2.335566997528076
         ],
         "z": [
          0.27403613924980164
         ]
        },
        {
         "hovertemplate": "<b>%{hovertext}</b><br><br>Name=%{text}<br>PC1=%{x}<br>PC2=%{y}<br>PC3=%{z}<extra></extra>",
         "hovertext": [
          "常金鹏"
         ],
         "legendgroup": "常金鹏",
         "marker": {
          "color": "#FECB52",
          "symbol": "circle"
         },
         "mode": "markers+text",
         "name": "常金鹏",
         "scene": "scene",
         "showlegend": true,
         "text": [
          "常金鹏"
         ],
         "textfont": {
          "size": 8
         },
         "textposition": "top center",
         "type": "scatter3d",
         "x": [
          3.301182985305786
         ],
         "y": [
          1.139617919921875
         ],
         "z": [
          -0.07262847572565079
         ]
        },
        {
         "hovertemplate": "<b>%{hovertext}</b><br><br>Name=%{text}<br>PC1=%{x}<br>PC2=%{y}<br>PC3=%{z}<extra></extra>",
         "hovertext": [
          "鲜于通"
         ],
         "legendgroup": "鲜于通",
         "marker": {
          "color": "#636efa",
          "symbol": "circle"
         },
         "mode": "markers+text",
         "name": "鲜于通",
         "scene": "scene",
         "showlegend": true,
         "text": [
          "鲜于通"
         ],
         "textfont": {
          "size": 8
         },
         "textposition": "top center",
         "type": "scatter3d",
         "x": [
          -0.8156963586807251
         ],
         "y": [
          -0.26815980672836304
         ],
         "z": [
          0.8022501468658447
         ]
        },
        {
         "hovertemplate": "<b>%{hovertext}</b><br><br>Name=%{text}<br>PC1=%{x}<br>PC2=%{y}<br>PC3=%{z}<extra></extra>",
         "hovertext": [
          "高老者"
         ],
         "legendgroup": "高老者",
         "marker": {
          "color": "#EF553B",
          "symbol": "circle"
         },
         "mode": "markers+text",
         "name": "高老者",
         "scene": "scene",
         "showlegend": true,
         "text": [
          "高老者"
         ],
         "textfont": {
          "size": 8
         },
         "textposition": "top center",
         "type": "scatter3d",
         "x": [
          -1.362877607345581
         ],
         "y": [
          1.597204327583313
         ],
         "z": [
          -1.1765333414077759
         ]
        },
        {
         "hovertemplate": "<b>%{hovertext}</b><br><br>Name=%{text}<br>PC1=%{x}<br>PC2=%{y}<br>PC3=%{z}<extra></extra>",
         "hovertext": [
          "王保保"
         ],
         "legendgroup": "王保保",
         "marker": {
          "color": "#00cc96",
          "symbol": "circle"
         },
         "mode": "markers+text",
         "name": "王保保",
         "scene": "scene",
         "showlegend": true,
         "text": [
          "王保保"
         ],
         "textfont": {
          "size": 8
         },
         "textposition": "top center",
         "type": "scatter3d",
         "x": [
          -0.7286361455917358
         ],
         "y": [
          0.19683237373828888
         ],
         "z": [
          -1.0148826837539673
         ]
        },
        {
         "hovertemplate": "<b>%{hovertext}</b><br><br>Name=%{text}<br>PC1=%{x}<br>PC2=%{y}<br>PC3=%{z}<extra></extra>",
         "hovertext": [
          "徐达"
         ],
         "legendgroup": "徐达",
         "marker": {
          "color": "#ab63fa",
          "symbol": "circle"
         },
         "mode": "markers+text",
         "name": "徐达",
         "scene": "scene",
         "showlegend": true,
         "text": [
          "徐达"
         ],
         "textfont": {
          "size": 8
         },
         "textposition": "top center",
         "type": "scatter3d",
         "x": [
          -1.1932355165481567
         ],
         "y": [
          0.24698686599731445
         ],
         "z": [
          -0.521165668964386
         ]
        },
        {
         "hovertemplate": "<b>%{hovertext}</b><br><br>Name=%{text}<br>PC1=%{x}<br>PC2=%{y}<br>PC3=%{z}<extra></extra>",
         "hovertext": [
          "詹春"
         ],
         "legendgroup": "詹春",
         "marker": {
          "color": "#FFA15A",
          "symbol": "circle"
         },
         "mode": "markers+text",
         "name": "詹春",
         "scene": "scene",
         "showlegend": true,
         "text": [
          "詹春"
         ],
         "textfont": {
          "size": 8
         },
         "textposition": "top center",
         "type": "scatter3d",
         "x": [
          -2.226719617843628
         ],
         "y": [
          0.43709230422973633
         ],
         "z": [
          -0.1861044019460678
         ]
        },
        {
         "hovertemplate": "<b>%{hovertext}</b><br><br>Name=%{text}<br>PC1=%{x}<br>PC2=%{y}<br>PC3=%{z}<extra></extra>",
         "hovertext": [
          "武青婴"
         ],
         "legendgroup": "武青婴",
         "marker": {
          "color": "#19d3f3",
          "symbol": "circle"
         },
         "mode": "markers+text",
         "name": "武青婴",
         "scene": "scene",
         "showlegend": true,
         "text": [
          "武青婴"
         ],
         "textfont": {
          "size": 8
         },
         "textposition": "top center",
         "type": "scatter3d",
         "x": [
          0.2163177877664566
         ],
         "y": [
          -2.268510341644287
         ],
         "z": [
          -0.926091730594635
         ]
        },
        {
         "hovertemplate": "<b>%{hovertext}</b><br><br>Name=%{text}<br>PC1=%{x}<br>PC2=%{y}<br>PC3=%{z}<extra></extra>",
         "hovertext": [
          "宗维侠"
         ],
         "legendgroup": "宗维侠",
         "marker": {
          "color": "#FF6692",
          "symbol": "circle"
         },
         "mode": "markers+text",
         "name": "宗维侠",
         "scene": "scene",
         "showlegend": true,
         "text": [
          "宗维侠"
         ],
         "textfont": {
          "size": 8
         },
         "textposition": "top center",
         "type": "scatter3d",
         "x": [
          2.302198648452759
         ],
         "y": [
          -1.8456735610961914
         ],
         "z": [
          -0.23910453915596008
         ]
        },
        {
         "hovertemplate": "<b>%{hovertext}</b><br><br>Name=%{text}<br>PC1=%{x}<br>PC2=%{y}<br>PC3=%{z}<extra></extra>",
         "hovertext": [
          "执法长老"
         ],
         "legendgroup": "执法长老",
         "marker": {
          "color": "#B6E880",
          "symbol": "circle"
         },
         "mode": "markers+text",
         "name": "执法长老",
         "scene": "scene",
         "showlegend": true,
         "text": [
          "执法长老"
         ],
         "textfont": {
          "size": 8
         },
         "textposition": "top center",
         "type": "scatter3d",
         "x": [
          -0.4328889548778534
         ],
         "y": [
          0.6301929354667664
         ],
         "z": [
          -1.3557472229003906
         ]
        },
        {
         "hovertemplate": "<b>%{hovertext}</b><br><br>Name=%{text}<br>PC1=%{x}<br>PC2=%{y}<br>PC3=%{z}<extra></extra>",
         "hovertext": [
          "传功长老"
         ],
         "legendgroup": "传功长老",
         "marker": {
          "color": "#FF97FF",
          "symbol": "circle"
         },
         "mode": "markers+text",
         "name": "传功长老",
         "scene": "scene",
         "showlegend": true,
         "text": [
          "传功长老"
         ],
         "textfont": {
          "size": 8
         },
         "textposition": "top center",
         "type": "scatter3d",
         "x": [
          1.9103038311004639
         ],
         "y": [
          -0.11914526671171188
         ],
         "z": [
          1.07200026512146
         ]
        },
        {
         "hovertemplate": "<b>%{hovertext}</b><br><br>Name=%{text}<br>PC1=%{x}<br>PC2=%{y}<br>PC3=%{z}<extra></extra>",
         "hovertext": [
          "渡难"
         ],
         "legendgroup": "渡难",
         "marker": {
          "color": "#FECB52",
          "symbol": "circle"
         },
         "mode": "markers+text",
         "name": "渡难",
         "scene": "scene",
         "showlegend": true,
         "text": [
          "渡难"
         ],
         "textfont": {
          "size": 8
         },
         "textposition": "top center",
         "type": "scatter3d",
         "x": [
          -0.06646893173456192
         ],
         "y": [
          0.6366103291511536
         ],
         "z": [
          1.9599502086639404
         ]
        },
        {
         "hovertemplate": "<b>%{hovertext}</b><br><br>Name=%{text}<br>PC1=%{x}<br>PC2=%{y}<br>PC3=%{z}<extra></extra>",
         "hovertext": [
          "掌钵龙头"
         ],
         "legendgroup": "掌钵龙头",
         "marker": {
          "color": "#636efa",
          "symbol": "circle"
         },
         "mode": "markers+text",
         "name": "掌钵龙头",
         "scene": "scene",
         "showlegend": true,
         "text": [
          "掌钵龙头"
         ],
         "textfont": {
          "size": 8
         },
         "textposition": "top center",
         "type": "scatter3d",
         "x": [
          -1.1920267343521118
         ],
         "y": [
          1.531397819519043
         ],
         "z": [
          -1.3560259342193604
         ]
        },
        {
         "hovertemplate": "<b>%{hovertext}</b><br><br>Name=%{text}<br>PC1=%{x}<br>PC2=%{y}<br>PC3=%{z}<extra></extra>",
         "hovertext": [
          "阿三"
         ],
         "legendgroup": "阿三",
         "marker": {
          "color": "#EF553B",
          "symbol": "circle"
         },
         "mode": "markers+text",
         "name": "阿三",
         "scene": "scene",
         "showlegend": true,
         "text": [
          "阿三"
         ],
         "textfont": {
          "size": 8
         },
         "textposition": "top center",
         "type": "scatter3d",
         "x": [
          -1.4737924337387085
         ],
         "y": [
          0.8879282474517822
         ],
         "z": [
          1.0056627988815308
         ]
        },
        {
         "hovertemplate": "<b>%{hovertext}</b><br><br>Name=%{text}<br>PC1=%{x}<br>PC2=%{y}<br>PC3=%{z}<extra></extra>",
         "hovertext": [
          "圆音"
         ],
         "legendgroup": "圆音",
         "marker": {
          "color": "#00cc96",
          "symbol": "circle"
         },
         "mode": "markers+text",
         "name": "圆音",
         "scene": "scene",
         "showlegend": true,
         "text": [
          "圆音"
         ],
         "textfont": {
          "size": 8
         },
         "textposition": "top center",
         "type": "scatter3d",
         "x": [
          -0.7165911197662354
         ],
         "y": [
          -1.9638428688049316
         ],
         "z": [
          -1.6578806638717651
         ]
        },
        {
         "hovertemplate": "<b>%{hovertext}</b><br><br>Name=%{text}<br>PC1=%{x}<br>PC2=%{y}<br>PC3=%{z}<extra></extra>",
         "hovertext": [
          "渡劫"
         ],
         "legendgroup": "渡劫",
         "marker": {
          "color": "#ab63fa",
          "symbol": "circle"
         },
         "mode": "markers+text",
         "name": "渡劫",
         "scene": "scene",
         "showlegend": true,
         "text": [
          "渡劫"
         ],
         "textfont": {
          "size": 8
         },
         "textposition": "top center",
         "type": "scatter3d",
         "x": [
          -0.6659456491470337
         ],
         "y": [
          -0.12045850604772568
         ],
         "z": [
          -2.7039389610290527
         ]
        },
        {
         "hovertemplate": "<b>%{hovertext}</b><br><br>Name=%{text}<br>PC1=%{x}<br>PC2=%{y}<br>PC3=%{z}<extra></extra>",
         "hovertext": [
          "矮老者"
         ],
         "legendgroup": "矮老者",
         "marker": {
          "color": "#FFA15A",
          "symbol": "circle"
         },
         "mode": "markers+text",
         "name": "矮老者",
         "scene": "scene",
         "showlegend": true,
         "text": [
          "矮老者"
         ],
         "textfont": {
          "size": 8
         },
         "textposition": "top center",
         "type": "scatter3d",
         "x": [
          -0.26560458540916443
         ],
         "y": [
          0.28638604283332825
         ],
         "z": [
          1.0871576070785522
         ]
        },
        {
         "hovertemplate": "<b>%{hovertext}</b><br><br>Name=%{text}<br>PC1=%{x}<br>PC2=%{y}<br>PC3=%{z}<extra></extra>",
         "hovertext": [
          "妙风使"
         ],
         "legendgroup": "妙风使",
         "marker": {
          "color": "#19d3f3",
          "symbol": "circle"
         },
         "mode": "markers+text",
         "name": "妙风使",
         "scene": "scene",
         "showlegend": true,
         "text": [
          "妙风使"
         ],
         "textfont": {
          "size": 8
         },
         "textposition": "top center",
         "type": "scatter3d",
         "x": [
          -0.22204357385635376
         ],
         "y": [
          0.5327929258346558
         ],
         "z": [
          0.4429028332233429
         ]
        },
        {
         "hovertemplate": "<b>%{hovertext}</b><br><br>Name=%{text}<br>PC1=%{x}<br>PC2=%{y}<br>PC3=%{z}<extra></extra>",
         "hovertext": [
          "薛公远"
         ],
         "legendgroup": "薛公远",
         "marker": {
          "color": "#FF6692",
          "symbol": "circle"
         },
         "mode": "markers+text",
         "name": "薛公远",
         "scene": "scene",
         "showlegend": true,
         "text": [
          "薛公远"
         ],
         "textfont": {
          "size": 8
         },
         "textposition": "top center",
         "type": "scatter3d",
         "x": [
          -1.3802008628845215
         ],
         "y": [
          1.098460078239441
         ],
         "z": [
          1.2571049928665161
         ]
        },
        {
         "hovertemplate": "<b>%{hovertext}</b><br><br>Name=%{text}<br>PC1=%{x}<br>PC2=%{y}<br>PC3=%{z}<extra></extra>",
         "hovertext": [
          "武烈"
         ],
         "legendgroup": "武烈",
         "marker": {
          "color": "#B6E880",
          "symbol": "circle"
         },
         "mode": "markers+text",
         "name": "武烈",
         "scene": "scene",
         "showlegend": true,
         "text": [
          "武烈"
         ],
         "textfont": {
          "size": 8
         },
         "textposition": "top center",
         "type": "scatter3d",
         "x": [
          -0.30071860551834106
         ],
         "y": [
          1.4966201782226562
         ],
         "z": [
          -1.9029786586761475
         ]
        },
        {
         "hovertemplate": "<b>%{hovertext}</b><br><br>Name=%{text}<br>PC1=%{x}<br>PC2=%{y}<br>PC3=%{z}<extra></extra>",
         "hovertext": [
          "阳顶天"
         ],
         "legendgroup": "阳顶天",
         "marker": {
          "color": "#FF97FF",
          "symbol": "circle"
         },
         "mode": "markers+text",
         "name": "阳顶天",
         "scene": "scene",
         "showlegend": true,
         "text": [
          "阳顶天"
         ],
         "textfont": {
          "size": 8
         },
         "textposition": "top center",
         "type": "scatter3d",
         "x": [
          -0.27366694808006287
         ],
         "y": [
          -0.22357039153575897
         ],
         "z": [
          1.2530306577682495
         ]
        },
        {
         "hovertemplate": "<b>%{hovertext}</b><br><br>Name=%{text}<br>PC1=%{x}<br>PC2=%{y}<br>PC3=%{z}<extra></extra>",
         "hovertext": [
          "王难姑"
         ],
         "legendgroup": "王难姑",
         "marker": {
          "color": "#FECB52",
          "symbol": "circle"
         },
         "mode": "markers+text",
         "name": "王难姑",
         "scene": "scene",
         "showlegend": true,
         "text": [
          "王难姑"
         ],
         "textfont": {
          "size": 8
         },
         "textposition": "top center",
         "type": "scatter3d",
         "x": [
          -0.3681428134441376
         ],
         "y": [
          1.39983069896698
         ],
         "z": [
          -1.446410059928894
         ]
        },
        {
         "hovertemplate": "<b>%{hovertext}</b><br><br>Name=%{text}<br>PC1=%{x}<br>PC2=%{y}<br>PC3=%{z}<extra></extra>",
         "hovertext": [
          "冷谦"
         ],
         "legendgroup": "冷谦",
         "marker": {
          "color": "#636efa",
          "symbol": "circle"
         },
         "mode": "markers+text",
         "name": "冷谦",
         "scene": "scene",
         "showlegend": true,
         "text": [
          "冷谦"
         ],
         "textfont": {
          "size": 8
         },
         "textposition": "top center",
         "type": "scatter3d",
         "x": [
          -0.18693126738071442
         ],
         "y": [
          0.9875491857528687
         ],
         "z": [
          -0.26533812284469604
         ]
        },
        {
         "hovertemplate": "<b>%{hovertext}</b><br><br>Name=%{text}<br>PC1=%{x}<br>PC2=%{y}<br>PC3=%{z}<extra></extra>",
         "hovertext": [
          "流云使"
         ],
         "legendgroup": "流云使",
         "marker": {
          "color": "#EF553B",
          "symbol": "circle"
         },
         "mode": "markers+text",
         "name": "流云使",
         "scene": "scene",
         "showlegend": true,
         "text": [
          "流云使"
         ],
         "textfont": {
          "size": 8
         },
         "textposition": "top center",
         "type": "scatter3d",
         "x": [
          1.7622958421707153
         ],
         "y": [
          0.3293849527835846
         ],
         "z": [
          0.480964332818985
         ]
        },
        {
         "hovertemplate": "<b>%{hovertext}</b><br><br>Name=%{text}<br>PC1=%{x}<br>PC2=%{y}<br>PC3=%{z}<extra></extra>",
         "hovertext": [
          "唐文亮"
         ],
         "legendgroup": "唐文亮",
         "marker": {
          "color": "#00cc96",
          "symbol": "circle"
         },
         "mode": "markers+text",
         "name": "唐文亮",
         "scene": "scene",
         "showlegend": true,
         "text": [
          "唐文亮"
         ],
         "textfont": {
          "size": 8
         },
         "textposition": "top center",
         "type": "scatter3d",
         "x": [
          -1.5388342142105103
         ],
         "y": [
          0.0007152376347221434
         ],
         "z": [
          -2.3002803325653076
         ]
        },
        {
         "hovertemplate": "<b>%{hovertext}</b><br><br>Name=%{text}<br>PC1=%{x}<br>PC2=%{y}<br>PC3=%{z}<extra></extra>",
         "hovertext": [
          "吴劲草"
         ],
         "legendgroup": "吴劲草",
         "marker": {
          "color": "#ab63fa",
          "symbol": "circle"
         },
         "mode": "markers+text",
         "name": "吴劲草",
         "scene": "scene",
         "showlegend": true,
         "text": [
          "吴劲草"
         ],
         "textfont": {
          "size": 8
         },
         "textposition": "top center",
         "type": "scatter3d",
         "x": [
          0.2020082175731659
         ],
         "y": [
          0.00405464693903923
         ],
         "z": [
          -0.6699991822242737
         ]
        },
        {
         "hovertemplate": "<b>%{hovertext}</b><br><br>Name=%{text}<br>PC1=%{x}<br>PC2=%{y}<br>PC3=%{z}<extra></extra>",
         "hovertext": [
          "五姑"
         ],
         "legendgroup": "五姑",
         "marker": {
          "color": "#FFA15A",
          "symbol": "circle"
         },
         "mode": "markers+text",
         "name": "五姑",
         "scene": "scene",
         "showlegend": true,
         "text": [
          "五姑"
         ],
         "textfont": {
          "size": 8
         },
         "textposition": "top center",
         "type": "scatter3d",
         "x": [
          -1.1538406610488892
         ],
         "y": [
          -2.8063106536865234
         ],
         "z": [
          -0.4962044358253479
         ]
        },
        {
         "hovertemplate": "<b>%{hovertext}</b><br><br>Name=%{text}<br>PC1=%{x}<br>PC2=%{y}<br>PC3=%{z}<extra></extra>",
         "hovertext": [
          "易三娘"
         ],
         "legendgroup": "易三娘",
         "marker": {
          "color": "#19d3f3",
          "symbol": "circle"
         },
         "mode": "markers+text",
         "name": "易三娘",
         "scene": "scene",
         "showlegend": true,
         "text": [
          "易三娘"
         ],
         "textfont": {
          "size": 8
         },
         "textposition": "top center",
         "type": "scatter3d",
         "x": [
          0.442155659198761
         ],
         "y": [
          2.5127511024475098
         ],
         "z": [
          0.047249045222997665
         ]
        },
        {
         "hovertemplate": "<b>%{hovertext}</b><br><br>Name=%{text}<br>PC1=%{x}<br>PC2=%{y}<br>PC3=%{z}<extra></extra>",
         "hovertext": [
          "司徒千钟"
         ],
         "legendgroup": "司徒千钟",
         "marker": {
          "color": "#FF6692",
          "symbol": "circle"
         },
         "mode": "markers+text",
         "name": "司徒千钟",
         "scene": "scene",
         "showlegend": true,
         "text": [
          "司徒千钟"
         ],
         "textfont": {
          "size": 8
         },
         "textposition": "top center",
         "type": "scatter3d",
         "x": [
          -2.06670880317688
         ],
         "y": [
          -0.9066072702407837
         ],
         "z": [
          0.23168569803237915
         ]
        },
        {
         "hovertemplate": "<b>%{hovertext}</b><br><br>Name=%{text}<br>PC1=%{x}<br>PC2=%{y}<br>PC3=%{z}<extra></extra>",
         "hovertext": [
          "圆业"
         ],
         "legendgroup": "圆业",
         "marker": {
          "color": "#B6E880",
          "symbol": "circle"
         },
         "mode": "markers+text",
         "name": "圆业",
         "scene": "scene",
         "showlegend": true,
         "text": [
          "圆业"
         ],
         "textfont": {
          "size": 8
         },
         "textposition": "top center",
         "type": "scatter3d",
         "x": [
          -0.8246258497238159
         ],
         "y": [
          -0.027705378830432892
         ],
         "z": [
          -0.43602657318115234
         ]
        },
        {
         "hovertemplate": "<b>%{hovertext}</b><br><br>Name=%{text}<br>PC1=%{x}<br>PC2=%{y}<br>PC3=%{z}<extra></extra>",
         "hovertext": [
          "辉月使"
         ],
         "legendgroup": "辉月使",
         "marker": {
          "color": "#FF97FF",
          "symbol": "circle"
         },
         "mode": "markers+text",
         "name": "辉月使",
         "scene": "scene",
         "showlegend": true,
         "text": [
          "辉月使"
         ],
         "textfont": {
          "size": 8
         },
         "textposition": "top center",
         "type": "scatter3d",
         "x": [
          -0.1009029746055603
         ],
         "y": [
          -0.6797300577163696
         ],
         "z": [
          -0.20618140697479248
         ]
        },
        {
         "hovertemplate": "<b>%{hovertext}</b><br><br>Name=%{text}<br>PC1=%{x}<br>PC2=%{y}<br>PC3=%{z}<extra></extra>",
         "hovertext": [
          "苏习之"
         ],
         "legendgroup": "苏习之",
         "marker": {
          "color": "#FECB52",
          "symbol": "circle"
         },
         "mode": "markers+text",
         "name": "苏习之",
         "scene": "scene",
         "showlegend": true,
         "text": [
          "苏习之"
         ],
         "textfont": {
          "size": 8
         },
         "textposition": "top center",
         "type": "scatter3d",
         "x": [
          0.13046517968177795
         ],
         "y": [
          -1.3743339776992798
         ],
         "z": [
          -1.1953614950180054
         ]
        },
        {
         "hovertemplate": "<b>%{hovertext}</b><br><br>Name=%{text}<br>PC1=%{x}<br>PC2=%{y}<br>PC3=%{z}<extra></extra>",
         "hovertext": [
          "姚清泉"
         ],
         "legendgroup": "姚清泉",
         "marker": {
          "color": "#636efa",
          "symbol": "circle"
         },
         "mode": "markers+text",
         "name": "姚清泉",
         "scene": "scene",
         "showlegend": true,
         "text": [
          "姚清泉"
         ],
         "textfont": {
          "size": 8
         },
         "textposition": "top center",
         "type": "scatter3d",
         "x": [
          -0.8346108794212341
         ],
         "y": [
          -0.2647811472415924
         ],
         "z": [
          -0.4167352020740509
         ]
        },
        {
         "hovertemplate": "<b>%{hovertext}</b><br><br>Name=%{text}<br>PC1=%{x}<br>PC2=%{y}<br>PC3=%{z}<extra></extra>",
         "hovertext": [
          "卫天望"
         ],
         "legendgroup": "卫天望",
         "marker": {
          "color": "#EF553B",
          "symbol": "circle"
         },
         "mode": "markers+text",
         "name": "卫天望",
         "scene": "scene",
         "showlegend": true,
         "text": [
          "卫天望"
         ],
         "textfont": {
          "size": 8
         },
         "textposition": "top center",
         "type": "scatter3d",
         "x": [
          0.09271125495433807
         ],
         "y": [
          -0.46919724345207214
         ],
         "z": [
          1.5366438627243042
         ]
        },
        {
         "hovertemplate": "<b>%{hovertext}</b><br><br>Name=%{text}<br>PC1=%{x}<br>PC2=%{y}<br>PC3=%{z}<extra></extra>",
         "hovertext": [
          "夏胄"
         ],
         "legendgroup": "夏胄",
         "marker": {
          "color": "#00cc96",
          "symbol": "circle"
         },
         "mode": "markers+text",
         "name": "夏胄",
         "scene": "scene",
         "showlegend": true,
         "text": [
          "夏胄"
         ],
         "textfont": {
          "size": 8
         },
         "textposition": "top center",
         "type": "scatter3d",
         "x": [
          2.154256582260132
         ],
         "y": [
          0.9235723614692688
         ],
         "z": [
          0.6076023578643799
         ]
        },
        {
         "hovertemplate": "<b>%{hovertext}</b><br><br>Name=%{text}<br>PC1=%{x}<br>PC2=%{y}<br>PC3=%{z}<extra></extra>",
         "hovertext": [
          "潘天耕"
         ],
         "legendgroup": "潘天耕",
         "marker": {
          "color": "#ab63fa",
          "symbol": "circle"
         },
         "mode": "markers+text",
         "name": "潘天耕",
         "scene": "scene",
         "showlegend": true,
         "text": [
          "潘天耕"
         ],
         "textfont": {
          "size": 8
         },
         "textposition": "top center",
         "type": "scatter3d",
         "x": [
          -0.6534867286682129
         ],
         "y": [
          -0.4767059087753296
         ],
         "z": [
          -0.5114271640777588
         ]
        },
        {
         "hovertemplate": "<b>%{hovertext}</b><br><br>Name=%{text}<br>PC1=%{x}<br>PC2=%{y}<br>PC3=%{z}<extra></extra>",
         "hovertext": [
          "阿二"
         ],
         "legendgroup": "阿二",
         "marker": {
          "color": "#FFA15A",
          "symbol": "circle"
         },
         "mode": "markers+text",
         "name": "阿二",
         "scene": "scene",
         "showlegend": true,
         "text": [
          "阿二"
         ],
         "textfont": {
          "size": 8
         },
         "textposition": "top center",
         "type": "scatter3d",
         "x": [
          0.04682572931051254
         ],
         "y": [
          -0.7422052025794983
         ],
         "z": [
          -0.33612290024757385
         ]
        },
        {
         "hovertemplate": "<b>%{hovertext}</b><br><br>Name=%{text}<br>PC1=%{x}<br>PC2=%{y}<br>PC3=%{z}<extra></extra>",
         "hovertext": [
          "明月"
         ],
         "legendgroup": "明月",
         "marker": {
          "color": "#19d3f3",
          "symbol": "circle"
         },
         "mode": "markers+text",
         "name": "明月",
         "scene": "scene",
         "showlegend": true,
         "text": [
          "明月"
         ],
         "textfont": {
          "size": 8
         },
         "textposition": "top center",
         "type": "scatter3d",
         "x": [
          1.1208213567733765
         ],
         "y": [
          0.11409883201122284
         ],
         "z": [
          1.0024977922439575
         ]
        },
        {
         "hovertemplate": "<b>%{hovertext}</b><br><br>Name=%{text}<br>PC1=%{x}<br>PC2=%{y}<br>PC3=%{z}<extra></extra>",
         "hovertext": [
          "祁天彪"
         ],
         "legendgroup": "祁天彪",
         "marker": {
          "color": "#FF6692",
          "symbol": "circle"
         },
         "mode": "markers+text",
         "name": "祁天彪",
         "scene": "scene",
         "showlegend": true,
         "text": [
          "祁天彪"
         ],
         "textfont": {
          "size": 8
         },
         "textposition": "top center",
         "type": "scatter3d",
         "x": [
          -0.14343668520450592
         ],
         "y": [
          0.7331666350364685
         ],
         "z": [
          0.36929455399513245
         ]
        },
        {
         "hovertemplate": "<b>%{hovertext}</b><br><br>Name=%{text}<br>PC1=%{x}<br>PC2=%{y}<br>PC3=%{z}<extra></extra>",
         "hovertext": [
          "杜百当"
         ],
         "legendgroup": "杜百当",
         "marker": {
          "color": "#B6E880",
          "symbol": "circle"
         },
         "mode": "markers+text",
         "name": "杜百当",
         "scene": "scene",
         "showlegend": true,
         "text": [
          "杜百当"
         ],
         "textfont": {
          "size": 8
         },
         "textposition": "top center",
         "type": "scatter3d",
         "x": [
          0.6329478025436401
         ],
         "y": [
          0.6246289014816284
         ],
         "z": [
          -0.5068769454956055
         ]
        },
        {
         "hovertemplate": "<b>%{hovertext}</b><br><br>Name=%{text}<br>PC1=%{x}<br>PC2=%{y}<br>PC3=%{z}<extra></extra>",
         "hovertext": [
          "殷无福"
         ],
         "legendgroup": "殷无福",
         "marker": {
          "color": "#FF97FF",
          "symbol": "circle"
         },
         "mode": "markers+text",
         "name": "殷无福",
         "scene": "scene",
         "showlegend": true,
         "text": [
          "殷无福"
         ],
         "textfont": {
          "size": 8
         },
         "textposition": "top center",
         "type": "scatter3d",
         "x": [
          1.0430251359939575
         ],
         "y": [
          1.8941980600357056
         ],
         "z": [
          -1.1876721382141113
         ]
        },
        {
         "hovertemplate": "<b>%{hovertext}</b><br><br>Name=%{text}<br>PC1=%{x}<br>PC2=%{y}<br>PC3=%{z}<extra></extra>",
         "hovertext": [
          "贝锦仪"
         ],
         "legendgroup": "贝锦仪",
         "marker": {
          "color": "#FECB52",
          "symbol": "circle"
         },
         "mode": "markers+text",
         "name": "贝锦仪",
         "scene": "scene",
         "showlegend": true,
         "text": [
          "贝锦仪"
         ],
         "textfont": {
          "size": 8
         },
         "textposition": "top center",
         "type": "scatter3d",
         "x": [
          1.5013391971588135
         ],
         "y": [
          1.3262810707092285
         ],
         "z": [
          -0.5426540970802307
         ]
        },
        {
         "hovertemplate": "<b>%{hovertext}</b><br><br>Name=%{text}<br>PC1=%{x}<br>PC2=%{y}<br>PC3=%{z}<extra></extra>",
         "hovertext": [
          "常敬之"
         ],
         "legendgroup": "常敬之",
         "marker": {
          "color": "#636efa",
          "symbol": "circle"
         },
         "mode": "markers+text",
         "name": "常敬之",
         "scene": "scene",
         "showlegend": true,
         "text": [
          "常敬之"
         ],
         "textfont": {
          "size": 8
         },
         "textposition": "top center",
         "type": "scatter3d",
         "x": [
          0.1603977084159851
         ],
         "y": [
          0.6908298134803772
         ],
         "z": [
          -1.8345898389816284
         ]
        },
        {
         "hovertemplate": "<b>%{hovertext}</b><br><br>Name=%{text}<br>PC1=%{x}<br>PC2=%{y}<br>PC3=%{z}<extra></extra>",
         "hovertext": [
          "高则成"
         ],
         "legendgroup": "高则成",
         "marker": {
          "color": "#EF553B",
          "symbol": "circle"
         },
         "mode": "markers+text",
         "name": "高则成",
         "scene": "scene",
         "showlegend": true,
         "text": [
          "高则成"
         ],
         "textfont": {
          "size": 8
         },
         "textposition": "top center",
         "type": "scatter3d",
         "x": [
          1.8013564348220825
         ],
         "y": [
          -0.4007587432861328
         ],
         "z": [
          0.4615737795829773
         ]
        },
        {
         "hovertemplate": "<b>%{hovertext}</b><br><br>Name=%{text}<br>PC1=%{x}<br>PC2=%{y}<br>PC3=%{z}<extra></extra>",
         "hovertext": [
          "乔福"
         ],
         "legendgroup": "乔福",
         "marker": {
          "color": "#00cc96",
          "symbol": "circle"
         },
         "mode": "markers+text",
         "name": "乔福",
         "scene": "scene",
         "showlegend": true,
         "text": [
          "乔福"
         ],
         "textfont": {
          "size": 8
         },
         "textposition": "top center",
         "type": "scatter3d",
         "x": [
          0.9502913951873779
         ],
         "y": [
          0.6451864242553711
         ],
         "z": [
          -1.093096375465393
         ]
        },
        {
         "hovertemplate": "<b>%{hovertext}</b><br><br>Name=%{text}<br>PC1=%{x}<br>PC2=%{y}<br>PC3=%{z}<extra></extra>",
         "hovertext": [
          "史红石"
         ],
         "legendgroup": "史红石",
         "marker": {
          "color": "#ab63fa",
          "symbol": "circle"
         },
         "mode": "markers+text",
         "name": "史红石",
         "scene": "scene",
         "showlegend": true,
         "text": [
          "史红石"
         ],
         "textfont": {
          "size": 8
         },
         "textposition": "top center",
         "type": "scatter3d",
         "x": [
          -0.7085164189338684
         ],
         "y": [
          0.00741250766441226
         ],
         "z": [
          -1.5217723846435547
         ]
        },
        {
         "hovertemplate": "<b>%{hovertext}</b><br><br>Name=%{text}<br>PC1=%{x}<br>PC2=%{y}<br>PC3=%{z}<extra></extra>",
         "hovertext": [
          "殷无禄"
         ],
         "legendgroup": "殷无禄",
         "marker": {
          "color": "#FFA15A",
          "symbol": "circle"
         },
         "mode": "markers+text",
         "name": "殷无禄",
         "scene": "scene",
         "showlegend": true,
         "text": [
          "殷无禄"
         ],
         "textfont": {
          "size": 8
         },
         "textposition": "top center",
         "type": "scatter3d",
         "x": [
          -0.787445068359375
         ],
         "y": [
          0.8220857977867126
         ],
         "z": [
          1.3256986141204834
         ]
        },
        {
         "hovertemplate": "<b>%{hovertext}</b><br><br>Name=%{text}<br>PC1=%{x}<br>PC2=%{y}<br>PC3=%{z}<extra></extra>",
         "hovertext": [
          "郑长老"
         ],
         "legendgroup": "郑长老",
         "marker": {
          "color": "#19d3f3",
          "symbol": "circle"
         },
         "mode": "markers+text",
         "name": "郑长老",
         "scene": "scene",
         "showlegend": true,
         "text": [
          "郑长老"
         ],
         "textfont": {
          "size": 8
         },
         "textposition": "top center",
         "type": "scatter3d",
         "x": [
          1.1834628582000732
         ],
         "y": [
          -0.23428165912628174
         ],
         "z": [
          1.4386810064315796
         ]
        },
        {
         "hovertemplate": "<b>%{hovertext}</b><br><br>Name=%{text}<br>PC1=%{x}<br>PC2=%{y}<br>PC3=%{z}<extra></extra>",
         "hovertext": [
          "韩千叶"
         ],
         "legendgroup": "韩千叶",
         "marker": {
          "color": "#FF6692",
          "symbol": "circle"
         },
         "mode": "markers+text",
         "name": "韩千叶",
         "scene": "scene",
         "showlegend": true,
         "text": [
          "韩千叶"
         ],
         "textfont": {
          "size": 8
         },
         "textposition": "top center",
         "type": "scatter3d",
         "x": [
          -0.1393299251794815
         ],
         "y": [
          -0.14025232195854187
         ],
         "z": [
          0.20125915110111237
         ]
        },
        {
         "hovertemplate": "<b>%{hovertext}</b><br><br>Name=%{text}<br>PC1=%{x}<br>PC2=%{y}<br>PC3=%{z}<extra></extra>",
         "hovertext": [
          "静慧"
         ],
         "legendgroup": "静慧",
         "marker": {
          "color": "#B6E880",
          "symbol": "circle"
         },
         "mode": "markers+text",
         "name": "静慧",
         "scene": "scene",
         "showlegend": true,
         "text": [
          "静慧"
         ],
         "textfont": {
          "size": 8
         },
         "textposition": "top center",
         "type": "scatter3d",
         "x": [
          0.7455781698226929
         ],
         "y": [
          1.4280380010604858
         ],
         "z": [
          -1.4538438320159912
         ]
        },
        {
         "hovertemplate": "<b>%{hovertext}</b><br><br>Name=%{text}<br>PC1=%{x}<br>PC2=%{y}<br>PC3=%{z}<extra></extra>",
         "hovertext": [
          "卫四娘"
         ],
         "legendgroup": "卫四娘",
         "marker": {
          "color": "#FF97FF",
          "symbol": "circle"
         },
         "mode": "markers+text",
         "name": "卫四娘",
         "scene": "scene",
         "showlegend": true,
         "text": [
          "卫四娘"
         ],
         "textfont": {
          "size": 8
         },
         "textposition": "top center",
         "type": "scatter3d",
         "x": [
          -0.17314335703849792
         ],
         "y": [
          -1.0606024265289307
         ],
         "z": [
          0.9742450714111328
         ]
        },
        {
         "hovertemplate": "<b>%{hovertext}</b><br><br>Name=%{text}<br>PC1=%{x}<br>PC2=%{y}<br>PC3=%{z}<extra></extra>",
         "hovertext": [
          "方天劳"
         ],
         "legendgroup": "方天劳",
         "marker": {
          "color": "#FECB52",
          "symbol": "circle"
         },
         "mode": "markers+text",
         "name": "方天劳",
         "scene": "scene",
         "showlegend": true,
         "text": [
          "方天劳"
         ],
         "textfont": {
          "size": 8
         },
         "textposition": "top center",
         "type": "scatter3d",
         "x": [
          1.4721626043319702
         ],
         "y": [
          1.8433332443237305
         ],
         "z": [
          1.3490118980407715
         ]
        },
        {
         "hovertemplate": "<b>%{hovertext}</b><br><br>Name=%{text}<br>PC1=%{x}<br>PC2=%{y}<br>PC3=%{z}<extra></extra>",
         "hovertext": [
          "云鹤"
         ],
         "legendgroup": "云鹤",
         "marker": {
          "color": "#636efa",
          "symbol": "circle"
         },
         "mode": "markers+text",
         "name": "云鹤",
         "scene": "scene",
         "showlegend": true,
         "text": [
          "云鹤"
         ],
         "textfont": {
          "size": 8
         },
         "textposition": "top center",
         "type": "scatter3d",
         "x": [
          -0.0387851819396019
         ],
         "y": [
          1.241892695426941
         ],
         "z": [
          -0.02358906716108322
         ]
        },
        {
         "hovertemplate": "<b>%{hovertext}</b><br><br>Name=%{text}<br>PC1=%{x}<br>PC2=%{y}<br>PC3=%{z}<extra></extra>",
         "hovertext": [
          "邓愈"
         ],
         "legendgroup": "邓愈",
         "marker": {
          "color": "#EF553B",
          "symbol": "circle"
         },
         "mode": "markers+text",
         "name": "邓愈",
         "scene": "scene",
         "showlegend": true,
         "text": [
          "邓愈"
         ],
         "textfont": {
          "size": 8
         },
         "textposition": "top center",
         "type": "scatter3d",
         "x": [
          -1.8178277015686035
         ],
         "y": [
          0.16788743436336517
         ],
         "z": [
          -0.25563058257102966
         ]
        },
        {
         "hovertemplate": "<b>%{hovertext}</b><br><br>Name=%{text}<br>PC1=%{x}<br>PC2=%{y}<br>PC3=%{z}<extra></extra>",
         "hovertext": [
          "马法通"
         ],
         "legendgroup": "马法通",
         "marker": {
          "color": "#00cc96",
          "symbol": "circle"
         },
         "mode": "markers+text",
         "name": "马法通",
         "scene": "scene",
         "showlegend": true,
         "text": [
          "马法通"
         ],
         "textfont": {
          "size": 8
         },
         "textposition": "top center",
         "type": "scatter3d",
         "x": [
          -1.3278213739395142
         ],
         "y": [
          0.30770599842071533
         ],
         "z": [
          1.168493390083313
         ]
        },
        {
         "hovertemplate": "<b>%{hovertext}</b><br><br>Name=%{text}<br>PC1=%{x}<br>PC2=%{y}<br>PC3=%{z}<extra></extra>",
         "hovertext": [
          "麦鲸"
         ],
         "legendgroup": "麦鲸",
         "marker": {
          "color": "#ab63fa",
          "symbol": "circle"
         },
         "mode": "markers+text",
         "name": "麦鲸",
         "scene": "scene",
         "showlegend": true,
         "text": [
          "麦鲸"
         ],
         "textfont": {
          "size": 8
         },
         "textposition": "top center",
         "type": "scatter3d",
         "x": [
          0.02137444168329239
         ],
         "y": [
          0.4689507484436035
         ],
         "z": [
          -0.35033175349235535
         ]
        },
        {
         "hovertemplate": "<b>%{hovertext}</b><br><br>Name=%{text}<br>PC1=%{x}<br>PC2=%{y}<br>PC3=%{z}<extra></extra>",
         "hovertext": [
          "泉建男"
         ],
         "legendgroup": "泉建男",
         "marker": {
          "color": "#FFA15A",
          "symbol": "circle"
         },
         "mode": "markers+text",
         "name": "泉建男",
         "scene": "scene",
         "showlegend": true,
         "text": [
          "泉建男"
         ],
         "textfont": {
          "size": 8
         },
         "textposition": "top center",
         "type": "scatter3d",
         "x": [
          -1.8936922550201416
         ],
         "y": [
          -0.45522892475128174
         ],
         "z": [
          -0.007335892878472805
         ]
        },
        {
         "hovertemplate": "<b>%{hovertext}</b><br><br>Name=%{text}<br>PC1=%{x}<br>PC2=%{y}<br>PC3=%{z}<extra></extra>",
         "hovertext": [
          "乌旺阿普"
         ],
         "legendgroup": "乌旺阿普",
         "marker": {
          "color": "#19d3f3",
          "symbol": "circle"
         },
         "mode": "markers+text",
         "name": "乌旺阿普",
         "scene": "scene",
         "showlegend": true,
         "text": [
          "乌旺阿普"
         ],
         "textfont": {
          "size": 8
         },
         "textposition": "top center",
         "type": "scatter3d",
         "x": [
          1.1157286167144775
         ],
         "y": [
          -0.0663631334900856
         ],
         "z": [
          0.25532156229019165
         ]
        },
        {
         "hovertemplate": "<b>%{hovertext}</b><br><br>Name=%{text}<br>PC1=%{x}<br>PC2=%{y}<br>PC3=%{z}<extra></extra>",
         "hovertext": [
          "方东白"
         ],
         "legendgroup": "方东白",
         "marker": {
          "color": "#FF6692",
          "symbol": "circle"
         },
         "mode": "markers+text",
         "name": "方东白",
         "scene": "scene",
         "showlegend": true,
         "text": [
          "方东白"
         ],
         "textfont": {
          "size": 8
         },
         "textposition": "top center",
         "type": "scatter3d",
         "x": [
          0.8690653443336487
         ],
         "y": [
          -1.0704785585403442
         ],
         "z": [
          -0.23029612004756927
         ]
        },
        {
         "hovertemplate": "<b>%{hovertext}</b><br><br>Name=%{text}<br>PC1=%{x}<br>PC2=%{y}<br>PC3=%{z}<extra></extra>",
         "hovertext": [
          "静玄师太"
         ],
         "legendgroup": "静玄师太",
         "marker": {
          "color": "#B6E880",
          "symbol": "circle"
         },
         "mode": "markers+text",
         "name": "静玄师太",
         "scene": "scene",
         "showlegend": true,
         "text": [
          "静玄师太"
         ],
         "textfont": {
          "size": 8
         },
         "textposition": "top center",
         "type": "scatter3d",
         "x": [
          1.5747050046920776
         ],
         "y": [
          1.252353549003601
         ],
         "z": [
          1.6798168420791626
         ]
        },
        {
         "hovertemplate": "<b>%{hovertext}</b><br><br>Name=%{text}<br>PC1=%{x}<br>PC2=%{y}<br>PC3=%{z}<extra></extra>",
         "hovertext": [
          "麦少帮主"
         ],
         "legendgroup": "麦少帮主",
         "marker": {
          "color": "#FF97FF",
          "symbol": "circle"
         },
         "mode": "markers+text",
         "name": "麦少帮主",
         "scene": "scene",
         "showlegend": true,
         "text": [
          "麦少帮主"
         ],
         "textfont": {
          "size": 8
         },
         "textposition": "top center",
         "type": "scatter3d",
         "x": [
          0.7457611560821533
         ],
         "y": [
          -0.7214245200157166
         ],
         "z": [
          -1.730595588684082
         ]
        },
        {
         "hovertemplate": "<b>%{hovertext}</b><br><br>Name=%{text}<br>PC1=%{x}<br>PC2=%{y}<br>PC3=%{z}<extra></extra>",
         "hovertext": [
          "小凤"
         ],
         "legendgroup": "小凤",
         "marker": {
          "color": "#FECB52",
          "symbol": "circle"
         },
         "mode": "markers+text",
         "name": "小凤",
         "scene": "scene",
         "showlegend": true,
         "text": [
          "小凤"
         ],
         "textfont": {
          "size": 8
         },
         "textposition": "top center",
         "type": "scatter3d",
         "x": [
          -0.9426711797714233
         ],
         "y": [
          0.9449434876441956
         ],
         "z": [
          -0.6823379397392273
         ]
        },
        {
         "hovertemplate": "<b>%{hovertext}</b><br><br>Name=%{text}<br>PC1=%{x}<br>PC2=%{y}<br>PC3=%{z}<extra></extra>",
         "hovertext": [
          "殷无寿"
         ],
         "legendgroup": "殷无寿",
         "marker": {
          "color": "#636efa",
          "symbol": "circle"
         },
         "mode": "markers+text",
         "name": "殷无寿",
         "scene": "scene",
         "showlegend": true,
         "text": [
          "殷无寿"
         ],
         "textfont": {
          "size": 8
         },
         "textposition": "top center",
         "type": "scatter3d",
         "x": [
          0.526324987411499
         ],
         "y": [
          -0.5866471529006958
         ],
         "z": [
          0.7550874352455139
         ]
        },
        {
         "hovertemplate": "<b>%{hovertext}</b><br><br>Name=%{text}<br>PC1=%{x}<br>PC2=%{y}<br>PC3=%{z}<extra></extra>",
         "hovertext": [
          "程坛主"
         ],
         "legendgroup": "程坛主",
         "marker": {
          "color": "#EF553B",
          "symbol": "circle"
         },
         "mode": "markers+text",
         "name": "程坛主",
         "scene": "scene",
         "showlegend": true,
         "text": [
          "程坛主"
         ],
         "textfont": {
          "size": 8
         },
         "textposition": "top center",
         "type": "scatter3d",
         "x": [
          0.26206257939338684
         ],
         "y": [
          -1.313997745513916
         ],
         "z": [
          -0.8772475123405457
         ]
        },
        {
         "hovertemplate": "<b>%{hovertext}</b><br><br>Name=%{text}<br>PC1=%{x}<br>PC2=%{y}<br>PC3=%{z}<extra></extra>",
         "hovertext": [
          "封坛主"
         ],
         "legendgroup": "封坛主",
         "marker": {
          "color": "#00cc96",
          "symbol": "circle"
         },
         "mode": "markers+text",
         "name": "封坛主",
         "scene": "scene",
         "showlegend": true,
         "text": [
          "封坛主"
         ],
         "textfont": {
          "size": 8
         },
         "textposition": "top center",
         "type": "scatter3d",
         "x": [
          -1.1470049619674683
         ],
         "y": [
          0.25146663188934326
         ],
         "z": [
          -2.0053510665893555
         ]
        },
        {
         "hovertemplate": "<b>%{hovertext}</b><br><br>Name=%{text}<br>PC1=%{x}<br>PC2=%{y}<br>PC3=%{z}<extra></extra>",
         "hovertext": [
          "寿南山"
         ],
         "legendgroup": "寿南山",
         "marker": {
          "color": "#ab63fa",
          "symbol": "circle"
         },
         "mode": "markers+text",
         "name": "寿南山",
         "scene": "scene",
         "showlegend": true,
         "text": [
          "寿南山"
         ],
         "textfont": {
          "size": 8
         },
         "textposition": "top center",
         "type": "scatter3d",
         "x": [
          -0.5623524785041809
         ],
         "y": [
          0.9524675607681274
         ],
         "z": [
          2.079484701156616
         ]
        },
        {
         "hovertemplate": "<b>%{hovertext}</b><br><br>Name=%{text}<br>PC1=%{x}<br>PC2=%{y}<br>PC3=%{z}<extra></extra>",
         "hovertext": [
          "辛然"
         ],
         "legendgroup": "辛然",
         "marker": {
          "color": "#FFA15A",
          "symbol": "circle"
         },
         "mode": "markers+text",
         "name": "辛然",
         "scene": "scene",
         "showlegend": true,
         "text": [
          "辛然"
         ],
         "textfont": {
          "size": 8
         },
         "textposition": "top center",
         "type": "scatter3d",
         "x": [
          -0.1925187110900879
         ],
         "y": [
          -0.9948295950889587
         ],
         "z": [
          1.8593062162399292
         ]
        },
        {
         "hovertemplate": "<b>%{hovertext}</b><br><br>Name=%{text}<br>PC1=%{x}<br>PC2=%{y}<br>PC3=%{z}<extra></extra>",
         "hovertext": [
          "圆心"
         ],
         "legendgroup": "圆心",
         "marker": {
          "color": "#19d3f3",
          "symbol": "circle"
         },
         "mode": "markers+text",
         "name": "圆心",
         "scene": "scene",
         "showlegend": true,
         "text": [
          "圆心"
         ],
         "textfont": {
          "size": 8
         },
         "textposition": "top center",
         "type": "scatter3d",
         "x": [
          -0.5889390110969543
         ],
         "y": [
          0.5345337986946106
         ],
         "z": [
          0.15092292428016663
         ]
        },
        {
         "hovertemplate": "<b>%{hovertext}</b><br><br>Name=%{text}<br>PC1=%{x}<br>PC2=%{y}<br>PC3=%{z}<extra></extra>",
         "hovertext": [
          "德成"
         ],
         "legendgroup": "德成",
         "marker": {
          "color": "#FF6692",
          "symbol": "circle"
         },
         "mode": "markers+text",
         "name": "德成",
         "scene": "scene",
         "showlegend": true,
         "text": [
          "德成"
         ],
         "textfont": {
          "size": 8
         },
         "textposition": "top center",
         "type": "scatter3d",
         "x": [
          0.8764570355415344
         ],
         "y": [
          -1.0726748704910278
         ],
         "z": [
          -0.04983854293823242
         ]
        },
        {
         "hovertemplate": "<b>%{hovertext}</b><br><br>Name=%{text}<br>PC1=%{x}<br>PC2=%{y}<br>PC3=%{z}<extra></extra>",
         "hovertext": [
          "宫九佳"
         ],
         "legendgroup": "宫九佳",
         "marker": {
          "color": "#B6E880",
          "symbol": "circle"
         },
         "mode": "markers+text",
         "name": "宫九佳",
         "scene": "scene",
         "showlegend": true,
         "text": [
          "宫九佳"
         ],
         "textfont": {
          "size": 8
         },
         "textposition": "top center",
         "type": "scatter3d",
         "x": [
          -1.2472623586654663
         ],
         "y": [
          0.21688681840896606
         ],
         "z": [
          0.3819240629673004
         ]
        },
        {
         "hovertemplate": "<b>%{hovertext}</b><br><br>Name=%{text}<br>PC1=%{x}<br>PC2=%{y}<br>PC3=%{z}<extra></extra>",
         "hovertext": [
          "过三拳"
         ],
         "legendgroup": "过三拳",
         "marker": {
          "color": "#FF97FF",
          "symbol": "circle"
         },
         "mode": "markers+text",
         "name": "过三拳",
         "scene": "scene",
         "showlegend": true,
         "text": [
          "过三拳"
         ],
         "textfont": {
          "size": 8
         },
         "textposition": "top center",
         "type": "scatter3d",
         "x": [
          0.19678734242916107
         ],
         "y": [
          1.0483206510543823
         ],
         "z": [
          1.4721060991287231
         ]
        },
        {
         "hovertemplate": "<b>%{hovertext}</b><br><br>Name=%{text}<br>PC1=%{x}<br>PC2=%{y}<br>PC3=%{z}<extra></extra>",
         "hovertext": [
          "贺老三"
         ],
         "legendgroup": "贺老三",
         "marker": {
          "color": "#FECB52",
          "symbol": "circle"
         },
         "mode": "markers+text",
         "name": "贺老三",
         "scene": "scene",
         "showlegend": true,
         "text": [
          "贺老三"
         ],
         "textfont": {
          "size": 8
         },
         "textposition": "top center",
         "type": "scatter3d",
         "x": [
          0.5830646753311157
         ],
         "y": [
          -0.12234853208065033
         ],
         "z": [
          -0.019774537533521652
         ]
        },
        {
         "hovertemplate": "<b>%{hovertext}</b><br><br>Name=%{text}<br>PC1=%{x}<br>PC2=%{y}<br>PC3=%{z}<extra></extra>",
         "hovertext": [
          "花云"
         ],
         "legendgroup": "花云",
         "marker": {
          "color": "#636efa",
          "symbol": "circle"
         },
         "mode": "markers+text",
         "name": "花云",
         "scene": "scene",
         "showlegend": true,
         "text": [
          "花云"
         ],
         "textfont": {
          "size": 8
         },
         "textposition": "top center",
         "type": "scatter3d",
         "x": [
          -1.0832589864730835
         ],
         "y": [
          -0.46528083086013794
         ],
         "z": [
          1.1636691093444824
         ]
        },
        {
         "hovertemplate": "<b>%{hovertext}</b><br><br>Name=%{text}<br>PC1=%{x}<br>PC2=%{y}<br>PC3=%{z}<extra></extra>",
         "hovertext": [
          "孙三毁"
         ],
         "legendgroup": "孙三毁",
         "marker": {
          "color": "#EF553B",
          "symbol": "circle"
         },
         "mode": "markers+text",
         "name": "孙三毁",
         "scene": "scene",
         "showlegend": true,
         "text": [
          "孙三毁"
         ],
         "textfont": {
          "size": 8
         },
         "textposition": "top center",
         "type": "scatter3d",
         "x": [
          1.1125949621200562
         ],
         "y": [
          -0.35451534390449524
         ],
         "z": [
          0.2147447019815445
         ]
        },
        {
         "hovertemplate": "<b>%{hovertext}</b><br><br>Name=%{text}<br>PC1=%{x}<br>PC2=%{y}<br>PC3=%{z}<extra></extra>",
         "hovertext": [
          "哈总管"
         ],
         "legendgroup": "哈总管",
         "marker": {
          "color": "#00cc96",
          "symbol": "circle"
         },
         "mode": "markers+text",
         "name": "哈总管",
         "scene": "scene",
         "showlegend": true,
         "text": [
          "哈总管"
         ],
         "textfont": {
          "size": 8
         },
         "textposition": "top center",
         "type": "scatter3d",
         "x": [
          2.1095123291015625
         ],
         "y": [
          -0.9456073641777039
         ],
         "z": [
          -1.0654330253601074
         ]
        },
        {
         "hovertemplate": "<b>%{hovertext}</b><br><br>Name=%{text}<br>PC1=%{x}<br>PC2=%{y}<br>PC3=%{z}<extra></extra>",
         "hovertext": [
          "秦老五"
         ],
         "legendgroup": "秦老五",
         "marker": {
          "color": "#ab63fa",
          "symbol": "circle"
         },
         "mode": "markers+text",
         "name": "秦老五",
         "scene": "scene",
         "showlegend": true,
         "text": [
          "秦老五"
         ],
         "textfont": {
          "size": 8
         },
         "textposition": "top center",
         "type": "scatter3d",
         "x": [
          0.27443885803222656
         ],
         "y": [
          -1.2822623252868652
         ],
         "z": [
          1.0399131774902344
         ]
        },
        {
         "hovertemplate": "<b>%{hovertext}</b><br><br>Name=%{text}<br>PC1=%{x}<br>PC2=%{y}<br>PC3=%{z}<extra></extra>",
         "hovertext": [
          "吴良"
         ],
         "legendgroup": "吴良",
         "marker": {
          "color": "#FFA15A",
          "symbol": "circle"
         },
         "mode": "markers+text",
         "name": "吴良",
         "scene": "scene",
         "showlegend": true,
         "text": [
          "吴良"
         ],
         "textfont": {
          "size": 8
         },
         "textposition": "top center",
         "type": "scatter3d",
         "x": [
          -1.3510727882385254
         ],
         "y": [
          -0.08899660408496857
         ],
         "z": [
          1.7078895568847656
         ]
        },
        {
         "hovertemplate": "<b>%{hovertext}</b><br><br>Name=%{text}<br>PC1=%{x}<br>PC2=%{y}<br>PC3=%{z}<extra></extra>",
         "hovertext": [
          "静迦"
         ],
         "legendgroup": "静迦",
         "marker": {
          "color": "#19d3f3",
          "symbol": "circle"
         },
         "mode": "markers+text",
         "name": "静迦",
         "scene": "scene",
         "showlegend": true,
         "text": [
          "静迦"
         ],
         "textfont": {
          "size": 8
         },
         "textposition": "top center",
         "type": "scatter3d",
         "x": [
          0.8633947372436523
         ],
         "y": [
          0.9344779849052429
         ],
         "z": [
          -2.752230167388916
         ]
        },
        {
         "hovertemplate": "<b>%{hovertext}</b><br><br>Name=%{text}<br>PC1=%{x}<br>PC2=%{y}<br>PC3=%{z}<extra></extra>",
         "hovertext": [
          "静虚师太"
         ],
         "legendgroup": "静虚师太",
         "marker": {
          "color": "#FF6692",
          "symbol": "circle"
         },
         "mode": "markers+text",
         "name": "静虚师太",
         "scene": "scene",
         "showlegend": true,
         "text": [
          "静虚师太"
         ],
         "textfont": {
          "size": 8
         },
         "textposition": "top center",
         "type": "scatter3d",
         "x": [
          1.3221157789230347
         ],
         "y": [
          0.46930915117263794
         ],
         "z": [
          0.4604433476924896
         ]
        },
        {
         "hovertemplate": "<b>%{hovertext}</b><br><br>Name=%{text}<br>PC1=%{x}<br>PC2=%{y}<br>PC3=%{z}<extra></extra>",
         "hovertext": [
          "静照"
         ],
         "legendgroup": "静照",
         "marker": {
          "color": "#B6E880",
          "symbol": "circle"
         },
         "mode": "markers+text",
         "name": "静照",
         "scene": "scene",
         "showlegend": true,
         "text": [
          "静照"
         ],
         "textfont": {
          "size": 8
         },
         "textposition": "top center",
         "type": "scatter3d",
         "x": [
          -0.5785863399505615
         ],
         "y": [
          1.9692542552947998
         ],
         "z": [
          0.7627769112586975
         ]
        },
        {
         "hovertemplate": "<b>%{hovertext}</b><br><br>Name=%{text}<br>PC1=%{x}<br>PC2=%{y}<br>PC3=%{z}<extra></extra>",
         "hovertext": [
          "李四摧"
         ],
         "legendgroup": "李四摧",
         "marker": {
          "color": "#FF97FF",
          "symbol": "circle"
         },
         "mode": "markers+text",
         "name": "李四摧",
         "scene": "scene",
         "showlegend": true,
         "text": [
          "李四摧"
         ],
         "textfont": {
          "size": 8
         },
         "textposition": "top center",
         "type": "scatter3d",
         "x": [
          1.1394200325012207
         ],
         "y": [
          -0.36922159790992737
         ],
         "z": [
          0.5347262024879456
         ]
        },
        {
         "hovertemplate": "<b>%{hovertext}</b><br><br>Name=%{text}<br>PC1=%{x}<br>PC2=%{y}<br>PC3=%{z}<extra></extra>",
         "hovertext": [
          "孟正鸿"
         ],
         "legendgroup": "孟正鸿",
         "marker": {
          "color": "#FECB52",
          "symbol": "circle"
         },
         "mode": "markers+text",
         "name": "孟正鸿",
         "scene": "scene",
         "showlegend": true,
         "text": [
          "孟正鸿"
         ],
         "textfont": {
          "size": 8
         },
         "textposition": "top center",
         "type": "scatter3d",
         "x": [
          0.9070738554000854
         ],
         "y": [
          -1.5305063724517822
         ],
         "z": [
          0.5216555595397949
         ]
        },
        {
         "hovertemplate": "<b>%{hovertext}</b><br><br>Name=%{text}<br>PC1=%{x}<br>PC2=%{y}<br>PC3=%{z}<extra></extra>",
         "hovertext": [
          "邵鹤"
         ],
         "legendgroup": "邵鹤",
         "marker": {
          "color": "#636efa",
          "symbol": "circle"
         },
         "mode": "markers+text",
         "name": "邵鹤",
         "scene": "scene",
         "showlegend": true,
         "text": [
          "邵鹤"
         ],
         "textfont": {
          "size": 8
         },
         "textposition": "top center",
         "type": "scatter3d",
         "x": [
          1.028273344039917
         ],
         "y": [
          0.9045352935791016
         ],
         "z": [
          -1.2339907884597778
         ]
        },
        {
         "hovertemplate": "<b>%{hovertext}</b><br><br>Name=%{text}<br>PC1=%{x}<br>PC2=%{y}<br>PC3=%{z}<extra></extra>",
         "hovertext": [
          "元广波"
         ],
         "legendgroup": "元广波",
         "marker": {
          "color": "#EF553B",
          "symbol": "circle"
         },
         "mode": "markers+text",
         "name": "元广波",
         "scene": "scene",
         "showlegend": true,
         "text": [
          "元广波"
         ],
         "textfont": {
          "size": 8
         },
         "textposition": "top center",
         "type": "scatter3d",
         "x": [
          1.6825953722000122
         ],
         "y": [
          -1.6106593608856201
         ],
         "z": [
          0.7349750399589539
         ]
        },
        {
         "hovertemplate": "<b>%{hovertext}</b><br><br>Name=%{text}<br>PC1=%{x}<br>PC2=%{y}<br>PC3=%{z}<extra></extra>",
         "hovertext": [
          "庄铮"
         ],
         "legendgroup": "庄铮",
         "marker": {
          "color": "#00cc96",
          "symbol": "circle"
         },
         "mode": "markers+text",
         "name": "庄铮",
         "scene": "scene",
         "showlegend": true,
         "text": [
          "庄铮"
         ],
         "textfont": {
          "size": 8
         },
         "textposition": "top center",
         "type": "scatter3d",
         "x": [
          -1.3753572702407837
         ],
         "y": [
          -0.7461784482002258
         ],
         "z": [
          0.6359061002731323
         ]
        },
        {
         "hovertemplate": "<b>%{hovertext}</b><br><br>Name=%{text}<br>PC1=%{x}<br>PC2=%{y}<br>PC3=%{z}<extra></extra>",
         "hovertext": [
          "季长老"
         ],
         "legendgroup": "季长老",
         "marker": {
          "color": "#ab63fa",
          "symbol": "circle"
         },
         "mode": "markers+text",
         "name": "季长老",
         "scene": "scene",
         "showlegend": true,
         "text": [
          "季长老"
         ],
         "textfont": {
          "size": 8
         },
         "textposition": "top center",
         "type": "scatter3d",
         "x": [
          1.2253526449203491
         ],
         "y": [
          0.4958697557449341
         ],
         "z": [
          0.4204336404800415
         ]
        },
        {
         "hovertemplate": "<b>%{hovertext}</b><br><br>Name=%{text}<br>PC1=%{x}<br>PC2=%{y}<br>PC3=%{z}<extra></extra>",
         "hovertext": [
          "无相禅师"
         ],
         "legendgroup": "无相禅师",
         "marker": {
          "color": "#FFA15A",
          "symbol": "circle"
         },
         "mode": "markers+text",
         "name": "无相禅师",
         "scene": "scene",
         "showlegend": true,
         "text": [
          "无相禅师"
         ],
         "textfont": {
          "size": 8
         },
         "textposition": "top center",
         "type": "scatter3d",
         "x": [
          -0.03756781667470932
         ],
         "y": [
          2.2122671604156494
         ],
         "z": [
          0.8256847858428955
         ]
        },
        {
         "hovertemplate": "<b>%{hovertext}</b><br><br>Name=%{text}<br>PC1=%{x}<br>PC2=%{y}<br>PC3=%{z}<extra></extra>",
         "hovertext": [
          "静空"
         ],
         "legendgroup": "静空",
         "marker": {
          "color": "#19d3f3",
          "symbol": "circle"
         },
         "mode": "markers+text",
         "name": "静空",
         "scene": "scene",
         "showlegend": true,
         "text": [
          "静空"
         ],
         "textfont": {
          "size": 8
         },
         "textposition": "top center",
         "type": "scatter3d",
         "x": [
          0.30224961042404175
         ],
         "y": [
          0.21737658977508545
         ],
         "z": [
          1.8901737928390503
         ]
        },
        {
         "hovertemplate": "<b>%{hovertext}</b><br><br>Name=%{text}<br>PC1=%{x}<br>PC2=%{y}<br>PC3=%{z}<extra></extra>",
         "hovertext": [
          "灵虚"
         ],
         "legendgroup": "灵虚",
         "marker": {
          "color": "#FF6692",
          "symbol": "circle"
         },
         "mode": "markers+text",
         "name": "灵虚",
         "scene": "scene",
         "showlegend": true,
         "text": [
          "灵虚"
         ],
         "textfont": {
          "size": 8
         },
         "textposition": "top center",
         "type": "scatter3d",
         "x": [
          -0.38626083731651306
         ],
         "y": [
          0.5171956419944763
         ],
         "z": [
          1.1297447681427002
         ]
        },
        {
         "hovertemplate": "<b>%{hovertext}</b><br><br>Name=%{text}<br>PC1=%{x}<br>PC2=%{y}<br>PC3=%{z}<extra></extra>",
         "hovertext": [
          "摩诃巴思"
         ],
         "legendgroup": "摩诃巴思",
         "marker": {
          "color": "#B6E880",
          "symbol": "circle"
         },
         "mode": "markers+text",
         "name": "摩诃巴思",
         "scene": "scene",
         "showlegend": true,
         "text": [
          "摩诃巴思"
         ],
         "textfont": {
          "size": 8
         },
         "textposition": "top center",
         "type": "scatter3d",
         "x": [
          2.124521493911743
         ],
         "y": [
          0.8140659332275391
         ],
         "z": [
          -0.5182270407676697
         ]
        },
        {
         "hovertemplate": "<b>%{hovertext}</b><br><br>Name=%{text}<br>PC1=%{x}<br>PC2=%{y}<br>PC3=%{z}<extra></extra>",
         "hovertext": [
          "唐洋"
         ],
         "legendgroup": "唐洋",
         "marker": {
          "color": "#FF97FF",
          "symbol": "circle"
         },
         "mode": "markers+text",
         "name": "唐洋",
         "scene": "scene",
         "showlegend": true,
         "text": [
          "唐洋"
         ],
         "textfont": {
          "size": 8
         },
         "textposition": "top center",
         "type": "scatter3d",
         "x": [
          -1.9231557846069336
         ],
         "y": [
          0.20270158350467682
         ],
         "z": [
          -1.2981581687927246
         ]
        },
        {
         "hovertemplate": "<b>%{hovertext}</b><br><br>Name=%{text}<br>PC1=%{x}<br>PC2=%{y}<br>PC3=%{z}<extra></extra>",
         "hovertext": [
          "吴祯"
         ],
         "legendgroup": "吴祯",
         "marker": {
          "color": "#FECB52",
          "symbol": "circle"
         },
         "mode": "markers+text",
         "name": "吴祯",
         "scene": "scene",
         "showlegend": true,
         "text": [
          "吴祯"
         ],
         "textfont": {
          "size": 8
         },
         "textposition": "top center",
         "type": "scatter3d",
         "x": [
          0.20664671063423157
         ],
         "y": [
          1.0482540130615234
         ],
         "z": [
          -0.9608723521232605
         ]
        },
        {
         "hovertemplate": "<b>%{hovertext}</b><br><br>Name=%{text}<br>PC1=%{x}<br>PC2=%{y}<br>PC3=%{z}<extra></extra>",
         "hovertext": [
          "钱二败"
         ],
         "legendgroup": "钱二败",
         "marker": {
          "color": "#636efa",
          "symbol": "circle"
         },
         "mode": "markers+text",
         "name": "钱二败",
         "scene": "scene",
         "showlegend": true,
         "text": [
          "钱二败"
         ],
         "textfont": {
          "size": 8
         },
         "textposition": "top center",
         "type": "scatter3d",
         "x": [
          -0.15664435923099518
         ],
         "y": [
          0.0986010730266571
         ],
         "z": [
          0.48619797825813293
         ]
        },
        {
         "hovertemplate": "<b>%{hovertext}</b><br><br>Name=%{text}<br>PC1=%{x}<br>PC2=%{y}<br>PC3=%{z}<extra></extra>",
         "hovertext": [
          "苏梦清"
         ],
         "legendgroup": "苏梦清",
         "marker": {
          "color": "#EF553B",
          "symbol": "circle"
         },
         "mode": "markers+text",
         "name": "苏梦清",
         "scene": "scene",
         "showlegend": true,
         "text": [
          "苏梦清"
         ],
         "textfont": {
          "size": 8
         },
         "textposition": "top center",
         "type": "scatter3d",
         "x": [
          -2.21501088142395
         ],
         "y": [
          -0.8934322595596313
         ],
         "z": [
          0.03359435871243477
         ]
        },
        {
         "hovertemplate": "<b>%{hovertext}</b><br><br>Name=%{text}<br>PC1=%{x}<br>PC2=%{y}<br>PC3=%{z}<extra></extra>",
         "hovertext": [
          "天鸣方丈"
         ],
         "legendgroup": "天鸣方丈",
         "marker": {
          "color": "#00cc96",
          "symbol": "circle"
         },
         "mode": "markers+text",
         "name": "天鸣方丈",
         "scene": "scene",
         "showlegend": true,
         "text": [
          "天鸣方丈"
         ],
         "textfont": {
          "size": 8
         },
         "textposition": "top center",
         "type": "scatter3d",
         "x": [
          -1.6683605909347534
         ],
         "y": [
          0.8615261912345886
         ],
         "z": [
          -0.6632593274116516
         ]
        },
        {
         "hovertemplate": "<b>%{hovertext}</b><br><br>Name=%{text}<br>PC1=%{x}<br>PC2=%{y}<br>PC3=%{z}<extra></extra>",
         "hovertext": [
          "闻苍松"
         ],
         "legendgroup": "闻苍松",
         "marker": {
          "color": "#ab63fa",
          "symbol": "circle"
         },
         "mode": "markers+text",
         "name": "闻苍松",
         "scene": "scene",
         "showlegend": true,
         "text": [
          "闻苍松"
         ],
         "textfont": {
          "size": 8
         },
         "textposition": "top center",
         "type": "scatter3d",
         "x": [
          -0.8591346740722656
         ],
         "y": [
          1.772887110710144
         ],
         "z": [
          -0.3153507709503174
         ]
        },
        {
         "hovertemplate": "<b>%{hovertext}</b><br><br>Name=%{text}<br>PC1=%{x}<br>PC2=%{y}<br>PC3=%{z}<extra></extra>",
         "hovertext": [
          "叶长青"
         ],
         "legendgroup": "叶长青",
         "marker": {
          "color": "#FFA15A",
          "symbol": "circle"
         },
         "mode": "markers+text",
         "name": "叶长青",
         "scene": "scene",
         "showlegend": true,
         "text": [
          "叶长青"
         ],
         "textfont": {
          "size": 8
         },
         "textposition": "top center",
         "type": "scatter3d",
         "x": [
          0.027312887832522392
         ],
         "y": [
          0.6071640253067017
         ],
         "z": [
          1.6046109199523926
         ]
        },
        {
         "hovertemplate": "<b>%{hovertext}</b><br><br>Name=%{text}<br>PC1=%{x}<br>PC2=%{y}<br>PC3=%{z}<extra></extra>",
         "hovertext": [
          "张中"
         ],
         "legendgroup": "张中",
         "marker": {
          "color": "#19d3f3",
          "symbol": "circle"
         },
         "mode": "markers+text",
         "name": "张中",
         "scene": "scene",
         "showlegend": true,
         "text": [
          "张中"
         ],
         "textfont": {
          "size": 8
         },
         "textposition": "top center",
         "type": "scatter3d",
         "x": [
          0.18014733493328094
         ],
         "y": [
          0.6433272957801819
         ],
         "z": [
          0.3093091547489166
         ]
        },
        {
         "hovertemplate": "<b>%{hovertext}</b><br><br>Name=%{text}<br>PC1=%{x}<br>PC2=%{y}<br>PC3=%{z}<extra></extra>",
         "hovertext": [
          "赵一伤"
         ],
         "legendgroup": "赵一伤",
         "marker": {
          "color": "#FF6692",
          "symbol": "circle"
         },
         "mode": "markers+text",
         "name": "赵一伤",
         "scene": "scene",
         "showlegend": true,
         "text": [
          "赵一伤"
         ],
         "textfont": {
          "size": 8
         },
         "textposition": "top center",
         "type": "scatter3d",
         "x": [
          1.644691824913025
         ],
         "y": [
          -0.33239758014678955
         ],
         "z": [
          -0.716761589050293
         ]
        },
        {
         "hovertemplate": "<b>%{hovertext}</b><br><br>Name=%{text}<br>PC1=%{x}<br>PC2=%{y}<br>PC3=%{z}<extra></extra>",
         "hovertext": [
          "卜泰"
         ],
         "legendgroup": "卜泰",
         "marker": {
          "color": "#B6E880",
          "symbol": "circle"
         },
         "mode": "markers+text",
         "name": "卜泰",
         "scene": "scene",
         "showlegend": true,
         "text": [
          "卜泰"
         ],
         "textfont": {
          "size": 8
         },
         "textposition": "top center",
         "type": "scatter3d",
         "x": [
          0.4572959244251251
         ],
         "y": [
          0.7451062202453613
         ],
         "z": [
          -0.13058918714523315
         ]
        },
        {
         "hovertemplate": "<b>%{hovertext}</b><br><br>Name=%{text}<br>PC1=%{x}<br>PC2=%{y}<br>PC3=%{z}<extra></extra>",
         "hovertext": [
          "欧阳牧之"
         ],
         "legendgroup": "欧阳牧之",
         "marker": {
          "color": "#FF97FF",
          "symbol": "circle"
         },
         "mode": "markers+text",
         "name": "欧阳牧之",
         "scene": "scene",
         "showlegend": true,
         "text": [
          "欧阳牧之"
         ],
         "textfont": {
          "size": 8
         },
         "textposition": "top center",
         "type": "scatter3d",
         "x": [
          -0.42959317564964294
         ],
         "y": [
          0.4452161192893982
         ],
         "z": [
          0.292486310005188
         ]
        },
        {
         "hovertemplate": "<b>%{hovertext}</b><br><br>Name=%{text}<br>PC1=%{x}<br>PC2=%{y}<br>PC3=%{z}<extra></extra>",
         "hovertext": [
          "郝密"
         ],
         "legendgroup": "郝密",
         "marker": {
          "color": "#FECB52",
          "symbol": "circle"
         },
         "mode": "markers+text",
         "name": "郝密",
         "scene": "scene",
         "showlegend": true,
         "text": [
          "郝密"
         ],
         "textfont": {
          "size": 8
         },
         "textposition": "top center",
         "type": "scatter3d",
         "x": [
          -0.5521216988563538
         ],
         "y": [
          0.9591355919837952
         ],
         "z": [
          -0.9534289836883545
         ]
        },
        {
         "hovertemplate": "<b>%{hovertext}</b><br><br>Name=%{text}<br>PC1=%{x}<br>PC2=%{y}<br>PC3=%{z}<extra></extra>",
         "hovertext": [
          "胡青羊"
         ],
         "legendgroup": "胡青羊",
         "marker": {
          "color": "#636efa",
          "symbol": "circle"
         },
         "mode": "markers+text",
         "name": "胡青羊",
         "scene": "scene",
         "showlegend": true,
         "text": [
          "胡青羊"
         ],
         "textfont": {
          "size": 8
         },
         "textposition": "top center",
         "type": "scatter3d",
         "x": [
          -0.08981941640377045
         ],
         "y": [
          -0.21001257002353668
         ],
         "z": [
          -0.3781593441963196
         ]
        },
        {
         "hovertemplate": "<b>%{hovertext}</b><br><br>Name=%{text}<br>PC1=%{x}<br>PC2=%{y}<br>PC3=%{z}<extra></extra>",
         "hovertext": [
          "太虚子"
         ],
         "legendgroup": "太虚子",
         "marker": {
          "color": "#EF553B",
          "symbol": "circle"
         },
         "mode": "markers+text",
         "name": "太虚子",
         "scene": "scene",
         "showlegend": true,
         "text": [
          "太虚子"
         ],
         "textfont": {
          "size": 8
         },
         "textposition": "top center",
         "type": "scatter3d",
         "x": [
          0.6729134917259216
         ],
         "y": [
          -0.832449734210968
         ],
         "z": [
          -0.046031296253204346
         ]
        },
        {
         "hovertemplate": "<b>%{hovertext}</b><br><br>Name=%{text}<br>PC1=%{x}<br>PC2=%{y}<br>PC3=%{z}<extra></extra>",
         "hovertext": [
          "王八衰"
         ],
         "legendgroup": "王八衰",
         "marker": {
          "color": "#00cc96",
          "symbol": "circle"
         },
         "mode": "markers+text",
         "name": "王八衰",
         "scene": "scene",
         "showlegend": true,
         "text": [
          "王八衰"
         ],
         "textfont": {
          "size": 8
         },
         "textposition": "top center",
         "type": "scatter3d",
         "x": [
          -0.7184136509895325
         ],
         "y": [
          1.469443917274475
         ],
         "z": [
          -1.4627846479415894
         ]
        },
        {
         "hovertemplate": "<b>%{hovertext}</b><br><br>Name=%{text}<br>PC1=%{x}<br>PC2=%{y}<br>PC3=%{z}<extra></extra>",
         "hovertext": [
          "吴六破"
         ],
         "legendgroup": "吴六破",
         "marker": {
          "color": "#ab63fa",
          "symbol": "circle"
         },
         "mode": "markers+text",
         "name": "吴六破",
         "scene": "scene",
         "showlegend": true,
         "text": [
          "吴六破"
         ],
         "textfont": {
          "size": 8
         },
         "textposition": "top center",
         "type": "scatter3d",
         "x": [
          -0.3662989139556885
         ],
         "y": [
          -0.49706706404685974
         ],
         "z": [
          -0.8558006286621094
         ]
        },
        {
         "hovertemplate": "<b>%{hovertext}</b><br><br>Name=%{text}<br>PC1=%{x}<br>PC2=%{y}<br>PC3=%{z}<extra></extra>",
         "hovertext": [
          "小虹"
         ],
         "legendgroup": "小虹",
         "marker": {
          "color": "#FFA15A",
          "symbol": "circle"
         },
         "mode": "markers+text",
         "name": "小虹",
         "scene": "scene",
         "showlegend": true,
         "text": [
          "小虹"
         ],
         "textfont": {
          "size": 8
         },
         "textposition": "top center",
         "type": "scatter3d",
         "x": [
          -0.7051846385002136
         ],
         "y": [
          -0.3531322777271271
         ],
         "z": [
          1.0559722185134888
         ]
        },
        {
         "hovertemplate": "<b>%{hovertext}</b><br><br>Name=%{text}<br>PC1=%{x}<br>PC2=%{y}<br>PC3=%{z}<extra></extra>",
         "hovertext": [
          "刘敖"
         ],
         "legendgroup": "刘敖",
         "marker": {
          "color": "#19d3f3",
          "symbol": "circle"
         },
         "mode": "markers+text",
         "name": "刘敖",
         "scene": "scene",
         "showlegend": true,
         "text": [
          "刘敖"
         ],
         "textfont": {
          "size": 8
         },
         "textposition": "top center",
         "type": "scatter3d",
         "x": [
          0.16852812469005585
         ],
         "y": [
          -0.5699414014816284
         ],
         "z": [
          -2.2282931804656982
         ]
        },
        {
         "hovertemplate": "<b>%{hovertext}</b><br><br>Name=%{text}<br>PC1=%{x}<br>PC2=%{y}<br>PC3=%{z}<extra></extra>",
         "hovertext": [
          "小玲"
         ],
         "legendgroup": "小玲",
         "marker": {
          "color": "#FF6692",
          "symbol": "circle"
         },
         "mode": "markers+text",
         "name": "小玲",
         "scene": "scene",
         "showlegend": true,
         "text": [
          "小玲"
         ],
         "textfont": {
          "size": 8
         },
         "textposition": "top center",
         "type": "scatter3d",
         "x": [
          -0.7036616206169128
         ],
         "y": [
          0.5193348526954651
         ],
         "z": [
          0.5269660353660583
         ]
        },
        {
         "hovertemplate": "<b>%{hovertext}</b><br><br>Name=%{text}<br>PC1=%{x}<br>PC2=%{y}<br>PC3=%{z}<extra></extra>",
         "hovertext": [
          "郑七灭"
         ],
         "legendgroup": "郑七灭",
         "marker": {
          "color": "#B6E880",
          "symbol": "circle"
         },
         "mode": "markers+text",
         "name": "郑七灭",
         "scene": "scene",
         "showlegend": true,
         "text": [
          "郑七灭"
         ],
         "textfont": {
          "size": 8
         },
         "textposition": "top center",
         "type": "scatter3d",
         "x": [
          -0.6193026900291443
         ],
         "y": [
          0.6599384546279907
         ],
         "z": [
          0.9605123400688171
         ]
        },
        {
         "hovertemplate": "<b>%{hovertext}</b><br><br>Name=%{text}<br>PC1=%{x}<br>PC2=%{y}<br>PC3=%{z}<extra></extra>",
         "hovertext": [
          "周五输"
         ],
         "legendgroup": "周五输",
         "marker": {
          "color": "#FF97FF",
          "symbol": "circle"
         },
         "mode": "markers+text",
         "name": "周五输",
         "scene": "scene",
         "showlegend": true,
         "text": [
          "周五输"
         ],
         "textfont": {
          "size": 8
         },
         "textposition": "top center",
         "type": "scatter3d",
         "x": [
          1.1183916330337524
         ],
         "y": [
          -1.0974944829940796
         ],
         "z": [
          0.7089232802391052
         ]
        },
        {
         "hovertemplate": "<b>%{hovertext}</b><br><br>Name=%{text}<br>PC1=%{x}<br>PC2=%{y}<br>PC3=%{z}<extra></extra>",
         "hovertext": [
          "郭靖"
         ],
         "legendgroup": "郭靖",
         "marker": {
          "color": "#FECB52",
          "symbol": "circle"
         },
         "mode": "markers+text",
         "name": "郭靖",
         "scene": "scene",
         "showlegend": true,
         "text": [
          "郭靖"
         ],
         "textfont": {
          "size": 8
         },
         "textposition": "top center",
         "type": "scatter3d",
         "x": [
          0.448921799659729
         ],
         "y": [
          0.803015410900116
         ],
         "z": [
          0.42796915769577026
         ]
        },
        {
         "hovertemplate": "<b>%{hovertext}</b><br><br>Name=%{text}<br>PC1=%{x}<br>PC2=%{y}<br>PC3=%{z}<extra></extra>",
         "hovertext": [
          "郭大侠"
         ],
         "legendgroup": "郭大侠",
         "marker": {
          "color": "#636efa",
          "symbol": "circle"
         },
         "mode": "markers+text",
         "name": "郭大侠",
         "scene": "scene",
         "showlegend": true,
         "text": [
          "郭大侠"
         ],
         "textfont": {
          "size": 8
         },
         "textposition": "top center",
         "type": "scatter3d",
         "x": [
          0.12407784163951874
         ],
         "y": [
          0.29545730352401733
         ],
         "z": [
          -0.40097248554229736
         ]
        },
        {
         "hovertemplate": "<b>%{hovertext}</b><br><br>Name=%{text}<br>PC1=%{x}<br>PC2=%{y}<br>PC3=%{z}<extra></extra>",
         "hovertext": [
          "黄蓉"
         ],
         "legendgroup": "黄蓉",
         "marker": {
          "color": "#EF553B",
          "symbol": "circle"
         },
         "mode": "markers+text",
         "name": "黄蓉",
         "scene": "scene",
         "showlegend": true,
         "text": [
          "黄蓉"
         ],
         "textfont": {
          "size": 8
         },
         "textposition": "top center",
         "type": "scatter3d",
         "x": [
          -0.30688735842704773
         ],
         "y": [
          2.1895577907562256
         ],
         "z": [
          -0.9072422981262207
         ]
        },
        {
         "hovertemplate": "<b>%{hovertext}</b><br><br>Name=%{text}<br>PC1=%{x}<br>PC2=%{y}<br>PC3=%{z}<extra></extra>",
         "hovertext": [
          "洪七公"
         ],
         "legendgroup": "洪七公",
         "marker": {
          "color": "#00cc96",
          "symbol": "circle"
         },
         "mode": "markers+text",
         "name": "洪七公",
         "scene": "scene",
         "showlegend": true,
         "text": [
          "洪七公"
         ],
         "textfont": {
          "size": 8
         },
         "textposition": "top center",
         "type": "scatter3d",
         "x": [
          -0.8638760447502136
         ],
         "y": [
          -0.638536274433136
         ],
         "z": [
          -0.9172478914260864
         ]
        },
        {
         "hovertemplate": "<b>%{hovertext}</b><br><br>Name=%{text}<br>PC1=%{x}<br>PC2=%{y}<br>PC3=%{z}<extra></extra>",
         "hovertext": [
          "黄药师"
         ],
         "legendgroup": "黄药师",
         "marker": {
          "color": "#ab63fa",
          "symbol": "circle"
         },
         "mode": "markers+text",
         "name": "黄药师",
         "scene": "scene",
         "showlegend": true,
         "text": [
          "黄药师"
         ],
         "textfont": {
          "size": 8
         },
         "textposition": "top center",
         "type": "scatter3d",
         "x": [
          1.396496057510376
         ],
         "y": [
          -1.2279481887817383
         ],
         "z": [
          -1.0197738409042358
         ]
        },
        {
         "hovertemplate": "<b>%{hovertext}</b><br><br>Name=%{text}<br>PC1=%{x}<br>PC2=%{y}<br>PC3=%{z}<extra></extra>",
         "hovertext": [
          "周伯通"
         ],
         "legendgroup": "周伯通",
         "marker": {
          "color": "#FFA15A",
          "symbol": "circle"
         },
         "mode": "markers+text",
         "name": "周伯通",
         "scene": "scene",
         "showlegend": true,
         "text": [
          "周伯通"
         ],
         "textfont": {
          "size": 8
         },
         "textposition": "top center",
         "type": "scatter3d",
         "x": [
          -0.7992424964904785
         ],
         "y": [
          0.5479844212532043
         ],
         "z": [
          1.7681883573532104
         ]
        },
        {
         "hovertemplate": "<b>%{hovertext}</b><br><br>Name=%{text}<br>PC1=%{x}<br>PC2=%{y}<br>PC3=%{z}<extra></extra>",
         "hovertext": [
          "老顽童"
         ],
         "legendgroup": "老顽童",
         "marker": {
          "color": "#19d3f3",
          "symbol": "circle"
         },
         "mode": "markers+text",
         "name": "老顽童",
         "scene": "scene",
         "showlegend": true,
         "text": [
          "老顽童"
         ],
         "textfont": {
          "size": 8
         },
         "textposition": "top center",
         "type": "scatter3d",
         "x": [
          0.7127271294593811
         ],
         "y": [
          -1.0395780801773071
         ],
         "z": [
          0.9645557999610901
         ]
        },
        {
         "hovertemplate": "<b>%{hovertext}</b><br><br>Name=%{text}<br>PC1=%{x}<br>PC2=%{y}<br>PC3=%{z}<extra></extra>",
         "hovertext": [
          "裘千仞"
         ],
         "legendgroup": "裘千仞",
         "marker": {
          "color": "#FF6692",
          "symbol": "circle"
         },
         "mode": "markers+text",
         "name": "裘千仞",
         "scene": "scene",
         "showlegend": true,
         "text": [
          "裘千仞"
         ],
         "textfont": {
          "size": 8
         },
         "textposition": "top center",
         "type": "scatter3d",
         "x": [
          1.804743766784668
         ],
         "y": [
          1.391675591468811
         ],
         "z": [
          -0.5385868549346924
         ]
        },
        {
         "hovertemplate": "<b>%{hovertext}</b><br><br>Name=%{text}<br>PC1=%{x}<br>PC2=%{y}<br>PC3=%{z}<extra></extra>",
         "hovertext": [
          "拖雷"
         ],
         "legendgroup": "拖雷",
         "marker": {
          "color": "#B6E880",
          "symbol": "circle"
         },
         "mode": "markers+text",
         "name": "拖雷",
         "scene": "scene",
         "showlegend": true,
         "text": [
          "拖雷"
         ],
         "textfont": {
          "size": 8
         },
         "textposition": "top center",
         "type": "scatter3d",
         "x": [
          -1.4297726154327393
         ],
         "y": [
          -0.27615636587142944
         ],
         "z": [
          0.29100748896598816
         ]
        },
        {
         "hovertemplate": "<b>%{hovertext}</b><br><br>Name=%{text}<br>PC1=%{x}<br>PC2=%{y}<br>PC3=%{z}<extra></extra>",
         "hovertext": [
          "鲁有脚"
         ],
         "legendgroup": "鲁有脚",
         "marker": {
          "color": "#FF97FF",
          "symbol": "circle"
         },
         "mode": "markers+text",
         "name": "鲁有脚",
         "scene": "scene",
         "showlegend": true,
         "text": [
          "鲁有脚"
         ],
         "textfont": {
          "size": 8
         },
         "textposition": "top center",
         "type": "scatter3d",
         "x": [
          1.1053886413574219
         ],
         "y": [
          0.4847637712955475
         ],
         "z": [
          -0.2929920256137848
         ]
        },
        {
         "hovertemplate": "<b>%{hovertext}</b><br><br>Name=%{text}<br>PC1=%{x}<br>PC2=%{y}<br>PC3=%{z}<extra></extra>",
         "hovertext": [
          "一灯大师"
         ],
         "legendgroup": "一灯大师",
         "marker": {
          "color": "#FECB52",
          "symbol": "circle"
         },
         "mode": "markers+text",
         "name": "一灯大师",
         "scene": "scene",
         "showlegend": true,
         "text": [
          "一灯大师"
         ],
         "textfont": {
          "size": 8
         },
         "textposition": "top center",
         "type": "scatter3d",
         "x": [
          0.9178008437156677
         ],
         "y": [
          -2.0381274223327637
         ],
         "z": [
          1.4652849435806274
         ]
        },
        {
         "hovertemplate": "<b>%{hovertext}</b><br><br>Name=%{text}<br>PC1=%{x}<br>PC2=%{y}<br>PC3=%{z}<extra></extra>",
         "hovertext": [
          "江南七怪"
         ],
         "legendgroup": "江南七怪",
         "marker": {
          "color": "#636efa",
          "symbol": "circle"
         },
         "mode": "markers+text",
         "name": "江南七怪",
         "scene": "scene",
         "showlegend": true,
         "text": [
          "江南七怪"
         ],
         "textfont": {
          "size": 8
         },
         "textposition": "top center",
         "type": "scatter3d",
         "x": [
          0.043685659766197205
         ],
         "y": [
          -0.826124370098114
         ],
         "z": [
          1.4793685674667358
         ]
        },
        {
         "hovertemplate": "<b>%{hovertext}</b><br><br>Name=%{text}<br>PC1=%{x}<br>PC2=%{y}<br>PC3=%{z}<extra></extra>",
         "hovertext": [
          "渔人"
         ],
         "legendgroup": "渔人",
         "marker": {
          "color": "#EF553B",
          "symbol": "circle"
         },
         "mode": "markers+text",
         "name": "渔人",
         "scene": "scene",
         "showlegend": true,
         "text": [
          "渔人"
         ],
         "textfont": {
          "size": 8
         },
         "textposition": "top center",
         "type": "scatter3d",
         "x": [
          -1.1557302474975586
         ],
         "y": [
          -0.2708347737789154
         ],
         "z": [
          0.09747131913900375
         ]
        },
        {
         "hovertemplate": "<b>%{hovertext}</b><br><br>Name=%{text}<br>PC1=%{x}<br>PC2=%{y}<br>PC3=%{z}<extra></extra>",
         "hovertext": [
          "农夫"
         ],
         "legendgroup": "农夫",
         "marker": {
          "color": "#00cc96",
          "symbol": "circle"
         },
         "mode": "markers+text",
         "name": "农夫",
         "scene": "scene",
         "showlegend": true,
         "text": [
          "农夫"
         ],
         "textfont": {
          "size": 8
         },
         "textposition": "top center",
         "type": "scatter3d",
         "x": [
          0.451398104429245
         ],
         "y": [
          1.8244637250900269
         ],
         "z": [
          0.11487001180648804
         ]
        },
        {
         "hovertemplate": "<b>%{hovertext}</b><br><br>Name=%{text}<br>PC1=%{x}<br>PC2=%{y}<br>PC3=%{z}<extra></extra>",
         "hovertext": [
          "樵子"
         ],
         "legendgroup": "樵子",
         "marker": {
          "color": "#ab63fa",
          "symbol": "circle"
         },
         "mode": "markers+text",
         "name": "樵子",
         "scene": "scene",
         "showlegend": true,
         "text": [
          "樵子"
         ],
         "textfont": {
          "size": 8
         },
         "textposition": "top center",
         "type": "scatter3d",
         "x": [
          0.6928610801696777
         ],
         "y": [
          0.04019744321703911
         ],
         "z": [
          -0.5733277201652527
         ]
        },
        {
         "hovertemplate": "<b>%{hovertext}</b><br><br>Name=%{text}<br>PC1=%{x}<br>PC2=%{y}<br>PC3=%{z}<extra></extra>",
         "hovertext": [
          "童子"
         ],
         "legendgroup": "童子",
         "marker": {
          "color": "#FFA15A",
          "symbol": "circle"
         },
         "mode": "markers+text",
         "name": "童子",
         "scene": "scene",
         "showlegend": true,
         "text": [
          "童子"
         ],
         "textfont": {
          "size": 8
         },
         "textposition": "top center",
         "type": "scatter3d",
         "x": [
          -0.6318355202674866
         ],
         "y": [
          1.204485535621643
         ],
         "z": [
          1.7898281812667847
         ]
        },
        {
         "hovertemplate": "<b>%{hovertext}</b><br><br>Name=%{text}<br>PC1=%{x}<br>PC2=%{y}<br>PC3=%{z}<extra></extra>",
         "hovertext": [
          "天竺僧人"
         ],
         "legendgroup": "天竺僧人",
         "marker": {
          "color": "#19d3f3",
          "symbol": "circle"
         },
         "mode": "markers+text",
         "name": "天竺僧人",
         "scene": "scene",
         "showlegend": true,
         "text": [
          "天竺僧人"
         ],
         "textfont": {
          "size": 8
         },
         "textposition": "top center",
         "type": "scatter3d",
         "x": [
          -0.44447585940361023
         ],
         "y": [
          -0.9017730355262756
         ],
         "z": [
          0.30707061290740967
         ]
        },
        {
         "hovertemplate": "<b>%{hovertext}</b><br><br>Name=%{text}<br>PC1=%{x}<br>PC2=%{y}<br>PC3=%{z}<extra></extra>",
         "hovertext": [
          "段誉"
         ],
         "legendgroup": "段誉",
         "marker": {
          "color": "#FF6692",
          "symbol": "circle"
         },
         "mode": "markers+text",
         "name": "段誉",
         "scene": "scene",
         "showlegend": true,
         "text": [
          "段誉"
         ],
         "textfont": {
          "size": 8
         },
         "textposition": "top center",
         "type": "scatter3d",
         "x": [
          -0.45949602127075195
         ],
         "y": [
          -0.2165983021259308
         ],
         "z": [
          -0.37101539969444275
         ]
        },
        {
         "hovertemplate": "<b>%{hovertext}</b><br><br>Name=%{text}<br>PC1=%{x}<br>PC2=%{y}<br>PC3=%{z}<extra></extra>",
         "hovertext": [
          "虚竹"
         ],
         "legendgroup": "虚竹",
         "marker": {
          "color": "#B6E880",
          "symbol": "circle"
         },
         "mode": "markers+text",
         "name": "虚竹",
         "scene": "scene",
         "showlegend": true,
         "text": [
          "虚竹"
         ],
         "textfont": {
          "size": 8
         },
         "textposition": "top center",
         "type": "scatter3d",
         "x": [
          0.7876118421554565
         ],
         "y": [
          -0.8154817819595337
         ],
         "z": [
          0.14363093674182892
         ]
        },
        {
         "hovertemplate": "<b>%{hovertext}</b><br><br>Name=%{text}<br>PC1=%{x}<br>PC2=%{y}<br>PC3=%{z}<extra></extra>",
         "hovertext": [
          "阿紫"
         ],
         "legendgroup": "阿紫",
         "marker": {
          "color": "#FF97FF",
          "symbol": "circle"
         },
         "mode": "markers+text",
         "name": "阿紫",
         "scene": "scene",
         "showlegend": true,
         "text": [
          "阿紫"
         ],
         "textfont": {
          "size": 8
         },
         "textposition": "top center",
         "type": "scatter3d",
         "x": [
          0.017846858128905296
         ],
         "y": [
          -0.36997783184051514
         ],
         "z": [
          -0.5431385040283203
         ]
        },
        {
         "hovertemplate": "<b>%{hovertext}</b><br><br>Name=%{text}<br>PC1=%{x}<br>PC2=%{y}<br>PC3=%{z}<extra></extra>",
         "hovertext": [
          "乔峰"
         ],
         "legendgroup": "乔峰",
         "marker": {
          "color": "#FECB52",
          "symbol": "circle"
         },
         "mode": "markers+text",
         "name": "乔峰",
         "scene": "scene",
         "showlegend": true,
         "text": [
          "乔峰"
         ],
         "textfont": {
          "size": 8
         },
         "textposition": "top center",
         "type": "scatter3d",
         "x": [
          0.5400464534759521
         ],
         "y": [
          0.5778161883354187
         ],
         "z": [
          -0.04413653537631035
         ]
        },
        {
         "hovertemplate": "<b>%{hovertext}</b><br><br>Name=%{text}<br>PC1=%{x}<br>PC2=%{y}<br>PC3=%{z}<extra></extra>",
         "hovertext": [
          "阿朱"
         ],
         "legendgroup": "阿朱",
         "marker": {
          "color": "#636efa",
          "symbol": "circle"
         },
         "mode": "markers+text",
         "name": "阿朱",
         "scene": "scene",
         "showlegend": true,
         "text": [
          "阿朱"
         ],
         "textfont": {
          "size": 8
         },
         "textposition": "top center",
         "type": "scatter3d",
         "x": [
          0.11565803736448288
         ],
         "y": [
          0.031581148505210876
         ],
         "z": [
          -0.4836178123950958
         ]
        },
        {
         "hovertemplate": "<b>%{hovertext}</b><br><br>Name=%{text}<br>PC1=%{x}<br>PC2=%{y}<br>PC3=%{z}<extra></extra>",
         "hovertext": [
          "慕容复"
         ],
         "legendgroup": "慕容复",
         "marker": {
          "color": "#EF553B",
          "symbol": "circle"
         },
         "mode": "markers+text",
         "name": "慕容复",
         "scene": "scene",
         "showlegend": true,
         "text": [
          "慕容复"
         ],
         "textfont": {
          "size": 8
         },
         "textposition": "top center",
         "type": "scatter3d",
         "x": [
          0.6781742572784424
         ],
         "y": [
          -0.3020869493484497
         ],
         "z": [
          0.3528240919113159
         ]
        },
        {
         "hovertemplate": "<b>%{hovertext}</b><br><br>Name=%{text}<br>PC1=%{x}<br>PC2=%{y}<br>PC3=%{z}<extra></extra>",
         "hovertext": [
          "王语嫣"
         ],
         "legendgroup": "王语嫣",
         "marker": {
          "color": "#00cc96",
          "symbol": "circle"
         },
         "mode": "markers+text",
         "name": "王语嫣",
         "scene": "scene",
         "showlegend": true,
         "text": [
          "王语嫣"
         ],
         "textfont": {
          "size": 8
         },
         "textposition": "top center",
         "type": "scatter3d",
         "x": [
          -0.018845085054636
         ],
         "y": [
          -0.9033368229866028
         ],
         "z": [
          -0.9120102524757385
         ]
        },
        {
         "hovertemplate": "<b>%{hovertext}</b><br><br>Name=%{text}<br>PC1=%{x}<br>PC2=%{y}<br>PC3=%{z}<extra></extra>",
         "hovertext": [
          "段正淳"
         ],
         "legendgroup": "段正淳",
         "marker": {
          "color": "#ab63fa",
          "symbol": "circle"
         },
         "mode": "markers+text",
         "name": "段正淳",
         "scene": "scene",
         "showlegend": true,
         "text": [
          "段正淳"
         ],
         "textfont": {
          "size": 8
         },
         "textposition": "top center",
         "type": "scatter3d",
         "x": [
          1.1459647417068481
         ],
         "y": [
          -0.5907588601112366
         ],
         "z": [
          -1.174601435661316
         ]
        },
        {
         "hovertemplate": "<b>%{hovertext}</b><br><br>Name=%{text}<br>PC1=%{x}<br>PC2=%{y}<br>PC3=%{z}<extra></extra>",
         "hovertext": [
          "木婉清"
         ],
         "legendgroup": "木婉清",
         "marker": {
          "color": "#FFA15A",
          "symbol": "circle"
         },
         "mode": "markers+text",
         "name": "木婉清",
         "scene": "scene",
         "showlegend": true,
         "text": [
          "木婉清"
         ],
         "textfont": {
          "size": 8
         },
         "textposition": "top center",
         "type": "scatter3d",
         "x": [
          0.6625844240188599
         ],
         "y": [
          -1.0073124170303345
         ],
         "z": [
          -0.3232240378856659
         ]
        },
        {
         "hovertemplate": "<b>%{hovertext}</b><br><br>Name=%{text}<br>PC1=%{x}<br>PC2=%{y}<br>PC3=%{z}<extra></extra>",
         "hovertext": [
          "鸠摩智"
         ],
         "legendgroup": "鸠摩智",
         "marker": {
          "color": "#19d3f3",
          "symbol": "circle"
         },
         "mode": "markers+text",
         "name": "鸠摩智",
         "scene": "scene",
         "showlegend": true,
         "text": [
          "鸠摩智"
         ],
         "textfont": {
          "size": 8
         },
         "textposition": "top center",
         "type": "scatter3d",
         "x": [
          0.8571316003799438
         ],
         "y": [
          -0.3203289806842804
         ],
         "z": [
          -0.9186262488365173
         ]
        },
        {
         "hovertemplate": "<b>%{hovertext}</b><br><br>Name=%{text}<br>PC1=%{x}<br>PC2=%{y}<br>PC3=%{z}<extra></extra>",
         "hovertext": [
          "游坦之"
         ],
         "legendgroup": "游坦之",
         "marker": {
          "color": "#FF6692",
          "symbol": "circle"
         },
         "mode": "markers+text",
         "name": "游坦之",
         "scene": "scene",
         "showlegend": true,
         "text": [
          "游坦之"
         ],
         "textfont": {
          "size": 8
         },
         "textposition": "top center",
         "type": "scatter3d",
         "x": [
          1.2893686294555664
         ],
         "y": [
          -1.0840206146240234
         ],
         "z": [
          0.34426984190940857
         ]
        },
        {
         "hovertemplate": "<b>%{hovertext}</b><br><br>Name=%{text}<br>PC1=%{x}<br>PC2=%{y}<br>PC3=%{z}<extra></extra>",
         "hovertext": [
          "丁春秋"
         ],
         "legendgroup": "丁春秋",
         "marker": {
          "color": "#B6E880",
          "symbol": "circle"
         },
         "mode": "markers+text",
         "name": "丁春秋",
         "scene": "scene",
         "showlegend": true,
         "text": [
          "丁春秋"
         ],
         "textfont": {
          "size": 8
         },
         "textposition": "top center",
         "type": "scatter3d",
         "x": [
          0.6885925531387329
         ],
         "y": [
          0.8676760792732239
         ],
         "z": [
          -1.4941781759262085
         ]
        },
        {
         "hovertemplate": "<b>%{hovertext}</b><br><br>Name=%{text}<br>PC1=%{x}<br>PC2=%{y}<br>PC3=%{z}<extra></extra>",
         "hovertext": [
          "钟灵"
         ],
         "legendgroup": "钟灵",
         "marker": {
          "color": "#FF97FF",
          "symbol": "circle"
         },
         "mode": "markers+text",
         "name": "钟灵",
         "scene": "scene",
         "showlegend": true,
         "text": [
          "钟灵"
         ],
         "textfont": {
          "size": 8
         },
         "textposition": "top center",
         "type": "scatter3d",
         "x": [
          0.3030130863189697
         ],
         "y": [
          1.5272471904754639
         ],
         "z": [
          0.26107919216156006
         ]
        },
        {
         "hovertemplate": "<b>%{hovertext}</b><br><br>Name=%{text}<br>PC1=%{x}<br>PC2=%{y}<br>PC3=%{z}<extra></extra>",
         "hovertext": [
          "包不同"
         ],
         "legendgroup": "包不同",
         "marker": {
          "color": "#FECB52",
          "symbol": "circle"
         },
         "mode": "markers+text",
         "name": "包不同",
         "scene": "scene",
         "showlegend": true,
         "text": [
          "包不同"
         ],
         "textfont": {
          "size": 8
         },
         "textposition": "top center",
         "type": "scatter3d",
         "x": [
          1.565592885017395
         ],
         "y": [
          -0.5416916012763977
         ],
         "z": [
          0.01618952862918377
         ]
        },
        {
         "hovertemplate": "<b>%{hovertext}</b><br><br>Name=%{text}<br>PC1=%{x}<br>PC2=%{y}<br>PC3=%{z}<extra></extra>",
         "hovertext": [
          "马夫人"
         ],
         "legendgroup": "马夫人",
         "marker": {
          "color": "#636efa",
          "symbol": "circle"
         },
         "mode": "markers+text",
         "name": "马夫人",
         "scene": "scene",
         "showlegend": true,
         "text": [
          "马夫人"
         ],
         "textfont": {
          "size": 8
         },
         "textposition": "top center",
         "type": "scatter3d",
         "x": [
          0.20079417526721954
         ],
         "y": [
          0.08447307348251343
         ],
         "z": [
          1.5161004066467285
         ]
        },
        {
         "hovertemplate": "<b>%{hovertext}</b><br><br>Name=%{text}<br>PC1=%{x}<br>PC2=%{y}<br>PC3=%{z}<extra></extra>",
         "hovertext": [
          "乌老大"
         ],
         "legendgroup": "乌老大",
         "marker": {
          "color": "#EF553B",
          "symbol": "circle"
         },
         "mode": "markers+text",
         "name": "乌老大",
         "scene": "scene",
         "showlegend": true,
         "text": [
          "乌老大"
         ],
         "textfont": {
          "size": 8
         },
         "textposition": "top center",
         "type": "scatter3d",
         "x": [
          -0.13693934679031372
         ],
         "y": [
          -1.2306705713272095
         ],
         "z": [
          -0.05779314413666725
         ]
        },
        {
         "hovertemplate": "<b>%{hovertext}</b><br><br>Name=%{text}<br>PC1=%{x}<br>PC2=%{y}<br>PC3=%{z}<extra></extra>",
         "hovertext": [
          "阿碧"
         ],
         "legendgroup": "阿碧",
         "marker": {
          "color": "#00cc96",
          "symbol": "circle"
         },
         "mode": "markers+text",
         "name": "阿碧",
         "scene": "scene",
         "showlegend": true,
         "text": [
          "阿碧"
         ],
         "textfont": {
          "size": 8
         },
         "textposition": "top center",
         "type": "scatter3d",
         "x": [
          0.4742615222930908
         ],
         "y": [
          0.13016007840633392
         ],
         "z": [
          1.1253094673156738
         ]
        },
        {
         "hovertemplate": "<b>%{hovertext}</b><br><br>Name=%{text}<br>PC1=%{x}<br>PC2=%{y}<br>PC3=%{z}<extra></extra>",
         "hovertext": [
          "段延庆"
         ],
         "legendgroup": "段延庆",
         "marker": {
          "color": "#ab63fa",
          "symbol": "circle"
         },
         "mode": "markers+text",
         "name": "段延庆",
         "scene": "scene",
         "showlegend": true,
         "text": [
          "段延庆"
         ],
         "textfont": {
          "size": 8
         },
         "textposition": "top center",
         "type": "scatter3d",
         "x": [
          0.3363191783428192
         ],
         "y": [
          0.3609062731266022
         ],
         "z": [
          -0.1460535228252411
         ]
        },
        {
         "hovertemplate": "<b>%{hovertext}</b><br><br>Name=%{text}<br>PC1=%{x}<br>PC2=%{y}<br>PC3=%{z}<extra></extra>",
         "hovertext": [
          "玄难"
         ],
         "legendgroup": "玄难",
         "marker": {
          "color": "#FFA15A",
          "symbol": "circle"
         },
         "mode": "markers+text",
         "name": "玄难",
         "scene": "scene",
         "showlegend": true,
         "text": [
          "玄难"
         ],
         "textfont": {
          "size": 8
         },
         "textposition": "top center",
         "type": "scatter3d",
         "x": [
          -0.11884776502847672
         ],
         "y": [
          -0.39116331934928894
         ],
         "z": [
          -0.20681878924369812
         ]
        },
        {
         "hovertemplate": "<b>%{hovertext}</b><br><br>Name=%{text}<br>PC1=%{x}<br>PC2=%{y}<br>PC3=%{z}<extra></extra>",
         "hovertext": [
          "玄慈"
         ],
         "legendgroup": "玄慈",
         "marker": {
          "color": "#19d3f3",
          "symbol": "circle"
         },
         "mode": "markers+text",
         "name": "玄慈",
         "scene": "scene",
         "showlegend": true,
         "text": [
          "玄慈"
         ],
         "textfont": {
          "size": 8
         },
         "textposition": "top center",
         "type": "scatter3d",
         "x": [
          0.7614611983299255
         ],
         "y": [
          -0.49916818737983704
         ],
         "z": [
          -0.6779897212982178
         ]
        },
        {
         "hovertemplate": "<b>%{hovertext}</b><br><br>Name=%{text}<br>PC1=%{x}<br>PC2=%{y}<br>PC3=%{z}<extra></extra>",
         "hovertext": [
          "风波恶"
         ],
         "legendgroup": "风波恶",
         "marker": {
          "color": "#FF6692",
          "symbol": "circle"
         },
         "mode": "markers+text",
         "name": "风波恶",
         "scene": "scene",
         "showlegend": true,
         "text": [
          "风波恶"
         ],
         "textfont": {
          "size": 8
         },
         "textposition": "top center",
         "type": "scatter3d",
         "x": [
          0.3153735399246216
         ],
         "y": [
          -0.1370398998260498
         ],
         "z": [
          1.5250279903411865
         ]
        },
        {
         "hovertemplate": "<b>%{hovertext}</b><br><br>Name=%{text}<br>PC1=%{x}<br>PC2=%{y}<br>PC3=%{z}<extra></extra>",
         "hovertext": [
          "钟万仇"
         ],
         "legendgroup": "钟万仇",
         "marker": {
          "color": "#B6E880",
          "symbol": "circle"
         },
         "mode": "markers+text",
         "name": "钟万仇",
         "scene": "scene",
         "showlegend": true,
         "text": [
          "钟万仇"
         ],
         "textfont": {
          "size": 8
         },
         "textposition": "top center",
         "type": "scatter3d",
         "x": [
          -0.6615484952926636
         ],
         "y": [
          0.4459395706653595
         ],
         "z": [
          -0.023295782506465912
         ]
        },
        {
         "hovertemplate": "<b>%{hovertext}</b><br><br>Name=%{text}<br>PC1=%{x}<br>PC2=%{y}<br>PC3=%{z}<extra></extra>",
         "hovertext": [
          "耶律洪基"
         ],
         "legendgroup": "耶律洪基",
         "marker": {
          "color": "#FF97FF",
          "symbol": "circle"
         },
         "mode": "markers+text",
         "name": "耶律洪基",
         "scene": "scene",
         "showlegend": true,
         "text": [
          "耶律洪基"
         ],
         "textfont": {
          "size": 8
         },
         "textposition": "top center",
         "type": "scatter3d",
         "x": [
          -0.1563609540462494
         ],
         "y": [
          0.0025168259162455797
         ],
         "z": [
          0.8001846075057983
         ]
        },
        {
         "hovertemplate": "<b>%{hovertext}</b><br><br>Name=%{text}<br>PC1=%{x}<br>PC2=%{y}<br>PC3=%{z}<extra></extra>",
         "hovertext": [
          "朱丹臣"
         ],
         "legendgroup": "朱丹臣",
         "marker": {
          "color": "#FECB52",
          "symbol": "circle"
         },
         "mode": "markers+text",
         "name": "朱丹臣",
         "scene": "scene",
         "showlegend": true,
         "text": [
          "朱丹臣"
         ],
         "textfont": {
          "size": 8
         },
         "textposition": "top center",
         "type": "scatter3d",
         "x": [
          -0.5418550968170166
         ],
         "y": [
          1.7429426908493042
         ],
         "z": [
          2.326329231262207
         ]
        },
        {
         "hovertemplate": "<b>%{hovertext}</b><br><br>Name=%{text}<br>PC1=%{x}<br>PC2=%{y}<br>PC3=%{z}<extra></extra>",
         "hovertext": [
          "云中鹤"
         ],
         "legendgroup": "云中鹤",
         "marker": {
          "color": "#636efa",
          "symbol": "circle"
         },
         "mode": "markers+text",
         "name": "云中鹤",
         "scene": "scene",
         "showlegend": true,
         "text": [
          "云中鹤"
         ],
         "textfont": {
          "size": 8
         },
         "textposition": "top center",
         "type": "scatter3d",
         "x": [
          1.1775964498519897
         ],
         "y": [
          0.30711767077445984
         ],
         "z": [
          -1.6031854152679443
         ]
        },
        {
         "hovertemplate": "<b>%{hovertext}</b><br><br>Name=%{text}<br>PC1=%{x}<br>PC2=%{y}<br>PC3=%{z}<extra></extra>",
         "hovertext": [
          "巴天石"
         ],
         "legendgroup": "巴天石",
         "marker": {
          "color": "#EF553B",
          "symbol": "circle"
         },
         "mode": "markers+text",
         "name": "巴天石",
         "scene": "scene",
         "showlegend": true,
         "text": [
          "巴天石"
         ],
         "textfont": {
          "size": 8
         },
         "textposition": "top center",
         "type": "scatter3d",
         "x": [
          0.6609998941421509
         ],
         "y": [
          2.1482090950012207
         ],
         "z": [
          0.6176149845123291
         ]
        },
        {
         "hovertemplate": "<b>%{hovertext}</b><br><br>Name=%{text}<br>PC1=%{x}<br>PC2=%{y}<br>PC3=%{z}<extra></extra>",
         "hovertext": [
          "叶二娘"
         ],
         "legendgroup": "叶二娘",
         "marker": {
          "color": "#00cc96",
          "symbol": "circle"
         },
         "mode": "markers+text",
         "name": "叶二娘",
         "scene": "scene",
         "showlegend": true,
         "text": [
          "叶二娘"
         ],
         "textfont": {
          "size": 8
         },
         "textposition": "top center",
         "type": "scatter3d",
         "x": [
          -0.6988636255264282
         ],
         "y": [
          0.97901451587677
         ],
         "z": [
          -1.5659770965576172
         ]
        },
        {
         "hovertemplate": "<b>%{hovertext}</b><br><br>Name=%{text}<br>PC1=%{x}<br>PC2=%{y}<br>PC3=%{z}<extra></extra>",
         "hovertext": [
          "邓百川"
         ],
         "legendgroup": "邓百川",
         "marker": {
          "color": "#ab63fa",
          "symbol": "circle"
         },
         "mode": "markers+text",
         "name": "邓百川",
         "scene": "scene",
         "showlegend": true,
         "text": [
          "邓百川"
         ],
         "textfont": {
          "size": 8
         },
         "textposition": "top center",
         "type": "scatter3d",
         "x": [
          1.2656852006912231
         ],
         "y": [
          0.4147413372993469
         ],
         "z": [
          -2.1467714309692383
         ]
        },
        {
         "hovertemplate": "<b>%{hovertext}</b><br><br>Name=%{text}<br>PC1=%{x}<br>PC2=%{y}<br>PC3=%{z}<extra></extra>",
         "hovertext": [
          "苏星河"
         ],
         "legendgroup": "苏星河",
         "marker": {
          "color": "#FFA15A",
          "symbol": "circle"
         },
         "mode": "markers+text",
         "name": "苏星河",
         "scene": "scene",
         "showlegend": true,
         "text": [
          "苏星河"
         ],
         "textfont": {
          "size": 8
         },
         "textposition": "top center",
         "type": "scatter3d",
         "x": [
          1.9943537712097168
         ],
         "y": [
          2.4292140007019043
         ],
         "z": [
          -0.4729165732860565
         ]
        },
        {
         "hovertemplate": "<b>%{hovertext}</b><br><br>Name=%{text}<br>PC1=%{x}<br>PC2=%{y}<br>PC3=%{z}<extra></extra>",
         "hovertext": [
          "李秋水"
         ],
         "legendgroup": "李秋水",
         "marker": {
          "color": "#19d3f3",
          "symbol": "circle"
         },
         "mode": "markers+text",
         "name": "李秋水",
         "scene": "scene",
         "showlegend": true,
         "text": [
          "李秋水"
         ],
         "textfont": {
          "size": 8
         },
         "textposition": "top center",
         "type": "scatter3d",
         "x": [
          0.8413094878196716
         ],
         "y": [
          0.008548353798687458
         ],
         "z": [
          -0.39224350452423096
         ]
        },
        {
         "hovertemplate": "<b>%{hovertext}</b><br><br>Name=%{text}<br>PC1=%{x}<br>PC2=%{y}<br>PC3=%{z}<extra></extra>",
         "hovertext": [
          "赵钱孙"
         ],
         "legendgroup": "赵钱孙",
         "marker": {
          "color": "#FF6692",
          "symbol": "circle"
         },
         "mode": "markers+text",
         "name": "赵钱孙",
         "scene": "scene",
         "showlegend": true,
         "text": [
          "赵钱孙"
         ],
         "textfont": {
          "size": 8
         },
         "textposition": "top center",
         "type": "scatter3d",
         "x": [
          0.4894814193248749
         ],
         "y": [
          -0.14697568118572235
         ],
         "z": [
          0.01870422065258026
         ]
        },
        {
         "hovertemplate": "<b>%{hovertext}</b><br><br>Name=%{text}<br>PC1=%{x}<br>PC2=%{y}<br>PC3=%{z}<extra></extra>",
         "hovertext": [
          "全冠清"
         ],
         "legendgroup": "全冠清",
         "marker": {
          "color": "#B6E880",
          "symbol": "circle"
         },
         "mode": "markers+text",
         "name": "全冠清",
         "scene": "scene",
         "showlegend": true,
         "text": [
          "全冠清"
         ],
         "textfont": {
          "size": 8
         },
         "textposition": "top center",
         "type": "scatter3d",
         "x": [
          -0.9780963063240051
         ],
         "y": [
          -0.7573890686035156
         ],
         "z": [
          0.08743489533662796
         ]
        },
        {
         "hovertemplate": "<b>%{hovertext}</b><br><br>Name=%{text}<br>PC1=%{x}<br>PC2=%{y}<br>PC3=%{z}<extra></extra>",
         "hovertext": [
          "徐长老"
         ],
         "legendgroup": "徐长老",
         "marker": {
          "color": "#FF97FF",
          "symbol": "circle"
         },
         "mode": "markers+text",
         "name": "徐长老",
         "scene": "scene",
         "showlegend": true,
         "text": [
          "徐长老"
         ],
         "textfont": {
          "size": 8
         },
         "textposition": "top center",
         "type": "scatter3d",
         "x": [
          -0.260926753282547
         ],
         "y": [
          -0.37495046854019165
         ],
         "z": [
          1.7878546714782715
         ]
        },
        {
         "hovertemplate": "<b>%{hovertext}</b><br><br>Name=%{text}<br>PC1=%{x}<br>PC2=%{y}<br>PC3=%{z}<extra></extra>",
         "hovertext": [
          "公冶乾"
         ],
         "legendgroup": "公冶乾",
         "marker": {
          "color": "#FECB52",
          "symbol": "circle"
         },
         "mode": "markers+text",
         "name": "公冶乾",
         "scene": "scene",
         "showlegend": true,
         "text": [
          "公冶乾"
         ],
         "textfont": {
          "size": 8
         },
         "textposition": "top center",
         "type": "scatter3d",
         "x": [
          -0.31203269958496094
         ],
         "y": [
          -0.5046799778938293
         ],
         "z": [
          -0.68168044090271
         ]
        },
        {
         "hovertemplate": "<b>%{hovertext}</b><br><br>Name=%{text}<br>PC1=%{x}<br>PC2=%{y}<br>PC3=%{z}<extra></extra>",
         "hovertext": [
          "阮星竹"
         ],
         "legendgroup": "阮星竹",
         "marker": {
          "color": "#636efa",
          "symbol": "circle"
         },
         "mode": "markers+text",
         "name": "阮星竹",
         "scene": "scene",
         "showlegend": true,
         "text": [
          "阮星竹"
         ],
         "textfont": {
          "size": 8
         },
         "textposition": "top center",
         "type": "scatter3d",
         "x": [
          -0.31041401624679565
         ],
         "y": [
          -1.0689870119094849
         ],
         "z": [
          0.4043634831905365
         ]
        },
        {
         "hovertemplate": "<b>%{hovertext}</b><br><br>Name=%{text}<br>PC1=%{x}<br>PC2=%{y}<br>PC3=%{z}<extra></extra>",
         "hovertext": [
          "秦红棉"
         ],
         "legendgroup": "秦红棉",
         "marker": {
          "color": "#EF553B",
          "symbol": "circle"
         },
         "mode": "markers+text",
         "name": "秦红棉",
         "scene": "scene",
         "showlegend": true,
         "text": [
          "秦红棉"
         ],
         "textfont": {
          "size": 8
         },
         "textposition": "top center",
         "type": "scatter3d",
         "x": [
          -2.0972740650177
         ],
         "y": [
          0.647800087928772
         ],
         "z": [
          0.48587584495544434
         ]
        },
        {
         "hovertemplate": "<b>%{hovertext}</b><br><br>Name=%{text}<br>PC1=%{x}<br>PC2=%{y}<br>PC3=%{z}<extra></extra>",
         "hovertext": [
          "白世镜"
         ],
         "legendgroup": "白世镜",
         "marker": {
          "color": "#00cc96",
          "symbol": "circle"
         },
         "mode": "markers+text",
         "name": "白世镜",
         "scene": "scene",
         "showlegend": true,
         "text": [
          "白世镜"
         ],
         "textfont": {
          "size": 8
         },
         "textposition": "top center",
         "type": "scatter3d",
         "x": [
          0.9816781282424927
         ],
         "y": [
          0.6474137902259827
         ],
         "z": [
          2.0060641765594482
         ]
        },
        {
         "hovertemplate": "<b>%{hovertext}</b><br><br>Name=%{text}<br>PC1=%{x}<br>PC2=%{y}<br>PC3=%{z}<extra></extra>",
         "hovertext": [
          "慕容博"
         ],
         "legendgroup": "慕容博",
         "marker": {
          "color": "#ab63fa",
          "symbol": "circle"
         },
         "mode": "markers+text",
         "name": "慕容博",
         "scene": "scene",
         "showlegend": true,
         "text": [
          "慕容博"
         ],
         "textfont": {
          "size": 8
         },
         "textposition": "top center",
         "type": "scatter3d",
         "x": [
          -1.5251961946487427
         ],
         "y": [
          0.3344407081604004
         ],
         "z": [
          1.9742270708084106
         ]
        },
        {
         "hovertemplate": "<b>%{hovertext}</b><br><br>Name=%{text}<br>PC1=%{x}<br>PC2=%{y}<br>PC3=%{z}<extra></extra>",
         "hovertext": [
          "谭婆"
         ],
         "legendgroup": "谭婆",
         "marker": {
          "color": "#FFA15A",
          "symbol": "circle"
         },
         "mode": "markers+text",
         "name": "谭婆",
         "scene": "scene",
         "showlegend": true,
         "text": [
          "谭婆"
         ],
         "textfont": {
          "size": 8
         },
         "textposition": "top center",
         "type": "scatter3d",
         "x": [
          -0.03294314071536064
         ],
         "y": [
          -0.3158212900161743
         ],
         "z": [
          -0.1526680439710617
         ]
        },
        {
         "hovertemplate": "<b>%{hovertext}</b><br><br>Name=%{text}<br>PC1=%{x}<br>PC2=%{y}<br>PC3=%{z}<extra></extra>",
         "hovertext": [
          "左子穆"
         ],
         "legendgroup": "左子穆",
         "marker": {
          "color": "#19d3f3",
          "symbol": "circle"
         },
         "mode": "markers+text",
         "name": "左子穆",
         "scene": "scene",
         "showlegend": true,
         "text": [
          "左子穆"
         ],
         "textfont": {
          "size": 8
         },
         "textposition": "top center",
         "type": "scatter3d",
         "x": [
          0.18987280130386353
         ],
         "y": [
          -2.006803274154663
         ],
         "z": [
          0.10634525120258331
         ]
        },
        {
         "hovertemplate": "<b>%{hovertext}</b><br><br>Name=%{text}<br>PC1=%{x}<br>PC2=%{y}<br>PC3=%{z}<extra></extra>",
         "hovertext": [
          "崔百泉"
         ],
         "legendgroup": "崔百泉",
         "marker": {
          "color": "#FF6692",
          "symbol": "circle"
         },
         "mode": "markers+text",
         "name": "崔百泉",
         "scene": "scene",
         "showlegend": true,
         "text": [
          "崔百泉"
         ],
         "textfont": {
          "size": 8
         },
         "textposition": "top center",
         "type": "scatter3d",
         "x": [
          -0.6266442537307739
         ],
         "y": [
          -1.080888032913208
         ],
         "z": [
          -0.47184062004089355
         ]
        },
        {
         "hovertemplate": "<b>%{hovertext}</b><br><br>Name=%{text}<br>PC1=%{x}<br>PC2=%{y}<br>PC3=%{z}<extra></extra>",
         "hovertext": [
          "司空玄"
         ],
         "legendgroup": "司空玄",
         "marker": {
          "color": "#B6E880",
          "symbol": "circle"
         },
         "mode": "markers+text",
         "name": "司空玄",
         "scene": "scene",
         "showlegend": true,
         "text": [
          "司空玄"
         ],
         "textfont": {
          "size": 8
         },
         "textposition": "top center",
         "type": "scatter3d",
         "x": [
          -0.5595249533653259
         ],
         "y": [
          -0.9271692037582397
         ],
         "z": [
          0.28652331233024597
         ]
        },
        {
         "hovertemplate": "<b>%{hovertext}</b><br><br>Name=%{text}<br>PC1=%{x}<br>PC2=%{y}<br>PC3=%{z}<extra></extra>",
         "hovertext": [
          "薛慕华"
         ],
         "legendgroup": "薛慕华",
         "marker": {
          "color": "#FF97FF",
          "symbol": "circle"
         },
         "mode": "markers+text",
         "name": "薛慕华",
         "scene": "scene",
         "showlegend": true,
         "text": [
          "薛慕华"
         ],
         "textfont": {
          "size": 8
         },
         "textposition": "top center",
         "type": "scatter3d",
         "x": [
          -1.526537299156189
         ],
         "y": [
          0.3261721432209015
         ],
         "z": [
          -0.258280485868454
         ]
        },
        {
         "hovertemplate": "<b>%{hovertext}</b><br><br>Name=%{text}<br>PC1=%{x}<br>PC2=%{y}<br>PC3=%{z}<extra></extra>",
         "hovertext": [
          "玄寂"
         ],
         "legendgroup": "玄寂",
         "marker": {
          "color": "#FECB52",
          "symbol": "circle"
         },
         "mode": "markers+text",
         "name": "玄寂",
         "scene": "scene",
         "showlegend": true,
         "text": [
          "玄寂"
         ],
         "textfont": {
          "size": 8
         },
         "textposition": "top center",
         "type": "scatter3d",
         "x": [
          -0.8090663552284241
         ],
         "y": [
          -0.6929659247398376
         ],
         "z": [
          -0.8770509958267212
         ]
        },
        {
         "hovertemplate": "<b>%{hovertext}</b><br><br>Name=%{text}<br>PC1=%{x}<br>PC2=%{y}<br>PC3=%{z}<extra></extra>",
         "hovertext": [
          "谭公"
         ],
         "legendgroup": "谭公",
         "marker": {
          "color": "#636efa",
          "symbol": "circle"
         },
         "mode": "markers+text",
         "name": "谭公",
         "scene": "scene",
         "showlegend": true,
         "text": [
          "谭公"
         ],
         "textfont": {
          "size": 8
         },
         "textposition": "top center",
         "type": "scatter3d",
         "x": [
          -0.6474538445472717
         ],
         "y": [
          0.6657127141952515
         ],
         "z": [
          0.3162265121936798
         ]
        },
        {
         "hovertemplate": "<b>%{hovertext}</b><br><br>Name=%{text}<br>PC1=%{x}<br>PC2=%{y}<br>PC3=%{z}<extra></extra>",
         "hovertext": [
          "本因"
         ],
         "legendgroup": "本因",
         "marker": {
          "color": "#EF553B",
          "symbol": "circle"
         },
         "mode": "markers+text",
         "name": "本因",
         "scene": "scene",
         "showlegend": true,
         "text": [
          "本因"
         ],
         "textfont": {
          "size": 8
         },
         "textposition": "top center",
         "type": "scatter3d",
         "x": [
          -1.619779348373413
         ],
         "y": [
          -0.368221253156662
         ],
         "z": [
          -0.8138266205787659
         ]
        },
        {
         "hovertemplate": "<b>%{hovertext}</b><br><br>Name=%{text}<br>PC1=%{x}<br>PC2=%{y}<br>PC3=%{z}<extra></extra>",
         "hovertext": [
          "刀白凤"
         ],
         "legendgroup": "刀白凤",
         "marker": {
          "color": "#00cc96",
          "symbol": "circle"
         },
         "mode": "markers+text",
         "name": "刀白凤",
         "scene": "scene",
         "showlegend": true,
         "text": [
          "刀白凤"
         ],
         "textfont": {
          "size": 8
         },
         "textposition": "top center",
         "type": "scatter3d",
         "x": [
          0.050811462104320526
         ],
         "y": [
          1.9122413396835327
         ],
         "z": [
          0.2756001055240631
         ]
        },
        {
         "hovertemplate": "<b>%{hovertext}</b><br><br>Name=%{text}<br>PC1=%{x}<br>PC2=%{y}<br>PC3=%{z}<extra></extra>",
         "hovertext": [
          "萧远山"
         ],
         "legendgroup": "萧远山",
         "marker": {
          "color": "#ab63fa",
          "symbol": "circle"
         },
         "mode": "markers+text",
         "name": "萧远山",
         "scene": "scene",
         "showlegend": true,
         "text": [
          "萧远山"
         ],
         "textfont": {
          "size": 8
         },
         "textposition": "top center",
         "type": "scatter3d",
         "x": [
          1.1266090869903564
         ],
         "y": [
          -1.5188738107681274
         ],
         "z": [
          -1.2211016416549683
         ]
        },
        {
         "hovertemplate": "<b>%{hovertext}</b><br><br>Name=%{text}<br>PC1=%{x}<br>PC2=%{y}<br>PC3=%{z}<extra></extra>",
         "hovertext": [
          "司马林"
         ],
         "legendgroup": "司马林",
         "marker": {
          "color": "#FFA15A",
          "symbol": "circle"
         },
         "mode": "markers+text",
         "name": "司马林",
         "scene": "scene",
         "showlegend": true,
         "text": [
          "司马林"
         ],
         "textfont": {
          "size": 8
         },
         "textposition": "top center",
         "type": "scatter3d",
         "x": [
          1.7370762825012207
         ],
         "y": [
          -0.8859793543815613
         ],
         "z": [
          0.9725959897041321
         ]
        },
        {
         "hovertemplate": "<b>%{hovertext}</b><br><br>Name=%{text}<br>PC1=%{x}<br>PC2=%{y}<br>PC3=%{z}<extra></extra>",
         "hovertext": [
          "玄苦"
         ],
         "legendgroup": "玄苦",
         "marker": {
          "color": "#19d3f3",
          "symbol": "circle"
         },
         "mode": "markers+text",
         "name": "玄苦",
         "scene": "scene",
         "showlegend": true,
         "text": [
          "玄苦"
         ],
         "textfont": {
          "size": 8
         },
         "textposition": "top center",
         "type": "scatter3d",
         "x": [
          2.2367441654205322
         ],
         "y": [
          -0.5152842402458191
         ],
         "z": [
          -1.1277174949645996
         ]
        },
        {
         "hovertemplate": "<b>%{hovertext}</b><br><br>Name=%{text}<br>PC1=%{x}<br>PC2=%{y}<br>PC3=%{z}<extra></extra>",
         "hovertext": [
          "范骅"
         ],
         "legendgroup": "范骅",
         "marker": {
          "color": "#FF6692",
          "symbol": "circle"
         },
         "mode": "markers+text",
         "name": "范骅",
         "scene": "scene",
         "showlegend": true,
         "text": [
          "范骅"
         ],
         "textfont": {
          "size": 8
         },
         "textposition": "top center",
         "type": "scatter3d",
         "x": [
          -1.0934741497039795
         ],
         "y": [
          -2.3281829357147217
         ],
         "z": [
          -0.7754206657409668
         ]
        },
        {
         "hovertemplate": "<b>%{hovertext}</b><br><br>Name=%{text}<br>PC1=%{x}<br>PC2=%{y}<br>PC3=%{z}<extra></extra>",
         "hovertext": [
          "单正"
         ],
         "legendgroup": "单正",
         "marker": {
          "color": "#B6E880",
          "symbol": "circle"
         },
         "mode": "markers+text",
         "name": "单正",
         "scene": "scene",
         "showlegend": true,
         "text": [
          "单正"
         ],
         "textfont": {
          "size": 8
         },
         "textposition": "top center",
         "type": "scatter3d",
         "x": [
          -0.9892686009407043
         ],
         "y": [
          0.031077323481440544
         ],
         "z": [
          -1.088670253753662
         ]
        },
        {
         "hovertemplate": "<b>%{hovertext}</b><br><br>Name=%{text}<br>PC1=%{x}<br>PC2=%{y}<br>PC3=%{z}<extra></extra>",
         "hovertext": [
          "摘星子"
         ],
         "legendgroup": "摘星子",
         "marker": {
          "color": "#FF97FF",
          "symbol": "circle"
         },
         "mode": "markers+text",
         "name": "摘星子",
         "scene": "scene",
         "showlegend": true,
         "text": [
          "摘星子"
         ],
         "textfont": {
          "size": 8
         },
         "textposition": "top center",
         "type": "scatter3d",
         "x": [
          -0.03235022351145744
         ],
         "y": [
          1.718454360961914
         ],
         "z": [
          0.09188180416822433
         ]
        },
        {
         "hovertemplate": "<b>%{hovertext}</b><br><br>Name=%{text}<br>PC1=%{x}<br>PC2=%{y}<br>PC3=%{z}<extra></extra>",
         "hovertext": [
          "褚万里"
         ],
         "legendgroup": "褚万里",
         "marker": {
          "color": "#FECB52",
          "symbol": "circle"
         },
         "mode": "markers+text",
         "name": "褚万里",
         "scene": "scene",
         "showlegend": true,
         "text": [
          "褚万里"
         ],
         "textfont": {
          "size": 8
         },
         "textposition": "top center",
         "type": "scatter3d",
         "x": [
          1.5536932945251465
         ],
         "y": [
          1.6474865674972534
         ],
         "z": [
          2.508317232131958
         ]
        },
        {
         "hovertemplate": "<b>%{hovertext}</b><br><br>Name=%{text}<br>PC1=%{x}<br>PC2=%{y}<br>PC3=%{z}<extra></extra>",
         "hovertext": [
          "康广陵"
         ],
         "legendgroup": "康广陵",
         "marker": {
          "color": "#636efa",
          "symbol": "circle"
         },
         "mode": "markers+text",
         "name": "康广陵",
         "scene": "scene",
         "showlegend": true,
         "text": [
          "康广陵"
         ],
         "textfont": {
          "size": 8
         },
         "textposition": "top center",
         "type": "scatter3d",
         "x": [
          1.2639695405960083
         ],
         "y": [
          -0.18299926817417145
         ],
         "z": [
          0.5084925293922424
         ]
        },
        {
         "hovertemplate": "<b>%{hovertext}</b><br><br>Name=%{text}<br>PC1=%{x}<br>PC2=%{y}<br>PC3=%{z}<extra></extra>",
         "hovertext": [
          "不平道人"
         ],
         "legendgroup": "不平道人",
         "marker": {
          "color": "#EF553B",
          "symbol": "circle"
         },
         "mode": "markers+text",
         "name": "不平道人",
         "scene": "scene",
         "showlegend": true,
         "text": [
          "不平道人"
         ],
         "textfont": {
          "size": 8
         },
         "textposition": "top center",
         "type": "scatter3d",
         "x": [
          0.4221535623073578
         ],
         "y": [
          0.20506012439727783
         ],
         "z": [
          1.4012112617492676
         ]
        },
        {
         "hovertemplate": "<b>%{hovertext}</b><br><br>Name=%{text}<br>PC1=%{x}<br>PC2=%{y}<br>PC3=%{z}<extra></extra>",
         "hovertext": [
          "诸保昆"
         ],
         "legendgroup": "诸保昆",
         "marker": {
          "color": "#00cc96",
          "symbol": "circle"
         },
         "mode": "markers+text",
         "name": "诸保昆",
         "scene": "scene",
         "showlegend": true,
         "text": [
          "诸保昆"
         ],
         "textfont": {
          "size": 8
         },
         "textposition": "top center",
         "type": "scatter3d",
         "x": [
          -0.7598536610603333
         ],
         "y": [
          0.07388753443956375
         ],
         "z": [
          0.47580578923225403
         ]
        },
        {
         "hovertemplate": "<b>%{hovertext}</b><br><br>Name=%{text}<br>PC1=%{x}<br>PC2=%{y}<br>PC3=%{z}<extra></extra>",
         "hovertext": [
          "过彦之"
         ],
         "legendgroup": "过彦之",
         "marker": {
          "color": "#ab63fa",
          "symbol": "circle"
         },
         "mode": "markers+text",
         "name": "过彦之",
         "scene": "scene",
         "showlegend": true,
         "text": [
          "过彦之"
         ],
         "textfont": {
          "size": 8
         },
         "textposition": "top center",
         "type": "scatter3d",
         "x": [
          0.27603796124458313
         ],
         "y": [
          1.0936756134033203
         ],
         "z": [
          1.5102113485336304
         ]
        },
        {
         "hovertemplate": "<b>%{hovertext}</b><br><br>Name=%{text}<br>PC1=%{x}<br>PC2=%{y}<br>PC3=%{z}<extra></extra>",
         "hovertext": [
          "姚伯当"
         ],
         "legendgroup": "姚伯当",
         "marker": {
          "color": "#FFA15A",
          "symbol": "circle"
         },
         "mode": "markers+text",
         "name": "姚伯当",
         "scene": "scene",
         "showlegend": true,
         "text": [
          "姚伯当"
         ],
         "textfont": {
          "size": 8
         },
         "textposition": "top center",
         "type": "scatter3d",
         "x": [
          -2.6714491844177246
         ],
         "y": [
          0.38882943987846375
         ],
         "z": [
          -1.2045071125030518
         ]
        },
        {
         "hovertemplate": "<b>%{hovertext}</b><br><br>Name=%{text}<br>PC1=%{x}<br>PC2=%{y}<br>PC3=%{z}<extra></extra>",
         "hovertext": [
          "无崖子"
         ],
         "legendgroup": "无崖子",
         "marker": {
          "color": "#19d3f3",
          "symbol": "circle"
         },
         "mode": "markers+text",
         "name": "无崖子",
         "scene": "scene",
         "showlegend": true,
         "text": [
          "无崖子"
         ],
         "textfont": {
          "size": 8
         },
         "textposition": "top center",
         "type": "scatter3d",
         "x": [
          -0.25755780935287476
         ],
         "y": [
          -0.15771858394145966
         ],
         "z": [
          -1.074651837348938
         ]
        },
        {
         "hovertemplate": "<b>%{hovertext}</b><br><br>Name=%{text}<br>PC1=%{x}<br>PC2=%{y}<br>PC3=%{z}<extra></extra>",
         "hovertext": [
          "天山童姥"
         ],
         "legendgroup": "天山童姥",
         "marker": {
          "color": "#FF6692",
          "symbol": "circle"
         },
         "mode": "markers+text",
         "name": "天山童姥",
         "scene": "scene",
         "showlegend": true,
         "text": [
          "天山童姥"
         ],
         "textfont": {
          "size": 8
         },
         "textposition": "top center",
         "type": "scatter3d",
         "x": [
          1.5969167947769165
         ],
         "y": [
          -1.040083408355713
         ],
         "z": [
          0.30322036147117615
         ]
        },
        {
         "hovertemplate": "<b>%{hovertext}</b><br><br>Name=%{text}<br>PC1=%{x}<br>PC2=%{y}<br>PC3=%{z}<extra></extra>",
         "hovertext": [
          "华赫艮"
         ],
         "legendgroup": "华赫艮",
         "marker": {
          "color": "#B6E880",
          "symbol": "circle"
         },
         "mode": "markers+text",
         "name": "华赫艮",
         "scene": "scene",
         "showlegend": true,
         "text": [
          "华赫艮"
         ],
         "textfont": {
          "size": 8
         },
         "textposition": "top center",
         "type": "scatter3d",
         "x": [
          -0.25134825706481934
         ],
         "y": [
          -3.0394997596740723
         ],
         "z": [
          0.46191662549972534
         ]
        },
        {
         "hovertemplate": "<b>%{hovertext}</b><br><br>Name=%{text}<br>PC1=%{x}<br>PC2=%{y}<br>PC3=%{z}<extra></extra>",
         "hovertext": [
          "桑土公"
         ],
         "legendgroup": "桑土公",
         "marker": {
          "color": "#FF97FF",
          "symbol": "circle"
         },
         "mode": "markers+text",
         "name": "桑土公",
         "scene": "scene",
         "showlegend": true,
         "text": [
          "桑土公"
         ],
         "textfont": {
          "size": 8
         },
         "textposition": "top center",
         "type": "scatter3d",
         "x": [
          0.0683470293879509
         ],
         "y": [
          -1.0408000946044922
         ],
         "z": [
          -0.08042449504137039
         ]
        },
        {
         "hovertemplate": "<b>%{hovertext}</b><br><br>Name=%{text}<br>PC1=%{x}<br>PC2=%{y}<br>PC3=%{z}<extra></extra>",
         "hovertext": [
          "甘宝宝"
         ],
         "legendgroup": "甘宝宝",
         "marker": {
          "color": "#FECB52",
          "symbol": "circle"
         },
         "mode": "markers+text",
         "name": "甘宝宝",
         "scene": "scene",
         "showlegend": true,
         "text": [
          "甘宝宝"
         ],
         "textfont": {
          "size": 8
         },
         "textposition": "top center",
         "type": "scatter3d",
         "x": [
          -0.08776066452264786
         ],
         "y": [
          1.066217303276062
         ],
         "z": [
          1.3404209613800049
         ]
        },
        {
         "hovertemplate": "<b>%{hovertext}</b><br><br>Name=%{text}<br>PC1=%{x}<br>PC2=%{y}<br>PC3=%{z}<extra></extra>",
         "hovertext": [
          "宋长老"
         ],
         "legendgroup": "宋长老",
         "marker": {
          "color": "#636efa",
          "symbol": "circle"
         },
         "mode": "markers+text",
         "name": "宋长老",
         "scene": "scene",
         "showlegend": true,
         "text": [
          "宋长老"
         ],
         "textfont": {
          "size": 8
         },
         "textposition": "top center",
         "type": "scatter3d",
         "x": [
          0.1664953976869583
         ],
         "y": [
          1.0414695739746094
         ],
         "z": [
          1.7057826519012451
         ]
        },
        {
         "hovertemplate": "<b>%{hovertext}</b><br><br>Name=%{text}<br>PC1=%{x}<br>PC2=%{y}<br>PC3=%{z}<extra></extra>",
         "hovertext": [
          "室里"
         ],
         "legendgroup": "室里",
         "marker": {
          "color": "#EF553B",
          "symbol": "circle"
         },
         "mode": "markers+text",
         "name": "室里",
         "scene": "scene",
         "showlegend": true,
         "text": [
          "室里"
         ],
         "textfont": {
          "size": 8
         },
         "textposition": "top center",
         "type": "scatter3d",
         "x": [
          0.007338341325521469
         ],
         "y": [
          -0.8174673318862915
         ],
         "z": [
          -0.0871104970574379
         ]
        },
        {
         "hovertemplate": "<b>%{hovertext}</b><br><br>Name=%{text}<br>PC1=%{x}<br>PC2=%{y}<br>PC3=%{z}<extra></extra>",
         "hovertext": [
          "玄生"
         ],
         "legendgroup": "玄生",
         "marker": {
          "color": "#00cc96",
          "symbol": "circle"
         },
         "mode": "markers+text",
         "name": "玄生",
         "scene": "scene",
         "showlegend": true,
         "text": [
          "玄生"
         ],
         "textfont": {
          "size": 8
         },
         "textposition": "top center",
         "type": "scatter3d",
         "x": [
          0.6942358016967773
         ],
         "y": [
          1.0857086181640625
         ],
         "z": [
          0.6767016649246216
         ]
        },
        {
         "hovertemplate": "<b>%{hovertext}</b><br><br>Name=%{text}<br>PC1=%{x}<br>PC2=%{y}<br>PC3=%{z}<extra></extra>",
         "hovertext": [
          "梅剑"
         ],
         "legendgroup": "梅剑",
         "marker": {
          "color": "#ab63fa",
          "symbol": "circle"
         },
         "mode": "markers+text",
         "name": "梅剑",
         "scene": "scene",
         "showlegend": true,
         "text": [
          "梅剑"
         ],
         "textfont": {
          "size": 8
         },
         "textposition": "top center",
         "type": "scatter3d",
         "x": [
          -0.40159139037132263
         ],
         "y": [
          2.2812387943267822
         ],
         "z": [
          -0.09234531223773956
         ]
        },
        {
         "hovertemplate": "<b>%{hovertext}</b><br><br>Name=%{text}<br>PC1=%{x}<br>PC2=%{y}<br>PC3=%{z}<extra></extra>",
         "hovertext": [
          "卓不凡"
         ],
         "legendgroup": "卓不凡",
         "marker": {
          "color": "#FFA15A",
          "symbol": "circle"
         },
         "mode": "markers+text",
         "name": "卓不凡",
         "scene": "scene",
         "showlegend": true,
         "text": [
          "卓不凡"
         ],
         "textfont": {
          "size": 8
         },
         "textposition": "top center",
         "type": "scatter3d",
         "x": [
          1.526662826538086
         ],
         "y": [
          -0.9612346291542053
         ],
         "z": [
          -0.621135950088501
         ]
        },
        {
         "hovertemplate": "<b>%{hovertext}</b><br><br>Name=%{text}<br>PC1=%{x}<br>PC2=%{y}<br>PC3=%{z}<extra></extra>",
         "hovertext": [
          "郁光标"
         ],
         "legendgroup": "郁光标",
         "marker": {
          "color": "#19d3f3",
          "symbol": "circle"
         },
         "mode": "markers+text",
         "name": "郁光标",
         "scene": "scene",
         "showlegend": true,
         "text": [
          "郁光标"
         ],
         "textfont": {
          "size": 8
         },
         "textposition": "top center",
         "type": "scatter3d",
         "x": [
          -0.6203685998916626
         ],
         "y": [
          1.826635479927063
         ],
         "z": [
          -0.32128703594207764
         ]
        },
        {
         "hovertemplate": "<b>%{hovertext}</b><br><br>Name=%{text}<br>PC1=%{x}<br>PC2=%{y}<br>PC3=%{z}<extra></extra>",
         "hovertext": [
          "止清"
         ],
         "legendgroup": "止清",
         "marker": {
          "color": "#FF6692",
          "symbol": "circle"
         },
         "mode": "markers+text",
         "name": "止清",
         "scene": "scene",
         "showlegend": true,
         "text": [
          "止清"
         ],
         "textfont": {
          "size": 8
         },
         "textposition": "top center",
         "type": "scatter3d",
         "x": [
          -0.4430813193321228
         ],
         "y": [
          1.705705165863037
         ],
         "z": [
          0.14652587473392487
         ]
        },
        {
         "hovertemplate": "<b>%{hovertext}</b><br><br>Name=%{text}<br>PC1=%{x}<br>PC2=%{y}<br>PC3=%{z}<extra></extra>",
         "hovertext": [
          "段正明"
         ],
         "legendgroup": "段正明",
         "marker": {
          "color": "#B6E880",
          "symbol": "circle"
         },
         "mode": "markers+text",
         "name": "段正明",
         "scene": "scene",
         "showlegend": true,
         "text": [
          "段正明"
         ],
         "textfont": {
          "size": 8
         },
         "textposition": "top center",
         "type": "scatter3d",
         "x": [
          -0.10632780194282532
         ],
         "y": [
          0.26536795496940613
         ],
         "z": [
          0.7219928503036499
         ]
        },
        {
         "hovertemplate": "<b>%{hovertext}</b><br><br>Name=%{text}<br>PC1=%{x}<br>PC2=%{y}<br>PC3=%{z}<extra></extra>",
         "hovertext": [
          "岳老三"
         ],
         "legendgroup": "岳老三",
         "marker": {
          "color": "#FF97FF",
          "symbol": "circle"
         },
         "mode": "markers+text",
         "name": "岳老三",
         "scene": "scene",
         "showlegend": true,
         "text": [
          "岳老三"
         ],
         "textfont": {
          "size": 8
         },
         "textposition": "top center",
         "type": "scatter3d",
         "x": [
          -1.566652536392212
         ],
         "y": [
          -0.47006934881210327
         ],
         "z": [
          0.10320186614990234
         ]
        },
        {
         "hovertemplate": "<b>%{hovertext}</b><br><br>Name=%{text}<br>PC1=%{x}<br>PC2=%{y}<br>PC3=%{z}<extra></extra>",
         "hovertext": [
          "玄痛"
         ],
         "legendgroup": "玄痛",
         "marker": {
          "color": "#FECB52",
          "symbol": "circle"
         },
         "mode": "markers+text",
         "name": "玄痛",
         "scene": "scene",
         "showlegend": true,
         "text": [
          "玄痛"
         ],
         "textfont": {
          "size": 8
         },
         "textposition": "top center",
         "type": "scatter3d",
         "x": [
          1.278167724609375
         ],
         "y": [
          1.160811185836792
         ],
         "z": [
          1.2053903341293335
         ]
        },
        {
         "hovertemplate": "<b>%{hovertext}</b><br><br>Name=%{text}<br>PC1=%{x}<br>PC2=%{y}<br>PC3=%{z}<extra></extra>",
         "hovertext": [
          "太皇太后"
         ],
         "legendgroup": "太皇太后",
         "marker": {
          "color": "#636efa",
          "symbol": "circle"
         },
         "mode": "markers+text",
         "name": "太皇太后",
         "scene": "scene",
         "showlegend": true,
         "text": [
          "太皇太后"
         ],
         "textfont": {
          "size": 8
         },
         "textposition": "top center",
         "type": "scatter3d",
         "x": [
          -0.8148469924926758
         ],
         "y": [
          -1.0060946941375732
         ],
         "z": [
          -0.12431291490793228
         ]
        },
        {
         "hovertemplate": "<b>%{hovertext}</b><br><br>Name=%{text}<br>PC1=%{x}<br>PC2=%{y}<br>PC3=%{z}<extra></extra>",
         "hovertext": [
          "智光大师"
         ],
         "legendgroup": "智光大师",
         "marker": {
          "color": "#EF553B",
          "symbol": "circle"
         },
         "mode": "markers+text",
         "name": "智光大师",
         "scene": "scene",
         "showlegend": true,
         "text": [
          "智光大师"
         ],
         "textfont": {
          "size": 8
         },
         "textposition": "top center",
         "type": "scatter3d",
         "x": [
          -1.9838907718658447
         ],
         "y": [
          0.227610781788826
         ],
         "z": [
          0.9922385215759277
         ]
        },
        {
         "hovertemplate": "<b>%{hovertext}</b><br><br>Name=%{text}<br>PC1=%{x}<br>PC2=%{y}<br>PC3=%{z}<extra></extra>",
         "hovertext": [
          "兰剑"
         ],
         "legendgroup": "兰剑",
         "marker": {
          "color": "#00cc96",
          "symbol": "circle"
         },
         "mode": "markers+text",
         "name": "兰剑",
         "scene": "scene",
         "showlegend": true,
         "text": [
          "兰剑"
         ],
         "textfont": {
          "size": 8
         },
         "textposition": "top center",
         "type": "scatter3d",
         "x": [
          1.204379677772522
         ],
         "y": [
          -1.3780906200408936
         ],
         "z": [
          1.0025115013122559
         ]
        },
        {
         "hovertemplate": "<b>%{hovertext}</b><br><br>Name=%{text}<br>PC1=%{x}<br>PC2=%{y}<br>PC3=%{z}<extra></extra>",
         "hovertext": [
          "出尘子"
         ],
         "legendgroup": "出尘子",
         "marker": {
          "color": "#ab63fa",
          "symbol": "circle"
         },
         "mode": "markers+text",
         "name": "出尘子",
         "scene": "scene",
         "showlegend": true,
         "text": [
          "出尘子"
         ],
         "textfont": {
          "size": 8
         },
         "textposition": "top center",
         "type": "scatter3d",
         "x": [
          -0.9564582705497742
         ],
         "y": [
          -0.003191525349393487
         ],
         "z": [
          -1.0297834873199463
         ]
        },
        {
         "hovertemplate": "<b>%{hovertext}</b><br><br>Name=%{text}<br>PC1=%{x}<br>PC2=%{y}<br>PC3=%{z}<extra></extra>",
         "hovertext": [
          "瑞婆婆"
         ],
         "legendgroup": "瑞婆婆",
         "marker": {
          "color": "#FFA15A",
          "symbol": "circle"
         },
         "mode": "markers+text",
         "name": "瑞婆婆",
         "scene": "scene",
         "showlegend": true,
         "text": [
          "瑞婆婆"
         ],
         "textfont": {
          "size": 8
         },
         "textposition": "top center",
         "type": "scatter3d",
         "x": [
          -0.5751784443855286
         ],
         "y": [
          0.058334387838840485
         ],
         "z": [
          1.085172414779663
         ]
        },
        {
         "hovertemplate": "<b>%{hovertext}</b><br><br>Name=%{text}<br>PC1=%{x}<br>PC2=%{y}<br>PC3=%{z}<extra></extra>",
         "hovertext": [
          "龚光杰"
         ],
         "legendgroup": "龚光杰",
         "marker": {
          "color": "#19d3f3",
          "symbol": "circle"
         },
         "mode": "markers+text",
         "name": "龚光杰",
         "scene": "scene",
         "showlegend": true,
         "text": [
          "龚光杰"
         ],
         "textfont": {
          "size": 8
         },
         "textposition": "top center",
         "type": "scatter3d",
         "x": [
          1.2275744676589966
         ],
         "y": [
          -0.7566750645637512
         ],
         "z": [
          0.7026504278182983
         ]
        },
        {
         "hovertemplate": "<b>%{hovertext}</b><br><br>Name=%{text}<br>PC1=%{x}<br>PC2=%{y}<br>PC3=%{z}<extra></extra>",
         "hovertext": [
          "菊剑"
         ],
         "legendgroup": "菊剑",
         "marker": {
          "color": "#FF6692",
          "symbol": "circle"
         },
         "mode": "markers+text",
         "name": "菊剑",
         "scene": "scene",
         "showlegend": true,
         "text": [
          "菊剑"
         ],
         "textfont": {
          "size": 8
         },
         "textposition": "top center",
         "type": "scatter3d",
         "x": [
          -1.5491517782211304
         ],
         "y": [
          -0.20269562304019928
         ],
         "z": [
          -0.7903910279273987
         ]
        },
        {
         "hovertemplate": "<b>%{hovertext}</b><br><br>Name=%{text}<br>PC1=%{x}<br>PC2=%{y}<br>PC3=%{z}<extra></extra>",
         "hovertext": [
          "范百龄"
         ],
         "legendgroup": "范百龄",
         "marker": {
          "color": "#B6E880",
          "symbol": "circle"
         },
         "mode": "markers+text",
         "name": "范百龄",
         "scene": "scene",
         "showlegend": true,
         "text": [
          "范百龄"
         ],
         "textfont": {
          "size": 8
         },
         "textposition": "top center",
         "type": "scatter3d",
         "x": [
          -0.8252499103546143
         ],
         "y": [
          -0.20553790032863617
         ],
         "z": [
          -0.8194609880447388
         ]
        },
        {
         "hovertemplate": "<b>%{hovertext}</b><br><br>Name=%{text}<br>PC1=%{x}<br>PC2=%{y}<br>PC3=%{z}<extra></extra>",
         "hovertext": [
          "平婆婆"
         ],
         "legendgroup": "平婆婆",
         "marker": {
          "color": "#FF97FF",
          "symbol": "circle"
         },
         "mode": "markers+text",
         "name": "平婆婆",
         "scene": "scene",
         "showlegend": true,
         "text": [
          "平婆婆"
         ],
         "textfont": {
          "size": 8
         },
         "textposition": "top center",
         "type": "scatter3d",
         "x": [
          -1.2974343299865723
         ],
         "y": [
          0.20244094729423523
         ],
         "z": [
          1.6285628080368042
         ]
        },
        {
         "hovertemplate": "<b>%{hovertext}</b><br><br>Name=%{text}<br>PC1=%{x}<br>PC2=%{y}<br>PC3=%{z}<extra></extra>",
         "hovertext": [
          "傅思归"
         ],
         "legendgroup": "傅思归",
         "marker": {
          "color": "#FECB52",
          "symbol": "circle"
         },
         "mode": "markers+text",
         "name": "傅思归",
         "scene": "scene",
         "showlegend": true,
         "text": [
          "傅思归"
         ],
         "textfont": {
          "size": 8
         },
         "textposition": "top center",
         "type": "scatter3d",
         "x": [
          -0.18964041769504547
         ],
         "y": [
          -0.7488795518875122
         ],
         "z": [
          -1.556831955909729
         ]
        },
        {
         "hovertemplate": "<b>%{hovertext}</b><br><br>Name=%{text}<br>PC1=%{x}<br>PC2=%{y}<br>PC3=%{z}<extra></extra>",
         "hovertext": [
          "本参"
         ],
         "legendgroup": "本参",
         "marker": {
          "color": "#636efa",
          "symbol": "circle"
         },
         "mode": "markers+text",
         "name": "本参",
         "scene": "scene",
         "showlegend": true,
         "text": [
          "本参"
         ],
         "textfont": {
          "size": 8
         },
         "textposition": "top center",
         "type": "scatter3d",
         "x": [
          -2.2767674922943115
         ],
         "y": [
          -0.1711641550064087
         ],
         "z": [
          -0.9120886921882629
         ]
        },
        {
         "hovertemplate": "<b>%{hovertext}</b><br><br>Name=%{text}<br>PC1=%{x}<br>PC2=%{y}<br>PC3=%{z}<extra></extra>",
         "hovertext": [
          "缘根"
         ],
         "legendgroup": "缘根",
         "marker": {
          "color": "#EF553B",
          "symbol": "circle"
         },
         "mode": "markers+text",
         "name": "缘根",
         "scene": "scene",
         "showlegend": true,
         "text": [
          "缘根"
         ],
         "textfont": {
          "size": 8
         },
         "textposition": "top center",
         "type": "scatter3d",
         "x": [
          1.4139615297317505
         ],
         "y": [
          -0.4201143682003021
         ],
         "z": [
          1.4136348962783813
         ]
        },
        {
         "hovertemplate": "<b>%{hovertext}</b><br><br>Name=%{text}<br>PC1=%{x}<br>PC2=%{y}<br>PC3=%{z}<extra></extra>",
         "hovertext": [
          "神山上人"
         ],
         "legendgroup": "神山上人",
         "marker": {
          "color": "#00cc96",
          "symbol": "circle"
         },
         "mode": "markers+text",
         "name": "神山上人",
         "scene": "scene",
         "showlegend": true,
         "text": [
          "神山上人"
         ],
         "textfont": {
          "size": 8
         },
         "textposition": "top center",
         "type": "scatter3d",
         "x": [
          0.886984646320343
         ],
         "y": [
          1.012019157409668
         ],
         "z": [
          -0.04422297328710556
         ]
        },
        {
         "hovertemplate": "<b>%{hovertext}</b><br><br>Name=%{text}<br>PC1=%{x}<br>PC2=%{y}<br>PC3=%{z}<extra></extra>",
         "hovertext": [
          "赫连铁树"
         ],
         "legendgroup": "赫连铁树",
         "marker": {
          "color": "#ab63fa",
          "symbol": "circle"
         },
         "mode": "markers+text",
         "name": "赫连铁树",
         "scene": "scene",
         "showlegend": true,
         "text": [
          "赫连铁树"
         ],
         "textfont": {
          "size": 8
         },
         "textposition": "top center",
         "type": "scatter3d",
         "x": [
          0.029222581535577774
         ],
         "y": [
          -0.14294041693210602
         ],
         "z": [
          0.33859798312187195
         ]
        },
        {
         "hovertemplate": "<b>%{hovertext}</b><br><br>Name=%{text}<br>PC1=%{x}<br>PC2=%{y}<br>PC3=%{z}<extra></extra>",
         "hovertext": [
          "鲍千灵"
         ],
         "legendgroup": "鲍千灵",
         "marker": {
          "color": "#FFA15A",
          "symbol": "circle"
         },
         "mode": "markers+text",
         "name": "鲍千灵",
         "scene": "scene",
         "showlegend": true,
         "text": [
          "鲍千灵"
         ],
         "textfont": {
          "size": 8
         },
         "textposition": "top center",
         "type": "scatter3d",
         "x": [
          -0.6896219849586487
         ],
         "y": [
          -0.5869060754776001
         ],
         "z": [
          -0.9441419243812561
         ]
        },
        {
         "hovertemplate": "<b>%{hovertext}</b><br><br>Name=%{text}<br>PC1=%{x}<br>PC2=%{y}<br>PC3=%{z}<extra></extra>",
         "hovertext": [
          "严妈妈"
         ],
         "legendgroup": "严妈妈",
         "marker": {
          "color": "#19d3f3",
          "symbol": "circle"
         },
         "mode": "markers+text",
         "name": "严妈妈",
         "scene": "scene",
         "showlegend": true,
         "text": [
          "严妈妈"
         ],
         "textfont": {
          "size": 8
         },
         "textposition": "top center",
         "type": "scatter3d",
         "x": [
          -0.608473539352417
         ],
         "y": [
          -0.3507680892944336
         ],
         "z": [
          -0.034521155059337616
         ]
        },
        {
         "hovertemplate": "<b>%{hovertext}</b><br><br>Name=%{text}<br>PC1=%{x}<br>PC2=%{y}<br>PC3=%{z}<extra></extra>",
         "hovertext": [
          "吴长风"
         ],
         "legendgroup": "吴长风",
         "marker": {
          "color": "#FF6692",
          "symbol": "circle"
         },
         "mode": "markers+text",
         "name": "吴长风",
         "scene": "scene",
         "showlegend": true,
         "text": [
          "吴长风"
         ],
         "textfont": {
          "size": 8
         },
         "textposition": "top center",
         "type": "scatter3d",
         "x": [
          -1.308233618736267
         ],
         "y": [
          0.4900144636631012
         ],
         "z": [
          -0.20777693390846252
         ]
        },
        {
         "hovertemplate": "<b>%{hovertext}</b><br><br>Name=%{text}<br>PC1=%{x}<br>PC2=%{y}<br>PC3=%{z}<extra></extra>",
         "hovertext": [
          "本观"
         ],
         "legendgroup": "本观",
         "marker": {
          "color": "#B6E880",
          "symbol": "circle"
         },
         "mode": "markers+text",
         "name": "本观",
         "scene": "scene",
         "showlegend": true,
         "text": [
          "本观"
         ],
         "textfont": {
          "size": 8
         },
         "textposition": "top center",
         "type": "scatter3d",
         "x": [
          0.7066004872322083
         ],
         "y": [
          -1.615716814994812
         ],
         "z": [
          -0.6922082304954529
         ]
        },
        {
         "hovertemplate": "<b>%{hovertext}</b><br><br>Name=%{text}<br>PC1=%{x}<br>PC2=%{y}<br>PC3=%{z}<extra></extra>",
         "hovertext": [
          "古笃诚"
         ],
         "legendgroup": "古笃诚",
         "marker": {
          "color": "#FF97FF",
          "symbol": "circle"
         },
         "mode": "markers+text",
         "name": "古笃诚",
         "scene": "scene",
         "showlegend": true,
         "text": [
          "古笃诚"
         ],
         "textfont": {
          "size": 8
         },
         "textposition": "top center",
         "type": "scatter3d",
         "x": [
          -0.5286065340042114
         ],
         "y": [
          -0.4168151617050171
         ],
         "z": [
          0.073999784886837
         ]
        },
        {
         "hovertemplate": "<b>%{hovertext}</b><br><br>Name=%{text}<br>PC1=%{x}<br>PC2=%{y}<br>PC3=%{z}<extra></extra>",
         "hovertext": [
          "本相"
         ],
         "legendgroup": "本相",
         "marker": {
          "color": "#FECB52",
          "symbol": "circle"
         },
         "mode": "markers+text",
         "name": "本相",
         "scene": "scene",
         "showlegend": true,
         "text": [
          "本相"
         ],
         "textfont": {
          "size": 8
         },
         "textposition": "top center",
         "type": "scatter3d",
         "x": [
          0.07726062834262848
         ],
         "y": [
          -0.8801370859146118
         ],
         "z": [
          0.3332144021987915
         ]
        },
        {
         "hovertemplate": "<b>%{hovertext}</b><br><br>Name=%{text}<br>PC1=%{x}<br>PC2=%{y}<br>PC3=%{z}<extra></extra>",
         "hovertext": [
          "游骥"
         ],
         "legendgroup": "游骥",
         "marker": {
          "color": "#636efa",
          "symbol": "circle"
         },
         "mode": "markers+text",
         "name": "游骥",
         "scene": "scene",
         "showlegend": true,
         "text": [
          "游骥"
         ],
         "textfont": {
          "size": 8
         },
         "textposition": "top center",
         "type": "scatter3d",
         "x": [
          -1.792612910270691
         ],
         "y": [
          0.04016059637069702
         ],
         "z": [
          0.28656697273254395
         ]
        },
        {
         "hovertemplate": "<b>%{hovertext}</b><br><br>Name=%{text}<br>PC1=%{x}<br>PC2=%{y}<br>PC3=%{z}<extra></extra>",
         "hovertext": [
          "易大彪"
         ],
         "legendgroup": "易大彪",
         "marker": {
          "color": "#EF553B",
          "symbol": "circle"
         },
         "mode": "markers+text",
         "name": "易大彪",
         "scene": "scene",
         "showlegend": true,
         "text": [
          "易大彪"
         ],
         "textfont": {
          "size": 8
         },
         "textposition": "top center",
         "type": "scatter3d",
         "x": [
          -1.3759948015213013
         ],
         "y": [
          -0.3358718454837799
         ],
         "z": [
          -1.243208646774292
         ]
        },
        {
         "hovertemplate": "<b>%{hovertext}</b><br><br>Name=%{text}<br>PC1=%{x}<br>PC2=%{y}<br>PC3=%{z}<extra></extra>",
         "hovertext": [
          "慧真"
         ],
         "legendgroup": "慧真",
         "marker": {
          "color": "#00cc96",
          "symbol": "circle"
         },
         "mode": "markers+text",
         "name": "慧真",
         "scene": "scene",
         "showlegend": true,
         "text": [
          "慧真"
         ],
         "textfont": {
          "size": 8
         },
         "textposition": "top center",
         "type": "scatter3d",
         "x": [
          1.4669487476348877
         ],
         "y": [
          -0.47770437598228455
         ],
         "z": [
          -0.7414315938949585
         ]
        },
        {
         "hovertemplate": "<b>%{hovertext}</b><br><br>Name=%{text}<br>PC1=%{x}<br>PC2=%{y}<br>PC3=%{z}<extra></extra>",
         "hovertext": [
          "慧净"
         ],
         "legendgroup": "慧净",
         "marker": {
          "color": "#ab63fa",
          "symbol": "circle"
         },
         "mode": "markers+text",
         "name": "慧净",
         "scene": "scene",
         "showlegend": true,
         "text": [
          "慧净"
         ],
         "textfont": {
          "size": 8
         },
         "textposition": "top center",
         "type": "scatter3d",
         "x": [
          -0.022992683574557304
         ],
         "y": [
          1.3969128131866455
         ],
         "z": [
          -0.9393903017044067
         ]
        },
        {
         "hovertemplate": "<b>%{hovertext}</b><br><br>Name=%{text}<br>PC1=%{x}<br>PC2=%{y}<br>PC3=%{z}<extra></extra>",
         "hovertext": [
          "李傀儡"
         ],
         "legendgroup": "李傀儡",
         "marker": {
          "color": "#FFA15A",
          "symbol": "circle"
         },
         "mode": "markers+text",
         "name": "李傀儡",
         "scene": "scene",
         "showlegend": true,
         "text": [
          "李傀儡"
         ],
         "textfont": {
          "size": 8
         },
         "textposition": "top center",
         "type": "scatter3d",
         "x": [
          -0.21412751078605652
         ],
         "y": [
          -0.39171719551086426
         ],
         "z": [
          -0.5457983613014221
         ]
        },
        {
         "hovertemplate": "<b>%{hovertext}</b><br><br>Name=%{text}<br>PC1=%{x}<br>PC2=%{y}<br>PC3=%{z}<extra></extra>",
         "hovertext": [
          "奚长老"
         ],
         "legendgroup": "奚长老",
         "marker": {
          "color": "#19d3f3",
          "symbol": "circle"
         },
         "mode": "markers+text",
         "name": "奚长老",
         "scene": "scene",
         "showlegend": true,
         "text": [
          "奚长老"
         ],
         "textfont": {
          "size": 8
         },
         "textposition": "top center",
         "type": "scatter3d",
         "x": [
          -0.10440270602703094
         ],
         "y": [
          -0.15306061506271362
         ],
         "z": [
          -1.295166015625
         ]
        },
        {
         "hovertemplate": "<b>%{hovertext}</b><br><br>Name=%{text}<br>PC1=%{x}<br>PC2=%{y}<br>PC3=%{z}<extra></extra>",
         "hovertext": [
          "慧方"
         ],
         "legendgroup": "慧方",
         "marker": {
          "color": "#FF6692",
          "symbol": "circle"
         },
         "mode": "markers+text",
         "name": "慧方",
         "scene": "scene",
         "showlegend": true,
         "text": [
          "慧方"
         ],
         "textfont": {
          "size": 8
         },
         "textposition": "top center",
         "type": "scatter3d",
         "x": [
          0.43376144766807556
         ],
         "y": [
          0.38671186566352844
         ],
         "z": [
          0.11538408696651459
         ]
        },
        {
         "hovertemplate": "<b>%{hovertext}</b><br><br>Name=%{text}<br>PC1=%{x}<br>PC2=%{y}<br>PC3=%{z}<extra></extra>",
         "hovertext": [
          "宗赞王子"
         ],
         "legendgroup": "宗赞王子",
         "marker": {
          "color": "#B6E880",
          "symbol": "circle"
         },
         "mode": "markers+text",
         "name": "宗赞王子",
         "scene": "scene",
         "showlegend": true,
         "text": [
          "宗赞王子"
         ],
         "textfont": {
          "size": 8
         },
         "textposition": "top center",
         "type": "scatter3d",
         "x": [
          0.4499839246273041
         ],
         "y": [
          2.5489795207977295
         ],
         "z": [
          0.7960554957389832
         ]
        },
        {
         "hovertemplate": "<b>%{hovertext}</b><br><br>Name=%{text}<br>PC1=%{x}<br>PC2=%{y}<br>PC3=%{z}<extra></extra>",
         "hovertext": [
          "竹剑"
         ],
         "legendgroup": "竹剑",
         "marker": {
          "color": "#FF97FF",
          "symbol": "circle"
         },
         "mode": "markers+text",
         "name": "竹剑",
         "scene": "scene",
         "showlegend": true,
         "text": [
          "竹剑"
         ],
         "textfont": {
          "size": 8
         },
         "textposition": "top center",
         "type": "scatter3d",
         "x": [
          -1.5950040817260742
         ],
         "y": [
          -0.16508780419826508
         ],
         "z": [
          0.2952556014060974
         ]
        },
        {
         "hovertemplate": "<b>%{hovertext}</b><br><br>Name=%{text}<br>PC1=%{x}<br>PC2=%{y}<br>PC3=%{z}<extra></extra>",
         "hovertext": [
          "游驹"
         ],
         "legendgroup": "游驹",
         "marker": {
          "color": "#FECB52",
          "symbol": "circle"
         },
         "mode": "markers+text",
         "name": "游驹",
         "scene": "scene",
         "showlegend": true,
         "text": [
          "游驹"
         ],
         "textfont": {
          "size": 8
         },
         "textposition": "top center",
         "type": "scatter3d",
         "x": [
          -1.589280366897583
         ],
         "y": [
          0.7714617848396301
         ],
         "z": [
          0.7919567823410034
         ]
        },
        {
         "hovertemplate": "<b>%{hovertext}</b><br><br>Name=%{text}<br>PC1=%{x}<br>PC2=%{y}<br>PC3=%{z}<extra></extra>",
         "hovertext": [
          "穆贵妃"
         ],
         "legendgroup": "穆贵妃",
         "marker": {
          "color": "#636efa",
          "symbol": "circle"
         },
         "mode": "markers+text",
         "name": "穆贵妃",
         "scene": "scene",
         "showlegend": true,
         "text": [
          "穆贵妃"
         ],
         "textfont": {
          "size": 8
         },
         "textposition": "top center",
         "type": "scatter3d",
         "x": [
          -1.5473562479019165
         ],
         "y": [
          0.8031017184257507
         ],
         "z": [
          0.03585975989699364
         ]
        },
        {
         "hovertemplate": "<b>%{hovertext}</b><br><br>Name=%{text}<br>PC1=%{x}<br>PC2=%{y}<br>PC3=%{z}<extra></extra>",
         "hovertext": [
          "冯阿三"
         ],
         "legendgroup": "冯阿三",
         "marker": {
          "color": "#EF553B",
          "symbol": "circle"
         },
         "mode": "markers+text",
         "name": "冯阿三",
         "scene": "scene",
         "showlegend": true,
         "text": [
          "冯阿三"
         ],
         "textfont": {
          "size": 8
         },
         "textposition": "top center",
         "type": "scatter3d",
         "x": [
          0.2372601479291916
         ],
         "y": [
          1.0273419618606567
         ],
         "z": [
          -0.07110672444105148
         ]
        },
        {
         "hovertemplate": "<b>%{hovertext}</b><br><br>Name=%{text}<br>PC1=%{x}<br>PC2=%{y}<br>PC3=%{z}<extra></extra>",
         "hovertext": [
          "辛双清"
         ],
         "legendgroup": "辛双清",
         "marker": {
          "color": "#00cc96",
          "symbol": "circle"
         },
         "mode": "markers+text",
         "name": "辛双清",
         "scene": "scene",
         "showlegend": true,
         "text": [
          "辛双清"
         ],
         "textfont": {
          "size": 8
         },
         "textposition": "top center",
         "type": "scatter3d",
         "x": [
          -0.9200268983840942
         ],
         "y": [
          0.0401298962533474
         ],
         "z": [
          1.3119734525680542
         ]
        },
        {
         "hovertemplate": "<b>%{hovertext}</b><br><br>Name=%{text}<br>PC1=%{x}<br>PC2=%{y}<br>PC3=%{z}<extra></extra>",
         "hovertext": [
          "努儿海"
         ],
         "legendgroup": "努儿海",
         "marker": {
          "color": "#ab63fa",
          "symbol": "circle"
         },
         "mode": "markers+text",
         "name": "努儿海",
         "scene": "scene",
         "showlegend": true,
         "text": [
          "努儿海"
         ],
         "textfont": {
          "size": 8
         },
         "textposition": "top center",
         "type": "scatter3d",
         "x": [
          0.8410559296607971
         ],
         "y": [
          0.9304425716400146
         ],
         "z": [
          0.8579702377319336
         ]
        },
        {
         "hovertemplate": "<b>%{hovertext}</b><br><br>Name=%{text}<br>PC1=%{x}<br>PC2=%{y}<br>PC3=%{z}<extra></extra>",
         "hovertext": [
          "苏辙"
         ],
         "legendgroup": "苏辙",
         "marker": {
          "color": "#FFA15A",
          "symbol": "circle"
         },
         "mode": "markers+text",
         "name": "苏辙",
         "scene": "scene",
         "showlegend": true,
         "text": [
          "苏辙"
         ],
         "textfont": {
          "size": 8
         },
         "textposition": "top center",
         "type": "scatter3d",
         "x": [
          2.18318510055542
         ],
         "y": [
          0.72023606300354
         ],
         "z": [
          0.8137032389640808
         ]
        },
        {
         "hovertemplate": "<b>%{hovertext}</b><br><br>Name=%{text}<br>PC1=%{x}<br>PC2=%{y}<br>PC3=%{z}<extra></extra>",
         "hovertext": [
          "石嫂"
         ],
         "legendgroup": "石嫂",
         "marker": {
          "color": "#19d3f3",
          "symbol": "circle"
         },
         "mode": "markers+text",
         "name": "石嫂",
         "scene": "scene",
         "showlegend": true,
         "text": [
          "石嫂"
         ],
         "textfont": {
          "size": 8
         },
         "textposition": "top center",
         "type": "scatter3d",
         "x": [
          -0.5789828896522522
         ],
         "y": [
          1.1980557441711426
         ],
         "z": [
          2.055281400680542
         ]
        },
        {
         "hovertemplate": "<b>%{hovertext}</b><br><br>Name=%{text}<br>PC1=%{x}<br>PC2=%{y}<br>PC3=%{z}<extra></extra>",
         "hovertext": [
          "来福儿"
         ],
         "legendgroup": "来福儿",
         "marker": {
          "color": "#FF6692",
          "symbol": "circle"
         },
         "mode": "markers+text",
         "name": "来福儿",
         "scene": "scene",
         "showlegend": true,
         "text": [
          "来福儿"
         ],
         "textfont": {
          "size": 8
         },
         "textposition": "top center",
         "type": "scatter3d",
         "x": [
          -0.4030954837799072
         ],
         "y": [
          -0.4600662291049957
         ],
         "z": [
          -1.2357087135314941
         ]
        },
        {
         "hovertemplate": "<b>%{hovertext}</b><br><br>Name=%{text}<br>PC1=%{x}<br>PC2=%{y}<br>PC3=%{z}<extra></extra>",
         "hovertext": [
          "慧观"
         ],
         "legendgroup": "慧观",
         "marker": {
          "color": "#B6E880",
          "symbol": "circle"
         },
         "mode": "markers+text",
         "name": "慧观",
         "scene": "scene",
         "showlegend": true,
         "text": [
          "慧观"
         ],
         "textfont": {
          "size": 8
         },
         "textposition": "top center",
         "type": "scatter3d",
         "x": [
          0.7619813084602356
         ],
         "y": [
          0.48859959840774536
         ],
         "z": [
          -0.9627662301063538
         ]
        },
        {
         "hovertemplate": "<b>%{hovertext}</b><br><br>Name=%{text}<br>PC1=%{x}<br>PC2=%{y}<br>PC3=%{z}<extra></extra>",
         "hovertext": [
          "马五德"
         ],
         "legendgroup": "马五德",
         "marker": {
          "color": "#FF97FF",
          "symbol": "circle"
         },
         "mode": "markers+text",
         "name": "马五德",
         "scene": "scene",
         "showlegend": true,
         "text": [
          "马五德"
         ],
         "textfont": {
          "size": 8
         },
         "textposition": "top center",
         "type": "scatter3d",
         "x": [
          -0.26122283935546875
         ],
         "y": [
          -2.5782721042633057
         ],
         "z": [
          -1.847486972808838
         ]
        },
        {
         "hovertemplate": "<b>%{hovertext}</b><br><br>Name=%{text}<br>PC1=%{x}<br>PC2=%{y}<br>PC3=%{z}<extra></extra>",
         "hovertext": [
          "哈大霸"
         ],
         "legendgroup": "哈大霸",
         "marker": {
          "color": "#FECB52",
          "symbol": "circle"
         },
         "mode": "markers+text",
         "name": "哈大霸",
         "scene": "scene",
         "showlegend": true,
         "text": [
          "哈大霸"
         ],
         "textfont": {
          "size": 8
         },
         "textposition": "top center",
         "type": "scatter3d",
         "x": [
          -0.23618486523628235
         ],
         "y": [
          0.9087668657302856
         ],
         "z": [
          0.16731560230255127
         ]
        },
        {
         "hovertemplate": "<b>%{hovertext}</b><br><br>Name=%{text}<br>PC1=%{x}<br>PC2=%{y}<br>PC3=%{z}<extra></extra>",
         "hovertext": [
          "崔绿华"
         ],
         "legendgroup": "崔绿华",
         "marker": {
          "color": "#636efa",
          "symbol": "circle"
         },
         "mode": "markers+text",
         "name": "崔绿华",
         "scene": "scene",
         "showlegend": true,
         "text": [
          "崔绿华"
         ],
         "textfont": {
          "size": 8
         },
         "textposition": "top center",
         "type": "scatter3d",
         "x": [
          -0.6480807662010193
         ],
         "y": [
          -1.5052012205123901
         ],
         "z": [
          -1.0492591857910156
         ]
        },
        {
         "hovertemplate": "<b>%{hovertext}</b><br><br>Name=%{text}<br>PC1=%{x}<br>PC2=%{y}<br>PC3=%{z}<extra></extra>",
         "hovertext": [
          "幽草"
         ],
         "legendgroup": "幽草",
         "marker": {
          "color": "#EF553B",
          "symbol": "circle"
         },
         "mode": "markers+text",
         "name": "幽草",
         "scene": "scene",
         "showlegend": true,
         "text": [
          "幽草"
         ],
         "textfont": {
          "size": 8
         },
         "textposition": "top center",
         "type": "scatter3d",
         "x": [
          0.9001832008361816
         ],
         "y": [
          -0.17837873101234436
         ],
         "z": [
          -0.8678849339485168
         ]
        },
        {
         "hovertemplate": "<b>%{hovertext}</b><br><br>Name=%{text}<br>PC1=%{x}<br>PC2=%{y}<br>PC3=%{z}<extra></extra>",
         "hovertext": [
          "梦姑"
         ],
         "legendgroup": "梦姑",
         "marker": {
          "color": "#00cc96",
          "symbol": "circle"
         },
         "mode": "markers+text",
         "name": "梦姑",
         "scene": "scene",
         "showlegend": true,
         "text": [
          "梦姑"
         ],
         "textfont": {
          "size": 8
         },
         "textposition": "top center",
         "type": "scatter3d",
         "x": [
          -2.0627505779266357
         ],
         "y": [
          -2.085418462753296
         ],
         "z": [
          0.7549026012420654
         ]
        },
        {
         "hovertemplate": "<b>%{hovertext}</b><br><br>Name=%{text}<br>PC1=%{x}<br>PC2=%{y}<br>PC3=%{z}<extra></extra>",
         "hovertext": [
          "谭青"
         ],
         "legendgroup": "谭青",
         "marker": {
          "color": "#ab63fa",
          "symbol": "circle"
         },
         "mode": "markers+text",
         "name": "谭青",
         "scene": "scene",
         "showlegend": true,
         "text": [
          "谭青"
         ],
         "textfont": {
          "size": 8
         },
         "textposition": "top center",
         "type": "scatter3d",
         "x": [
          -0.8194762468338013
         ],
         "y": [
          0.9390038251876831
         ],
         "z": [
          0.4666145443916321
         ]
        },
        {
         "hovertemplate": "<b>%{hovertext}</b><br><br>Name=%{text}<br>PC1=%{x}<br>PC2=%{y}<br>PC3=%{z}<extra></extra>",
         "hovertext": [
          "符敏仪"
         ],
         "legendgroup": "符敏仪",
         "marker": {
          "color": "#FFA15A",
          "symbol": "circle"
         },
         "mode": "markers+text",
         "name": "符敏仪",
         "scene": "scene",
         "showlegend": true,
         "text": [
          "符敏仪"
         ],
         "textfont": {
          "size": 8
         },
         "textposition": "top center",
         "type": "scatter3d",
         "x": [
          1.0883867740631104
         ],
         "y": [
          1.480138897895813
         ],
         "z": [
          -0.7005673050880432
         ]
        },
        {
         "hovertemplate": "<b>%{hovertext}</b><br><br>Name=%{text}<br>PC1=%{x}<br>PC2=%{y}<br>PC3=%{z}<extra></extra>",
         "hovertext": [
          "朴者和尚"
         ],
         "legendgroup": "朴者和尚",
         "marker": {
          "color": "#19d3f3",
          "symbol": "circle"
         },
         "mode": "markers+text",
         "name": "朴者和尚",
         "scene": "scene",
         "showlegend": true,
         "text": [
          "朴者和尚"
         ],
         "textfont": {
          "size": 8
         },
         "textposition": "top center",
         "type": "scatter3d",
         "x": [
          0.9673122763633728
         ],
         "y": [
          -1.1487765312194824
         ],
         "z": [
          -0.10205778479576111
         ]
        },
        {
         "hovertemplate": "<b>%{hovertext}</b><br><br>Name=%{text}<br>PC1=%{x}<br>PC2=%{y}<br>PC3=%{z}<extra></extra>",
         "hovertext": [
          "贾老者"
         ],
         "legendgroup": "贾老者",
         "marker": {
          "color": "#FF6692",
          "symbol": "circle"
         },
         "mode": "markers+text",
         "name": "贾老者",
         "scene": "scene",
         "showlegend": true,
         "text": [
          "贾老者"
         ],
         "textfont": {
          "size": 8
         },
         "textposition": "top center",
         "type": "scatter3d",
         "x": [
          0.8290318846702576
         ],
         "y": [
          0.6741179823875427
         ],
         "z": [
          1.0233620405197144
         ]
        },
        {
         "hovertemplate": "<b>%{hovertext}</b><br><br>Name=%{text}<br>PC1=%{x}<br>PC2=%{y}<br>PC3=%{z}<extra></extra>",
         "hovertext": [
          "余婆婆"
         ],
         "legendgroup": "余婆婆",
         "marker": {
          "color": "#B6E880",
          "symbol": "circle"
         },
         "mode": "markers+text",
         "name": "余婆婆",
         "scene": "scene",
         "showlegend": true,
         "text": [
          "余婆婆"
         ],
         "textfont": {
          "size": 8
         },
         "textposition": "top center",
         "type": "scatter3d",
         "x": [
          1.2681453227996826
         ],
         "y": [
          -0.9618390798568726
         ],
         "z": [
          1.568771243095398
         ]
        },
        {
         "hovertemplate": "<b>%{hovertext}</b><br><br>Name=%{text}<br>PC1=%{x}<br>PC2=%{y}<br>PC3=%{z}<extra></extra>",
         "hovertext": [
          "吴领军"
         ],
         "legendgroup": "吴领军",
         "marker": {
          "color": "#FF97FF",
          "symbol": "circle"
         },
         "mode": "markers+text",
         "name": "吴领军",
         "scene": "scene",
         "showlegend": true,
         "text": [
          "吴领军"
         ],
         "textfont": {
          "size": 8
         },
         "textposition": "top center",
         "type": "scatter3d",
         "x": [
          -0.5614626407623291
         ],
         "y": [
          -1.4417200088500977
         ],
         "z": [
          0.6159389019012451
         ]
        },
        {
         "hovertemplate": "<b>%{hovertext}</b><br><br>Name=%{text}<br>PC1=%{x}<br>PC2=%{y}<br>PC3=%{z}<extra></extra>",
         "hovertext": [
          "苟读"
         ],
         "legendgroup": "苟读",
         "marker": {
          "color": "#FECB52",
          "symbol": "circle"
         },
         "mode": "markers+text",
         "name": "苟读",
         "scene": "scene",
         "showlegend": true,
         "text": [
          "苟读"
         ],
         "textfont": {
          "size": 8
         },
         "textposition": "top center",
         "type": "scatter3d",
         "x": [
          2.1634464263916016
         ],
         "y": [
          -2.3631417751312256
         ],
         "z": [
          -0.6137476563453674
         ]
        },
        {
         "hovertemplate": "<b>%{hovertext}</b><br><br>Name=%{text}<br>PC1=%{x}<br>PC2=%{y}<br>PC3=%{z}<extra></extra>",
         "hovertext": [
          "单伯山"
         ],
         "legendgroup": "单伯山",
         "marker": {
          "color": "#636efa",
          "symbol": "circle"
         },
         "mode": "markers+text",
         "name": "单伯山",
         "scene": "scene",
         "showlegend": true,
         "text": [
          "单伯山"
         ],
         "textfont": {
          "size": 8
         },
         "textposition": "top center",
         "type": "scatter3d",
         "x": [
          -0.6904309988021851
         ],
         "y": [
          -0.3257518708705902
         ],
         "z": [
          -0.4614563584327698
         ]
        },
        {
         "hovertemplate": "<b>%{hovertext}</b><br><br>Name=%{text}<br>PC1=%{x}<br>PC2=%{y}<br>PC3=%{z}<extra></extra>",
         "hovertext": [
          "张全祥"
         ],
         "legendgroup": "张全祥",
         "marker": {
          "color": "#EF553B",
          "symbol": "circle"
         },
         "mode": "markers+text",
         "name": "张全祥",
         "scene": "scene",
         "showlegend": true,
         "text": [
          "张全祥"
         ],
         "textfont": {
          "size": 8
         },
         "textposition": "top center",
         "type": "scatter3d",
         "x": [
          -1.4180468320846558
         ],
         "y": [
          -0.6278719902038574
         ],
         "z": [
          -1.7430111169815063
         ]
        },
        {
         "hovertemplate": "<b>%{hovertext}</b><br><br>Name=%{text}<br>PC1=%{x}<br>PC2=%{y}<br>PC3=%{z}<extra></extra>",
         "hovertext": [
          "耶律莫哥"
         ],
         "legendgroup": "耶律莫哥",
         "marker": {
          "color": "#00cc96",
          "symbol": "circle"
         },
         "mode": "markers+text",
         "name": "耶律莫哥",
         "scene": "scene",
         "showlegend": true,
         "text": [
          "耶律莫哥"
         ],
         "textfont": {
          "size": 8
         },
         "textposition": "top center",
         "type": "scatter3d",
         "x": [
          -0.05658826231956482
         ],
         "y": [
          1.1997864246368408
         ],
         "z": [
          -0.32323020696640015
         ]
        },
        {
         "hovertemplate": "<b>%{hovertext}</b><br><br>Name=%{text}<br>PC1=%{x}<br>PC2=%{y}<br>PC3=%{z}<extra></extra>",
         "hovertext": [
          "天狼子"
         ],
         "legendgroup": "天狼子",
         "marker": {
          "color": "#ab63fa",
          "symbol": "circle"
         },
         "mode": "markers+text",
         "name": "天狼子",
         "scene": "scene",
         "showlegend": true,
         "text": [
          "天狼子"
         ],
         "textfont": {
          "size": 8
         },
         "textposition": "top center",
         "type": "scatter3d",
         "x": [
          0.26015207171440125
         ],
         "y": [
          -0.4880114495754242
         ],
         "z": [
          0.06374947726726532
         ]
        },
        {
         "hovertemplate": "<b>%{hovertext}</b><br><br>Name=%{text}<br>PC1=%{x}<br>PC2=%{y}<br>PC3=%{z}<extra></extra>",
         "hovertext": [
          "葛光佩"
         ],
         "legendgroup": "葛光佩",
         "marker": {
          "color": "#FFA15A",
          "symbol": "circle"
         },
         "mode": "markers+text",
         "name": "葛光佩",
         "scene": "scene",
         "showlegend": true,
         "text": [
          "葛光佩"
         ],
         "textfont": {
          "size": 8
         },
         "textposition": "top center",
         "type": "scatter3d",
         "x": [
          -0.2279481738805771
         ],
         "y": [
          0.9979507327079773
         ],
         "z": [
          2.0033459663391113
         ]
        },
        {
         "hovertemplate": "<b>%{hovertext}</b><br><br>Name=%{text}<br>PC1=%{x}<br>PC2=%{y}<br>PC3=%{z}<extra></extra>",
         "hovertext": [
          "神音"
         ],
         "legendgroup": "神音",
         "marker": {
          "color": "#19d3f3",
          "symbol": "circle"
         },
         "mode": "markers+text",
         "name": "神音",
         "scene": "scene",
         "showlegend": true,
         "text": [
          "神音"
         ],
         "textfont": {
          "size": 8
         },
         "textposition": "top center",
         "type": "scatter3d",
         "x": [
          1.0188084840774536
         ],
         "y": [
          0.7183035612106323
         ],
         "z": [
          0.04532727599143982
         ]
        },
        {
         "hovertemplate": "<b>%{hovertext}</b><br><br>Name=%{text}<br>PC1=%{x}<br>PC2=%{y}<br>PC3=%{z}<extra></extra>",
         "hovertext": [
          "容子矩"
         ],
         "legendgroup": "容子矩",
         "marker": {
          "color": "#FF6692",
          "symbol": "circle"
         },
         "mode": "markers+text",
         "name": "容子矩",
         "scene": "scene",
         "showlegend": true,
         "text": [
          "容子矩"
         ],
         "textfont": {
          "size": 8
         },
         "textposition": "top center",
         "type": "scatter3d",
         "x": [
          1.1639198064804077
         ],
         "y": [
          -0.64319908618927
         ],
         "z": [
          -1.3600651025772095
         ]
        },
        {
         "hovertemplate": "<b>%{hovertext}</b><br><br>Name=%{text}<br>PC1=%{x}<br>PC2=%{y}<br>PC3=%{z}<extra></extra>",
         "hovertext": [
          "李春来"
         ],
         "legendgroup": "李春来",
         "marker": {
          "color": "#B6E880",
          "symbol": "circle"
         },
         "mode": "markers+text",
         "name": "李春来",
         "scene": "scene",
         "showlegend": true,
         "text": [
          "李春来"
         ],
         "textfont": {
          "size": 8
         },
         "textposition": "top center",
         "type": "scatter3d",
         "x": [
          -1.2606695890426636
         ],
         "y": [
          0.900652289390564
         ],
         "z": [
          -0.12136343866586685
         ]
        },
        {
         "hovertemplate": "<b>%{hovertext}</b><br><br>Name=%{text}<br>PC1=%{x}<br>PC2=%{y}<br>PC3=%{z}<extra></extra>",
         "hovertext": [
          "端木元"
         ],
         "legendgroup": "端木元",
         "marker": {
          "color": "#FF97FF",
          "symbol": "circle"
         },
         "mode": "markers+text",
         "name": "端木元",
         "scene": "scene",
         "showlegend": true,
         "text": [
          "端木元"
         ],
         "textfont": {
          "size": 8
         },
         "textposition": "top center",
         "type": "scatter3d",
         "x": [
          -0.77951979637146
         ],
         "y": [
          0.0069121490232646465
         ],
         "z": [
          0.5196734666824341
         ]
        },
        {
         "hovertemplate": "<b>%{hovertext}</b><br><br>Name=%{text}<br>PC1=%{x}<br>PC2=%{y}<br>PC3=%{z}<extra></extra>",
         "hovertext": [
          "陈孤雁"
         ],
         "legendgroup": "陈孤雁",
         "marker": {
          "color": "#FECB52",
          "symbol": "circle"
         },
         "mode": "markers+text",
         "name": "陈孤雁",
         "scene": "scene",
         "showlegend": true,
         "text": [
          "陈孤雁"
         ],
         "textfont": {
          "size": 8
         },
         "textposition": "top center",
         "type": "scatter3d",
         "x": [
          1.0335701704025269
         ],
         "y": [
          -1.3739559650421143
         ],
         "z": [
          0.5811440944671631
         ]
        },
        {
         "hovertemplate": "<b>%{hovertext}</b><br><br>Name=%{text}<br>PC1=%{x}<br>PC2=%{y}<br>PC3=%{z}<extra></extra>",
         "hovertext": [
          "云岛主"
         ],
         "legendgroup": "云岛主",
         "marker": {
          "color": "#636efa",
          "symbol": "circle"
         },
         "mode": "markers+text",
         "name": "云岛主",
         "scene": "scene",
         "showlegend": true,
         "text": [
          "云岛主"
         ],
         "textfont": {
          "size": 8
         },
         "textposition": "top center",
         "type": "scatter3d",
         "x": [
          2.020301342010498
         ],
         "y": [
          0.5431599020957947
         ],
         "z": [
          -0.5045644044876099
         ]
        },
        {
         "hovertemplate": "<b>%{hovertext}</b><br><br>Name=%{text}<br>PC1=%{x}<br>PC2=%{y}<br>PC3=%{z}<extra></extra>",
         "hovertext": [
          "耶律重元"
         ],
         "legendgroup": "耶律重元",
         "marker": {
          "color": "#EF553B",
          "symbol": "circle"
         },
         "mode": "markers+text",
         "name": "耶律重元",
         "scene": "scene",
         "showlegend": true,
         "text": [
          "耶律重元"
         ],
         "textfont": {
          "size": 8
         },
         "textposition": "top center",
         "type": "scatter3d",
         "x": [
          -1.4131311178207397
         ],
         "y": [
          -0.06261708587408066
         ],
         "z": [
          0.5655765533447266
         ]
        },
        {
         "hovertemplate": "<b>%{hovertext}</b><br><br>Name=%{text}<br>PC1=%{x}<br>PC2=%{y}<br>PC3=%{z}<extra></extra>",
         "hovertext": [
          "小翠"
         ],
         "legendgroup": "小翠",
         "marker": {
          "color": "#00cc96",
          "symbol": "circle"
         },
         "mode": "markers+text",
         "name": "小翠",
         "scene": "scene",
         "showlegend": true,
         "text": [
          "小翠"
         ],
         "textfont": {
          "size": 8
         },
         "textposition": "top center",
         "type": "scatter3d",
         "x": [
          0.03745406121015549
         ],
         "y": [
          0.6181967258453369
         ],
         "z": [
          0.25579893589019775
         ]
        },
        {
         "hovertemplate": "<b>%{hovertext}</b><br><br>Name=%{text}<br>PC1=%{x}<br>PC2=%{y}<br>PC3=%{z}<extra></extra>",
         "hovertext": [
          "刘竹庄"
         ],
         "legendgroup": "刘竹庄",
         "marker": {
          "color": "#ab63fa",
          "symbol": "circle"
         },
         "mode": "markers+text",
         "name": "刘竹庄",
         "scene": "scene",
         "showlegend": true,
         "text": [
          "刘竹庄"
         ],
         "textfont": {
          "size": 8
         },
         "textposition": "top center",
         "type": "scatter3d",
         "x": [
          -1.1151314973831177
         ],
         "y": [
          -0.6681788563728333
         ],
         "z": [
          0.31430110335350037
         ]
        },
        {
         "hovertemplate": "<b>%{hovertext}</b><br><br>Name=%{text}<br>PC1=%{x}<br>PC2=%{y}<br>PC3=%{z}<extra></extra>",
         "hovertext": [
          "单小山"
         ],
         "legendgroup": "单小山",
         "marker": {
          "color": "#FFA15A",
          "symbol": "circle"
         },
         "mode": "markers+text",
         "name": "单小山",
         "scene": "scene",
         "showlegend": true,
         "text": [
          "单小山"
         ],
         "textfont": {
          "size": 8
         },
         "textposition": "top center",
         "type": "scatter3d",
         "x": [
          -0.8183016777038574
         ],
         "y": [
          1.2476418018341064
         ],
         "z": [
          -0.14025795459747314
         ]
        },
        {
         "hovertemplate": "<b>%{hovertext}</b><br><br>Name=%{text}<br>PC1=%{x}<br>PC2=%{y}<br>PC3=%{z}<extra></extra>",
         "hovertext": [
          "单叔山"
         ],
         "legendgroup": "单叔山",
         "marker": {
          "color": "#19d3f3",
          "symbol": "circle"
         },
         "mode": "markers+text",
         "name": "单叔山",
         "scene": "scene",
         "showlegend": true,
         "text": [
          "单叔山"
         ],
         "textfont": {
          "size": 8
         },
         "textposition": "top center",
         "type": "scatter3d",
         "x": [
          0.18059740960597992
         ],
         "y": [
          0.47792649269104004
         ],
         "z": [
          0.09480270743370056
         ]
        },
        {
         "hovertemplate": "<b>%{hovertext}</b><br><br>Name=%{text}<br>PC1=%{x}<br>PC2=%{y}<br>PC3=%{z}<extra></extra>",
         "hovertext": [
          "单季山"
         ],
         "legendgroup": "单季山",
         "marker": {
          "color": "#FF6692",
          "symbol": "circle"
         },
         "mode": "markers+text",
         "name": "单季山",
         "scene": "scene",
         "showlegend": true,
         "text": [
          "单季山"
         ],
         "textfont": {
          "size": 8
         },
         "textposition": "top center",
         "type": "scatter3d",
         "x": [
          -0.5921116471290588
         ],
         "y": [
          -0.692406177520752
         ],
         "z": [
          0.5935420989990234
         ]
        },
        {
         "hovertemplate": "<b>%{hovertext}</b><br><br>Name=%{text}<br>PC1=%{x}<br>PC2=%{y}<br>PC3=%{z}<extra></extra>",
         "hovertext": [
          "程青霜"
         ],
         "legendgroup": "程青霜",
         "marker": {
          "color": "#B6E880",
          "symbol": "circle"
         },
         "mode": "markers+text",
         "name": "程青霜",
         "scene": "scene",
         "showlegend": true,
         "text": [
          "程青霜"
         ],
         "textfont": {
          "size": 8
         },
         "textposition": "top center",
         "type": "scatter3d",
         "x": [
          1.1038686037063599
         ],
         "y": [
          1.2213786840438843
         ],
         "z": [
          1.740181565284729
         ]
        },
        {
         "hovertemplate": "<b>%{hovertext}</b><br><br>Name=%{text}<br>PC1=%{x}<br>PC2=%{y}<br>PC3=%{z}<extra></extra>",
         "hovertext": [
          "阿胜"
         ],
         "legendgroup": "阿胜",
         "marker": {
          "color": "#FF97FF",
          "symbol": "circle"
         },
         "mode": "markers+text",
         "name": "阿胜",
         "scene": "scene",
         "showlegend": true,
         "text": [
          "阿胜"
         ],
         "textfont": {
          "size": 8
         },
         "textposition": "top center",
         "type": "scatter3d",
         "x": [
          0.14215385913848877
         ],
         "y": [
          0.3994663953781128
         ],
         "z": [
          -0.01101995725184679
         ]
        },
        {
         "hovertemplate": "<b>%{hovertext}</b><br><br>Name=%{text}<br>PC1=%{x}<br>PC2=%{y}<br>PC3=%{z}<extra></extra>",
         "hovertext": [
          "许卓诚"
         ],
         "legendgroup": "许卓诚",
         "marker": {
          "color": "#FECB52",
          "symbol": "circle"
         },
         "mode": "markers+text",
         "name": "许卓诚",
         "scene": "scene",
         "showlegend": true,
         "text": [
          "许卓诚"
         ],
         "textfont": {
          "size": 8
         },
         "textposition": "top center",
         "type": "scatter3d",
         "x": [
          0.6779307126998901
         ],
         "y": [
          -0.535707414150238
         ],
         "z": [
          -0.0748123899102211
         ]
        },
        {
         "hovertemplate": "<b>%{hovertext}</b><br><br>Name=%{text}<br>PC1=%{x}<br>PC2=%{y}<br>PC3=%{z}<extra></extra>",
         "hovertext": [
          "枯荣长老"
         ],
         "legendgroup": "枯荣长老",
         "marker": {
          "color": "#636efa",
          "symbol": "circle"
         },
         "mode": "markers+text",
         "name": "枯荣长老",
         "scene": "scene",
         "showlegend": true,
         "text": [
          "枯荣长老"
         ],
         "textfont": {
          "size": 8
         },
         "textposition": "top center",
         "type": "scatter3d",
         "x": [
          -1.076898217201233
         ],
         "y": [
          -0.899228036403656
         ],
         "z": [
          0.4451583921909332
         ]
        },
        {
         "hovertemplate": "<b>%{hovertext}</b><br><br>Name=%{text}<br>PC1=%{x}<br>PC2=%{y}<br>PC3=%{z}<extra></extra>",
         "hovertext": [
          "姜师叔"
         ],
         "legendgroup": "姜师叔",
         "marker": {
          "color": "#EF553B",
          "symbol": "circle"
         },
         "mode": "markers+text",
         "name": "姜师叔",
         "scene": "scene",
         "showlegend": true,
         "text": [
          "姜师叔"
         ],
         "textfont": {
          "size": 8
         },
         "textposition": "top center",
         "type": "scatter3d",
         "x": [
          -0.9812868237495422
         ],
         "y": [
          -0.6113415956497192
         ],
         "z": [
          -1.3533588647842407
         ]
        },
        {
         "hovertemplate": "<b>%{hovertext}</b><br><br>Name=%{text}<br>PC1=%{x}<br>PC2=%{y}<br>PC3=%{z}<extra></extra>",
         "hovertext": [
          "黄眉和尚"
         ],
         "legendgroup": "黄眉和尚",
         "marker": {
          "color": "#00cc96",
          "symbol": "circle"
         },
         "mode": "markers+text",
         "name": "黄眉和尚",
         "scene": "scene",
         "showlegend": true,
         "text": [
          "黄眉和尚"
         ],
         "textfont": {
          "size": 8
         },
         "textposition": "top center",
         "type": "scatter3d",
         "x": [
          -0.5828976631164551
         ],
         "y": [
          -2.046279191970825
         ],
         "z": [
          0.0010106705594807863
         ]
        },
        {
         "hovertemplate": "<b>%{hovertext}</b><br><br>Name=%{text}<br>PC1=%{x}<br>PC2=%{y}<br>PC3=%{z}<extra></extra>",
         "hovertext": [
          "阿洪"
         ],
         "legendgroup": "阿洪",
         "marker": {
          "color": "#ab63fa",
          "symbol": "circle"
         },
         "mode": "markers+text",
         "name": "阿洪",
         "scene": "scene",
         "showlegend": true,
         "text": [
          "阿洪"
         ],
         "textfont": {
          "size": 8
         },
         "textposition": "top center",
         "type": "scatter3d",
         "x": [
          0.5409246683120728
         ],
         "y": [
          2.1173901557922363
         ],
         "z": [
          -0.9763053059577942
         ]
        },
        {
         "hovertemplate": "<b>%{hovertext}</b><br><br>Name=%{text}<br>PC1=%{x}<br>PC2=%{y}<br>PC3=%{z}<extra></extra>",
         "hovertext": [
          "少林老僧"
         ],
         "legendgroup": "少林老僧",
         "marker": {
          "color": "#FFA15A",
          "symbol": "circle"
         },
         "mode": "markers+text",
         "name": "少林老僧",
         "scene": "scene",
         "showlegend": true,
         "text": [
          "少林老僧"
         ],
         "textfont": {
          "size": 8
         },
         "textposition": "top center",
         "type": "scatter3d",
         "x": [
          2.1435649394989014
         ],
         "y": [
          0.07379582524299622
         ],
         "z": [
          -0.09398742020130157
         ]
        },
        {
         "hovertemplate": "<b>%{hovertext}</b><br><br>Name=%{text}<br>PC1=%{x}<br>PC2=%{y}<br>PC3=%{z}<extra></extra>",
         "hovertext": [
          "祁六三"
         ],
         "legendgroup": "祁六三",
         "marker": {
          "color": "#19d3f3",
          "symbol": "circle"
         },
         "mode": "markers+text",
         "name": "祁六三",
         "scene": "scene",
         "showlegend": true,
         "text": [
          "祁六三"
         ],
         "textfont": {
          "size": 8
         },
         "textposition": "top center",
         "type": "scatter3d",
         "x": [
          1.1766557693481445
         ],
         "y": [
          -1.3732390403747559
         ],
         "z": [
          -0.45411497354507446
         ]
        },
        {
         "hovertemplate": "<b>%{hovertext}</b><br><br>Name=%{text}<br>PC1=%{x}<br>PC2=%{y}<br>PC3=%{z}<extra></extra>",
         "hovertext": [
          "孟师叔"
         ],
         "legendgroup": "孟师叔",
         "marker": {
          "color": "#FF6692",
          "symbol": "circle"
         },
         "mode": "markers+text",
         "name": "孟师叔",
         "scene": "scene",
         "showlegend": true,
         "text": [
          "孟师叔"
         ],
         "textfont": {
          "size": 8
         },
         "textposition": "top center",
         "type": "scatter3d",
         "x": [
          2.4101004600524902
         ],
         "y": [
          -1.3979932069778442
         ],
         "z": [
          -0.8115335702896118
         ]
        },
        {
         "hovertemplate": "<b>%{hovertext}</b><br><br>Name=%{text}<br>PC1=%{x}<br>PC2=%{y}<br>PC3=%{z}<extra></extra>",
         "hovertext": [
          "陈家洛"
         ],
         "legendgroup": "陈家洛",
         "marker": {
          "color": "#B6E880",
          "symbol": "circle"
         },
         "mode": "markers+text",
         "name": "陈家洛",
         "scene": "scene",
         "showlegend": true,
         "text": [
          "陈家洛"
         ],
         "textfont": {
          "size": 8
         },
         "textposition": "top center",
         "type": "scatter3d",
         "x": [
          0.5584600567817688
         ],
         "y": [
          0.7307736277580261
         ],
         "z": [
          -0.9890643954277039
         ]
        },
        {
         "hovertemplate": "<b>%{hovertext}</b><br><br>Name=%{text}<br>PC1=%{x}<br>PC2=%{y}<br>PC3=%{z}<extra></extra>",
         "hovertext": [
          "王道"
         ],
         "legendgroup": "王道",
         "marker": {
          "color": "#FF97FF",
          "symbol": "circle"
         },
         "mode": "markers+text",
         "name": "王道",
         "scene": "scene",
         "showlegend": true,
         "text": [
          "王道"
         ],
         "textfont": {
          "size": 8
         },
         "textposition": "top center",
         "type": "scatter3d",
         "x": [
          0.32100874185562134
         ],
         "y": [
          0.3323388695716858
         ],
         "z": [
          0.4298836886882782
         ]
        },
        {
         "hovertemplate": "<b>%{hovertext}</b><br><br>Name=%{text}<br>PC1=%{x}<br>PC2=%{y}<br>PC3=%{z}<extra></extra>",
         "hovertext": [
          "皇太后"
         ],
         "legendgroup": "皇太后",
         "marker": {
          "color": "#FECB52",
          "symbol": "circle"
         },
         "mode": "markers+text",
         "name": "皇太后",
         "scene": "scene",
         "showlegend": true,
         "text": [
          "皇太后"
         ],
         "textfont": {
          "size": 8
         },
         "textposition": "top center",
         "type": "scatter3d",
         "x": [
          2.765458583831787
         ],
         "y": [
          1.9557245969772339
         ],
         "z": [
          0.9842240214347839
         ]
        },
        {
         "hovertemplate": "<b>%{hovertext}</b><br><br>Name=%{text}<br>PC1=%{x}<br>PC2=%{y}<br>PC3=%{z}<extra></extra>",
         "hovertext": [
          "大苦"
         ],
         "legendgroup": "大苦",
         "marker": {
          "color": "#636efa",
          "symbol": "circle"
         },
         "mode": "markers+text",
         "name": "大苦",
         "scene": "scene",
         "showlegend": true,
         "text": [
          "大苦"
         ],
         "textfont": {
          "size": 8
         },
         "textposition": "top center",
         "type": "scatter3d",
         "x": [
          -1.3144434690475464
         ],
         "y": [
          0.029510140419006348
         ],
         "z": [
          -0.9939134120941162
         ]
        },
        {
         "hovertemplate": "<b>%{hovertext}</b><br><br>Name=%{text}<br>PC1=%{x}<br>PC2=%{y}<br>PC3=%{z}<extra></extra>",
         "hovertext": [
          "梅剑和"
         ],
         "legendgroup": "梅剑和",
         "marker": {
          "color": "#EF553B",
          "symbol": "circle"
         },
         "mode": "markers+text",
         "name": "梅剑和",
         "scene": "scene",
         "showlegend": true,
         "text": [
          "梅剑和"
         ],
         "textfont": {
          "size": 8
         },
         "textposition": "top center",
         "type": "scatter3d",
         "x": [
          -0.5002365112304688
         ],
         "y": [
          0.4376618266105652
         ],
         "z": [
          0.09694144129753113
         ]
        },
        {
         "hovertemplate": "<b>%{hovertext}</b><br><br>Name=%{text}<br>PC1=%{x}<br>PC2=%{y}<br>PC3=%{z}<extra></extra>",
         "hovertext": [
          "哑巴"
         ],
         "legendgroup": "哑巴",
         "marker": {
          "color": "#00cc96",
          "symbol": "circle"
         },
         "mode": "markers+text",
         "name": "哑巴",
         "scene": "scene",
         "showlegend": true,
         "text": [
          "哑巴"
         ],
         "textfont": {
          "size": 8
         },
         "textposition": "top center",
         "type": "scatter3d",
         "x": [
          -0.35181036591529846
         ],
         "y": [
          -0.11237619817256927
         ],
         "z": [
          0.4067642092704773
         ]
        },
        {
         "hovertemplate": "<b>%{hovertext}</b><br><br>Name=%{text}<br>PC1=%{x}<br>PC2=%{y}<br>PC3=%{z}<extra></extra>",
         "hovertext": [
          "洞玄"
         ],
         "legendgroup": "洞玄",
         "marker": {
          "color": "#ab63fa",
          "symbol": "circle"
         },
         "mode": "markers+text",
         "name": "洞玄",
         "scene": "scene",
         "showlegend": true,
         "text": [
          "洞玄"
         ],
         "textfont": {
          "size": 8
         },
         "textposition": "top center",
         "type": "scatter3d",
         "x": [
          2.0541653633117676
         ],
         "y": [
          0.11504588276147842
         ],
         "z": [
          0.6555778384208679
         ]
        },
        {
         "hovertemplate": "<b>%{hovertext}</b><br><br>Name=%{text}<br>PC1=%{x}<br>PC2=%{y}<br>PC3=%{z}<extra></extra>",
         "hovertext": [
          "老王"
         ],
         "legendgroup": "老王",
         "marker": {
          "color": "#FFA15A",
          "symbol": "circle"
         },
         "mode": "markers+text",
         "name": "老王",
         "scene": "scene",
         "showlegend": true,
         "text": [
          "老王"
         ],
         "textfont": {
          "size": 8
         },
         "textposition": "top center",
         "type": "scatter3d",
         "x": [
          0.42513027787208557
         ],
         "y": [
          -1.7607823610305786
         ],
         "z": [
          -1.8578523397445679
         ]
        },
        {
         "hovertemplate": "<b>%{hovertext}</b><br><br>Name=%{text}<br>PC1=%{x}<br>PC2=%{y}<br>PC3=%{z}<extra></extra>",
         "hovertext": [
          "上官"
         ],
         "legendgroup": "上官",
         "marker": {
          "color": "#19d3f3",
          "symbol": "circle"
         },
         "mode": "markers+text",
         "name": "上官",
         "scene": "scene",
         "showlegend": true,
         "text": [
          "上官"
         ],
         "textfont": {
          "size": 8
         },
         "textposition": "top center",
         "type": "scatter3d",
         "x": [
          -0.959376335144043
         ],
         "y": [
          -1.4495694637298584
         ],
         "z": [
          0.15740875899791718
         ]
        },
        {
         "hovertemplate": "<b>%{hovertext}</b><br><br>Name=%{text}<br>PC1=%{x}<br>PC2=%{y}<br>PC3=%{z}<extra></extra>",
         "hovertext": [
          "石破天"
         ],
         "legendgroup": "石破天",
         "marker": {
          "color": "#FF6692",
          "symbol": "circle"
         },
         "mode": "markers+text",
         "name": "石破天",
         "scene": "scene",
         "showlegend": true,
         "text": [
          "石破天"
         ],
         "textfont": {
          "size": 8
         },
         "textposition": "top center",
         "type": "scatter3d",
         "x": [
          0.5182964205741882
         ],
         "y": [
          -0.1760600209236145
         ],
         "z": [
          0.6015771627426147
         ]
        },
        {
         "hovertemplate": "<b>%{hovertext}</b><br><br>Name=%{text}<br>PC1=%{x}<br>PC2=%{y}<br>PC3=%{z}<extra></extra>",
         "hovertext": [
          "白万剑"
         ],
         "legendgroup": "白万剑",
         "marker": {
          "color": "#B6E880",
          "symbol": "circle"
         },
         "mode": "markers+text",
         "name": "白万剑",
         "scene": "scene",
         "showlegend": true,
         "text": [
          "白万剑"
         ],
         "textfont": {
          "size": 8
         },
         "textposition": "top center",
         "type": "scatter3d",
         "x": [
          0.0545211061835289
         ],
         "y": [
          0.0823303833603859
         ],
         "z": [
          0.9756342768669128
         ]
        },
        {
         "hovertemplate": "<b>%{hovertext}</b><br><br>Name=%{text}<br>PC1=%{x}<br>PC2=%{y}<br>PC3=%{z}<extra></extra>",
         "hovertext": [
          "丁珰"
         ],
         "legendgroup": "丁珰",
         "marker": {
          "color": "#FF97FF",
          "symbol": "circle"
         },
         "mode": "markers+text",
         "name": "丁珰",
         "scene": "scene",
         "showlegend": true,
         "text": [
          "丁珰"
         ],
         "textfont": {
          "size": 8
         },
         "textposition": "top center",
         "type": "scatter3d",
         "x": [
          -0.4930672347545624
         ],
         "y": [
          -1.0923370122909546
         ],
         "z": [
          0.8934876918792725
         ]
        },
        {
         "hovertemplate": "<b>%{hovertext}</b><br><br>Name=%{text}<br>PC1=%{x}<br>PC2=%{y}<br>PC3=%{z}<extra></extra>",
         "hovertext": [
          "闵柔"
         ],
         "legendgroup": "闵柔",
         "marker": {
          "color": "#FECB52",
          "symbol": "circle"
         },
         "mode": "markers+text",
         "name": "闵柔",
         "scene": "scene",
         "showlegend": true,
         "text": [
          "闵柔"
         ],
         "textfont": {
          "size": 8
         },
         "textposition": "top center",
         "type": "scatter3d",
         "x": [
          -1.927473545074463
         ],
         "y": [
          0.6625843048095703
         ],
         "z": [
          2.3901400566101074
         ]
        },
        {
         "hovertemplate": "<b>%{hovertext}</b><br><br>Name=%{text}<br>PC1=%{x}<br>PC2=%{y}<br>PC3=%{z}<extra></extra>",
         "hovertext": [
          "丁不四"
         ],
         "legendgroup": "丁不四",
         "marker": {
          "color": "#636efa",
          "symbol": "circle"
         },
         "mode": "markers+text",
         "name": "丁不四",
         "scene": "scene",
         "showlegend": true,
         "text": [
          "丁不四"
         ],
         "textfont": {
          "size": 8
         },
         "textposition": "top center",
         "type": "scatter3d",
         "x": [
          -0.9549363851547241
         ],
         "y": [
          0.06949181109666824
         ],
         "z": [
          -1.0858443975448608
         ]
        },
        {
         "hovertemplate": "<b>%{hovertext}</b><br><br>Name=%{text}<br>PC1=%{x}<br>PC2=%{y}<br>PC3=%{z}<extra></extra>",
         "hovertext": [
          "谢烟客"
         ],
         "legendgroup": "谢烟客",
         "marker": {
          "color": "#EF553B",
          "symbol": "circle"
         },
         "mode": "markers+text",
         "name": "谢烟客",
         "scene": "scene",
         "showlegend": true,
         "text": [
          "谢烟客"
         ],
         "textfont": {
          "size": 8
         },
         "textposition": "top center",
         "type": "scatter3d",
         "x": [
          -1.335896372795105
         ],
         "y": [
          -1.4422887563705444
         ],
         "z": [
          -0.16507141292095184
         ]
        },
        {
         "hovertemplate": "<b>%{hovertext}</b><br><br>Name=%{text}<br>PC1=%{x}<br>PC2=%{y}<br>PC3=%{z}<extra></extra>",
         "hovertext": [
          "贝海石"
         ],
         "legendgroup": "贝海石",
         "marker": {
          "color": "#00cc96",
          "symbol": "circle"
         },
         "mode": "markers+text",
         "name": "贝海石",
         "scene": "scene",
         "showlegend": true,
         "text": [
          "贝海石"
         ],
         "textfont": {
          "size": 8
         },
         "textposition": "top center",
         "type": "scatter3d",
         "x": [
          0.27139776945114136
         ],
         "y": [
          -0.6745218634605408
         ],
         "z": [
          1.2707046270370483
         ]
        },
        {
         "hovertemplate": "<b>%{hovertext}</b><br><br>Name=%{text}<br>PC1=%{x}<br>PC2=%{y}<br>PC3=%{z}<extra></extra>",
         "hovertext": [
          "丁不三"
         ],
         "legendgroup": "丁不三",
         "marker": {
          "color": "#ab63fa",
          "symbol": "circle"
         },
         "mode": "markers+text",
         "name": "丁不三",
         "scene": "scene",
         "showlegend": true,
         "text": [
          "丁不三"
         ],
         "textfont": {
          "size": 8
         },
         "textposition": "top center",
         "type": "scatter3d",
         "x": [
          0.3051002025604248
         ],
         "y": [
          0.25473666191101074
         ],
         "z": [
          -2.28581166267395
         ]
        },
        {
         "hovertemplate": "<b>%{hovertext}</b><br><br>Name=%{text}<br>PC1=%{x}<br>PC2=%{y}<br>PC3=%{z}<extra></extra>",
         "hovertext": [
          "白自在"
         ],
         "legendgroup": "白自在",
         "marker": {
          "color": "#FFA15A",
          "symbol": "circle"
         },
         "mode": "markers+text",
         "name": "白自在",
         "scene": "scene",
         "showlegend": true,
         "text": [
          "白自在"
         ],
         "textfont": {
          "size": 8
         },
         "textposition": "top center",
         "type": "scatter3d",
         "x": [
          -0.28095781803131104
         ],
         "y": [
          -0.851955235004425
         ],
         "z": [
          -0.1244845986366272
         ]
        },
        {
         "hovertemplate": "<b>%{hovertext}</b><br><br>Name=%{text}<br>PC1=%{x}<br>PC2=%{y}<br>PC3=%{z}<extra></extra>",
         "hovertext": [
          "石中玉"
         ],
         "legendgroup": "石中玉",
         "marker": {
          "color": "#19d3f3",
          "symbol": "circle"
         },
         "mode": "markers+text",
         "name": "石中玉",
         "scene": "scene",
         "showlegend": true,
         "text": [
          "石中玉"
         ],
         "textfont": {
          "size": 8
         },
         "textposition": "top center",
         "type": "scatter3d",
         "x": [
          -0.43858954310417175
         ],
         "y": [
          -0.811673641204834
         ],
         "z": [
          -1.0448991060256958
         ]
        },
        {
         "hovertemplate": "<b>%{hovertext}</b><br><br>Name=%{text}<br>PC1=%{x}<br>PC2=%{y}<br>PC3=%{z}<extra></extra>",
         "hovertext": [
          "侍剑"
         ],
         "legendgroup": "侍剑",
         "marker": {
          "color": "#FF6692",
          "symbol": "circle"
         },
         "mode": "markers+text",
         "name": "侍剑",
         "scene": "scene",
         "showlegend": true,
         "text": [
          "侍剑"
         ],
         "textfont": {
          "size": 8
         },
         "textposition": "top center",
         "type": "scatter3d",
         "x": [
          0.5591219067573547
         ],
         "y": [
          1.3358529806137085
         ],
         "z": [
          1.554323673248291
         ]
        },
        {
         "hovertemplate": "<b>%{hovertext}</b><br><br>Name=%{text}<br>PC1=%{x}<br>PC2=%{y}<br>PC3=%{z}<extra></extra>",
         "hovertext": [
          "耿万钟"
         ],
         "legendgroup": "耿万钟",
         "marker": {
          "color": "#B6E880",
          "symbol": "circle"
         },
         "mode": "markers+text",
         "name": "耿万钟",
         "scene": "scene",
         "showlegend": true,
         "text": [
          "耿万钟"
         ],
         "textfont": {
          "size": 8
         },
         "textposition": "top center",
         "type": "scatter3d",
         "x": [
          -0.06994716078042984
         ],
         "y": [
          -0.8235269784927368
         ],
         "z": [
          3.2143425941467285
         ]
        },
        {
         "hovertemplate": "<b>%{hovertext}</b><br><br>Name=%{text}<br>PC1=%{x}<br>PC2=%{y}<br>PC3=%{z}<extra></extra>",
         "hovertext": [
          "封万里"
         ],
         "legendgroup": "封万里",
         "marker": {
          "color": "#FF97FF",
          "symbol": "circle"
         },
         "mode": "markers+text",
         "name": "封万里",
         "scene": "scene",
         "showlegend": true,
         "text": [
          "封万里"
         ],
         "textfont": {
          "size": 8
         },
         "textposition": "top center",
         "type": "scatter3d",
         "x": [
          -0.5228562355041504
         ],
         "y": [
          -0.6835969686508179
         ],
         "z": [
          -0.18793974816799164
         ]
        },
        {
         "hovertemplate": "<b>%{hovertext}</b><br><br>Name=%{text}<br>PC1=%{x}<br>PC2=%{y}<br>PC3=%{z}<extra></extra>",
         "hovertext": [
          "冲虚"
         ],
         "legendgroup": "冲虚",
         "marker": {
          "color": "#FECB52",
          "symbol": "circle"
         },
         "mode": "markers+text",
         "name": "冲虚",
         "scene": "scene",
         "showlegend": true,
         "text": [
          "冲虚"
         ],
         "textfont": {
          "size": 8
         },
         "textposition": "top center",
         "type": "scatter3d",
         "x": [
          0.058769259601831436
         ],
         "y": [
          -0.6164952516555786
         ],
         "z": [
          -0.007625842932611704
         ]
        },
        {
         "hovertemplate": "<b>%{hovertext}</b><br><br>Name=%{text}<br>PC1=%{x}<br>PC2=%{y}<br>PC3=%{z}<extra></extra>",
         "hovertext": [
          "高三娘子"
         ],
         "legendgroup": "高三娘子",
         "marker": {
          "color": "#636efa",
          "symbol": "circle"
         },
         "mode": "markers+text",
         "name": "高三娘子",
         "scene": "scene",
         "showlegend": true,
         "text": [
          "高三娘子"
         ],
         "textfont": {
          "size": 8
         },
         "textposition": "top center",
         "type": "scatter3d",
         "x": [
          0.8017259240150452
         ],
         "y": [
          0.34105896949768066
         ],
         "z": [
          -0.007221561390906572
         ]
        },
        {
         "hovertemplate": "<b>%{hovertext}</b><br><br>Name=%{text}<br>PC1=%{x}<br>PC2=%{y}<br>PC3=%{z}<extra></extra>",
         "hovertext": [
          "花万紫"
         ],
         "legendgroup": "花万紫",
         "marker": {
          "color": "#EF553B",
          "symbol": "circle"
         },
         "mode": "markers+text",
         "name": "花万紫",
         "scene": "scene",
         "showlegend": true,
         "text": [
          "花万紫"
         ],
         "textfont": {
          "size": 8
         },
         "textposition": "top center",
         "type": "scatter3d",
         "x": [
          -0.0180670078843832
         ],
         "y": [
          -0.760818362236023
         ],
         "z": [
          0.4383370876312256
         ]
        },
        {
         "hovertemplate": "<b>%{hovertext}</b><br><br>Name=%{text}<br>PC1=%{x}<br>PC2=%{y}<br>PC3=%{z}<extra></extra>",
         "hovertext": [
          "范一飞"
         ],
         "legendgroup": "范一飞",
         "marker": {
          "color": "#00cc96",
          "symbol": "circle"
         },
         "mode": "markers+text",
         "name": "范一飞",
         "scene": "scene",
         "showlegend": true,
         "text": [
          "范一飞"
         ],
         "textfont": {
          "size": 8
         },
         "textposition": "top center",
         "type": "scatter3d",
         "x": [
          -0.7757999300956726
         ],
         "y": [
          0.49839192628860474
         ],
         "z": [
          0.39182618260383606
         ]
        },
        {
         "hovertemplate": "<b>%{hovertext}</b><br><br>Name=%{text}<br>PC1=%{x}<br>PC2=%{y}<br>PC3=%{z}<extra></extra>",
         "hovertext": [
          "王万仞"
         ],
         "legendgroup": "王万仞",
         "marker": {
          "color": "#ab63fa",
          "symbol": "circle"
         },
         "mode": "markers+text",
         "name": "王万仞",
         "scene": "scene",
         "showlegend": true,
         "text": [
          "王万仞"
         ],
         "textfont": {
          "size": 8
         },
         "textposition": "top center",
         "type": "scatter3d",
         "x": [
          1.3627674579620361
         ],
         "y": [
          -0.1146148145198822
         ],
         "z": [
          0.24408148229122162
         ]
        },
        {
         "hovertemplate": "<b>%{hovertext}</b><br><br>Name=%{text}<br>PC1=%{x}<br>PC2=%{y}<br>PC3=%{z}<extra></extra>",
         "hovertext": [
          "天虚"
         ],
         "legendgroup": "天虚",
         "marker": {
          "color": "#FFA15A",
          "symbol": "circle"
         },
         "mode": "markers+text",
         "name": "天虚",
         "scene": "scene",
         "showlegend": true,
         "text": [
          "天虚"
         ],
         "textfont": {
          "size": 8
         },
         "textposition": "top center",
         "type": "scatter3d",
         "x": [
          -1.4423506259918213
         ],
         "y": [
          0.7332286238670349
         ],
         "z": [
          -0.7562506794929504
         ]
        },
        {
         "hovertemplate": "<b>%{hovertext}</b><br><br>Name=%{text}<br>PC1=%{x}<br>PC2=%{y}<br>PC3=%{z}<extra></extra>",
         "hovertext": [
          "陈冲之"
         ],
         "legendgroup": "陈冲之",
         "marker": {
          "color": "#19d3f3",
          "symbol": "circle"
         },
         "mode": "markers+text",
         "name": "陈冲之",
         "scene": "scene",
         "showlegend": true,
         "text": [
          "陈冲之"
         ],
         "textfont": {
          "size": 8
         },
         "textposition": "top center",
         "type": "scatter3d",
         "x": [
          0.6660179495811462
         ],
         "y": [
          0.9310030341148376
         ],
         "z": [
          -0.5301419496536255
         ]
        },
        {
         "hovertemplate": "<b>%{hovertext}</b><br><br>Name=%{text}<br>PC1=%{x}<br>PC2=%{y}<br>PC3=%{z}<extra></extra>",
         "hovertext": [
          "吴道通"
         ],
         "legendgroup": "吴道通",
         "marker": {
          "color": "#FF6692",
          "symbol": "circle"
         },
         "mode": "markers+text",
         "name": "吴道通",
         "scene": "scene",
         "showlegend": true,
         "text": [
          "吴道通"
         ],
         "textfont": {
          "size": 8
         },
         "textposition": "top center",
         "type": "scatter3d",
         "x": [
          -1.4119459390640259
         ],
         "y": [
          1.685662031173706
         ],
         "z": [
          0.588777482509613
         ]
        },
        {
         "hovertemplate": "<b>%{hovertext}</b><br><br>Name=%{text}<br>PC1=%{x}<br>PC2=%{y}<br>PC3=%{z}<extra></extra>",
         "hovertext": [
          "成自学"
         ],
         "legendgroup": "成自学",
         "marker": {
          "color": "#B6E880",
          "symbol": "circle"
         },
         "mode": "markers+text",
         "name": "成自学",
         "scene": "scene",
         "showlegend": true,
         "text": [
          "成自学"
         ],
         "textfont": {
          "size": 8
         },
         "textposition": "top center",
         "type": "scatter3d",
         "x": [
          -0.6841994524002075
         ],
         "y": [
          -0.27479785680770874
         ],
         "z": [
          -0.9434934854507446
         ]
        },
        {
         "hovertemplate": "<b>%{hovertext}</b><br><br>Name=%{text}<br>PC1=%{x}<br>PC2=%{y}<br>PC3=%{z}<extra></extra>",
         "hovertext": [
          "大悲老人"
         ],
         "legendgroup": "大悲老人",
         "marker": {
          "color": "#FF97FF",
          "symbol": "circle"
         },
         "mode": "markers+text",
         "name": "大悲老人",
         "scene": "scene",
         "showlegend": true,
         "text": [
          "大悲老人"
         ],
         "textfont": {
          "size": 8
         },
         "textposition": "top center",
         "type": "scatter3d",
         "x": [
          2.155643939971924
         ],
         "y": [
          -0.273610383272171
         ],
         "z": [
          0.2537458539009094
         ]
        },
        {
         "hovertemplate": "<b>%{hovertext}</b><br><br>Name=%{text}<br>PC1=%{x}<br>PC2=%{y}<br>PC3=%{z}<extra></extra>",
         "hovertext": [
          "展飞"
         ],
         "legendgroup": "展飞",
         "marker": {
          "color": "#FECB52",
          "symbol": "circle"
         },
         "mode": "markers+text",
         "name": "展飞",
         "scene": "scene",
         "showlegend": true,
         "text": [
          "展飞"
         ],
         "textfont": {
          "size": 8
         },
         "textposition": "top center",
         "type": "scatter3d",
         "x": [
          -1.210976481437683
         ],
         "y": [
          -1.7380415201187134
         ],
         "z": [
          -0.08751323819160461
         ]
        },
        {
         "hovertemplate": "<b>%{hovertext}</b><br><br>Name=%{text}<br>PC1=%{x}<br>PC2=%{y}<br>PC3=%{z}<extra></extra>",
         "hovertext": [
          "吕正平"
         ],
         "legendgroup": "吕正平",
         "marker": {
          "color": "#636efa",
          "symbol": "circle"
         },
         "mode": "markers+text",
         "name": "吕正平",
         "scene": "scene",
         "showlegend": true,
         "text": [
          "吕正平"
         ],
         "textfont": {
          "size": 8
         },
         "textposition": "top center",
         "type": "scatter3d",
         "x": [
          0.34475672245025635
         ],
         "y": [
          -2.383892297744751
         ],
         "z": [
          0.9563678503036499
         ]
        },
        {
         "hovertemplate": "<b>%{hovertext}</b><br><br>Name=%{text}<br>PC1=%{x}<br>PC2=%{y}<br>PC3=%{z}<extra></extra>",
         "hovertext": [
          "周牧"
         ],
         "legendgroup": "周牧",
         "marker": {
          "color": "#EF553B",
          "symbol": "circle"
         },
         "mode": "markers+text",
         "name": "周牧",
         "scene": "scene",
         "showlegend": true,
         "text": [
          "周牧"
         ],
         "textfont": {
          "size": 8
         },
         "textposition": "top center",
         "type": "scatter3d",
         "x": [
          0.312549889087677
         ],
         "y": [
          1.2019442319869995
         ],
         "z": [
          0.1743166297674179
         ]
        },
        {
         "hovertemplate": "<b>%{hovertext}</b><br><br>Name=%{text}<br>PC1=%{x}<br>PC2=%{y}<br>PC3=%{z}<extra></extra>",
         "hovertext": [
          "木岛主"
         ],
         "legendgroup": "木岛主",
         "marker": {
          "color": "#00cc96",
          "symbol": "circle"
         },
         "mode": "markers+text",
         "name": "木岛主",
         "scene": "scene",
         "showlegend": true,
         "text": [
          "木岛主"
         ],
         "textfont": {
          "size": 8
         },
         "textposition": "top center",
         "type": "scatter3d",
         "x": [
          0.5301710963249207
         ],
         "y": [
          -0.11007560044527054
         ],
         "z": [
          -0.8868701457977295
         ]
        },
        {
         "hovertemplate": "<b>%{hovertext}</b><br><br>Name=%{text}<br>PC1=%{x}<br>PC2=%{y}<br>PC3=%{z}<extra></extra>",
         "hovertext": [
          "柯万钧"
         ],
         "legendgroup": "柯万钧",
         "marker": {
          "color": "#ab63fa",
          "symbol": "circle"
         },
         "mode": "markers+text",
         "name": "柯万钧",
         "scene": "scene",
         "showlegend": true,
         "text": [
          "柯万钧"
         ],
         "textfont": {
          "size": 8
         },
         "textposition": "top center",
         "type": "scatter3d",
         "x": [
          0.7929881811141968
         ],
         "y": [
          -0.832916259765625
         ],
         "z": [
          -1.1595500707626343
         ]
        },
        {
         "hovertemplate": "<b>%{hovertext}</b><br><br>Name=%{text}<br>PC1=%{x}<br>PC2=%{y}<br>PC3=%{z}<extra></extra>",
         "hovertext": [
          "风良"
         ],
         "legendgroup": "风良",
         "marker": {
          "color": "#FFA15A",
          "symbol": "circle"
         },
         "mode": "markers+text",
         "name": "风良",
         "scene": "scene",
         "showlegend": true,
         "text": [
          "风良"
         ],
         "textfont": {
          "size": 8
         },
         "textposition": "top center",
         "type": "scatter3d",
         "x": [
          -0.07354959845542908
         ],
         "y": [
          0.9194619059562683
         ],
         "z": [
          -0.3305703401565552
         ]
        },
        {
         "hovertemplate": "<b>%{hovertext}</b><br><br>Name=%{text}<br>PC1=%{x}<br>PC2=%{y}<br>PC3=%{z}<extra></extra>",
         "hovertext": [
          "梅芳姑"
         ],
         "legendgroup": "梅芳姑",
         "marker": {
          "color": "#19d3f3",
          "symbol": "circle"
         },
         "mode": "markers+text",
         "name": "梅芳姑",
         "scene": "scene",
         "showlegend": true,
         "text": [
          "梅芳姑"
         ],
         "textfont": {
          "size": 8
         },
         "textposition": "top center",
         "type": "scatter3d",
         "x": [
          -0.7386367917060852
         ],
         "y": [
          -1.4554542303085327
         ],
         "z": [
          -0.7157823443412781
         ]
        },
        {
         "hovertemplate": "<b>%{hovertext}</b><br><br>Name=%{text}<br>PC1=%{x}<br>PC2=%{y}<br>PC3=%{z}<extra></extra>",
         "hovertext": [
          "安奉日"
         ],
         "legendgroup": "安奉日",
         "marker": {
          "color": "#FF6692",
          "symbol": "circle"
         },
         "mode": "markers+text",
         "name": "安奉日",
         "scene": "scene",
         "showlegend": true,
         "text": [
          "安奉日"
         ],
         "textfont": {
          "size": 8
         },
         "textposition": "top center",
         "type": "scatter3d",
         "x": [
          -2.0419647693634033
         ],
         "y": [
          -0.6862933039665222
         ],
         "z": [
          0.7301821708679199
         ]
        },
        {
         "hovertemplate": "<b>%{hovertext}</b><br><br>Name=%{text}<br>PC1=%{x}<br>PC2=%{y}<br>PC3=%{z}<extra></extra>",
         "hovertext": [
          "廖自砺"
         ],
         "legendgroup": "廖自砺",
         "marker": {
          "color": "#B6E880",
          "symbol": "circle"
         },
         "mode": "markers+text",
         "name": "廖自砺",
         "scene": "scene",
         "showlegend": true,
         "text": [
          "廖自砺"
         ],
         "textfont": {
          "size": 8
         },
         "textposition": "top center",
         "type": "scatter3d",
         "x": [
          -0.24419964849948883
         ],
         "y": [
          0.8519142270088196
         ],
         "z": [
          0.41016462445259094
         ]
        },
        {
         "hovertemplate": "<b>%{hovertext}</b><br><br>Name=%{text}<br>PC1=%{x}<br>PC2=%{y}<br>PC3=%{z}<extra></extra>",
         "hovertext": [
          "齐自勉"
         ],
         "legendgroup": "齐自勉",
         "marker": {
          "color": "#FF97FF",
          "symbol": "circle"
         },
         "mode": "markers+text",
         "name": "齐自勉",
         "scene": "scene",
         "showlegend": true,
         "text": [
          "齐自勉"
         ],
         "textfont": {
          "size": 8
         },
         "textposition": "top center",
         "type": "scatter3d",
         "x": [
          -2.3482749462127686
         ],
         "y": [
          1.2239012718200684
         ],
         "z": [
          0.600865364074707
         ]
        },
        {
         "hovertemplate": "<b>%{hovertext}</b><br><br>Name=%{text}<br>PC1=%{x}<br>PC2=%{y}<br>PC3=%{z}<extra></extra>",
         "hovertext": [
          "闻万夫"
         ],
         "legendgroup": "闻万夫",
         "marker": {
          "color": "#FECB52",
          "symbol": "circle"
         },
         "mode": "markers+text",
         "name": "闻万夫",
         "scene": "scene",
         "showlegend": true,
         "text": [
          "闻万夫"
         ],
         "textfont": {
          "size": 8
         },
         "textposition": "top center",
         "type": "scatter3d",
         "x": [
          -0.4362868368625641
         ],
         "y": [
          1.4368959665298462
         ],
         "z": [
          -1.9687762260437012
         ]
        },
        {
         "hovertemplate": "<b>%{hovertext}</b><br><br>Name=%{text}<br>PC1=%{x}<br>PC2=%{y}<br>PC3=%{z}<extra></extra>",
         "hovertext": [
          "照虚"
         ],
         "legendgroup": "照虚",
         "marker": {
          "color": "#636efa",
          "symbol": "circle"
         },
         "mode": "markers+text",
         "name": "照虚",
         "scene": "scene",
         "showlegend": true,
         "text": [
          "照虚"
         ],
         "textfont": {
          "size": 8
         },
         "textposition": "top center",
         "type": "scatter3d",
         "x": [
          -0.6047858595848083
         ],
         "y": [
          -0.920539379119873
         ],
         "z": [
          0.5618957877159119
         ]
        },
        {
         "hovertemplate": "<b>%{hovertext}</b><br><br>Name=%{text}<br>PC1=%{x}<br>PC2=%{y}<br>PC3=%{z}<extra></extra>",
         "hovertext": [
          "梁自进"
         ],
         "legendgroup": "梁自进",
         "marker": {
          "color": "#EF553B",
          "symbol": "circle"
         },
         "mode": "markers+text",
         "name": "梁自进",
         "scene": "scene",
         "showlegend": true,
         "text": [
          "梁自进"
         ],
         "textfont": {
          "size": 8
         },
         "textposition": "top center",
         "type": "scatter3d",
         "x": [
          0.319808691740036
         ],
         "y": [
          0.7684032320976257
         ],
         "z": [
          -1.2668437957763672
         ]
        },
        {
         "hovertemplate": "<b>%{hovertext}</b><br><br>Name=%{text}<br>PC1=%{x}<br>PC2=%{y}<br>PC3=%{z}<extra></extra>",
         "hovertext": [
          "呼延万善"
         ],
         "legendgroup": "呼延万善",
         "marker": {
          "color": "#00cc96",
          "symbol": "circle"
         },
         "mode": "markers+text",
         "name": "呼延万善",
         "scene": "scene",
         "showlegend": true,
         "text": [
          "呼延万善"
         ],
         "textfont": {
          "size": 8
         },
         "textposition": "top center",
         "type": "scatter3d",
         "x": [
          -1.158022403717041
         ],
         "y": [
          -1.5501002073287964
         ],
         "z": [
          -0.6477348208427429
         ]
        },
        {
         "hovertemplate": "<b>%{hovertext}</b><br><br>Name=%{text}<br>PC1=%{x}<br>PC2=%{y}<br>PC3=%{z}<extra></extra>",
         "hovertext": [
          "米横野"
         ],
         "legendgroup": "米横野",
         "marker": {
          "color": "#ab63fa",
          "symbol": "circle"
         },
         "mode": "markers+text",
         "name": "米横野",
         "scene": "scene",
         "showlegend": true,
         "text": [
          "米横野"
         ],
         "textfont": {
          "size": 8
         },
         "textposition": "top center",
         "type": "scatter3d",
         "x": [
          1.31813645362854
         ],
         "y": [
          -1.182395100593567
         ],
         "z": [
          0.754880428314209
         ]
        },
        {
         "hovertemplate": "<b>%{hovertext}</b><br><br>Name=%{text}<br>PC1=%{x}<br>PC2=%{y}<br>PC3=%{z}<extra></extra>",
         "hovertext": [
          "尤得胜"
         ],
         "legendgroup": "尤得胜",
         "marker": {
          "color": "#FFA15A",
          "symbol": "circle"
         },
         "mode": "markers+text",
         "name": "尤得胜",
         "scene": "scene",
         "showlegend": true,
         "text": [
          "尤得胜"
         ],
         "textfont": {
          "size": 8
         },
         "textposition": "top center",
         "type": "scatter3d",
         "x": [
          0.6674566268920898
         ],
         "y": [
          -0.8814176321029663
         ],
         "z": [
          -0.12743178009986877
         ]
        },
        {
         "hovertemplate": "<b>%{hovertext}</b><br><br>Name=%{text}<br>PC1=%{x}<br>PC2=%{y}<br>PC3=%{z}<extra></extra>",
         "hovertext": [
          "史小翠"
         ],
         "legendgroup": "史小翠",
         "marker": {
          "color": "#19d3f3",
          "symbol": "circle"
         },
         "mode": "markers+text",
         "name": "史小翠",
         "scene": "scene",
         "showlegend": true,
         "text": [
          "史小翠"
         ],
         "textfont": {
          "size": 8
         },
         "textposition": "top center",
         "type": "scatter3d",
         "x": [
          -0.3653165102005005
         ],
         "y": [
          1.902538537979126
         ],
         "z": [
          1.9599952697753906
         ]
        },
        {
         "hovertemplate": "<b>%{hovertext}</b><br><br>Name=%{text}<br>PC1=%{x}<br>PC2=%{y}<br>PC3=%{z}<extra></extra>",
         "hovertext": [
          "胡大哥"
         ],
         "legendgroup": "胡大哥",
         "marker": {
          "color": "#FF6692",
          "symbol": "circle"
         },
         "mode": "markers+text",
         "name": "胡大哥",
         "scene": "scene",
         "showlegend": true,
         "text": [
          "胡大哥"
         ],
         "textfont": {
          "size": 8
         },
         "textposition": "top center",
         "type": "scatter3d",
         "x": [
          -1.3531750440597534
         ],
         "y": [
          0.699608564376831
         ],
         "z": [
          -1.7253895998001099
         ]
        },
        {
         "hovertemplate": "<b>%{hovertext}</b><br><br>Name=%{text}<br>PC1=%{x}<br>PC2=%{y}<br>PC3=%{z}<extra></extra>",
         "hovertext": [
          "梅文馨"
         ],
         "legendgroup": "梅文馨",
         "marker": {
          "color": "#B6E880",
          "symbol": "circle"
         },
         "mode": "markers+text",
         "name": "梅文馨",
         "scene": "scene",
         "showlegend": true,
         "text": [
          "梅文馨"
         ],
         "textfont": {
          "size": 8
         },
         "textposition": "top center",
         "type": "scatter3d",
         "x": [
          0.4801659882068634
         ],
         "y": [
          0.006612258497625589
         ],
         "z": [
          -0.4335903525352478
         ]
        },
        {
         "hovertemplate": "<b>%{hovertext}</b><br><br>Name=%{text}<br>PC1=%{x}<br>PC2=%{y}<br>PC3=%{z}<extra></extra>",
         "hovertext": [
          "温仁厚"
         ],
         "legendgroup": "温仁厚",
         "marker": {
          "color": "#FF97FF",
          "symbol": "circle"
         },
         "mode": "markers+text",
         "name": "温仁厚",
         "scene": "scene",
         "showlegend": true,
         "text": [
          "温仁厚"
         ],
         "textfont": {
          "size": 8
         },
         "textposition": "top center",
         "type": "scatter3d",
         "x": [
          0.4260358214378357
         ],
         "y": [
          0.649337649345398
         ],
         "z": [
          -2.1087164878845215
         ]
        },
        {
         "hovertemplate": "<b>%{hovertext}</b><br><br>Name=%{text}<br>PC1=%{x}<br>PC2=%{y}<br>PC3=%{z}<extra></extra>",
         "hovertext": [
          "司徒横"
         ],
         "legendgroup": "司徒横",
         "marker": {
          "color": "#FECB52",
          "symbol": "circle"
         },
         "mode": "markers+text",
         "name": "司徒横",
         "scene": "scene",
         "showlegend": true,
         "text": [
          "司徒横"
         ],
         "textfont": {
          "size": 8
         },
         "textposition": "top center",
         "type": "scatter3d",
         "x": [
          -2.0262157917022705
         ],
         "y": [
          0.2311895787715912
         ],
         "z": [
          -1.3019214868545532
         ]
        },
        {
         "hovertemplate": "<b>%{hovertext}</b><br><br>Name=%{text}<br>PC1=%{x}<br>PC2=%{y}<br>PC3=%{z}<extra></extra>",
         "hovertext": [
          "杨光"
         ],
         "legendgroup": "杨光",
         "marker": {
          "color": "#636efa",
          "symbol": "circle"
         },
         "mode": "markers+text",
         "name": "杨光",
         "scene": "scene",
         "showlegend": true,
         "text": [
          "杨光"
         ],
         "textfont": {
          "size": 8
         },
         "textposition": "top center",
         "type": "scatter3d",
         "x": [
          0.6009181141853333
         ],
         "y": [
          1.214225172996521
         ],
         "z": [
          -0.811815083026886
         ]
        },
        {
         "hovertemplate": "<b>%{hovertext}</b><br><br>Name=%{text}<br>PC1=%{x}<br>PC2=%{y}<br>PC3=%{z}<extra></extra>",
         "hovertext": [
          "冯振武"
         ],
         "legendgroup": "冯振武",
         "marker": {
          "color": "#EF553B",
          "symbol": "circle"
         },
         "mode": "markers+text",
         "name": "冯振武",
         "scene": "scene",
         "showlegend": true,
         "text": [
          "冯振武"
         ],
         "textfont": {
          "size": 8
         },
         "textposition": "top center",
         "type": "scatter3d",
         "x": [
          -0.11975020170211792
         ],
         "y": [
          -0.4882560968399048
         ],
         "z": [
          0.8556607961654663
         ]
        },
        {
         "hovertemplate": "<b>%{hovertext}</b><br><br>Name=%{text}<br>PC1=%{x}<br>PC2=%{y}<br>PC3=%{z}<extra></extra>",
         "hovertext": [
          "元澄道人"
         ],
         "legendgroup": "元澄道人",
         "marker": {
          "color": "#00cc96",
          "symbol": "circle"
         },
         "mode": "markers+text",
         "name": "元澄道人",
         "scene": "scene",
         "showlegend": true,
         "text": [
          "元澄道人"
         ],
         "textfont": {
          "size": 8
         },
         "textposition": "top center",
         "type": "scatter3d",
         "x": [
          -0.05878320336341858
         ],
         "y": [
          0.5903721451759338
         ],
         "z": [
          -0.23077358305454254
         ]
        },
        {
         "hovertemplate": "<b>%{hovertext}</b><br><br>Name=%{text}<br>PC1=%{x}<br>PC2=%{y}<br>PC3=%{z}<extra></extra>",
         "hovertext": [
          "汪万翼"
         ],
         "legendgroup": "汪万翼",
         "marker": {
          "color": "#ab63fa",
          "symbol": "circle"
         },
         "mode": "markers+text",
         "name": "汪万翼",
         "scene": "scene",
         "showlegend": true,
         "text": [
          "汪万翼"
         ],
         "textfont": {
          "size": 8
         },
         "textposition": "top center",
         "type": "scatter3d",
         "x": [
          -1.720533847808838
         ],
         "y": [
          0.7990825772285461
         ],
         "z": [
          -0.8009441494941711
         ]
        },
        {
         "hovertemplate": "<b>%{hovertext}</b><br><br>Name=%{text}<br>PC1=%{x}<br>PC2=%{y}<br>PC3=%{z}<extra></extra>",
         "hovertext": [
          "解文豹"
         ],
         "legendgroup": "解文豹",
         "marker": {
          "color": "#FFA15A",
          "symbol": "circle"
         },
         "mode": "markers+text",
         "name": "解文豹",
         "scene": "scene",
         "showlegend": true,
         "text": [
          "解文豹"
         ],
         "textfont": {
          "size": 8
         },
         "textposition": "top center",
         "type": "scatter3d",
         "x": [
          -1.0890742540359497
         ],
         "y": [
          2.002437114715576
         ],
         "z": [
          -1.892975091934204
         ]
        },
        {
         "hovertemplate": "<b>%{hovertext}</b><br><br>Name=%{text}<br>PC1=%{x}<br>PC2=%{y}<br>PC3=%{z}<extra></extra>",
         "hovertext": [
          "邱山风"
         ],
         "legendgroup": "邱山风",
         "marker": {
          "color": "#19d3f3",
          "symbol": "circle"
         },
         "mode": "markers+text",
         "name": "邱山风",
         "scene": "scene",
         "showlegend": true,
         "text": [
          "邱山风"
         ],
         "textfont": {
          "size": 8
         },
         "textposition": "top center",
         "type": "scatter3d",
         "x": [
          0.05843238905072212
         ],
         "y": [
          -0.23346185684204102
         ],
         "z": [
          -0.3696834146976471
         ]
        },
        {
         "hovertemplate": "<b>%{hovertext}</b><br><br>Name=%{text}<br>PC1=%{x}<br>PC2=%{y}<br>PC3=%{z}<extra></extra>",
         "hovertext": [
          "孙万年"
         ],
         "legendgroup": "孙万年",
         "marker": {
          "color": "#FF6692",
          "symbol": "circle"
         },
         "mode": "markers+text",
         "name": "孙万年",
         "scene": "scene",
         "showlegend": true,
         "text": [
          "孙万年"
         ],
         "textfont": {
          "size": 8
         },
         "textposition": "top center",
         "type": "scatter3d",
         "x": [
          -0.7987293004989624
         ],
         "y": [
          0.3744979500770569
         ],
         "z": [
          0.27953916788101196
         ]
        },
        {
         "hovertemplate": "<b>%{hovertext}</b><br><br>Name=%{text}<br>PC1=%{x}<br>PC2=%{y}<br>PC3=%{z}<extra></extra>",
         "hovertext": [
          "丑脸汉子"
         ],
         "legendgroup": "丑脸汉子",
         "marker": {
          "color": "#B6E880",
          "symbol": "circle"
         },
         "mode": "markers+text",
         "name": "丑脸汉子",
         "scene": "scene",
         "showlegend": true,
         "text": [
          "丑脸汉子"
         ],
         "textfont": {
          "size": 8
         },
         "textposition": "top center",
         "type": "scatter3d",
         "x": [
          -0.17894433438777924
         ],
         "y": [
          -0.6897861361503601
         ],
         "z": [
          -0.6413671374320984
         ]
        },
        {
         "hovertemplate": "<b>%{hovertext}</b><br><br>Name=%{text}<br>PC1=%{x}<br>PC2=%{y}<br>PC3=%{z}<extra></extra>",
         "hovertext": [
          "褚万春"
         ],
         "legendgroup": "褚万春",
         "marker": {
          "color": "#FF97FF",
          "symbol": "circle"
         },
         "mode": "markers+text",
         "name": "褚万春",
         "scene": "scene",
         "showlegend": true,
         "text": [
          "褚万春"
         ],
         "textfont": {
          "size": 8
         },
         "textposition": "top center",
         "type": "scatter3d",
         "x": [
          -1.1587640047073364
         ],
         "y": [
          0.616562008857727
         ],
         "z": [
          1.9506174325942993
         ]
        },
        {
         "hovertemplate": "<b>%{hovertext}</b><br><br>Name=%{text}<br>PC1=%{x}<br>PC2=%{y}<br>PC3=%{z}<extra></extra>",
         "hovertext": [
          "王老六"
         ],
         "legendgroup": "王老六",
         "marker": {
          "color": "#FECB52",
          "symbol": "circle"
         },
         "mode": "markers+text",
         "name": "王老六",
         "scene": "scene",
         "showlegend": true,
         "text": [
          "王老六"
         ],
         "textfont": {
          "size": 8
         },
         "textposition": "top center",
         "type": "scatter3d",
         "x": [
          -0.268444687128067
         ],
         "y": [
          1.1857590675354004
         ],
         "z": [
          0.4060630798339844
         ]
        },
        {
         "hovertemplate": "<b>%{hovertext}</b><br><br>Name=%{text}<br>PC1=%{x}<br>PC2=%{y}<br>PC3=%{z}<extra></extra>",
         "hovertext": [
          "西门观止"
         ],
         "legendgroup": "西门观止",
         "marker": {
          "color": "#636efa",
          "symbol": "circle"
         },
         "mode": "markers+text",
         "name": "西门观止",
         "scene": "scene",
         "showlegend": true,
         "text": [
          "西门观止"
         ],
         "textfont": {
          "size": 8
         },
         "textposition": "top center",
         "type": "scatter3d",
         "x": [
          -0.8944950103759766
         ],
         "y": [
          -1.05814790725708
         ],
         "z": [
          0.5034990310668945
         ]
        },
        {
         "hovertemplate": "<b>%{hovertext}</b><br><br>Name=%{text}<br>PC1=%{x}<br>PC2=%{y}<br>PC3=%{z}<extra></extra>",
         "hovertext": [
          "郑光芝"
         ],
         "legendgroup": "郑光芝",
         "marker": {
          "color": "#EF553B",
          "symbol": "circle"
         },
         "mode": "markers+text",
         "name": "郑光芝",
         "scene": "scene",
         "showlegend": true,
         "text": [
          "郑光芝"
         ],
         "textfont": {
          "size": 8
         },
         "textposition": "top center",
         "type": "scatter3d",
         "x": [
          0.3261091709136963
         ],
         "y": [
          -0.9823737740516663
         ],
         "z": [
          0.9059277772903442
         ]
        },
        {
         "hovertemplate": "<b>%{hovertext}</b><br><br>Name=%{text}<br>PC1=%{x}<br>PC2=%{y}<br>PC3=%{z}<extra></extra>",
         "hovertext": [
          "黄面道人"
         ],
         "legendgroup": "黄面道人",
         "marker": {
          "color": "#00cc96",
          "symbol": "circle"
         },
         "mode": "markers+text",
         "name": "黄面道人",
         "scene": "scene",
         "showlegend": true,
         "text": [
          "黄面道人"
         ],
         "textfont": {
          "size": 8
         },
         "textposition": "top center",
         "type": "scatter3d",
         "x": [
          1.546122670173645
         ],
         "y": [
          0.11807552725076675
         ],
         "z": [
          -1.8570199012756348
         ]
        },
        {
         "hovertemplate": "<b>%{hovertext}</b><br><br>Name=%{text}<br>PC1=%{x}<br>PC2=%{y}<br>PC3=%{z}<extra></extra>",
         "hovertext": [
          "老李"
         ],
         "legendgroup": "老李",
         "marker": {
          "color": "#ab63fa",
          "symbol": "circle"
         },
         "mode": "markers+text",
         "name": "老李",
         "scene": "scene",
         "showlegend": true,
         "text": [
          "老李"
         ],
         "textfont": {
          "size": 8
         },
         "textposition": "top center",
         "type": "scatter3d",
         "x": [
          -1.2210878133773804
         ],
         "y": [
          1.8385032415390015
         ],
         "z": [
          -0.3834189772605896
         ]
        },
        {
         "hovertemplate": "<b>%{hovertext}</b><br><br>Name=%{text}<br>PC1=%{x}<br>PC2=%{y}<br>PC3=%{z}<extra></extra>",
         "hovertext": [
          "李大元"
         ],
         "legendgroup": "李大元",
         "marker": {
          "color": "#FFA15A",
          "symbol": "circle"
         },
         "mode": "markers+text",
         "name": "李大元",
         "scene": "scene",
         "showlegend": true,
         "text": [
          "李大元"
         ],
         "textfont": {
          "size": 8
         },
         "textposition": "top center",
         "type": "scatter3d",
         "x": [
          3.4151389598846436
         ],
         "y": [
          2.268724203109741
         ],
         "z": [
          -0.3651387393474579
         ]
        },
        {
         "hovertemplate": "<b>%{hovertext}</b><br><br>Name=%{text}<br>PC1=%{x}<br>PC2=%{y}<br>PC3=%{z}<extra></extra>",
         "hovertext": [
          "李万山"
         ],
         "legendgroup": "李万山",
         "marker": {
          "color": "#19d3f3",
          "symbol": "circle"
         },
         "mode": "markers+text",
         "name": "李万山",
         "scene": "scene",
         "showlegend": true,
         "text": [
          "李万山"
         ],
         "textfont": {
          "size": 8
         },
         "textposition": "top center",
         "type": "scatter3d",
         "x": [
          -0.6057032346725464
         ],
         "y": [
          -1.5501023530960083
         ],
         "z": [
          0.9451760649681091
         ]
        },
        {
         "hovertemplate": "<b>%{hovertext}</b><br><br>Name=%{text}<br>PC1=%{x}<br>PC2=%{y}<br>PC3=%{z}<extra></extra>",
         "hovertext": [
          "王掌柜"
         ],
         "legendgroup": "王掌柜",
         "marker": {
          "color": "#FF6692",
          "symbol": "circle"
         },
         "mode": "markers+text",
         "name": "王掌柜",
         "scene": "scene",
         "showlegend": true,
         "text": [
          "王掌柜"
         ],
         "textfont": {
          "size": 8
         },
         "textposition": "top center",
         "type": "scatter3d",
         "x": [
          2.776989698410034
         ],
         "y": [
          0.08858714997768402
         ],
         "z": [
          -0.02838163636624813
         ]
        },
        {
         "hovertemplate": "<b>%{hovertext}</b><br><br>Name=%{text}<br>PC1=%{x}<br>PC2=%{y}<br>PC3=%{z}<extra></extra>",
         "hovertext": [
          "桃红"
         ],
         "legendgroup": "桃红",
         "marker": {
          "color": "#B6E880",
          "symbol": "circle"
         },
         "mode": "markers+text",
         "name": "桃红",
         "scene": "scene",
         "showlegend": true,
         "text": [
          "桃红"
         ],
         "textfont": {
          "size": 8
         },
         "textposition": "top center",
         "type": "scatter3d",
         "x": [
          0.3119931221008301
         ],
         "y": [
          0.01933007687330246
         ],
         "z": [
          0.10998035967350006
         ]
        },
        {
         "hovertemplate": "<b>%{hovertext}</b><br><br>Name=%{text}<br>PC1=%{x}<br>PC2=%{y}<br>PC3=%{z}<extra></extra>",
         "hovertext": [
          "宝树"
         ],
         "legendgroup": "宝树",
         "marker": {
          "color": "#FF97FF",
          "symbol": "circle"
         },
         "mode": "markers+text",
         "name": "宝树",
         "scene": "scene",
         "showlegend": true,
         "text": [
          "宝树"
         ],
         "textfont": {
          "size": 8
         },
         "textposition": "top center",
         "type": "scatter3d",
         "x": [
          0.14842568337917328
         ],
         "y": [
          1.4806122779846191
         ],
         "z": [
          -0.27789413928985596
         ]
        },
        {
         "hovertemplate": "<b>%{hovertext}</b><br><br>Name=%{text}<br>PC1=%{x}<br>PC2=%{y}<br>PC3=%{z}<extra></extra>",
         "hovertext": [
          "胡夫人"
         ],
         "legendgroup": "胡夫人",
         "marker": {
          "color": "#FECB52",
          "symbol": "circle"
         },
         "mode": "markers+text",
         "name": "胡夫人",
         "scene": "scene",
         "showlegend": true,
         "text": [
          "胡夫人"
         ],
         "textfont": {
          "size": 8
         },
         "textposition": "top center",
         "type": "scatter3d",
         "x": [
          -0.46387040615081787
         ],
         "y": [
          0.49189886450767517
         ],
         "z": [
          -0.4227888286113739
         ]
        },
        {
         "hovertemplate": "<b>%{hovertext}</b><br><br>Name=%{text}<br>PC1=%{x}<br>PC2=%{y}<br>PC3=%{z}<extra></extra>",
         "hovertext": [
          "范蠡"
         ],
         "legendgroup": "范蠡",
         "marker": {
          "color": "#636efa",
          "symbol": "circle"
         },
         "mode": "markers+text",
         "name": "范蠡",
         "scene": "scene",
         "showlegend": true,
         "text": [
          "范蠡"
         ],
         "textfont": {
          "size": 8
         },
         "textposition": "top center",
         "type": "scatter3d",
         "x": [
          -0.279025137424469
         ],
         "y": [
          0.5900574922561646
         ],
         "z": [
          1.1397550106048584
         ]
        },
        {
         "hovertemplate": "<b>%{hovertext}</b><br><br>Name=%{text}<br>PC1=%{x}<br>PC2=%{y}<br>PC3=%{z}<extra></extra>",
         "hovertext": [
          "阿青"
         ],
         "legendgroup": "阿青",
         "marker": {
          "color": "#EF553B",
          "symbol": "circle"
         },
         "mode": "markers+text",
         "name": "阿青",
         "scene": "scene",
         "showlegend": true,
         "text": [
          "阿青"
         ],
         "textfont": {
          "size": 8
         },
         "textposition": "top center",
         "type": "scatter3d",
         "x": [
          -1.7299044132232666
         ],
         "y": [
          1.1558018922805786
         ],
         "z": [
          -1.807150959968567
         ]
        },
        {
         "hovertemplate": "<b>%{hovertext}</b><br><br>Name=%{text}<br>PC1=%{x}<br>PC2=%{y}<br>PC3=%{z}<extra></extra>",
         "hovertext": [
          "西施"
         ],
         "legendgroup": "西施",
         "marker": {
          "color": "#00cc96",
          "symbol": "circle"
         },
         "mode": "markers+text",
         "name": "西施",
         "scene": "scene",
         "showlegend": true,
         "text": [
          "西施"
         ],
         "textfont": {
          "size": 8
         },
         "textposition": "top center",
         "type": "scatter3d",
         "x": [
          -1.170946717262268
         ],
         "y": [
          0.6636910438537598
         ],
         "z": [
          2.3375914096832275
         ]
        },
        {
         "hovertemplate": "<b>%{hovertext}</b><br><br>Name=%{text}<br>PC1=%{x}<br>PC2=%{y}<br>PC3=%{z}<extra></extra>",
         "hovertext": [
          "郑旦"
         ],
         "legendgroup": "郑旦",
         "marker": {
          "color": "#ab63fa",
          "symbol": "circle"
         },
         "mode": "markers+text",
         "name": "郑旦",
         "scene": "scene",
         "showlegend": true,
         "text": [
          "郑旦"
         ],
         "textfont": {
          "size": 8
         },
         "textposition": "top center",
         "type": "scatter3d",
         "x": [
          -0.10627523809671402
         ],
         "y": [
          -0.29703426361083984
         ],
         "z": [
          -0.12390761077404022
         ]
        },
        {
         "hovertemplate": "<b>%{hovertext}</b><br><br>Name=%{text}<br>PC1=%{x}<br>PC2=%{y}<br>PC3=%{z}<extra></extra>",
         "hovertext": [
          "逍遥子"
         ],
         "legendgroup": "逍遥子",
         "marker": {
          "color": "#FFA15A",
          "symbol": "circle"
         },
         "mode": "markers+text",
         "name": "逍遥子",
         "scene": "scene",
         "showlegend": true,
         "text": [
          "逍遥子"
         ],
         "textfont": {
          "size": 8
         },
         "textposition": "top center",
         "type": "scatter3d",
         "x": [
          -0.16185913980007172
         ],
         "y": [
          -1.2558677196502686
         ],
         "z": [
          -1.8712068796157837
         ]
        },
        {
         "hovertemplate": "<b>%{hovertext}</b><br><br>Name=%{text}<br>PC1=%{x}<br>PC2=%{y}<br>PC3=%{z}<extra></extra>",
         "hovertext": [
          "杨夫人"
         ],
         "legendgroup": "杨夫人",
         "marker": {
          "color": "#19d3f3",
          "symbol": "circle"
         },
         "mode": "markers+text",
         "name": "杨夫人",
         "scene": "scene",
         "showlegend": true,
         "text": [
          "杨夫人"
         ],
         "textfont": {
          "size": 8
         },
         "textposition": "top center",
         "type": "scatter3d",
         "x": [
          0.18271082639694214
         ],
         "y": [
          0.10237788408994675
         ],
         "z": [
          -0.2349429428577423
         ]
        }
       ],
       "layout": {
        "legend": {
         "title": {
          "text": "Name"
         },
         "tracegroupgap": 0
        },
        "margin": {
         "b": 10,
         "l": 10,
         "r": 20,
         "t": 30
        },
        "scene": {
         "domain": {
          "x": [
           0,
           1
          ],
          "y": [
           0,
           1
          ]
         },
         "xaxis": {
          "title": {
           "text": "PC1"
          }
         },
         "yaxis": {
          "title": {
           "text": "PC2"
          }
         },
         "zaxis": {
          "title": {
           "text": "PC3"
          }
         }
        },
        "template": {
         "data": {
          "bar": [
           {
            "error_x": {
             "color": "#2a3f5f"
            },
            "error_y": {
             "color": "#2a3f5f"
            },
            "marker": {
             "line": {
              "color": "#E5ECF6",
              "width": 0.5
             },
             "pattern": {
              "fillmode": "overlay",
              "size": 10,
              "solidity": 0.2
             }
            },
            "type": "bar"
           }
          ],
          "barpolar": [
           {
            "marker": {
             "line": {
              "color": "#E5ECF6",
              "width": 0.5
             },
             "pattern": {
              "fillmode": "overlay",
              "size": 10,
              "solidity": 0.2
             }
            },
            "type": "barpolar"
           }
          ],
          "carpet": [
           {
            "aaxis": {
             "endlinecolor": "#2a3f5f",
             "gridcolor": "white",
             "linecolor": "white",
             "minorgridcolor": "white",
             "startlinecolor": "#2a3f5f"
            },
            "baxis": {
             "endlinecolor": "#2a3f5f",
             "gridcolor": "white",
             "linecolor": "white",
             "minorgridcolor": "white",
             "startlinecolor": "#2a3f5f"
            },
            "type": "carpet"
           }
          ],
          "choropleth": [
           {
            "colorbar": {
             "outlinewidth": 0,
             "ticks": ""
            },
            "type": "choropleth"
           }
          ],
          "contour": [
           {
            "colorbar": {
             "outlinewidth": 0,
             "ticks": ""
            },
            "colorscale": [
             [
              0,
              "#0d0887"
             ],
             [
              0.1111111111111111,
              "#46039f"
             ],
             [
              0.2222222222222222,
              "#7201a8"
             ],
             [
              0.3333333333333333,
              "#9c179e"
             ],
             [
              0.4444444444444444,
              "#bd3786"
             ],
             [
              0.5555555555555556,
              "#d8576b"
             ],
             [
              0.6666666666666666,
              "#ed7953"
             ],
             [
              0.7777777777777778,
              "#fb9f3a"
             ],
             [
              0.8888888888888888,
              "#fdca26"
             ],
             [
              1,
              "#f0f921"
             ]
            ],
            "type": "contour"
           }
          ],
          "contourcarpet": [
           {
            "colorbar": {
             "outlinewidth": 0,
             "ticks": ""
            },
            "type": "contourcarpet"
           }
          ],
          "heatmap": [
           {
            "colorbar": {
             "outlinewidth": 0,
             "ticks": ""
            },
            "colorscale": [
             [
              0,
              "#0d0887"
             ],
             [
              0.1111111111111111,
              "#46039f"
             ],
             [
              0.2222222222222222,
              "#7201a8"
             ],
             [
              0.3333333333333333,
              "#9c179e"
             ],
             [
              0.4444444444444444,
              "#bd3786"
             ],
             [
              0.5555555555555556,
              "#d8576b"
             ],
             [
              0.6666666666666666,
              "#ed7953"
             ],
             [
              0.7777777777777778,
              "#fb9f3a"
             ],
             [
              0.8888888888888888,
              "#fdca26"
             ],
             [
              1,
              "#f0f921"
             ]
            ],
            "type": "heatmap"
           }
          ],
          "heatmapgl": [
           {
            "colorbar": {
             "outlinewidth": 0,
             "ticks": ""
            },
            "colorscale": [
             [
              0,
              "#0d0887"
             ],
             [
              0.1111111111111111,
              "#46039f"
             ],
             [
              0.2222222222222222,
              "#7201a8"
             ],
             [
              0.3333333333333333,
              "#9c179e"
             ],
             [
              0.4444444444444444,
              "#bd3786"
             ],
             [
              0.5555555555555556,
              "#d8576b"
             ],
             [
              0.6666666666666666,
              "#ed7953"
             ],
             [
              0.7777777777777778,
              "#fb9f3a"
             ],
             [
              0.8888888888888888,
              "#fdca26"
             ],
             [
              1,
              "#f0f921"
             ]
            ],
            "type": "heatmapgl"
           }
          ],
          "histogram": [
           {
            "marker": {
             "pattern": {
              "fillmode": "overlay",
              "size": 10,
              "solidity": 0.2
             }
            },
            "type": "histogram"
           }
          ],
          "histogram2d": [
           {
            "colorbar": {
             "outlinewidth": 0,
             "ticks": ""
            },
            "colorscale": [
             [
              0,
              "#0d0887"
             ],
             [
              0.1111111111111111,
              "#46039f"
             ],
             [
              0.2222222222222222,
              "#7201a8"
             ],
             [
              0.3333333333333333,
              "#9c179e"
             ],
             [
              0.4444444444444444,
              "#bd3786"
             ],
             [
              0.5555555555555556,
              "#d8576b"
             ],
             [
              0.6666666666666666,
              "#ed7953"
             ],
             [
              0.7777777777777778,
              "#fb9f3a"
             ],
             [
              0.8888888888888888,
              "#fdca26"
             ],
             [
              1,
              "#f0f921"
             ]
            ],
            "type": "histogram2d"
           }
          ],
          "histogram2dcontour": [
           {
            "colorbar": {
             "outlinewidth": 0,
             "ticks": ""
            },
            "colorscale": [
             [
              0,
              "#0d0887"
             ],
             [
              0.1111111111111111,
              "#46039f"
             ],
             [
              0.2222222222222222,
              "#7201a8"
             ],
             [
              0.3333333333333333,
              "#9c179e"
             ],
             [
              0.4444444444444444,
              "#bd3786"
             ],
             [
              0.5555555555555556,
              "#d8576b"
             ],
             [
              0.6666666666666666,
              "#ed7953"
             ],
             [
              0.7777777777777778,
              "#fb9f3a"
             ],
             [
              0.8888888888888888,
              "#fdca26"
             ],
             [
              1,
              "#f0f921"
             ]
            ],
            "type": "histogram2dcontour"
           }
          ],
          "mesh3d": [
           {
            "colorbar": {
             "outlinewidth": 0,
             "ticks": ""
            },
            "type": "mesh3d"
           }
          ],
          "parcoords": [
           {
            "line": {
             "colorbar": {
              "outlinewidth": 0,
              "ticks": ""
             }
            },
            "type": "parcoords"
           }
          ],
          "pie": [
           {
            "automargin": true,
            "type": "pie"
           }
          ],
          "scatter": [
           {
            "fillpattern": {
             "fillmode": "overlay",
             "size": 10,
             "solidity": 0.2
            },
            "type": "scatter"
           }
          ],
          "scatter3d": [
           {
            "line": {
             "colorbar": {
              "outlinewidth": 0,
              "ticks": ""
             }
            },
            "marker": {
             "colorbar": {
              "outlinewidth": 0,
              "ticks": ""
             }
            },
            "type": "scatter3d"
           }
          ],
          "scattercarpet": [
           {
            "marker": {
             "colorbar": {
              "outlinewidth": 0,
              "ticks": ""
             }
            },
            "type": "scattercarpet"
           }
          ],
          "scattergeo": [
           {
            "marker": {
             "colorbar": {
              "outlinewidth": 0,
              "ticks": ""
             }
            },
            "type": "scattergeo"
           }
          ],
          "scattergl": [
           {
            "marker": {
             "colorbar": {
              "outlinewidth": 0,
              "ticks": ""
             }
            },
            "type": "scattergl"
           }
          ],
          "scattermapbox": [
           {
            "marker": {
             "colorbar": {
              "outlinewidth": 0,
              "ticks": ""
             }
            },
            "type": "scattermapbox"
           }
          ],
          "scatterpolar": [
           {
            "marker": {
             "colorbar": {
              "outlinewidth": 0,
              "ticks": ""
             }
            },
            "type": "scatterpolar"
           }
          ],
          "scatterpolargl": [
           {
            "marker": {
             "colorbar": {
              "outlinewidth": 0,
              "ticks": ""
             }
            },
            "type": "scatterpolargl"
           }
          ],
          "scatterternary": [
           {
            "marker": {
             "colorbar": {
              "outlinewidth": 0,
              "ticks": ""
             }
            },
            "type": "scatterternary"
           }
          ],
          "surface": [
           {
            "colorbar": {
             "outlinewidth": 0,
             "ticks": ""
            },
            "colorscale": [
             [
              0,
              "#0d0887"
             ],
             [
              0.1111111111111111,
              "#46039f"
             ],
             [
              0.2222222222222222,
              "#7201a8"
             ],
             [
              0.3333333333333333,
              "#9c179e"
             ],
             [
              0.4444444444444444,
              "#bd3786"
             ],
             [
              0.5555555555555556,
              "#d8576b"
             ],
             [
              0.6666666666666666,
              "#ed7953"
             ],
             [
              0.7777777777777778,
              "#fb9f3a"
             ],
             [
              0.8888888888888888,
              "#fdca26"
             ],
             [
              1,
              "#f0f921"
             ]
            ],
            "type": "surface"
           }
          ],
          "table": [
           {
            "cells": {
             "fill": {
              "color": "#EBF0F8"
             },
             "line": {
              "color": "white"
             }
            },
            "header": {
             "fill": {
              "color": "#C8D4E3"
             },
             "line": {
              "color": "white"
             }
            },
            "type": "table"
           }
          ]
         },
         "layout": {
          "annotationdefaults": {
           "arrowcolor": "#2a3f5f",
           "arrowhead": 0,
           "arrowwidth": 1
          },
          "autotypenumbers": "strict",
          "coloraxis": {
           "colorbar": {
            "outlinewidth": 0,
            "ticks": ""
           }
          },
          "colorscale": {
           "diverging": [
            [
             0,
             "#8e0152"
            ],
            [
             0.1,
             "#c51b7d"
            ],
            [
             0.2,
             "#de77ae"
            ],
            [
             0.3,
             "#f1b6da"
            ],
            [
             0.4,
             "#fde0ef"
            ],
            [
             0.5,
             "#f7f7f7"
            ],
            [
             0.6,
             "#e6f5d0"
            ],
            [
             0.7,
             "#b8e186"
            ],
            [
             0.8,
             "#7fbc41"
            ],
            [
             0.9,
             "#4d9221"
            ],
            [
             1,
             "#276419"
            ]
           ],
           "sequential": [
            [
             0,
             "#0d0887"
            ],
            [
             0.1111111111111111,
             "#46039f"
            ],
            [
             0.2222222222222222,
             "#7201a8"
            ],
            [
             0.3333333333333333,
             "#9c179e"
            ],
            [
             0.4444444444444444,
             "#bd3786"
            ],
            [
             0.5555555555555556,
             "#d8576b"
            ],
            [
             0.6666666666666666,
             "#ed7953"
            ],
            [
             0.7777777777777778,
             "#fb9f3a"
            ],
            [
             0.8888888888888888,
             "#fdca26"
            ],
            [
             1,
             "#f0f921"
            ]
           ],
           "sequentialminus": [
            [
             0,
             "#0d0887"
            ],
            [
             0.1111111111111111,
             "#46039f"
            ],
            [
             0.2222222222222222,
             "#7201a8"
            ],
            [
             0.3333333333333333,
             "#9c179e"
            ],
            [
             0.4444444444444444,
             "#bd3786"
            ],
            [
             0.5555555555555556,
             "#d8576b"
            ],
            [
             0.6666666666666666,
             "#ed7953"
            ],
            [
             0.7777777777777778,
             "#fb9f3a"
            ],
            [
             0.8888888888888888,
             "#fdca26"
            ],
            [
             1,
             "#f0f921"
            ]
           ]
          },
          "colorway": [
           "#636efa",
           "#EF553B",
           "#00cc96",
           "#ab63fa",
           "#FFA15A",
           "#19d3f3",
           "#FF6692",
           "#B6E880",
           "#FF97FF",
           "#FECB52"
          ],
          "font": {
           "color": "#2a3f5f"
          },
          "geo": {
           "bgcolor": "white",
           "lakecolor": "white",
           "landcolor": "#E5ECF6",
           "showlakes": true,
           "showland": true,
           "subunitcolor": "white"
          },
          "hoverlabel": {
           "align": "left"
          },
          "hovermode": "closest",
          "mapbox": {
           "style": "light"
          },
          "paper_bgcolor": "white",
          "plot_bgcolor": "#E5ECF6",
          "polar": {
           "angularaxis": {
            "gridcolor": "white",
            "linecolor": "white",
            "ticks": ""
           },
           "bgcolor": "#E5ECF6",
           "radialaxis": {
            "gridcolor": "white",
            "linecolor": "white",
            "ticks": ""
           }
          },
          "scene": {
           "xaxis": {
            "backgroundcolor": "#E5ECF6",
            "gridcolor": "white",
            "gridwidth": 2,
            "linecolor": "white",
            "showbackground": true,
            "ticks": "",
            "zerolinecolor": "white"
           },
           "yaxis": {
            "backgroundcolor": "#E5ECF6",
            "gridcolor": "white",
            "gridwidth": 2,
            "linecolor": "white",
            "showbackground": true,
            "ticks": "",
            "zerolinecolor": "white"
           },
           "zaxis": {
            "backgroundcolor": "#E5ECF6",
            "gridcolor": "white",
            "gridwidth": 2,
            "linecolor": "white",
            "showbackground": true,
            "ticks": "",
            "zerolinecolor": "white"
           }
          },
          "shapedefaults": {
           "line": {
            "color": "#2a3f5f"
           }
          },
          "ternary": {
           "aaxis": {
            "gridcolor": "white",
            "linecolor": "white",
            "ticks": ""
           },
           "baxis": {
            "gridcolor": "white",
            "linecolor": "white",
            "ticks": ""
           },
           "bgcolor": "#E5ECF6",
           "caxis": {
            "gridcolor": "white",
            "linecolor": "white",
            "ticks": ""
           }
          },
          "title": {
           "x": 0.05
          },
          "xaxis": {
           "automargin": true,
           "gridcolor": "white",
           "linecolor": "white",
           "ticks": "",
           "title": {
            "standoff": 15
           },
           "zerolinecolor": "white",
           "zerolinewidth": 2
          },
          "yaxis": {
           "automargin": true,
           "gridcolor": "white",
           "linecolor": "white",
           "ticks": "",
           "title": {
            "standoff": 15
           },
           "zerolinecolor": "white",
           "zerolinewidth": 2
          }
         }
        },
        "title": {
         "text": "金庸人物三维PCA分析"
        }
       }
      }
     },
     "metadata": {},
     "output_type": "display_data"
    }
   ],
   "source": [
    "import pandas as pd\n",
    "import plotly.express as px\n",
    "\n",
    "# 创建数据框（使用 Pandas）\n",
    "df = pd.DataFrame({\n",
    "    \"PC1\": principal_components_3d[:, 0],\n",
    "    \"PC2\": principal_components_3d[:, 1],\n",
    "    \"PC3\": principal_components_3d[:, 2],\n",
    "    \"Name\": valid_names\n",
    "})\n",
    "\n",
    "# 绘制三维散点图并显示文本\n",
    "fig = px.scatter_3d(\n",
    "    df,\n",
    "    x=\"PC1\",\n",
    "    y=\"PC2\",\n",
    "    z=\"PC3\",\n",
    "    color=\"Name\",\n",
    "    hover_name=\"Name\",\n",
    "    text=\"Name\",  # 显示名称文本[[6]]\n",
    "    title=\"金庸人物三维PCA分析\"\n",
    ")\n",
    "\n",
    "# 调整文本样式\n",
    "fig.update_traces(\n",
    "    textfont=dict(size=8),  # 文字大小[[6]]\n",
    "    textposition=\"top center\"  # 文字位置[[7]]\n",
    ")\n",
    "\n",
    "# 优化布局（可选）\n",
    "fig.update_layout(\n",
    "    scene=dict(\n",
    "        xaxis_title='PC1',\n",
    "        yaxis_title='PC2',\n",
    "        zaxis_title='PC3'\n",
    "    ),\n",
    "    margin=dict(r=20, l=10, b=10, t=30)  # 调整边距防止文字被截断[[7]]\n",
    ")\n",
    "\n",
    "fig.show()"
   ]
  }
 ],
 "metadata": {
  "kernelspec": {
   "display_name": "base",
   "language": "python",
   "name": "python3"
  },
  "language_info": {
   "codemirror_mode": {
    "name": "ipython",
    "version": 3
   },
   "file_extension": ".py",
   "mimetype": "text/x-python",
   "name": "python",
   "nbconvert_exporter": "python",
   "pygments_lexer": "ipython3",
   "version": "3.12.7"
  }
 },
 "nbformat": 4,
 "nbformat_minor": 5
}
